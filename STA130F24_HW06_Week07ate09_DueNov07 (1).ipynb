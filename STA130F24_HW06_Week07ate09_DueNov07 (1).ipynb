{
 "cells": [
  {
   "cell_type": "markdown",
   "id": "6cd8c93b",
   "metadata": {},
   "source": [
    "# STA130 Homework 06\n"
   ]
  },
  {
   "cell_type": "markdown",
   "id": "d8140d3a",
   "metadata": {},
   "source": [
    "### 1. Explain the theoretical Simple Linear Regression model in your own words by describing its components (of predictor and outcome variables, slope and intercept coefficients, and an error term) and how they combine to form a sample from normal distribution; then, create *python* code explicitly demonstrating your explanation using *numpy* and *scipy.stats* <br>\n",
    "\n",
    "Simple Linear Regression describe the relationship between a predictor x and an response variable Y, and Y is a linear function depend on x. \n",
    "\n",
    "\n",
    "The model of Simple Linear Regression is Y = ^beta_0 + ^beta_1 x + e\n",
    "\n",
    "^beta_0: intercept\n",
    "^beta_1: slope\n",
    "e: random error\n",
    "x: independent variable(predictor)\n",
    "Y: dependent variable(response variable)"
   ]
  },
  {
   "cell_type": "code",
   "execution_count": 22,
   "id": "e444227e",
   "metadata": {},
   "outputs": [
    {
     "data": {
      "application/vnd.plotly.v1+json": {
       "config": {
        "plotlyServerURL": "https://plot.ly"
       },
       "data": [
        {
         "mode": "markers",
         "name": "Simulated Data",
         "type": "scatter",
         "x": [
          0,
          0.20408163265306123,
          0.40816326530612246,
          0.6122448979591837,
          0.8163265306122449,
          1.0204081632653061,
          1.2244897959183674,
          1.4285714285714286,
          1.6326530612244898,
          1.836734693877551,
          2.0408163265306123,
          2.2448979591836737,
          2.4489795918367347,
          2.6530612244897958,
          2.857142857142857,
          3.0612244897959187,
          3.2653061224489797,
          3.4693877551020407,
          3.673469387755102,
          3.8775510204081636,
          4.081632653061225,
          4.285714285714286,
          4.4897959183673475,
          4.6938775510204085,
          4.8979591836734695,
          5.1020408163265305,
          5.3061224489795915,
          5.510204081632653,
          5.714285714285714,
          5.918367346938775,
          6.122448979591837,
          6.326530612244898,
          6.530612244897959,
          6.73469387755102,
          6.938775510204081,
          7.142857142857143,
          7.346938775510204,
          7.551020408163265,
          7.755102040816327,
          7.959183673469388,
          8.16326530612245,
          8.36734693877551,
          8.571428571428571,
          8.775510204081632,
          8.979591836734695,
          9.183673469387756,
          9.387755102040817,
          9.591836734693878,
          9.795918367346939,
          10
         ],
         "y": [
          1.4918084752498688,
          3.099900721224608,
          1.6425663627525202,
          0.39504444552413975,
          2.969555137048048,
          2.1923326687787763,
          1.5853432299468266,
          2.9549326619418346,
          2.4752880699168043,
          4.264772317504315,
          2.571052465202161,
          2.870193260875484,
          2.3438164285360603,
          2.703076895264263,
          2.6882355546536503,
          3.8127238589243646,
          2.884557621550029,
          4.453686160771535,
          3.0505411960644233,
          5.679934906332374,
          2.798129412489696,
          5.1010340567766566,
          4.791465970133397,
          4.5435763336765325,
          4.5043995642755235,
          6.085078939023485,
          5.597856354208716,
          5.29294565354437,
          5.002610538509955,
          4.478395749072605,
          6.404460746865509,
          6.017727540550325,
          4.622528429895991,
          5.089068221936908,
          5.08454670130361,
          3.0246701635428757,
          6.523571446839815,
          6.685188603778361,
          5.644021394326133,
          5.05673926526638,
          6.0426389960449685,
          7.8719232749627785,
          5.627825310928406,
          6.587611790977332,
          5.332850724195206,
          7.289007199011003,
          7.706579367905481,
          6.847582403044696,
          6.355949906459263,
          6.796641927037378
         ]
        },
        {
         "mode": "lines",
         "name": "True Line",
         "type": "scatter",
         "x": [
          0,
          0.20408163265306123,
          0.40816326530612246,
          0.6122448979591837,
          0.8163265306122449,
          1.0204081632653061,
          1.2244897959183674,
          1.4285714285714286,
          1.6326530612244898,
          1.836734693877551,
          2.0408163265306123,
          2.2448979591836737,
          2.4489795918367347,
          2.6530612244897958,
          2.857142857142857,
          3.0612244897959187,
          3.2653061224489797,
          3.4693877551020407,
          3.673469387755102,
          3.8775510204081636,
          4.081632653061225,
          4.285714285714286,
          4.4897959183673475,
          4.6938775510204085,
          4.8979591836734695,
          5.1020408163265305,
          5.3061224489795915,
          5.510204081632653,
          5.714285714285714,
          5.918367346938775,
          6.122448979591837,
          6.326530612244898,
          6.530612244897959,
          6.73469387755102,
          6.938775510204081,
          7.142857142857143,
          7.346938775510204,
          7.551020408163265,
          7.755102040816327,
          7.959183673469388,
          8.16326530612245,
          8.36734693877551,
          8.571428571428571,
          8.775510204081632,
          8.979591836734695,
          9.183673469387756,
          9.387755102040817,
          9.591836734693878,
          9.795918367346939,
          10
         ],
         "y": [
          2,
          2.1020408163265305,
          2.204081632653061,
          2.306122448979592,
          2.4081632653061225,
          2.510204081632653,
          2.612244897959184,
          2.7142857142857144,
          2.816326530612245,
          2.9183673469387754,
          3.020408163265306,
          3.122448979591837,
          3.2244897959183674,
          3.326530612244898,
          3.428571428571429,
          3.5306122448979593,
          3.63265306122449,
          3.7346938775510203,
          3.836734693877551,
          3.938775510204082,
          4.040816326530612,
          4.142857142857142,
          4.244897959183674,
          4.346938775510204,
          4.448979591836735,
          4.551020408163265,
          4.653061224489796,
          4.755102040816327,
          4.857142857142858,
          4.959183673469388,
          5.061224489795919,
          5.163265306122449,
          5.26530612244898,
          5.36734693877551,
          5.469387755102041,
          5.571428571428571,
          5.673469387755102,
          5.775510204081632,
          5.877551020408164,
          5.979591836734694,
          6.081632653061225,
          6.183673469387755,
          6.285714285714286,
          6.387755102040816,
          6.4897959183673475,
          6.591836734693878,
          6.6938775510204085,
          6.795918367346939,
          6.8979591836734695,
          7
         ]
        }
       ],
       "layout": {
        "template": {
         "data": {
          "bar": [
           {
            "error_x": {
             "color": "#2a3f5f"
            },
            "error_y": {
             "color": "#2a3f5f"
            },
            "marker": {
             "line": {
              "color": "#E5ECF6",
              "width": 0.5
             },
             "pattern": {
              "fillmode": "overlay",
              "size": 10,
              "solidity": 0.2
             }
            },
            "type": "bar"
           }
          ],
          "barpolar": [
           {
            "marker": {
             "line": {
              "color": "#E5ECF6",
              "width": 0.5
             },
             "pattern": {
              "fillmode": "overlay",
              "size": 10,
              "solidity": 0.2
             }
            },
            "type": "barpolar"
           }
          ],
          "carpet": [
           {
            "aaxis": {
             "endlinecolor": "#2a3f5f",
             "gridcolor": "white",
             "linecolor": "white",
             "minorgridcolor": "white",
             "startlinecolor": "#2a3f5f"
            },
            "baxis": {
             "endlinecolor": "#2a3f5f",
             "gridcolor": "white",
             "linecolor": "white",
             "minorgridcolor": "white",
             "startlinecolor": "#2a3f5f"
            },
            "type": "carpet"
           }
          ],
          "choropleth": [
           {
            "colorbar": {
             "outlinewidth": 0,
             "ticks": ""
            },
            "type": "choropleth"
           }
          ],
          "contour": [
           {
            "colorbar": {
             "outlinewidth": 0,
             "ticks": ""
            },
            "colorscale": [
             [
              0,
              "#0d0887"
             ],
             [
              0.1111111111111111,
              "#46039f"
             ],
             [
              0.2222222222222222,
              "#7201a8"
             ],
             [
              0.3333333333333333,
              "#9c179e"
             ],
             [
              0.4444444444444444,
              "#bd3786"
             ],
             [
              0.5555555555555556,
              "#d8576b"
             ],
             [
              0.6666666666666666,
              "#ed7953"
             ],
             [
              0.7777777777777778,
              "#fb9f3a"
             ],
             [
              0.8888888888888888,
              "#fdca26"
             ],
             [
              1,
              "#f0f921"
             ]
            ],
            "type": "contour"
           }
          ],
          "contourcarpet": [
           {
            "colorbar": {
             "outlinewidth": 0,
             "ticks": ""
            },
            "type": "contourcarpet"
           }
          ],
          "heatmap": [
           {
            "colorbar": {
             "outlinewidth": 0,
             "ticks": ""
            },
            "colorscale": [
             [
              0,
              "#0d0887"
             ],
             [
              0.1111111111111111,
              "#46039f"
             ],
             [
              0.2222222222222222,
              "#7201a8"
             ],
             [
              0.3333333333333333,
              "#9c179e"
             ],
             [
              0.4444444444444444,
              "#bd3786"
             ],
             [
              0.5555555555555556,
              "#d8576b"
             ],
             [
              0.6666666666666666,
              "#ed7953"
             ],
             [
              0.7777777777777778,
              "#fb9f3a"
             ],
             [
              0.8888888888888888,
              "#fdca26"
             ],
             [
              1,
              "#f0f921"
             ]
            ],
            "type": "heatmap"
           }
          ],
          "heatmapgl": [
           {
            "colorbar": {
             "outlinewidth": 0,
             "ticks": ""
            },
            "colorscale": [
             [
              0,
              "#0d0887"
             ],
             [
              0.1111111111111111,
              "#46039f"
             ],
             [
              0.2222222222222222,
              "#7201a8"
             ],
             [
              0.3333333333333333,
              "#9c179e"
             ],
             [
              0.4444444444444444,
              "#bd3786"
             ],
             [
              0.5555555555555556,
              "#d8576b"
             ],
             [
              0.6666666666666666,
              "#ed7953"
             ],
             [
              0.7777777777777778,
              "#fb9f3a"
             ],
             [
              0.8888888888888888,
              "#fdca26"
             ],
             [
              1,
              "#f0f921"
             ]
            ],
            "type": "heatmapgl"
           }
          ],
          "histogram": [
           {
            "marker": {
             "pattern": {
              "fillmode": "overlay",
              "size": 10,
              "solidity": 0.2
             }
            },
            "type": "histogram"
           }
          ],
          "histogram2d": [
           {
            "colorbar": {
             "outlinewidth": 0,
             "ticks": ""
            },
            "colorscale": [
             [
              0,
              "#0d0887"
             ],
             [
              0.1111111111111111,
              "#46039f"
             ],
             [
              0.2222222222222222,
              "#7201a8"
             ],
             [
              0.3333333333333333,
              "#9c179e"
             ],
             [
              0.4444444444444444,
              "#bd3786"
             ],
             [
              0.5555555555555556,
              "#d8576b"
             ],
             [
              0.6666666666666666,
              "#ed7953"
             ],
             [
              0.7777777777777778,
              "#fb9f3a"
             ],
             [
              0.8888888888888888,
              "#fdca26"
             ],
             [
              1,
              "#f0f921"
             ]
            ],
            "type": "histogram2d"
           }
          ],
          "histogram2dcontour": [
           {
            "colorbar": {
             "outlinewidth": 0,
             "ticks": ""
            },
            "colorscale": [
             [
              0,
              "#0d0887"
             ],
             [
              0.1111111111111111,
              "#46039f"
             ],
             [
              0.2222222222222222,
              "#7201a8"
             ],
             [
              0.3333333333333333,
              "#9c179e"
             ],
             [
              0.4444444444444444,
              "#bd3786"
             ],
             [
              0.5555555555555556,
              "#d8576b"
             ],
             [
              0.6666666666666666,
              "#ed7953"
             ],
             [
              0.7777777777777778,
              "#fb9f3a"
             ],
             [
              0.8888888888888888,
              "#fdca26"
             ],
             [
              1,
              "#f0f921"
             ]
            ],
            "type": "histogram2dcontour"
           }
          ],
          "mesh3d": [
           {
            "colorbar": {
             "outlinewidth": 0,
             "ticks": ""
            },
            "type": "mesh3d"
           }
          ],
          "parcoords": [
           {
            "line": {
             "colorbar": {
              "outlinewidth": 0,
              "ticks": ""
             }
            },
            "type": "parcoords"
           }
          ],
          "pie": [
           {
            "automargin": true,
            "type": "pie"
           }
          ],
          "scatter": [
           {
            "fillpattern": {
             "fillmode": "overlay",
             "size": 10,
             "solidity": 0.2
            },
            "type": "scatter"
           }
          ],
          "scatter3d": [
           {
            "line": {
             "colorbar": {
              "outlinewidth": 0,
              "ticks": ""
             }
            },
            "marker": {
             "colorbar": {
              "outlinewidth": 0,
              "ticks": ""
             }
            },
            "type": "scatter3d"
           }
          ],
          "scattercarpet": [
           {
            "marker": {
             "colorbar": {
              "outlinewidth": 0,
              "ticks": ""
             }
            },
            "type": "scattercarpet"
           }
          ],
          "scattergeo": [
           {
            "marker": {
             "colorbar": {
              "outlinewidth": 0,
              "ticks": ""
             }
            },
            "type": "scattergeo"
           }
          ],
          "scattergl": [
           {
            "marker": {
             "colorbar": {
              "outlinewidth": 0,
              "ticks": ""
             }
            },
            "type": "scattergl"
           }
          ],
          "scattermapbox": [
           {
            "marker": {
             "colorbar": {
              "outlinewidth": 0,
              "ticks": ""
             }
            },
            "type": "scattermapbox"
           }
          ],
          "scatterpolar": [
           {
            "marker": {
             "colorbar": {
              "outlinewidth": 0,
              "ticks": ""
             }
            },
            "type": "scatterpolar"
           }
          ],
          "scatterpolargl": [
           {
            "marker": {
             "colorbar": {
              "outlinewidth": 0,
              "ticks": ""
             }
            },
            "type": "scatterpolargl"
           }
          ],
          "scatterternary": [
           {
            "marker": {
             "colorbar": {
              "outlinewidth": 0,
              "ticks": ""
             }
            },
            "type": "scatterternary"
           }
          ],
          "surface": [
           {
            "colorbar": {
             "outlinewidth": 0,
             "ticks": ""
            },
            "colorscale": [
             [
              0,
              "#0d0887"
             ],
             [
              0.1111111111111111,
              "#46039f"
             ],
             [
              0.2222222222222222,
              "#7201a8"
             ],
             [
              0.3333333333333333,
              "#9c179e"
             ],
             [
              0.4444444444444444,
              "#bd3786"
             ],
             [
              0.5555555555555556,
              "#d8576b"
             ],
             [
              0.6666666666666666,
              "#ed7953"
             ],
             [
              0.7777777777777778,
              "#fb9f3a"
             ],
             [
              0.8888888888888888,
              "#fdca26"
             ],
             [
              1,
              "#f0f921"
             ]
            ],
            "type": "surface"
           }
          ],
          "table": [
           {
            "cells": {
             "fill": {
              "color": "#EBF0F8"
             },
             "line": {
              "color": "white"
             }
            },
            "header": {
             "fill": {
              "color": "#C8D4E3"
             },
             "line": {
              "color": "white"
             }
            },
            "type": "table"
           }
          ]
         },
         "layout": {
          "annotationdefaults": {
           "arrowcolor": "#2a3f5f",
           "arrowhead": 0,
           "arrowwidth": 1
          },
          "autotypenumbers": "strict",
          "coloraxis": {
           "colorbar": {
            "outlinewidth": 0,
            "ticks": ""
           }
          },
          "colorscale": {
           "diverging": [
            [
             0,
             "#8e0152"
            ],
            [
             0.1,
             "#c51b7d"
            ],
            [
             0.2,
             "#de77ae"
            ],
            [
             0.3,
             "#f1b6da"
            ],
            [
             0.4,
             "#fde0ef"
            ],
            [
             0.5,
             "#f7f7f7"
            ],
            [
             0.6,
             "#e6f5d0"
            ],
            [
             0.7,
             "#b8e186"
            ],
            [
             0.8,
             "#7fbc41"
            ],
            [
             0.9,
             "#4d9221"
            ],
            [
             1,
             "#276419"
            ]
           ],
           "sequential": [
            [
             0,
             "#0d0887"
            ],
            [
             0.1111111111111111,
             "#46039f"
            ],
            [
             0.2222222222222222,
             "#7201a8"
            ],
            [
             0.3333333333333333,
             "#9c179e"
            ],
            [
             0.4444444444444444,
             "#bd3786"
            ],
            [
             0.5555555555555556,
             "#d8576b"
            ],
            [
             0.6666666666666666,
             "#ed7953"
            ],
            [
             0.7777777777777778,
             "#fb9f3a"
            ],
            [
             0.8888888888888888,
             "#fdca26"
            ],
            [
             1,
             "#f0f921"
            ]
           ],
           "sequentialminus": [
            [
             0,
             "#0d0887"
            ],
            [
             0.1111111111111111,
             "#46039f"
            ],
            [
             0.2222222222222222,
             "#7201a8"
            ],
            [
             0.3333333333333333,
             "#9c179e"
            ],
            [
             0.4444444444444444,
             "#bd3786"
            ],
            [
             0.5555555555555556,
             "#d8576b"
            ],
            [
             0.6666666666666666,
             "#ed7953"
            ],
            [
             0.7777777777777778,
             "#fb9f3a"
            ],
            [
             0.8888888888888888,
             "#fdca26"
            ],
            [
             1,
             "#f0f921"
            ]
           ]
          },
          "colorway": [
           "#636efa",
           "#EF553B",
           "#00cc96",
           "#ab63fa",
           "#FFA15A",
           "#19d3f3",
           "#FF6692",
           "#B6E880",
           "#FF97FF",
           "#FECB52"
          ],
          "font": {
           "color": "#2a3f5f"
          },
          "geo": {
           "bgcolor": "white",
           "lakecolor": "white",
           "landcolor": "#E5ECF6",
           "showlakes": true,
           "showland": true,
           "subunitcolor": "white"
          },
          "hoverlabel": {
           "align": "left"
          },
          "hovermode": "closest",
          "mapbox": {
           "style": "light"
          },
          "paper_bgcolor": "white",
          "plot_bgcolor": "#E5ECF6",
          "polar": {
           "angularaxis": {
            "gridcolor": "white",
            "linecolor": "white",
            "ticks": ""
           },
           "bgcolor": "#E5ECF6",
           "radialaxis": {
            "gridcolor": "white",
            "linecolor": "white",
            "ticks": ""
           }
          },
          "scene": {
           "xaxis": {
            "backgroundcolor": "#E5ECF6",
            "gridcolor": "white",
            "gridwidth": 2,
            "linecolor": "white",
            "showbackground": true,
            "ticks": "",
            "zerolinecolor": "white"
           },
           "yaxis": {
            "backgroundcolor": "#E5ECF6",
            "gridcolor": "white",
            "gridwidth": 2,
            "linecolor": "white",
            "showbackground": true,
            "ticks": "",
            "zerolinecolor": "white"
           },
           "zaxis": {
            "backgroundcolor": "#E5ECF6",
            "gridcolor": "white",
            "gridwidth": 2,
            "linecolor": "white",
            "showbackground": true,
            "ticks": "",
            "zerolinecolor": "white"
           }
          },
          "shapedefaults": {
           "line": {
            "color": "#2a3f5f"
           }
          },
          "ternary": {
           "aaxis": {
            "gridcolor": "white",
            "linecolor": "white",
            "ticks": ""
           },
           "baxis": {
            "gridcolor": "white",
            "linecolor": "white",
            "ticks": ""
           },
           "bgcolor": "#E5ECF6",
           "caxis": {
            "gridcolor": "white",
            "linecolor": "white",
            "ticks": ""
           }
          },
          "title": {
           "x": 0.05
          },
          "xaxis": {
           "automargin": true,
           "gridcolor": "white",
           "linecolor": "white",
           "ticks": "",
           "title": {
            "standoff": 15
           },
           "zerolinecolor": "white",
           "zerolinewidth": 2
          },
          "yaxis": {
           "automargin": true,
           "gridcolor": "white",
           "linecolor": "white",
           "ticks": "",
           "title": {
            "standoff": 15
           },
           "zerolinecolor": "white",
           "zerolinewidth": 2
          }
         }
        },
        "title": {
         "text": "Simple Linear Regression Model: Y vs. x"
        },
        "xaxis": {
         "title": {
          "text": "x"
         }
        },
        "yaxis": {
         "title": {
          "text": "Y"
         }
        }
       }
      },
      "text/html": [
       "<div>                            <div id=\"86a061b5-0630-4be3-a1ed-38c3290f87db\" class=\"plotly-graph-div\" style=\"height:525px; width:100%;\"></div>            <script type=\"text/javascript\">                require([\"plotly\"], function(Plotly) {                    window.PLOTLYENV=window.PLOTLYENV || {};                                    if (document.getElementById(\"86a061b5-0630-4be3-a1ed-38c3290f87db\")) {                    Plotly.newPlot(                        \"86a061b5-0630-4be3-a1ed-38c3290f87db\",                        [{\"mode\":\"markers\",\"name\":\"Simulated Data\",\"x\":[0.0,0.20408163265306123,0.40816326530612246,0.6122448979591837,0.8163265306122449,1.0204081632653061,1.2244897959183674,1.4285714285714286,1.6326530612244898,1.836734693877551,2.0408163265306123,2.2448979591836737,2.4489795918367347,2.6530612244897958,2.857142857142857,3.0612244897959187,3.2653061224489797,3.4693877551020407,3.673469387755102,3.8775510204081636,4.081632653061225,4.285714285714286,4.4897959183673475,4.6938775510204085,4.8979591836734695,5.1020408163265305,5.3061224489795915,5.510204081632653,5.714285714285714,5.918367346938775,6.122448979591837,6.326530612244898,6.530612244897959,6.73469387755102,6.938775510204081,7.142857142857143,7.346938775510204,7.551020408163265,7.755102040816327,7.959183673469388,8.16326530612245,8.36734693877551,8.571428571428571,8.775510204081632,8.979591836734695,9.183673469387756,9.387755102040817,9.591836734693878,9.795918367346939,10.0],\"y\":[1.4918084752498688,3.099900721224608,1.6425663627525202,0.39504444552413975,2.969555137048048,2.1923326687787763,1.5853432299468266,2.9549326619418346,2.4752880699168043,4.264772317504315,2.571052465202161,2.870193260875484,2.3438164285360603,2.703076895264263,2.6882355546536503,3.8127238589243646,2.884557621550029,4.453686160771535,3.0505411960644233,5.679934906332374,2.798129412489696,5.1010340567766566,4.791465970133397,4.5435763336765325,4.5043995642755235,6.085078939023485,5.597856354208716,5.29294565354437,5.002610538509955,4.478395749072605,6.404460746865509,6.017727540550325,4.622528429895991,5.089068221936908,5.08454670130361,3.0246701635428757,6.523571446839815,6.685188603778361,5.644021394326133,5.05673926526638,6.0426389960449685,7.8719232749627785,5.627825310928406,6.587611790977332,5.332850724195206,7.289007199011003,7.706579367905481,6.847582403044696,6.355949906459263,6.796641927037378],\"type\":\"scatter\"},{\"mode\":\"lines\",\"name\":\"True Line\",\"x\":[0.0,0.20408163265306123,0.40816326530612246,0.6122448979591837,0.8163265306122449,1.0204081632653061,1.2244897959183674,1.4285714285714286,1.6326530612244898,1.836734693877551,2.0408163265306123,2.2448979591836737,2.4489795918367347,2.6530612244897958,2.857142857142857,3.0612244897959187,3.2653061224489797,3.4693877551020407,3.673469387755102,3.8775510204081636,4.081632653061225,4.285714285714286,4.4897959183673475,4.6938775510204085,4.8979591836734695,5.1020408163265305,5.3061224489795915,5.510204081632653,5.714285714285714,5.918367346938775,6.122448979591837,6.326530612244898,6.530612244897959,6.73469387755102,6.938775510204081,7.142857142857143,7.346938775510204,7.551020408163265,7.755102040816327,7.959183673469388,8.16326530612245,8.36734693877551,8.571428571428571,8.775510204081632,8.979591836734695,9.183673469387756,9.387755102040817,9.591836734693878,9.795918367346939,10.0],\"y\":[2.0,2.1020408163265305,2.204081632653061,2.306122448979592,2.4081632653061225,2.510204081632653,2.612244897959184,2.7142857142857144,2.816326530612245,2.9183673469387754,3.020408163265306,3.122448979591837,3.2244897959183674,3.326530612244898,3.428571428571429,3.5306122448979593,3.63265306122449,3.7346938775510203,3.836734693877551,3.938775510204082,4.040816326530612,4.142857142857142,4.244897959183674,4.346938775510204,4.448979591836735,4.551020408163265,4.653061224489796,4.755102040816327,4.857142857142858,4.959183673469388,5.061224489795919,5.163265306122449,5.26530612244898,5.36734693877551,5.469387755102041,5.571428571428571,5.673469387755102,5.775510204081632,5.877551020408164,5.979591836734694,6.081632653061225,6.183673469387755,6.285714285714286,6.387755102040816,6.4897959183673475,6.591836734693878,6.6938775510204085,6.795918367346939,6.8979591836734695,7.0],\"type\":\"scatter\"}],                        {\"template\":{\"data\":{\"histogram2dcontour\":[{\"type\":\"histogram2dcontour\",\"colorbar\":{\"outlinewidth\":0,\"ticks\":\"\"},\"colorscale\":[[0.0,\"#0d0887\"],[0.1111111111111111,\"#46039f\"],[0.2222222222222222,\"#7201a8\"],[0.3333333333333333,\"#9c179e\"],[0.4444444444444444,\"#bd3786\"],[0.5555555555555556,\"#d8576b\"],[0.6666666666666666,\"#ed7953\"],[0.7777777777777778,\"#fb9f3a\"],[0.8888888888888888,\"#fdca26\"],[1.0,\"#f0f921\"]]}],\"choropleth\":[{\"type\":\"choropleth\",\"colorbar\":{\"outlinewidth\":0,\"ticks\":\"\"}}],\"histogram2d\":[{\"type\":\"histogram2d\",\"colorbar\":{\"outlinewidth\":0,\"ticks\":\"\"},\"colorscale\":[[0.0,\"#0d0887\"],[0.1111111111111111,\"#46039f\"],[0.2222222222222222,\"#7201a8\"],[0.3333333333333333,\"#9c179e\"],[0.4444444444444444,\"#bd3786\"],[0.5555555555555556,\"#d8576b\"],[0.6666666666666666,\"#ed7953\"],[0.7777777777777778,\"#fb9f3a\"],[0.8888888888888888,\"#fdca26\"],[1.0,\"#f0f921\"]]}],\"heatmap\":[{\"type\":\"heatmap\",\"colorbar\":{\"outlinewidth\":0,\"ticks\":\"\"},\"colorscale\":[[0.0,\"#0d0887\"],[0.1111111111111111,\"#46039f\"],[0.2222222222222222,\"#7201a8\"],[0.3333333333333333,\"#9c179e\"],[0.4444444444444444,\"#bd3786\"],[0.5555555555555556,\"#d8576b\"],[0.6666666666666666,\"#ed7953\"],[0.7777777777777778,\"#fb9f3a\"],[0.8888888888888888,\"#fdca26\"],[1.0,\"#f0f921\"]]}],\"heatmapgl\":[{\"type\":\"heatmapgl\",\"colorbar\":{\"outlinewidth\":0,\"ticks\":\"\"},\"colorscale\":[[0.0,\"#0d0887\"],[0.1111111111111111,\"#46039f\"],[0.2222222222222222,\"#7201a8\"],[0.3333333333333333,\"#9c179e\"],[0.4444444444444444,\"#bd3786\"],[0.5555555555555556,\"#d8576b\"],[0.6666666666666666,\"#ed7953\"],[0.7777777777777778,\"#fb9f3a\"],[0.8888888888888888,\"#fdca26\"],[1.0,\"#f0f921\"]]}],\"contourcarpet\":[{\"type\":\"contourcarpet\",\"colorbar\":{\"outlinewidth\":0,\"ticks\":\"\"}}],\"contour\":[{\"type\":\"contour\",\"colorbar\":{\"outlinewidth\":0,\"ticks\":\"\"},\"colorscale\":[[0.0,\"#0d0887\"],[0.1111111111111111,\"#46039f\"],[0.2222222222222222,\"#7201a8\"],[0.3333333333333333,\"#9c179e\"],[0.4444444444444444,\"#bd3786\"],[0.5555555555555556,\"#d8576b\"],[0.6666666666666666,\"#ed7953\"],[0.7777777777777778,\"#fb9f3a\"],[0.8888888888888888,\"#fdca26\"],[1.0,\"#f0f921\"]]}],\"surface\":[{\"type\":\"surface\",\"colorbar\":{\"outlinewidth\":0,\"ticks\":\"\"},\"colorscale\":[[0.0,\"#0d0887\"],[0.1111111111111111,\"#46039f\"],[0.2222222222222222,\"#7201a8\"],[0.3333333333333333,\"#9c179e\"],[0.4444444444444444,\"#bd3786\"],[0.5555555555555556,\"#d8576b\"],[0.6666666666666666,\"#ed7953\"],[0.7777777777777778,\"#fb9f3a\"],[0.8888888888888888,\"#fdca26\"],[1.0,\"#f0f921\"]]}],\"mesh3d\":[{\"type\":\"mesh3d\",\"colorbar\":{\"outlinewidth\":0,\"ticks\":\"\"}}],\"scatter\":[{\"fillpattern\":{\"fillmode\":\"overlay\",\"size\":10,\"solidity\":0.2},\"type\":\"scatter\"}],\"parcoords\":[{\"type\":\"parcoords\",\"line\":{\"colorbar\":{\"outlinewidth\":0,\"ticks\":\"\"}}}],\"scatterpolargl\":[{\"type\":\"scatterpolargl\",\"marker\":{\"colorbar\":{\"outlinewidth\":0,\"ticks\":\"\"}}}],\"bar\":[{\"error_x\":{\"color\":\"#2a3f5f\"},\"error_y\":{\"color\":\"#2a3f5f\"},\"marker\":{\"line\":{\"color\":\"#E5ECF6\",\"width\":0.5},\"pattern\":{\"fillmode\":\"overlay\",\"size\":10,\"solidity\":0.2}},\"type\":\"bar\"}],\"scattergeo\":[{\"type\":\"scattergeo\",\"marker\":{\"colorbar\":{\"outlinewidth\":0,\"ticks\":\"\"}}}],\"scatterpolar\":[{\"type\":\"scatterpolar\",\"marker\":{\"colorbar\":{\"outlinewidth\":0,\"ticks\":\"\"}}}],\"histogram\":[{\"marker\":{\"pattern\":{\"fillmode\":\"overlay\",\"size\":10,\"solidity\":0.2}},\"type\":\"histogram\"}],\"scattergl\":[{\"type\":\"scattergl\",\"marker\":{\"colorbar\":{\"outlinewidth\":0,\"ticks\":\"\"}}}],\"scatter3d\":[{\"type\":\"scatter3d\",\"line\":{\"colorbar\":{\"outlinewidth\":0,\"ticks\":\"\"}},\"marker\":{\"colorbar\":{\"outlinewidth\":0,\"ticks\":\"\"}}}],\"scattermapbox\":[{\"type\":\"scattermapbox\",\"marker\":{\"colorbar\":{\"outlinewidth\":0,\"ticks\":\"\"}}}],\"scatterternary\":[{\"type\":\"scatterternary\",\"marker\":{\"colorbar\":{\"outlinewidth\":0,\"ticks\":\"\"}}}],\"scattercarpet\":[{\"type\":\"scattercarpet\",\"marker\":{\"colorbar\":{\"outlinewidth\":0,\"ticks\":\"\"}}}],\"carpet\":[{\"aaxis\":{\"endlinecolor\":\"#2a3f5f\",\"gridcolor\":\"white\",\"linecolor\":\"white\",\"minorgridcolor\":\"white\",\"startlinecolor\":\"#2a3f5f\"},\"baxis\":{\"endlinecolor\":\"#2a3f5f\",\"gridcolor\":\"white\",\"linecolor\":\"white\",\"minorgridcolor\":\"white\",\"startlinecolor\":\"#2a3f5f\"},\"type\":\"carpet\"}],\"table\":[{\"cells\":{\"fill\":{\"color\":\"#EBF0F8\"},\"line\":{\"color\":\"white\"}},\"header\":{\"fill\":{\"color\":\"#C8D4E3\"},\"line\":{\"color\":\"white\"}},\"type\":\"table\"}],\"barpolar\":[{\"marker\":{\"line\":{\"color\":\"#E5ECF6\",\"width\":0.5},\"pattern\":{\"fillmode\":\"overlay\",\"size\":10,\"solidity\":0.2}},\"type\":\"barpolar\"}],\"pie\":[{\"automargin\":true,\"type\":\"pie\"}]},\"layout\":{\"autotypenumbers\":\"strict\",\"colorway\":[\"#636efa\",\"#EF553B\",\"#00cc96\",\"#ab63fa\",\"#FFA15A\",\"#19d3f3\",\"#FF6692\",\"#B6E880\",\"#FF97FF\",\"#FECB52\"],\"font\":{\"color\":\"#2a3f5f\"},\"hovermode\":\"closest\",\"hoverlabel\":{\"align\":\"left\"},\"paper_bgcolor\":\"white\",\"plot_bgcolor\":\"#E5ECF6\",\"polar\":{\"bgcolor\":\"#E5ECF6\",\"angularaxis\":{\"gridcolor\":\"white\",\"linecolor\":\"white\",\"ticks\":\"\"},\"radialaxis\":{\"gridcolor\":\"white\",\"linecolor\":\"white\",\"ticks\":\"\"}},\"ternary\":{\"bgcolor\":\"#E5ECF6\",\"aaxis\":{\"gridcolor\":\"white\",\"linecolor\":\"white\",\"ticks\":\"\"},\"baxis\":{\"gridcolor\":\"white\",\"linecolor\":\"white\",\"ticks\":\"\"},\"caxis\":{\"gridcolor\":\"white\",\"linecolor\":\"white\",\"ticks\":\"\"}},\"coloraxis\":{\"colorbar\":{\"outlinewidth\":0,\"ticks\":\"\"}},\"colorscale\":{\"sequential\":[[0.0,\"#0d0887\"],[0.1111111111111111,\"#46039f\"],[0.2222222222222222,\"#7201a8\"],[0.3333333333333333,\"#9c179e\"],[0.4444444444444444,\"#bd3786\"],[0.5555555555555556,\"#d8576b\"],[0.6666666666666666,\"#ed7953\"],[0.7777777777777778,\"#fb9f3a\"],[0.8888888888888888,\"#fdca26\"],[1.0,\"#f0f921\"]],\"sequentialminus\":[[0.0,\"#0d0887\"],[0.1111111111111111,\"#46039f\"],[0.2222222222222222,\"#7201a8\"],[0.3333333333333333,\"#9c179e\"],[0.4444444444444444,\"#bd3786\"],[0.5555555555555556,\"#d8576b\"],[0.6666666666666666,\"#ed7953\"],[0.7777777777777778,\"#fb9f3a\"],[0.8888888888888888,\"#fdca26\"],[1.0,\"#f0f921\"]],\"diverging\":[[0,\"#8e0152\"],[0.1,\"#c51b7d\"],[0.2,\"#de77ae\"],[0.3,\"#f1b6da\"],[0.4,\"#fde0ef\"],[0.5,\"#f7f7f7\"],[0.6,\"#e6f5d0\"],[0.7,\"#b8e186\"],[0.8,\"#7fbc41\"],[0.9,\"#4d9221\"],[1,\"#276419\"]]},\"xaxis\":{\"gridcolor\":\"white\",\"linecolor\":\"white\",\"ticks\":\"\",\"title\":{\"standoff\":15},\"zerolinecolor\":\"white\",\"automargin\":true,\"zerolinewidth\":2},\"yaxis\":{\"gridcolor\":\"white\",\"linecolor\":\"white\",\"ticks\":\"\",\"title\":{\"standoff\":15},\"zerolinecolor\":\"white\",\"automargin\":true,\"zerolinewidth\":2},\"scene\":{\"xaxis\":{\"backgroundcolor\":\"#E5ECF6\",\"gridcolor\":\"white\",\"linecolor\":\"white\",\"showbackground\":true,\"ticks\":\"\",\"zerolinecolor\":\"white\",\"gridwidth\":2},\"yaxis\":{\"backgroundcolor\":\"#E5ECF6\",\"gridcolor\":\"white\",\"linecolor\":\"white\",\"showbackground\":true,\"ticks\":\"\",\"zerolinecolor\":\"white\",\"gridwidth\":2},\"zaxis\":{\"backgroundcolor\":\"#E5ECF6\",\"gridcolor\":\"white\",\"linecolor\":\"white\",\"showbackground\":true,\"ticks\":\"\",\"zerolinecolor\":\"white\",\"gridwidth\":2}},\"shapedefaults\":{\"line\":{\"color\":\"#2a3f5f\"}},\"annotationdefaults\":{\"arrowcolor\":\"#2a3f5f\",\"arrowhead\":0,\"arrowwidth\":1},\"geo\":{\"bgcolor\":\"white\",\"landcolor\":\"#E5ECF6\",\"subunitcolor\":\"white\",\"showland\":true,\"showlakes\":true,\"lakecolor\":\"white\"},\"title\":{\"x\":0.05},\"mapbox\":{\"style\":\"light\"}}},\"title\":{\"text\":\"Simple Linear Regression Model: Y vs. x\"},\"xaxis\":{\"title\":{\"text\":\"x\"}},\"yaxis\":{\"title\":{\"text\":\"Y\"}}},                        {\"responsive\": true}                    ).then(function(){\n",
       "                            \n",
       "var gd = document.getElementById('86a061b5-0630-4be3-a1ed-38c3290f87db');\n",
       "var x = new MutationObserver(function (mutations, observer) {{\n",
       "        var display = window.getComputedStyle(gd).display;\n",
       "        if (!display || display === 'none') {{\n",
       "            console.log([gd, 'removed!']);\n",
       "            Plotly.purge(gd);\n",
       "            observer.disconnect();\n",
       "        }}\n",
       "}});\n",
       "\n",
       "// Listen for the removal of the full notebook cells\n",
       "var notebookContainer = gd.closest('#notebook-container');\n",
       "if (notebookContainer) {{\n",
       "    x.observe(notebookContainer, {childList: true});\n",
       "}}\n",
       "\n",
       "// Listen for the clearing of the current output cell\n",
       "var outputEl = gd.closest('.output');\n",
       "if (outputEl) {{\n",
       "    x.observe(outputEl, {childList: true});\n",
       "}}\n",
       "\n",
       "                        })                };                });            </script>        </div>"
      ]
     },
     "metadata": {},
     "output_type": "display_data"
    }
   ],
   "source": [
    "import numpy as np\n",
    "from scipy.stats import norm\n",
    "import plotly.graph_objects as go\n",
    "\n",
    "n = 50                 \n",
    "beta0 = 2.0           \n",
    "beta1 = 0.5            \n",
    "sigma = 1.0           \n",
    "\n",
    "x = np.linspace(0, 10, n)\n",
    "errors = norm.rvs(loc=0, scale=sigma, size=n)\n",
    "\n",
    "Y = beta0 + beta1 * x + errors\n",
    "\n",
    "fig = go.Figure()\n",
    "fig.add_trace(go.Scatter(x=x, y=Y, mode='markers', name='Simulated Data'))\n",
    "fig.add_trace(go.Scatter(x=x, y=beta0 + beta1 * x, mode='lines', name='True Line'))\n",
    "fig.update_layout(title='Simple Linear Regression Model: Y vs. x', xaxis_title='x', yaxis_title='Y')\n",
    "fig.show()"
   ]
  },
  {
   "cell_type": "markdown",
   "id": "8a0f9cdf",
   "metadata": {},
   "source": [
    "### 2. Use a dataset simulated from your theoretical Simple Linear Regression model to demonstrate how to create and visualize a fitted Simple Linear Regression model using *pandas* and *import statsmodels.formula.api as smf*<br>"
   ]
  },
  {
   "cell_type": "code",
   "execution_count": 23,
   "id": "5bfc9697",
   "metadata": {},
   "outputs": [
    {
     "data": {
      "application/vnd.plotly.v1+json": {
       "config": {
        "plotlyServerURL": "https://plot.ly"
       },
       "data": [
        {
         "hovertemplate": "Data=Data<br>x=%{x}<br>Y=%{y}<extra></extra>",
         "legendgroup": "Data",
         "marker": {
          "color": "#636efa",
          "symbol": "circle"
         },
         "mode": "markers",
         "name": "Data",
         "orientation": "v",
         "showlegend": true,
         "type": "scatter",
         "x": [
          0,
          0.20408163265306123,
          0.40816326530612246,
          0.6122448979591837,
          0.8163265306122449,
          1.0204081632653061,
          1.2244897959183674,
          1.4285714285714286,
          1.6326530612244898,
          1.836734693877551,
          2.0408163265306123,
          2.2448979591836737,
          2.4489795918367347,
          2.6530612244897958,
          2.857142857142857,
          3.0612244897959187,
          3.2653061224489797,
          3.4693877551020407,
          3.673469387755102,
          3.8775510204081636,
          4.081632653061225,
          4.285714285714286,
          4.4897959183673475,
          4.6938775510204085,
          4.8979591836734695,
          5.1020408163265305,
          5.3061224489795915,
          5.510204081632653,
          5.714285714285714,
          5.918367346938775,
          6.122448979591837,
          6.326530612244898,
          6.530612244897959,
          6.73469387755102,
          6.938775510204081,
          7.142857142857143,
          7.346938775510204,
          7.551020408163265,
          7.755102040816327,
          7.959183673469388,
          8.16326530612245,
          8.36734693877551,
          8.571428571428571,
          8.775510204081632,
          8.979591836734695,
          9.183673469387756,
          9.387755102040817,
          9.591836734693878,
          9.795918367346939,
          10
         ],
         "xaxis": "x",
         "y": [
          0.29921424902454574,
          2.6999695437143236,
          4.005175835200947,
          3.428007758946528,
          2.5909571266221865,
          1.290045718889842,
          2.62266492172027,
          3.5124862098027267,
          2.4569470887067366,
          1.3137520982389594,
          2.6245787888445515,
          3.8178080376996832,
          2.5772675285926248,
          2.4575586342344233,
          5.422118753266276,
          2.580999281252181,
          1.6159331022686203,
          3.3098947180565523,
          4.425618837086833,
          3.373438143276026,
          2.6107291360224414,
          4.4997517764636985,
          2.6435700332868786,
          3.915901288534835,
          5.59792369957778,
          7.548497487981945,
          3.8981307709420108,
          6.6227953775709745,
          4.145924897359567,
          2.94909461902592,
          4.780833041898858,
          5.834901878007904,
          5.48280402312856,
          7.57672950882416,
          6.41393670491725,
          5.535617962893222,
          6.98310902916632,
          6.3467099921645405,
          7.090021912766686,
          5.924339001644808,
          4.730473883189854,
          5.673234342938656,
          5.4663279738410475,
          6.462552683112308,
          6.673879046572485,
          7.9934814726077725,
          4.247139099745143,
          6.942268977290694,
          7.37074610917554,
          7.6128518839460275
         ],
         "yaxis": "y"
        },
        {
         "hovertemplate": "<b>OLS trendline</b><br>Y = 0.528692 * x + 1.87651<br>R<sup>2</sup>=0.637559<br><br>Data=Data<br>x=%{x}<br>Y=%{y} <b>(trend)</b><extra></extra>",
         "legendgroup": "Data",
         "marker": {
          "color": "#636efa",
          "symbol": "circle"
         },
         "mode": "lines",
         "name": "Data",
         "showlegend": false,
         "type": "scatter",
         "x": [
          0,
          0.20408163265306123,
          0.40816326530612246,
          0.6122448979591837,
          0.8163265306122449,
          1.0204081632653061,
          1.2244897959183674,
          1.4285714285714286,
          1.6326530612244898,
          1.836734693877551,
          2.0408163265306123,
          2.2448979591836737,
          2.4489795918367347,
          2.6530612244897958,
          2.857142857142857,
          3.0612244897959187,
          3.2653061224489797,
          3.4693877551020407,
          3.673469387755102,
          3.8775510204081636,
          4.081632653061225,
          4.285714285714286,
          4.4897959183673475,
          4.6938775510204085,
          4.8979591836734695,
          5.1020408163265305,
          5.3061224489795915,
          5.510204081632653,
          5.714285714285714,
          5.918367346938775,
          6.122448979591837,
          6.326530612244898,
          6.530612244897959,
          6.73469387755102,
          6.938775510204081,
          7.142857142857143,
          7.346938775510204,
          7.551020408163265,
          7.755102040816327,
          7.959183673469388,
          8.16326530612245,
          8.36734693877551,
          8.571428571428571,
          8.775510204081632,
          8.979591836734695,
          9.183673469387756,
          9.387755102040817,
          9.591836734693878,
          9.795918367346939,
          10
         ],
         "xaxis": "x",
         "y": [
          1.8765123135485409,
          1.9844087203343497,
          2.0923051271201585,
          2.2002015339059673,
          2.3080979406917757,
          2.4159943474775845,
          2.5238907542633933,
          2.631787161049202,
          2.739683567835011,
          2.8475799746208192,
          2.955476381406628,
          3.063372788192437,
          3.1712691949782457,
          3.2791656017640545,
          3.3870620085498633,
          3.494958415335672,
          3.602854822121481,
          3.7107512289072893,
          3.818647635693098,
          3.926544042478907,
          4.034440449264716,
          4.142336856050524,
          4.250233262836334,
          4.3581296696221425,
          4.4660260764079505,
          4.573922483193759,
          4.681818889979567,
          4.789715296765377,
          4.897611703551186,
          5.005508110336994,
          5.113404517122803,
          5.221300923908611,
          5.32919733069442,
          5.437093737480229,
          5.544990144266038,
          5.6528865510518465,
          5.760782957837655,
          5.868679364623464,
          5.976575771409273,
          6.084472178195082,
          6.1923685849808905,
          6.300264991766699,
          6.408161398552507,
          6.516057805338316,
          6.623954212124126,
          6.7318506189099345,
          6.839747025695743,
          6.947643432481551,
          7.05553983926736,
          7.163436246053169
         ],
         "yaxis": "y"
        },
        {
         "line": {
          "color": "blue"
         },
         "name": "trendline='ols'",
         "type": "scatter",
         "x": [
          0,
          0.20408163265306123,
          0.40816326530612246,
          0.6122448979591837,
          0.8163265306122449,
          1.0204081632653061,
          1.2244897959183674,
          1.4285714285714286,
          1.6326530612244898,
          1.836734693877551,
          2.0408163265306123,
          2.2448979591836737,
          2.4489795918367347,
          2.6530612244897958,
          2.857142857142857,
          3.0612244897959187,
          3.2653061224489797,
          3.4693877551020407,
          3.673469387755102,
          3.8775510204081636,
          4.081632653061225,
          4.285714285714286,
          4.4897959183673475,
          4.6938775510204085,
          4.8979591836734695,
          5.1020408163265305,
          5.3061224489795915,
          5.510204081632653,
          5.714285714285714,
          5.918367346938775,
          6.122448979591837,
          6.326530612244898,
          6.530612244897959,
          6.73469387755102,
          6.938775510204081,
          7.142857142857143,
          7.346938775510204,
          7.551020408163265,
          7.755102040816327,
          7.959183673469388,
          8.16326530612245,
          8.36734693877551,
          8.571428571428571,
          8.775510204081632,
          8.979591836734695,
          9.183673469387756,
          9.387755102040817,
          9.591836734693878,
          9.795918367346939,
          10
         ],
         "y": [
          1.8765123135485409,
          1.9844087203343497,
          2.0923051271201585,
          2.2002015339059673,
          2.3080979406917757,
          2.4159943474775845,
          2.5238907542633933,
          2.631787161049202,
          2.739683567835011,
          2.8475799746208192,
          2.955476381406628,
          3.063372788192437,
          3.1712691949782457,
          3.2791656017640545,
          3.3870620085498633,
          3.494958415335672,
          3.602854822121481,
          3.7107512289072893,
          3.818647635693098,
          3.926544042478907,
          4.034440449264716,
          4.142336856050524,
          4.250233262836334,
          4.3581296696221425,
          4.4660260764079505,
          4.573922483193759,
          4.681818889979567,
          4.789715296765377,
          4.897611703551186,
          5.005508110336994,
          5.113404517122803,
          5.221300923908611,
          5.32919733069442,
          5.437093737480229,
          5.544990144266038,
          5.6528865510518465,
          5.760782957837655,
          5.868679364623464,
          5.976575771409273,
          6.084472178195082,
          6.1923685849808905,
          6.300264991766699,
          6.408161398552507,
          6.516057805338316,
          6.623954212124126,
          6.7318506189099345,
          6.839747025695743,
          6.947643432481551,
          7.05553983926736,
          7.163436246053169
         ]
        },
        {
         "mode": "lines",
         "name": "True Line",
         "type": "scatter",
         "x": [
          0,
          0.20408163265306123,
          0.40816326530612246,
          0.6122448979591837,
          0.8163265306122449,
          1.0204081632653061,
          1.2244897959183674,
          1.4285714285714286,
          1.6326530612244898,
          1.836734693877551,
          2.0408163265306123,
          2.2448979591836737,
          2.4489795918367347,
          2.6530612244897958,
          2.857142857142857,
          3.0612244897959187,
          3.2653061224489797,
          3.4693877551020407,
          3.673469387755102,
          3.8775510204081636,
          4.081632653061225,
          4.285714285714286,
          4.4897959183673475,
          4.6938775510204085,
          4.8979591836734695,
          5.1020408163265305,
          5.3061224489795915,
          5.510204081632653,
          5.714285714285714,
          5.918367346938775,
          6.122448979591837,
          6.326530612244898,
          6.530612244897959,
          6.73469387755102,
          6.938775510204081,
          7.142857142857143,
          7.346938775510204,
          7.551020408163265,
          7.755102040816327,
          7.959183673469388,
          8.16326530612245,
          8.36734693877551,
          8.571428571428571,
          8.775510204081632,
          8.979591836734695,
          9.183673469387756,
          9.387755102040817,
          9.591836734693878,
          9.795918367346939,
          10
         ],
         "y": [
          2,
          2.1020408163265305,
          2.204081632653061,
          2.306122448979592,
          2.4081632653061225,
          2.510204081632653,
          2.612244897959184,
          2.7142857142857144,
          2.816326530612245,
          2.9183673469387754,
          3.020408163265306,
          3.122448979591837,
          3.2244897959183674,
          3.326530612244898,
          3.428571428571429,
          3.5306122448979593,
          3.63265306122449,
          3.7346938775510203,
          3.836734693877551,
          3.938775510204082,
          4.040816326530612,
          4.142857142857142,
          4.244897959183674,
          4.346938775510204,
          4.448979591836735,
          4.551020408163265,
          4.653061224489796,
          4.755102040816327,
          4.857142857142858,
          4.959183673469388,
          5.061224489795919,
          5.163265306122449,
          5.26530612244898,
          5.36734693877551,
          5.469387755102041,
          5.571428571428571,
          5.673469387755102,
          5.775510204081632,
          5.877551020408164,
          5.979591836734694,
          6.081632653061225,
          6.183673469387755,
          6.285714285714286,
          6.387755102040816,
          6.4897959183673475,
          6.591836734693878,
          6.6938775510204085,
          6.795918367346939,
          6.8979591836734695,
          7
         ]
        }
       ],
       "layout": {
        "legend": {
         "title": {
          "text": "Data"
         },
         "tracegroupgap": 0
        },
        "template": {
         "data": {
          "bar": [
           {
            "error_x": {
             "color": "#2a3f5f"
            },
            "error_y": {
             "color": "#2a3f5f"
            },
            "marker": {
             "line": {
              "color": "#E5ECF6",
              "width": 0.5
             },
             "pattern": {
              "fillmode": "overlay",
              "size": 10,
              "solidity": 0.2
             }
            },
            "type": "bar"
           }
          ],
          "barpolar": [
           {
            "marker": {
             "line": {
              "color": "#E5ECF6",
              "width": 0.5
             },
             "pattern": {
              "fillmode": "overlay",
              "size": 10,
              "solidity": 0.2
             }
            },
            "type": "barpolar"
           }
          ],
          "carpet": [
           {
            "aaxis": {
             "endlinecolor": "#2a3f5f",
             "gridcolor": "white",
             "linecolor": "white",
             "minorgridcolor": "white",
             "startlinecolor": "#2a3f5f"
            },
            "baxis": {
             "endlinecolor": "#2a3f5f",
             "gridcolor": "white",
             "linecolor": "white",
             "minorgridcolor": "white",
             "startlinecolor": "#2a3f5f"
            },
            "type": "carpet"
           }
          ],
          "choropleth": [
           {
            "colorbar": {
             "outlinewidth": 0,
             "ticks": ""
            },
            "type": "choropleth"
           }
          ],
          "contour": [
           {
            "colorbar": {
             "outlinewidth": 0,
             "ticks": ""
            },
            "colorscale": [
             [
              0,
              "#0d0887"
             ],
             [
              0.1111111111111111,
              "#46039f"
             ],
             [
              0.2222222222222222,
              "#7201a8"
             ],
             [
              0.3333333333333333,
              "#9c179e"
             ],
             [
              0.4444444444444444,
              "#bd3786"
             ],
             [
              0.5555555555555556,
              "#d8576b"
             ],
             [
              0.6666666666666666,
              "#ed7953"
             ],
             [
              0.7777777777777778,
              "#fb9f3a"
             ],
             [
              0.8888888888888888,
              "#fdca26"
             ],
             [
              1,
              "#f0f921"
             ]
            ],
            "type": "contour"
           }
          ],
          "contourcarpet": [
           {
            "colorbar": {
             "outlinewidth": 0,
             "ticks": ""
            },
            "type": "contourcarpet"
           }
          ],
          "heatmap": [
           {
            "colorbar": {
             "outlinewidth": 0,
             "ticks": ""
            },
            "colorscale": [
             [
              0,
              "#0d0887"
             ],
             [
              0.1111111111111111,
              "#46039f"
             ],
             [
              0.2222222222222222,
              "#7201a8"
             ],
             [
              0.3333333333333333,
              "#9c179e"
             ],
             [
              0.4444444444444444,
              "#bd3786"
             ],
             [
              0.5555555555555556,
              "#d8576b"
             ],
             [
              0.6666666666666666,
              "#ed7953"
             ],
             [
              0.7777777777777778,
              "#fb9f3a"
             ],
             [
              0.8888888888888888,
              "#fdca26"
             ],
             [
              1,
              "#f0f921"
             ]
            ],
            "type": "heatmap"
           }
          ],
          "heatmapgl": [
           {
            "colorbar": {
             "outlinewidth": 0,
             "ticks": ""
            },
            "colorscale": [
             [
              0,
              "#0d0887"
             ],
             [
              0.1111111111111111,
              "#46039f"
             ],
             [
              0.2222222222222222,
              "#7201a8"
             ],
             [
              0.3333333333333333,
              "#9c179e"
             ],
             [
              0.4444444444444444,
              "#bd3786"
             ],
             [
              0.5555555555555556,
              "#d8576b"
             ],
             [
              0.6666666666666666,
              "#ed7953"
             ],
             [
              0.7777777777777778,
              "#fb9f3a"
             ],
             [
              0.8888888888888888,
              "#fdca26"
             ],
             [
              1,
              "#f0f921"
             ]
            ],
            "type": "heatmapgl"
           }
          ],
          "histogram": [
           {
            "marker": {
             "pattern": {
              "fillmode": "overlay",
              "size": 10,
              "solidity": 0.2
             }
            },
            "type": "histogram"
           }
          ],
          "histogram2d": [
           {
            "colorbar": {
             "outlinewidth": 0,
             "ticks": ""
            },
            "colorscale": [
             [
              0,
              "#0d0887"
             ],
             [
              0.1111111111111111,
              "#46039f"
             ],
             [
              0.2222222222222222,
              "#7201a8"
             ],
             [
              0.3333333333333333,
              "#9c179e"
             ],
             [
              0.4444444444444444,
              "#bd3786"
             ],
             [
              0.5555555555555556,
              "#d8576b"
             ],
             [
              0.6666666666666666,
              "#ed7953"
             ],
             [
              0.7777777777777778,
              "#fb9f3a"
             ],
             [
              0.8888888888888888,
              "#fdca26"
             ],
             [
              1,
              "#f0f921"
             ]
            ],
            "type": "histogram2d"
           }
          ],
          "histogram2dcontour": [
           {
            "colorbar": {
             "outlinewidth": 0,
             "ticks": ""
            },
            "colorscale": [
             [
              0,
              "#0d0887"
             ],
             [
              0.1111111111111111,
              "#46039f"
             ],
             [
              0.2222222222222222,
              "#7201a8"
             ],
             [
              0.3333333333333333,
              "#9c179e"
             ],
             [
              0.4444444444444444,
              "#bd3786"
             ],
             [
              0.5555555555555556,
              "#d8576b"
             ],
             [
              0.6666666666666666,
              "#ed7953"
             ],
             [
              0.7777777777777778,
              "#fb9f3a"
             ],
             [
              0.8888888888888888,
              "#fdca26"
             ],
             [
              1,
              "#f0f921"
             ]
            ],
            "type": "histogram2dcontour"
           }
          ],
          "mesh3d": [
           {
            "colorbar": {
             "outlinewidth": 0,
             "ticks": ""
            },
            "type": "mesh3d"
           }
          ],
          "parcoords": [
           {
            "line": {
             "colorbar": {
              "outlinewidth": 0,
              "ticks": ""
             }
            },
            "type": "parcoords"
           }
          ],
          "pie": [
           {
            "automargin": true,
            "type": "pie"
           }
          ],
          "scatter": [
           {
            "fillpattern": {
             "fillmode": "overlay",
             "size": 10,
             "solidity": 0.2
            },
            "type": "scatter"
           }
          ],
          "scatter3d": [
           {
            "line": {
             "colorbar": {
              "outlinewidth": 0,
              "ticks": ""
             }
            },
            "marker": {
             "colorbar": {
              "outlinewidth": 0,
              "ticks": ""
             }
            },
            "type": "scatter3d"
           }
          ],
          "scattercarpet": [
           {
            "marker": {
             "colorbar": {
              "outlinewidth": 0,
              "ticks": ""
             }
            },
            "type": "scattercarpet"
           }
          ],
          "scattergeo": [
           {
            "marker": {
             "colorbar": {
              "outlinewidth": 0,
              "ticks": ""
             }
            },
            "type": "scattergeo"
           }
          ],
          "scattergl": [
           {
            "marker": {
             "colorbar": {
              "outlinewidth": 0,
              "ticks": ""
             }
            },
            "type": "scattergl"
           }
          ],
          "scattermapbox": [
           {
            "marker": {
             "colorbar": {
              "outlinewidth": 0,
              "ticks": ""
             }
            },
            "type": "scattermapbox"
           }
          ],
          "scatterpolar": [
           {
            "marker": {
             "colorbar": {
              "outlinewidth": 0,
              "ticks": ""
             }
            },
            "type": "scatterpolar"
           }
          ],
          "scatterpolargl": [
           {
            "marker": {
             "colorbar": {
              "outlinewidth": 0,
              "ticks": ""
             }
            },
            "type": "scatterpolargl"
           }
          ],
          "scatterternary": [
           {
            "marker": {
             "colorbar": {
              "outlinewidth": 0,
              "ticks": ""
             }
            },
            "type": "scatterternary"
           }
          ],
          "surface": [
           {
            "colorbar": {
             "outlinewidth": 0,
             "ticks": ""
            },
            "colorscale": [
             [
              0,
              "#0d0887"
             ],
             [
              0.1111111111111111,
              "#46039f"
             ],
             [
              0.2222222222222222,
              "#7201a8"
             ],
             [
              0.3333333333333333,
              "#9c179e"
             ],
             [
              0.4444444444444444,
              "#bd3786"
             ],
             [
              0.5555555555555556,
              "#d8576b"
             ],
             [
              0.6666666666666666,
              "#ed7953"
             ],
             [
              0.7777777777777778,
              "#fb9f3a"
             ],
             [
              0.8888888888888888,
              "#fdca26"
             ],
             [
              1,
              "#f0f921"
             ]
            ],
            "type": "surface"
           }
          ],
          "table": [
           {
            "cells": {
             "fill": {
              "color": "#EBF0F8"
             },
             "line": {
              "color": "white"
             }
            },
            "header": {
             "fill": {
              "color": "#C8D4E3"
             },
             "line": {
              "color": "white"
             }
            },
            "type": "table"
           }
          ]
         },
         "layout": {
          "annotationdefaults": {
           "arrowcolor": "#2a3f5f",
           "arrowhead": 0,
           "arrowwidth": 1
          },
          "autotypenumbers": "strict",
          "coloraxis": {
           "colorbar": {
            "outlinewidth": 0,
            "ticks": ""
           }
          },
          "colorscale": {
           "diverging": [
            [
             0,
             "#8e0152"
            ],
            [
             0.1,
             "#c51b7d"
            ],
            [
             0.2,
             "#de77ae"
            ],
            [
             0.3,
             "#f1b6da"
            ],
            [
             0.4,
             "#fde0ef"
            ],
            [
             0.5,
             "#f7f7f7"
            ],
            [
             0.6,
             "#e6f5d0"
            ],
            [
             0.7,
             "#b8e186"
            ],
            [
             0.8,
             "#7fbc41"
            ],
            [
             0.9,
             "#4d9221"
            ],
            [
             1,
             "#276419"
            ]
           ],
           "sequential": [
            [
             0,
             "#0d0887"
            ],
            [
             0.1111111111111111,
             "#46039f"
            ],
            [
             0.2222222222222222,
             "#7201a8"
            ],
            [
             0.3333333333333333,
             "#9c179e"
            ],
            [
             0.4444444444444444,
             "#bd3786"
            ],
            [
             0.5555555555555556,
             "#d8576b"
            ],
            [
             0.6666666666666666,
             "#ed7953"
            ],
            [
             0.7777777777777778,
             "#fb9f3a"
            ],
            [
             0.8888888888888888,
             "#fdca26"
            ],
            [
             1,
             "#f0f921"
            ]
           ],
           "sequentialminus": [
            [
             0,
             "#0d0887"
            ],
            [
             0.1111111111111111,
             "#46039f"
            ],
            [
             0.2222222222222222,
             "#7201a8"
            ],
            [
             0.3333333333333333,
             "#9c179e"
            ],
            [
             0.4444444444444444,
             "#bd3786"
            ],
            [
             0.5555555555555556,
             "#d8576b"
            ],
            [
             0.6666666666666666,
             "#ed7953"
            ],
            [
             0.7777777777777778,
             "#fb9f3a"
            ],
            [
             0.8888888888888888,
             "#fdca26"
            ],
            [
             1,
             "#f0f921"
            ]
           ]
          },
          "colorway": [
           "#636efa",
           "#EF553B",
           "#00cc96",
           "#ab63fa",
           "#FFA15A",
           "#19d3f3",
           "#FF6692",
           "#B6E880",
           "#FF97FF",
           "#FECB52"
          ],
          "font": {
           "color": "#2a3f5f"
          },
          "geo": {
           "bgcolor": "white",
           "lakecolor": "white",
           "landcolor": "#E5ECF6",
           "showlakes": true,
           "showland": true,
           "subunitcolor": "white"
          },
          "hoverlabel": {
           "align": "left"
          },
          "hovermode": "closest",
          "mapbox": {
           "style": "light"
          },
          "paper_bgcolor": "white",
          "plot_bgcolor": "#E5ECF6",
          "polar": {
           "angularaxis": {
            "gridcolor": "white",
            "linecolor": "white",
            "ticks": ""
           },
           "bgcolor": "#E5ECF6",
           "radialaxis": {
            "gridcolor": "white",
            "linecolor": "white",
            "ticks": ""
           }
          },
          "scene": {
           "xaxis": {
            "backgroundcolor": "#E5ECF6",
            "gridcolor": "white",
            "gridwidth": 2,
            "linecolor": "white",
            "showbackground": true,
            "ticks": "",
            "zerolinecolor": "white"
           },
           "yaxis": {
            "backgroundcolor": "#E5ECF6",
            "gridcolor": "white",
            "gridwidth": 2,
            "linecolor": "white",
            "showbackground": true,
            "ticks": "",
            "zerolinecolor": "white"
           },
           "zaxis": {
            "backgroundcolor": "#E5ECF6",
            "gridcolor": "white",
            "gridwidth": 2,
            "linecolor": "white",
            "showbackground": true,
            "ticks": "",
            "zerolinecolor": "white"
           }
          },
          "shapedefaults": {
           "line": {
            "color": "#2a3f5f"
           }
          },
          "ternary": {
           "aaxis": {
            "gridcolor": "white",
            "linecolor": "white",
            "ticks": ""
           },
           "baxis": {
            "gridcolor": "white",
            "linecolor": "white",
            "ticks": ""
           },
           "bgcolor": "#E5ECF6",
           "caxis": {
            "gridcolor": "white",
            "linecolor": "white",
            "ticks": ""
           }
          },
          "title": {
           "x": 0.05
          },
          "xaxis": {
           "automargin": true,
           "gridcolor": "white",
           "linecolor": "white",
           "ticks": "",
           "title": {
            "standoff": 15
           },
           "zerolinecolor": "white",
           "zerolinewidth": 2
          },
          "yaxis": {
           "automargin": true,
           "gridcolor": "white",
           "linecolor": "white",
           "ticks": "",
           "title": {
            "standoff": 15
           },
           "zerolinecolor": "white",
           "zerolinewidth": 2
          }
         }
        },
        "title": {
         "text": "Y vs. x"
        },
        "xaxis": {
         "anchor": "y",
         "domain": [
          0,
          1
         ],
         "title": {
          "text": "x"
         }
        },
        "yaxis": {
         "anchor": "x",
         "domain": [
          0,
          1
         ],
         "title": {
          "text": "Y"
         }
        }
       }
      },
      "text/html": [
       "<div>                            <div id=\"dee810d0-e0c3-40d7-8a06-a6dd34546015\" class=\"plotly-graph-div\" style=\"height:525px; width:100%;\"></div>            <script type=\"text/javascript\">                require([\"plotly\"], function(Plotly) {                    window.PLOTLYENV=window.PLOTLYENV || {};                                    if (document.getElementById(\"dee810d0-e0c3-40d7-8a06-a6dd34546015\")) {                    Plotly.newPlot(                        \"dee810d0-e0c3-40d7-8a06-a6dd34546015\",                        [{\"hovertemplate\":\"Data=Data\\u003cbr\\u003ex=%{x}\\u003cbr\\u003eY=%{y}\\u003cextra\\u003e\\u003c\\u002fextra\\u003e\",\"legendgroup\":\"Data\",\"marker\":{\"color\":\"#636efa\",\"symbol\":\"circle\"},\"mode\":\"markers\",\"name\":\"Data\",\"orientation\":\"v\",\"showlegend\":true,\"x\":[0.0,0.20408163265306123,0.40816326530612246,0.6122448979591837,0.8163265306122449,1.0204081632653061,1.2244897959183674,1.4285714285714286,1.6326530612244898,1.836734693877551,2.0408163265306123,2.2448979591836737,2.4489795918367347,2.6530612244897958,2.857142857142857,3.0612244897959187,3.2653061224489797,3.4693877551020407,3.673469387755102,3.8775510204081636,4.081632653061225,4.285714285714286,4.4897959183673475,4.6938775510204085,4.8979591836734695,5.1020408163265305,5.3061224489795915,5.510204081632653,5.714285714285714,5.918367346938775,6.122448979591837,6.326530612244898,6.530612244897959,6.73469387755102,6.938775510204081,7.142857142857143,7.346938775510204,7.551020408163265,7.755102040816327,7.959183673469388,8.16326530612245,8.36734693877551,8.571428571428571,8.775510204081632,8.979591836734695,9.183673469387756,9.387755102040817,9.591836734693878,9.795918367346939,10.0],\"xaxis\":\"x\",\"y\":[0.29921424902454574,2.6999695437143236,4.005175835200947,3.428007758946528,2.5909571266221865,1.290045718889842,2.62266492172027,3.5124862098027267,2.4569470887067366,1.3137520982389594,2.6245787888445515,3.8178080376996832,2.5772675285926248,2.4575586342344233,5.422118753266276,2.580999281252181,1.6159331022686203,3.3098947180565523,4.425618837086833,3.373438143276026,2.6107291360224414,4.4997517764636985,2.6435700332868786,3.915901288534835,5.59792369957778,7.548497487981945,3.8981307709420108,6.6227953775709745,4.145924897359567,2.94909461902592,4.780833041898858,5.834901878007904,5.48280402312856,7.57672950882416,6.41393670491725,5.535617962893222,6.98310902916632,6.3467099921645405,7.090021912766686,5.924339001644808,4.730473883189854,5.673234342938656,5.4663279738410475,6.462552683112308,6.673879046572485,7.9934814726077725,4.247139099745143,6.942268977290694,7.37074610917554,7.6128518839460275],\"yaxis\":\"y\",\"type\":\"scatter\"},{\"hovertemplate\":\"\\u003cb\\u003eOLS trendline\\u003c\\u002fb\\u003e\\u003cbr\\u003eY = 0.528692 * x + 1.87651\\u003cbr\\u003eR\\u003csup\\u003e2\\u003c\\u002fsup\\u003e=0.637559\\u003cbr\\u003e\\u003cbr\\u003eData=Data\\u003cbr\\u003ex=%{x}\\u003cbr\\u003eY=%{y} \\u003cb\\u003e(trend)\\u003c\\u002fb\\u003e\\u003cextra\\u003e\\u003c\\u002fextra\\u003e\",\"legendgroup\":\"Data\",\"marker\":{\"color\":\"#636efa\",\"symbol\":\"circle\"},\"mode\":\"lines\",\"name\":\"Data\",\"showlegend\":false,\"x\":[0.0,0.20408163265306123,0.40816326530612246,0.6122448979591837,0.8163265306122449,1.0204081632653061,1.2244897959183674,1.4285714285714286,1.6326530612244898,1.836734693877551,2.0408163265306123,2.2448979591836737,2.4489795918367347,2.6530612244897958,2.857142857142857,3.0612244897959187,3.2653061224489797,3.4693877551020407,3.673469387755102,3.8775510204081636,4.081632653061225,4.285714285714286,4.4897959183673475,4.6938775510204085,4.8979591836734695,5.1020408163265305,5.3061224489795915,5.510204081632653,5.714285714285714,5.918367346938775,6.122448979591837,6.326530612244898,6.530612244897959,6.73469387755102,6.938775510204081,7.142857142857143,7.346938775510204,7.551020408163265,7.755102040816327,7.959183673469388,8.16326530612245,8.36734693877551,8.571428571428571,8.775510204081632,8.979591836734695,9.183673469387756,9.387755102040817,9.591836734693878,9.795918367346939,10.0],\"xaxis\":\"x\",\"y\":[1.8765123135485409,1.9844087203343497,2.0923051271201585,2.2002015339059673,2.3080979406917757,2.4159943474775845,2.5238907542633933,2.631787161049202,2.739683567835011,2.8475799746208192,2.955476381406628,3.063372788192437,3.1712691949782457,3.2791656017640545,3.3870620085498633,3.494958415335672,3.602854822121481,3.7107512289072893,3.818647635693098,3.926544042478907,4.034440449264716,4.142336856050524,4.250233262836334,4.3581296696221425,4.4660260764079505,4.573922483193759,4.681818889979567,4.789715296765377,4.897611703551186,5.005508110336994,5.113404517122803,5.221300923908611,5.32919733069442,5.437093737480229,5.544990144266038,5.6528865510518465,5.760782957837655,5.868679364623464,5.976575771409273,6.084472178195082,6.1923685849808905,6.300264991766699,6.408161398552507,6.516057805338316,6.623954212124126,6.7318506189099345,6.839747025695743,6.947643432481551,7.05553983926736,7.163436246053169],\"yaxis\":\"y\",\"type\":\"scatter\"},{\"line\":{\"color\":\"blue\"},\"name\":\"trendline='ols'\",\"x\":[0.0,0.20408163265306123,0.40816326530612246,0.6122448979591837,0.8163265306122449,1.0204081632653061,1.2244897959183674,1.4285714285714286,1.6326530612244898,1.836734693877551,2.0408163265306123,2.2448979591836737,2.4489795918367347,2.6530612244897958,2.857142857142857,3.0612244897959187,3.2653061224489797,3.4693877551020407,3.673469387755102,3.8775510204081636,4.081632653061225,4.285714285714286,4.4897959183673475,4.6938775510204085,4.8979591836734695,5.1020408163265305,5.3061224489795915,5.510204081632653,5.714285714285714,5.918367346938775,6.122448979591837,6.326530612244898,6.530612244897959,6.73469387755102,6.938775510204081,7.142857142857143,7.346938775510204,7.551020408163265,7.755102040816327,7.959183673469388,8.16326530612245,8.36734693877551,8.571428571428571,8.775510204081632,8.979591836734695,9.183673469387756,9.387755102040817,9.591836734693878,9.795918367346939,10.0],\"y\":[1.8765123135485409,1.9844087203343497,2.0923051271201585,2.2002015339059673,2.3080979406917757,2.4159943474775845,2.5238907542633933,2.631787161049202,2.739683567835011,2.8475799746208192,2.955476381406628,3.063372788192437,3.1712691949782457,3.2791656017640545,3.3870620085498633,3.494958415335672,3.602854822121481,3.7107512289072893,3.818647635693098,3.926544042478907,4.034440449264716,4.142336856050524,4.250233262836334,4.3581296696221425,4.4660260764079505,4.573922483193759,4.681818889979567,4.789715296765377,4.897611703551186,5.005508110336994,5.113404517122803,5.221300923908611,5.32919733069442,5.437093737480229,5.544990144266038,5.6528865510518465,5.760782957837655,5.868679364623464,5.976575771409273,6.084472178195082,6.1923685849808905,6.300264991766699,6.408161398552507,6.516057805338316,6.623954212124126,6.7318506189099345,6.839747025695743,6.947643432481551,7.05553983926736,7.163436246053169],\"type\":\"scatter\"},{\"mode\":\"lines\",\"name\":\"True Line\",\"x\":[0.0,0.20408163265306123,0.40816326530612246,0.6122448979591837,0.8163265306122449,1.0204081632653061,1.2244897959183674,1.4285714285714286,1.6326530612244898,1.836734693877551,2.0408163265306123,2.2448979591836737,2.4489795918367347,2.6530612244897958,2.857142857142857,3.0612244897959187,3.2653061224489797,3.4693877551020407,3.673469387755102,3.8775510204081636,4.081632653061225,4.285714285714286,4.4897959183673475,4.6938775510204085,4.8979591836734695,5.1020408163265305,5.3061224489795915,5.510204081632653,5.714285714285714,5.918367346938775,6.122448979591837,6.326530612244898,6.530612244897959,6.73469387755102,6.938775510204081,7.142857142857143,7.346938775510204,7.551020408163265,7.755102040816327,7.959183673469388,8.16326530612245,8.36734693877551,8.571428571428571,8.775510204081632,8.979591836734695,9.183673469387756,9.387755102040817,9.591836734693878,9.795918367346939,10.0],\"y\":[2.0,2.1020408163265305,2.204081632653061,2.306122448979592,2.4081632653061225,2.510204081632653,2.612244897959184,2.7142857142857144,2.816326530612245,2.9183673469387754,3.020408163265306,3.122448979591837,3.2244897959183674,3.326530612244898,3.428571428571429,3.5306122448979593,3.63265306122449,3.7346938775510203,3.836734693877551,3.938775510204082,4.040816326530612,4.142857142857142,4.244897959183674,4.346938775510204,4.448979591836735,4.551020408163265,4.653061224489796,4.755102040816327,4.857142857142858,4.959183673469388,5.061224489795919,5.163265306122449,5.26530612244898,5.36734693877551,5.469387755102041,5.571428571428571,5.673469387755102,5.775510204081632,5.877551020408164,5.979591836734694,6.081632653061225,6.183673469387755,6.285714285714286,6.387755102040816,6.4897959183673475,6.591836734693878,6.6938775510204085,6.795918367346939,6.8979591836734695,7.0],\"type\":\"scatter\"}],                        {\"template\":{\"data\":{\"histogram2dcontour\":[{\"type\":\"histogram2dcontour\",\"colorbar\":{\"outlinewidth\":0,\"ticks\":\"\"},\"colorscale\":[[0.0,\"#0d0887\"],[0.1111111111111111,\"#46039f\"],[0.2222222222222222,\"#7201a8\"],[0.3333333333333333,\"#9c179e\"],[0.4444444444444444,\"#bd3786\"],[0.5555555555555556,\"#d8576b\"],[0.6666666666666666,\"#ed7953\"],[0.7777777777777778,\"#fb9f3a\"],[0.8888888888888888,\"#fdca26\"],[1.0,\"#f0f921\"]]}],\"choropleth\":[{\"type\":\"choropleth\",\"colorbar\":{\"outlinewidth\":0,\"ticks\":\"\"}}],\"histogram2d\":[{\"type\":\"histogram2d\",\"colorbar\":{\"outlinewidth\":0,\"ticks\":\"\"},\"colorscale\":[[0.0,\"#0d0887\"],[0.1111111111111111,\"#46039f\"],[0.2222222222222222,\"#7201a8\"],[0.3333333333333333,\"#9c179e\"],[0.4444444444444444,\"#bd3786\"],[0.5555555555555556,\"#d8576b\"],[0.6666666666666666,\"#ed7953\"],[0.7777777777777778,\"#fb9f3a\"],[0.8888888888888888,\"#fdca26\"],[1.0,\"#f0f921\"]]}],\"heatmap\":[{\"type\":\"heatmap\",\"colorbar\":{\"outlinewidth\":0,\"ticks\":\"\"},\"colorscale\":[[0.0,\"#0d0887\"],[0.1111111111111111,\"#46039f\"],[0.2222222222222222,\"#7201a8\"],[0.3333333333333333,\"#9c179e\"],[0.4444444444444444,\"#bd3786\"],[0.5555555555555556,\"#d8576b\"],[0.6666666666666666,\"#ed7953\"],[0.7777777777777778,\"#fb9f3a\"],[0.8888888888888888,\"#fdca26\"],[1.0,\"#f0f921\"]]}],\"heatmapgl\":[{\"type\":\"heatmapgl\",\"colorbar\":{\"outlinewidth\":0,\"ticks\":\"\"},\"colorscale\":[[0.0,\"#0d0887\"],[0.1111111111111111,\"#46039f\"],[0.2222222222222222,\"#7201a8\"],[0.3333333333333333,\"#9c179e\"],[0.4444444444444444,\"#bd3786\"],[0.5555555555555556,\"#d8576b\"],[0.6666666666666666,\"#ed7953\"],[0.7777777777777778,\"#fb9f3a\"],[0.8888888888888888,\"#fdca26\"],[1.0,\"#f0f921\"]]}],\"contourcarpet\":[{\"type\":\"contourcarpet\",\"colorbar\":{\"outlinewidth\":0,\"ticks\":\"\"}}],\"contour\":[{\"type\":\"contour\",\"colorbar\":{\"outlinewidth\":0,\"ticks\":\"\"},\"colorscale\":[[0.0,\"#0d0887\"],[0.1111111111111111,\"#46039f\"],[0.2222222222222222,\"#7201a8\"],[0.3333333333333333,\"#9c179e\"],[0.4444444444444444,\"#bd3786\"],[0.5555555555555556,\"#d8576b\"],[0.6666666666666666,\"#ed7953\"],[0.7777777777777778,\"#fb9f3a\"],[0.8888888888888888,\"#fdca26\"],[1.0,\"#f0f921\"]]}],\"surface\":[{\"type\":\"surface\",\"colorbar\":{\"outlinewidth\":0,\"ticks\":\"\"},\"colorscale\":[[0.0,\"#0d0887\"],[0.1111111111111111,\"#46039f\"],[0.2222222222222222,\"#7201a8\"],[0.3333333333333333,\"#9c179e\"],[0.4444444444444444,\"#bd3786\"],[0.5555555555555556,\"#d8576b\"],[0.6666666666666666,\"#ed7953\"],[0.7777777777777778,\"#fb9f3a\"],[0.8888888888888888,\"#fdca26\"],[1.0,\"#f0f921\"]]}],\"mesh3d\":[{\"type\":\"mesh3d\",\"colorbar\":{\"outlinewidth\":0,\"ticks\":\"\"}}],\"scatter\":[{\"fillpattern\":{\"fillmode\":\"overlay\",\"size\":10,\"solidity\":0.2},\"type\":\"scatter\"}],\"parcoords\":[{\"type\":\"parcoords\",\"line\":{\"colorbar\":{\"outlinewidth\":0,\"ticks\":\"\"}}}],\"scatterpolargl\":[{\"type\":\"scatterpolargl\",\"marker\":{\"colorbar\":{\"outlinewidth\":0,\"ticks\":\"\"}}}],\"bar\":[{\"error_x\":{\"color\":\"#2a3f5f\"},\"error_y\":{\"color\":\"#2a3f5f\"},\"marker\":{\"line\":{\"color\":\"#E5ECF6\",\"width\":0.5},\"pattern\":{\"fillmode\":\"overlay\",\"size\":10,\"solidity\":0.2}},\"type\":\"bar\"}],\"scattergeo\":[{\"type\":\"scattergeo\",\"marker\":{\"colorbar\":{\"outlinewidth\":0,\"ticks\":\"\"}}}],\"scatterpolar\":[{\"type\":\"scatterpolar\",\"marker\":{\"colorbar\":{\"outlinewidth\":0,\"ticks\":\"\"}}}],\"histogram\":[{\"marker\":{\"pattern\":{\"fillmode\":\"overlay\",\"size\":10,\"solidity\":0.2}},\"type\":\"histogram\"}],\"scattergl\":[{\"type\":\"scattergl\",\"marker\":{\"colorbar\":{\"outlinewidth\":0,\"ticks\":\"\"}}}],\"scatter3d\":[{\"type\":\"scatter3d\",\"line\":{\"colorbar\":{\"outlinewidth\":0,\"ticks\":\"\"}},\"marker\":{\"colorbar\":{\"outlinewidth\":0,\"ticks\":\"\"}}}],\"scattermapbox\":[{\"type\":\"scattermapbox\",\"marker\":{\"colorbar\":{\"outlinewidth\":0,\"ticks\":\"\"}}}],\"scatterternary\":[{\"type\":\"scatterternary\",\"marker\":{\"colorbar\":{\"outlinewidth\":0,\"ticks\":\"\"}}}],\"scattercarpet\":[{\"type\":\"scattercarpet\",\"marker\":{\"colorbar\":{\"outlinewidth\":0,\"ticks\":\"\"}}}],\"carpet\":[{\"aaxis\":{\"endlinecolor\":\"#2a3f5f\",\"gridcolor\":\"white\",\"linecolor\":\"white\",\"minorgridcolor\":\"white\",\"startlinecolor\":\"#2a3f5f\"},\"baxis\":{\"endlinecolor\":\"#2a3f5f\",\"gridcolor\":\"white\",\"linecolor\":\"white\",\"minorgridcolor\":\"white\",\"startlinecolor\":\"#2a3f5f\"},\"type\":\"carpet\"}],\"table\":[{\"cells\":{\"fill\":{\"color\":\"#EBF0F8\"},\"line\":{\"color\":\"white\"}},\"header\":{\"fill\":{\"color\":\"#C8D4E3\"},\"line\":{\"color\":\"white\"}},\"type\":\"table\"}],\"barpolar\":[{\"marker\":{\"line\":{\"color\":\"#E5ECF6\",\"width\":0.5},\"pattern\":{\"fillmode\":\"overlay\",\"size\":10,\"solidity\":0.2}},\"type\":\"barpolar\"}],\"pie\":[{\"automargin\":true,\"type\":\"pie\"}]},\"layout\":{\"autotypenumbers\":\"strict\",\"colorway\":[\"#636efa\",\"#EF553B\",\"#00cc96\",\"#ab63fa\",\"#FFA15A\",\"#19d3f3\",\"#FF6692\",\"#B6E880\",\"#FF97FF\",\"#FECB52\"],\"font\":{\"color\":\"#2a3f5f\"},\"hovermode\":\"closest\",\"hoverlabel\":{\"align\":\"left\"},\"paper_bgcolor\":\"white\",\"plot_bgcolor\":\"#E5ECF6\",\"polar\":{\"bgcolor\":\"#E5ECF6\",\"angularaxis\":{\"gridcolor\":\"white\",\"linecolor\":\"white\",\"ticks\":\"\"},\"radialaxis\":{\"gridcolor\":\"white\",\"linecolor\":\"white\",\"ticks\":\"\"}},\"ternary\":{\"bgcolor\":\"#E5ECF6\",\"aaxis\":{\"gridcolor\":\"white\",\"linecolor\":\"white\",\"ticks\":\"\"},\"baxis\":{\"gridcolor\":\"white\",\"linecolor\":\"white\",\"ticks\":\"\"},\"caxis\":{\"gridcolor\":\"white\",\"linecolor\":\"white\",\"ticks\":\"\"}},\"coloraxis\":{\"colorbar\":{\"outlinewidth\":0,\"ticks\":\"\"}},\"colorscale\":{\"sequential\":[[0.0,\"#0d0887\"],[0.1111111111111111,\"#46039f\"],[0.2222222222222222,\"#7201a8\"],[0.3333333333333333,\"#9c179e\"],[0.4444444444444444,\"#bd3786\"],[0.5555555555555556,\"#d8576b\"],[0.6666666666666666,\"#ed7953\"],[0.7777777777777778,\"#fb9f3a\"],[0.8888888888888888,\"#fdca26\"],[1.0,\"#f0f921\"]],\"sequentialminus\":[[0.0,\"#0d0887\"],[0.1111111111111111,\"#46039f\"],[0.2222222222222222,\"#7201a8\"],[0.3333333333333333,\"#9c179e\"],[0.4444444444444444,\"#bd3786\"],[0.5555555555555556,\"#d8576b\"],[0.6666666666666666,\"#ed7953\"],[0.7777777777777778,\"#fb9f3a\"],[0.8888888888888888,\"#fdca26\"],[1.0,\"#f0f921\"]],\"diverging\":[[0,\"#8e0152\"],[0.1,\"#c51b7d\"],[0.2,\"#de77ae\"],[0.3,\"#f1b6da\"],[0.4,\"#fde0ef\"],[0.5,\"#f7f7f7\"],[0.6,\"#e6f5d0\"],[0.7,\"#b8e186\"],[0.8,\"#7fbc41\"],[0.9,\"#4d9221\"],[1,\"#276419\"]]},\"xaxis\":{\"gridcolor\":\"white\",\"linecolor\":\"white\",\"ticks\":\"\",\"title\":{\"standoff\":15},\"zerolinecolor\":\"white\",\"automargin\":true,\"zerolinewidth\":2},\"yaxis\":{\"gridcolor\":\"white\",\"linecolor\":\"white\",\"ticks\":\"\",\"title\":{\"standoff\":15},\"zerolinecolor\":\"white\",\"automargin\":true,\"zerolinewidth\":2},\"scene\":{\"xaxis\":{\"backgroundcolor\":\"#E5ECF6\",\"gridcolor\":\"white\",\"linecolor\":\"white\",\"showbackground\":true,\"ticks\":\"\",\"zerolinecolor\":\"white\",\"gridwidth\":2},\"yaxis\":{\"backgroundcolor\":\"#E5ECF6\",\"gridcolor\":\"white\",\"linecolor\":\"white\",\"showbackground\":true,\"ticks\":\"\",\"zerolinecolor\":\"white\",\"gridwidth\":2},\"zaxis\":{\"backgroundcolor\":\"#E5ECF6\",\"gridcolor\":\"white\",\"linecolor\":\"white\",\"showbackground\":true,\"ticks\":\"\",\"zerolinecolor\":\"white\",\"gridwidth\":2}},\"shapedefaults\":{\"line\":{\"color\":\"#2a3f5f\"}},\"annotationdefaults\":{\"arrowcolor\":\"#2a3f5f\",\"arrowhead\":0,\"arrowwidth\":1},\"geo\":{\"bgcolor\":\"white\",\"landcolor\":\"#E5ECF6\",\"subunitcolor\":\"white\",\"showland\":true,\"showlakes\":true,\"lakecolor\":\"white\"},\"title\":{\"x\":0.05},\"mapbox\":{\"style\":\"light\"}}},\"xaxis\":{\"anchor\":\"y\",\"domain\":[0.0,1.0],\"title\":{\"text\":\"x\"}},\"yaxis\":{\"anchor\":\"x\",\"domain\":[0.0,1.0],\"title\":{\"text\":\"Y\"}},\"legend\":{\"title\":{\"text\":\"Data\"},\"tracegroupgap\":0},\"title\":{\"text\":\"Y vs. x\"}},                        {\"responsive\": true}                    ).then(function(){\n",
       "                            \n",
       "var gd = document.getElementById('dee810d0-e0c3-40d7-8a06-a6dd34546015');\n",
       "var x = new MutationObserver(function (mutations, observer) {{\n",
       "        var display = window.getComputedStyle(gd).display;\n",
       "        if (!display || display === 'none') {{\n",
       "            console.log([gd, 'removed!']);\n",
       "            Plotly.purge(gd);\n",
       "            observer.disconnect();\n",
       "        }}\n",
       "}});\n",
       "\n",
       "// Listen for the removal of the full notebook cells\n",
       "var notebookContainer = gd.closest('#notebook-container');\n",
       "if (notebookContainer) {{\n",
       "    x.observe(notebookContainer, {childList: true});\n",
       "}}\n",
       "\n",
       "// Listen for the clearing of the current output cell\n",
       "var outputEl = gd.closest('.output');\n",
       "if (outputEl) {{\n",
       "    x.observe(outputEl, {childList: true});\n",
       "}}\n",
       "\n",
       "                        })                };                });            </script>        </div>"
      ]
     },
     "metadata": {},
     "output_type": "display_data"
    }
   ],
   "source": [
    "import pandas as pd\n",
    "import numpy as np\n",
    "import statsmodels.formula.api as smf  # To fit statistical models, including OLS regression.\n",
    "import plotly.express as px  # library for data visualization.\n",
    "\n",
    "n = 50\n",
    "beta0 = 2.0\n",
    "beta1 = 0.5\n",
    "sigma = 1.0\n",
    "x = np.linspace(0, 10, n)\n",
    "errors = np.random.normal(0, sigma, n)\n",
    "Y = beta0 + beta1 * x + errors\n",
    "\n",
    "df = pd.DataFrame({'x': x, 'Y': Y})\n",
    "\n",
    "model_data_specification = smf.ols(\"Y ~ x\", data=df)  # Shows that Y is predicted as a linear function of x\n",
    "fitted_model = model_data_specification.fit()  # Fits the model to the data\n",
    "\n",
    "# Model summary and results\n",
    "fitted_model.summary()  # Provides a detailed summary of the fitted model, including coefficients, R-squared, etc.\n",
    "fitted_model.summary().tables[1]  # Displays the main table with coefficients, standard errors, and t-values.\n",
    "fitted_model.params  # Shows the fitted parameters (intercept and slope)\n",
    "fitted_model.params.values  # Outputs the fitted parameter values as a numpy array\n",
    "fitted_model.rsquared  # Provides the R-squared value, indicating the model's goodness of fit\n",
    "\n",
    "# Visualization\n",
    "df['Data'] = 'Data'  # Adds a column\n",
    "fig = px.scatter(df, x='x', y='Y', color='Data', trendline='ols', title='Y vs. x')  # Adds data points and fitted trendline to the plot\n",
    "\n",
    "# Equivalent manual trendline plotting (alternative to trendline='ols')\n",
    "fig.add_scatter(x=df['x'], y=fitted_model.fittedvalues, line=dict(color='blue'), name=\"trendline='ols'\")\n",
    "fig.add_trace(go.Scatter(x=x, y=beta0 + beta1 * x, mode='lines', name='True Line'))\n",
    "\n",
    "fig.show() # USE `fig.show(renderer=\"png\")` FOR ALL GitHub and MarkUs SUBMISSIONS\n",
    "\n",
    "\n",
    "\n"
   ]
  },
  {
   "cell_type": "markdown",
   "id": "59b70bc0",
   "metadata": {},
   "source": [
    "### 3. Add the line from Question 1 on the figure of Question 2 and explain the difference between the nature of the two lines in your own words; *but, hint though: simulation of random sampling variation*<br>\n",
    "\n",
    "To compare the two lines, I can see the impact of random sampling variation on the fitted model and observed data. The true line displays the true relationship we tried to simulate, but the fitted line shows the estimated relationship. This difference shows the impact of random sampling in data, also explain why the estimated models might different from the true model."
   ]
  },
  {
   "cell_type": "markdown",
   "id": "2b68e71c",
   "metadata": {},
   "source": [
    "### 4. Explain how *fitted_model.fittedvalues* are derived on the basis of *fitted_model.summary().tables[1]* (or more specifically  *fitted_model.params* or *fitted_model.params.values*)\n",
    "\n",
    "We can obtain a table when run fitted_model.summary().tables[1], the table provides the estimated slope and intercept. Using those estimated parameters, fitted_model.fittedvalues can be calculated by the formula ^y= ^B0+^B1Xi based on each value Xi.\n"
   ]
  },
  {
   "cell_type": "markdown",
   "id": "3e9fdfa9",
   "metadata": {},
   "source": [
    "### 5. Explain concisely in your own words what line is chosen for the fitted model based on observed data using the \"ordinary least squares\" method (as is done by *trendline='ols'* and *smf.ols(...).fit()*) and why it requires \"squares\"<br>\n",
    "    \n",
    "The OLS method choose the line which can minimize the total squared differences between the predicted value ^Yi and observed value Yi. Those different can be calculated by e= Yi-^Yi. As the formula e= Yi-^Yi might have negative result, negative and positive result might cancel each other. Using the 'Squares', can ensure each value is positive and reduce misleading measure."
   ]
  },
  {
   "cell_type": "markdown",
   "id": "dc5ba222",
   "metadata": {},
   "source": [
    "### 6. Explain why the first expression below can be interpreted as \"the proportion of variation in (outcome) Y explained by the model (i.e. _fitted_model.fittedvalues_)\"; and therefore, why _fitted_model.rsquared_ can be interpreted as a measure of the accuracy of the model; and, therefore what the two _np.corrcoef(...)[0,1]\\*\\*2_ expressions capture in the context of _Simple Linear Regression models_.\n",
    "\n",
    "1. `1-((Y-fitted_model.fittedvalues)**2).sum()/((Y-Y.mean())**2).sum()` is equivalent to the formula R**2=1- (sum(Yi-^Yi)**2/sum(Yi-mean(Y))**2). (sum(Yi-^Yi)**2) is the sum of squared residuals, (sum(Yi-mean(Y))**2) is the total sum of squares. The SSR will be zero if the model fit perfectly and R**2=1. If the model is not fit perfectly, (sum(Yi-^Yi)**2) will equal to (sum(Yi-mean(Y))**2), and R**2=0. Therefore, this expression can be interpreted as the proportion of variation in Y.\n",
    "2. `fitted_model.rsquared` give the R-squared value culated by the R**2=1- (sum(Yi-^Yi)**2/sum(Yi-mean(Y))**2). R-squared usually can be explain as the measure of model accuracy. If the value of R-squared is high,it means the model fits better.\n",
    "3. `np.corrcoef(Y,fitted_model.fittedvalues)[0,1]**2` calculate the square of the correlation between the Y and ^Y. In simple linear regression the square of the correlation is equivalent to R-square, as the correlation between the Y and ^Y measure the strength of linear realtionship. \n",
    "4. `np.corrcoef(Y,x)[0,1]**2` calculate the square of the correlation between the Y and X. In simple linear regression, the square of the correlation between the Y and X is equal to R-square. As the correlation between the Y and X captures the linear relationship between Y and X."
   ]
  },
  {
   "cell_type": "markdown",
   "id": "d821fd86",
   "metadata": {},
   "source": [
    "### 7. Indicate a couple of the assumptions of the *Simple Linear Regression* model specification that do not seem compatible with the example data below<br>\n",
    "\n",
    "<details class=\"details-example\"><summary style=\"color:blue\"><u>Further Guidance</u></summary>\n",
    "\n",
    "> _Hint: What even ARE the assumptions of the  **Simple Linear Regression** model, you ask? Have a look at the mathematical specification and see if what it seems to be assuming._\n",
    "> \n",
    "> _Don't forget to ask for summaries of all your different ChatBot sessions and organize and paste these into your homework notebook (including link(s) to chat log histories if you're using ChatBot) But if you're using the STA130 custom NBLM ChatBot, you'll only be able to ask for summaries, of course!_  \n",
    "</details>"
   ]
  },
  {
   "cell_type": "code",
   "execution_count": 14,
   "id": "ec7fda0d",
   "metadata": {},
   "outputs": [
    {
     "data": {
      "application/vnd.plotly.v1+json": {
       "config": {
        "plotlyServerURL": "https://plot.ly"
       },
       "data": [
        {
         "hovertemplate": "Amount of Fertilizer (kg) (x)=%{x}<br>Crop Yield (tons) (Y)=%{y}<extra></extra>",
         "legendgroup": "",
         "marker": {
          "color": "#636efa",
          "symbol": "circle"
         },
         "mode": "markers",
         "name": "",
         "orientation": "v",
         "showlegend": false,
         "type": "scatter",
         "x": [
          1,
          1.2,
          1.4,
          1.6,
          1.8,
          2,
          2.2,
          2.4,
          2.6,
          2.8,
          3,
          3.2,
          3.4,
          3.6,
          3.8,
          4,
          4.2,
          4.4,
          4.6,
          4.8,
          5,
          5.2,
          5.4,
          5.6,
          5.8,
          6,
          6.2,
          6.4,
          6.6,
          6.8,
          7,
          7.2,
          7.4,
          7.6,
          7.8,
          8,
          8.2,
          8.4,
          8.6,
          8.8,
          9,
          9.2,
          9.4,
          9.6
         ],
         "xaxis": "x",
         "y": [
          18.7,
          16.9,
          16.1,
          13.4,
          48.4,
          51.9,
          31.8,
          51.3,
          63.9,
          50.6,
          58.7,
          82.4,
          66.7,
          81.2,
          96.5,
          112.2,
          132.5,
          119.8,
          127.7,
          136.3,
          148.5,
          169.4,
          177.9,
          186.7,
          198.1,
          215.7,
          230.7,
          250.4,
          258,
          267.8,
          320.4,
          302,
          307.2,
          331.5,
          375.3,
          403.4,
          393.5,
          434.9,
          431.9,
          451.1,
          491.2,
          546.8,
          546.4,
          558.9
         ],
         "yaxis": "y"
        },
        {
         "hovertemplate": "<b>OLS trendline</b><br>Crop Yield (tons) (Y) = 62.3653 * Amount of Fertilizer (kg) (x) + -117.475<br>R<sup>2</sup>=0.940931<br><br>Amount of Fertilizer (kg) (x)=%{x}<br>Crop Yield (tons) (Y)=%{y} <b>(trend)</b><extra></extra>",
         "legendgroup": "",
         "marker": {
          "color": "#636efa",
          "symbol": "circle"
         },
         "mode": "lines",
         "name": "",
         "showlegend": false,
         "type": "scatter",
         "x": [
          1,
          1.2,
          1.4,
          1.6,
          1.8,
          2,
          2.2,
          2.4,
          2.6,
          2.8,
          3,
          3.2,
          3.4,
          3.6,
          3.8,
          4,
          4.2,
          4.4,
          4.6,
          4.8,
          5,
          5.2,
          5.4,
          5.6,
          5.8,
          6,
          6.2,
          6.4,
          6.6,
          6.8,
          7,
          7.2,
          7.4,
          7.6,
          7.8,
          8,
          8.2,
          8.4,
          8.6,
          8.8,
          9,
          9.2,
          9.4,
          9.6
         ],
         "xaxis": "x",
         "y": [
          -55.109393939394074,
          -42.63633544749837,
          -30.16327695560267,
          -17.690218463706955,
          -5.217159971811242,
          7.2558985200844575,
          19.72895701198017,
          32.20201550387587,
          44.67507399577157,
          57.14813248766727,
          69.621190979563,
          82.0942494714587,
          94.5673079633544,
          107.04036645525012,
          119.5134249471458,
          131.98648343904154,
          144.45954193093723,
          156.93260042283293,
          169.40565891472858,
          181.87871740662433,
          194.35177589852003,
          206.82483439041573,
          219.2978928823115,
          231.77095137420713,
          244.24400986610283,
          256.7170683579986,
          269.1901268498943,
          281.66318534179,
          294.1362438336857,
          306.6093023255814,
          319.0823608174771,
          331.55541930937284,
          344.02847780126854,
          356.5015362931642,
          368.97459478505994,
          381.44765327695563,
          393.9207117688513,
          406.3937702607471,
          418.8668287526427,
          431.3398872445385,
          443.8129457364342,
          456.2860042283298,
          468.7590627202256,
          481.2321212121213
         ],
         "yaxis": "y"
        },
        {
         "alignmentgroup": "True",
         "bingroup": "x",
         "hovertemplate": "Residuals=%{x}<br>count=%{y}<extra></extra>",
         "legendgroup": "",
         "marker": {
          "color": "#636efa",
          "pattern": {
           "shape": ""
          }
         },
         "name": "",
         "nbinsx": 10,
         "offsetgroup": "",
         "orientation": "v",
         "showlegend": false,
         "type": "histogram",
         "x": [
          73.80939393939391,
          59.536335447498224,
          46.26327695560253,
          31.09021846370681,
          53.61715997181111,
          44.64410147991541,
          12.071042988019702,
          19.097984496124027,
          19.2249260042283,
          -6.548132487667367,
          -10.921190979563093,
          0.30575052854121054,
          -27.86730796335449,
          -25.84036645525019,
          -23.013424947145893,
          -19.78648343904159,
          -11.95954193093732,
          -37.13260042283302,
          -41.70565891472866,
          -45.57871740662435,
          -45.85177589852012,
          -37.42483439041581,
          -41.39789288231151,
          -45.07095137420717,
          -46.14400986610292,
          -41.01706835799865,
          -38.49012684989435,
          -31.263185341790034,
          -36.136243833685626,
          -38.80930232558143,
          1.3176391825228393,
          -29.555419309372837,
          -36.82847780126855,
          -25.001536293164236,
          6.325405214940076,
          21.952346723044343,
          -0.42071176885121986,
          28.506229739252944,
          13.033171247357359,
          19.76011275546159,
          47.38705426356586,
          90.51399577167024,
          77.64093727977445,
          77.66787878787886
         ],
         "xaxis": "x2",
         "yaxis": "y2"
        }
       ],
       "layout": {
        "annotations": [
         {
          "font": {
           "size": 16
          },
          "showarrow": false,
          "text": "Crop Yield vs. Amount of Fertilizer",
          "x": 0.225,
          "xanchor": "center",
          "xref": "paper",
          "y": 1,
          "yanchor": "bottom",
          "yref": "paper"
         },
         {
          "font": {
           "size": 16
          },
          "showarrow": false,
          "text": "Histogram of Residuals",
          "x": 0.775,
          "xanchor": "center",
          "xref": "paper",
          "y": 1,
          "yanchor": "bottom",
          "yref": "paper"
         }
        ],
        "showlegend": false,
        "template": {
         "data": {
          "bar": [
           {
            "error_x": {
             "color": "#2a3f5f"
            },
            "error_y": {
             "color": "#2a3f5f"
            },
            "marker": {
             "line": {
              "color": "#E5ECF6",
              "width": 0.5
             },
             "pattern": {
              "fillmode": "overlay",
              "size": 10,
              "solidity": 0.2
             }
            },
            "type": "bar"
           }
          ],
          "barpolar": [
           {
            "marker": {
             "line": {
              "color": "#E5ECF6",
              "width": 0.5
             },
             "pattern": {
              "fillmode": "overlay",
              "size": 10,
              "solidity": 0.2
             }
            },
            "type": "barpolar"
           }
          ],
          "carpet": [
           {
            "aaxis": {
             "endlinecolor": "#2a3f5f",
             "gridcolor": "white",
             "linecolor": "white",
             "minorgridcolor": "white",
             "startlinecolor": "#2a3f5f"
            },
            "baxis": {
             "endlinecolor": "#2a3f5f",
             "gridcolor": "white",
             "linecolor": "white",
             "minorgridcolor": "white",
             "startlinecolor": "#2a3f5f"
            },
            "type": "carpet"
           }
          ],
          "choropleth": [
           {
            "colorbar": {
             "outlinewidth": 0,
             "ticks": ""
            },
            "type": "choropleth"
           }
          ],
          "contour": [
           {
            "colorbar": {
             "outlinewidth": 0,
             "ticks": ""
            },
            "colorscale": [
             [
              0,
              "#0d0887"
             ],
             [
              0.1111111111111111,
              "#46039f"
             ],
             [
              0.2222222222222222,
              "#7201a8"
             ],
             [
              0.3333333333333333,
              "#9c179e"
             ],
             [
              0.4444444444444444,
              "#bd3786"
             ],
             [
              0.5555555555555556,
              "#d8576b"
             ],
             [
              0.6666666666666666,
              "#ed7953"
             ],
             [
              0.7777777777777778,
              "#fb9f3a"
             ],
             [
              0.8888888888888888,
              "#fdca26"
             ],
             [
              1,
              "#f0f921"
             ]
            ],
            "type": "contour"
           }
          ],
          "contourcarpet": [
           {
            "colorbar": {
             "outlinewidth": 0,
             "ticks": ""
            },
            "type": "contourcarpet"
           }
          ],
          "heatmap": [
           {
            "colorbar": {
             "outlinewidth": 0,
             "ticks": ""
            },
            "colorscale": [
             [
              0,
              "#0d0887"
             ],
             [
              0.1111111111111111,
              "#46039f"
             ],
             [
              0.2222222222222222,
              "#7201a8"
             ],
             [
              0.3333333333333333,
              "#9c179e"
             ],
             [
              0.4444444444444444,
              "#bd3786"
             ],
             [
              0.5555555555555556,
              "#d8576b"
             ],
             [
              0.6666666666666666,
              "#ed7953"
             ],
             [
              0.7777777777777778,
              "#fb9f3a"
             ],
             [
              0.8888888888888888,
              "#fdca26"
             ],
             [
              1,
              "#f0f921"
             ]
            ],
            "type": "heatmap"
           }
          ],
          "heatmapgl": [
           {
            "colorbar": {
             "outlinewidth": 0,
             "ticks": ""
            },
            "colorscale": [
             [
              0,
              "#0d0887"
             ],
             [
              0.1111111111111111,
              "#46039f"
             ],
             [
              0.2222222222222222,
              "#7201a8"
             ],
             [
              0.3333333333333333,
              "#9c179e"
             ],
             [
              0.4444444444444444,
              "#bd3786"
             ],
             [
              0.5555555555555556,
              "#d8576b"
             ],
             [
              0.6666666666666666,
              "#ed7953"
             ],
             [
              0.7777777777777778,
              "#fb9f3a"
             ],
             [
              0.8888888888888888,
              "#fdca26"
             ],
             [
              1,
              "#f0f921"
             ]
            ],
            "type": "heatmapgl"
           }
          ],
          "histogram": [
           {
            "marker": {
             "pattern": {
              "fillmode": "overlay",
              "size": 10,
              "solidity": 0.2
             }
            },
            "type": "histogram"
           }
          ],
          "histogram2d": [
           {
            "colorbar": {
             "outlinewidth": 0,
             "ticks": ""
            },
            "colorscale": [
             [
              0,
              "#0d0887"
             ],
             [
              0.1111111111111111,
              "#46039f"
             ],
             [
              0.2222222222222222,
              "#7201a8"
             ],
             [
              0.3333333333333333,
              "#9c179e"
             ],
             [
              0.4444444444444444,
              "#bd3786"
             ],
             [
              0.5555555555555556,
              "#d8576b"
             ],
             [
              0.6666666666666666,
              "#ed7953"
             ],
             [
              0.7777777777777778,
              "#fb9f3a"
             ],
             [
              0.8888888888888888,
              "#fdca26"
             ],
             [
              1,
              "#f0f921"
             ]
            ],
            "type": "histogram2d"
           }
          ],
          "histogram2dcontour": [
           {
            "colorbar": {
             "outlinewidth": 0,
             "ticks": ""
            },
            "colorscale": [
             [
              0,
              "#0d0887"
             ],
             [
              0.1111111111111111,
              "#46039f"
             ],
             [
              0.2222222222222222,
              "#7201a8"
             ],
             [
              0.3333333333333333,
              "#9c179e"
             ],
             [
              0.4444444444444444,
              "#bd3786"
             ],
             [
              0.5555555555555556,
              "#d8576b"
             ],
             [
              0.6666666666666666,
              "#ed7953"
             ],
             [
              0.7777777777777778,
              "#fb9f3a"
             ],
             [
              0.8888888888888888,
              "#fdca26"
             ],
             [
              1,
              "#f0f921"
             ]
            ],
            "type": "histogram2dcontour"
           }
          ],
          "mesh3d": [
           {
            "colorbar": {
             "outlinewidth": 0,
             "ticks": ""
            },
            "type": "mesh3d"
           }
          ],
          "parcoords": [
           {
            "line": {
             "colorbar": {
              "outlinewidth": 0,
              "ticks": ""
             }
            },
            "type": "parcoords"
           }
          ],
          "pie": [
           {
            "automargin": true,
            "type": "pie"
           }
          ],
          "scatter": [
           {
            "fillpattern": {
             "fillmode": "overlay",
             "size": 10,
             "solidity": 0.2
            },
            "type": "scatter"
           }
          ],
          "scatter3d": [
           {
            "line": {
             "colorbar": {
              "outlinewidth": 0,
              "ticks": ""
             }
            },
            "marker": {
             "colorbar": {
              "outlinewidth": 0,
              "ticks": ""
             }
            },
            "type": "scatter3d"
           }
          ],
          "scattercarpet": [
           {
            "marker": {
             "colorbar": {
              "outlinewidth": 0,
              "ticks": ""
             }
            },
            "type": "scattercarpet"
           }
          ],
          "scattergeo": [
           {
            "marker": {
             "colorbar": {
              "outlinewidth": 0,
              "ticks": ""
             }
            },
            "type": "scattergeo"
           }
          ],
          "scattergl": [
           {
            "marker": {
             "colorbar": {
              "outlinewidth": 0,
              "ticks": ""
             }
            },
            "type": "scattergl"
           }
          ],
          "scattermapbox": [
           {
            "marker": {
             "colorbar": {
              "outlinewidth": 0,
              "ticks": ""
             }
            },
            "type": "scattermapbox"
           }
          ],
          "scatterpolar": [
           {
            "marker": {
             "colorbar": {
              "outlinewidth": 0,
              "ticks": ""
             }
            },
            "type": "scatterpolar"
           }
          ],
          "scatterpolargl": [
           {
            "marker": {
             "colorbar": {
              "outlinewidth": 0,
              "ticks": ""
             }
            },
            "type": "scatterpolargl"
           }
          ],
          "scatterternary": [
           {
            "marker": {
             "colorbar": {
              "outlinewidth": 0,
              "ticks": ""
             }
            },
            "type": "scatterternary"
           }
          ],
          "surface": [
           {
            "colorbar": {
             "outlinewidth": 0,
             "ticks": ""
            },
            "colorscale": [
             [
              0,
              "#0d0887"
             ],
             [
              0.1111111111111111,
              "#46039f"
             ],
             [
              0.2222222222222222,
              "#7201a8"
             ],
             [
              0.3333333333333333,
              "#9c179e"
             ],
             [
              0.4444444444444444,
              "#bd3786"
             ],
             [
              0.5555555555555556,
              "#d8576b"
             ],
             [
              0.6666666666666666,
              "#ed7953"
             ],
             [
              0.7777777777777778,
              "#fb9f3a"
             ],
             [
              0.8888888888888888,
              "#fdca26"
             ],
             [
              1,
              "#f0f921"
             ]
            ],
            "type": "surface"
           }
          ],
          "table": [
           {
            "cells": {
             "fill": {
              "color": "#EBF0F8"
             },
             "line": {
              "color": "white"
             }
            },
            "header": {
             "fill": {
              "color": "#C8D4E3"
             },
             "line": {
              "color": "white"
             }
            },
            "type": "table"
           }
          ]
         },
         "layout": {
          "annotationdefaults": {
           "arrowcolor": "#2a3f5f",
           "arrowhead": 0,
           "arrowwidth": 1
          },
          "autotypenumbers": "strict",
          "coloraxis": {
           "colorbar": {
            "outlinewidth": 0,
            "ticks": ""
           }
          },
          "colorscale": {
           "diverging": [
            [
             0,
             "#8e0152"
            ],
            [
             0.1,
             "#c51b7d"
            ],
            [
             0.2,
             "#de77ae"
            ],
            [
             0.3,
             "#f1b6da"
            ],
            [
             0.4,
             "#fde0ef"
            ],
            [
             0.5,
             "#f7f7f7"
            ],
            [
             0.6,
             "#e6f5d0"
            ],
            [
             0.7,
             "#b8e186"
            ],
            [
             0.8,
             "#7fbc41"
            ],
            [
             0.9,
             "#4d9221"
            ],
            [
             1,
             "#276419"
            ]
           ],
           "sequential": [
            [
             0,
             "#0d0887"
            ],
            [
             0.1111111111111111,
             "#46039f"
            ],
            [
             0.2222222222222222,
             "#7201a8"
            ],
            [
             0.3333333333333333,
             "#9c179e"
            ],
            [
             0.4444444444444444,
             "#bd3786"
            ],
            [
             0.5555555555555556,
             "#d8576b"
            ],
            [
             0.6666666666666666,
             "#ed7953"
            ],
            [
             0.7777777777777778,
             "#fb9f3a"
            ],
            [
             0.8888888888888888,
             "#fdca26"
            ],
            [
             1,
             "#f0f921"
            ]
           ],
           "sequentialminus": [
            [
             0,
             "#0d0887"
            ],
            [
             0.1111111111111111,
             "#46039f"
            ],
            [
             0.2222222222222222,
             "#7201a8"
            ],
            [
             0.3333333333333333,
             "#9c179e"
            ],
            [
             0.4444444444444444,
             "#bd3786"
            ],
            [
             0.5555555555555556,
             "#d8576b"
            ],
            [
             0.6666666666666666,
             "#ed7953"
            ],
            [
             0.7777777777777778,
             "#fb9f3a"
            ],
            [
             0.8888888888888888,
             "#fdca26"
            ],
            [
             1,
             "#f0f921"
            ]
           ]
          },
          "colorway": [
           "#636efa",
           "#EF553B",
           "#00cc96",
           "#ab63fa",
           "#FFA15A",
           "#19d3f3",
           "#FF6692",
           "#B6E880",
           "#FF97FF",
           "#FECB52"
          ],
          "font": {
           "color": "#2a3f5f"
          },
          "geo": {
           "bgcolor": "white",
           "lakecolor": "white",
           "landcolor": "#E5ECF6",
           "showlakes": true,
           "showland": true,
           "subunitcolor": "white"
          },
          "hoverlabel": {
           "align": "left"
          },
          "hovermode": "closest",
          "mapbox": {
           "style": "light"
          },
          "paper_bgcolor": "white",
          "plot_bgcolor": "#E5ECF6",
          "polar": {
           "angularaxis": {
            "gridcolor": "white",
            "linecolor": "white",
            "ticks": ""
           },
           "bgcolor": "#E5ECF6",
           "radialaxis": {
            "gridcolor": "white",
            "linecolor": "white",
            "ticks": ""
           }
          },
          "scene": {
           "xaxis": {
            "backgroundcolor": "#E5ECF6",
            "gridcolor": "white",
            "gridwidth": 2,
            "linecolor": "white",
            "showbackground": true,
            "ticks": "",
            "zerolinecolor": "white"
           },
           "yaxis": {
            "backgroundcolor": "#E5ECF6",
            "gridcolor": "white",
            "gridwidth": 2,
            "linecolor": "white",
            "showbackground": true,
            "ticks": "",
            "zerolinecolor": "white"
           },
           "zaxis": {
            "backgroundcolor": "#E5ECF6",
            "gridcolor": "white",
            "gridwidth": 2,
            "linecolor": "white",
            "showbackground": true,
            "ticks": "",
            "zerolinecolor": "white"
           }
          },
          "shapedefaults": {
           "line": {
            "color": "#2a3f5f"
           }
          },
          "ternary": {
           "aaxis": {
            "gridcolor": "white",
            "linecolor": "white",
            "ticks": ""
           },
           "baxis": {
            "gridcolor": "white",
            "linecolor": "white",
            "ticks": ""
           },
           "bgcolor": "#E5ECF6",
           "caxis": {
            "gridcolor": "white",
            "linecolor": "white",
            "ticks": ""
           }
          },
          "title": {
           "x": 0.05
          },
          "xaxis": {
           "automargin": true,
           "gridcolor": "white",
           "linecolor": "white",
           "ticks": "",
           "title": {
            "standoff": 15
           },
           "zerolinecolor": "white",
           "zerolinewidth": 2
          },
          "yaxis": {
           "automargin": true,
           "gridcolor": "white",
           "linecolor": "white",
           "ticks": "",
           "title": {
            "standoff": 15
           },
           "zerolinecolor": "white",
           "zerolinewidth": 2
          }
         }
        },
        "title": {
         "text": "Scatter Plot and Histogram of Residuals"
        },
        "xaxis": {
         "anchor": "y",
         "domain": [
          0,
          0.45
         ],
         "title": {
          "text": "Amount of Fertilizer (kg)"
         }
        },
        "xaxis2": {
         "anchor": "y2",
         "domain": [
          0.55,
          1
         ],
         "title": {
          "text": "Residuals"
         }
        },
        "yaxis": {
         "anchor": "x",
         "domain": [
          0,
          1
         ],
         "title": {
          "text": "Crop Yield (tons)"
         }
        },
        "yaxis2": {
         "anchor": "x2",
         "domain": [
          0,
          1
         ],
         "title": {
          "text": "Frequency"
         }
        }
       }
      },
      "text/html": [
       "<div>                            <div id=\"8be402ce-47ab-463c-887a-0b443b82584f\" class=\"plotly-graph-div\" style=\"height:525px; width:100%;\"></div>            <script type=\"text/javascript\">                require([\"plotly\"], function(Plotly) {                    window.PLOTLYENV=window.PLOTLYENV || {};                                    if (document.getElementById(\"8be402ce-47ab-463c-887a-0b443b82584f\")) {                    Plotly.newPlot(                        \"8be402ce-47ab-463c-887a-0b443b82584f\",                        [{\"hovertemplate\":\"Amount of Fertilizer (kg) (x)=%{x}\\u003cbr\\u003eCrop Yield (tons) (Y)=%{y}\\u003cextra\\u003e\\u003c\\u002fextra\\u003e\",\"legendgroup\":\"\",\"marker\":{\"color\":\"#636efa\",\"symbol\":\"circle\"},\"mode\":\"markers\",\"name\":\"\",\"orientation\":\"v\",\"showlegend\":false,\"x\":[1.0,1.2,1.4,1.6,1.8,2.0,2.2,2.4,2.6,2.8,3.0,3.2,3.4,3.6,3.8,4.0,4.2,4.4,4.6,4.8,5.0,5.2,5.4,5.6,5.8,6.0,6.2,6.4,6.6,6.8,7.0,7.2,7.4,7.6,7.8,8.0,8.2,8.4,8.6,8.8,9.0,9.2,9.4,9.6],\"xaxis\":\"x\",\"y\":[18.7,16.9,16.1,13.4,48.4,51.9,31.8,51.3,63.9,50.6,58.7,82.4,66.7,81.2,96.5,112.2,132.5,119.8,127.7,136.3,148.5,169.4,177.9,186.7,198.1,215.7,230.7,250.4,258.0,267.8,320.4,302.0,307.2,331.5,375.3,403.4,393.5,434.9,431.9,451.1,491.2,546.8,546.4,558.9],\"yaxis\":\"y\",\"type\":\"scatter\"},{\"hovertemplate\":\"\\u003cb\\u003eOLS trendline\\u003c\\u002fb\\u003e\\u003cbr\\u003eCrop Yield (tons) (Y) = 62.3653 * Amount of Fertilizer (kg) (x) + -117.475\\u003cbr\\u003eR\\u003csup\\u003e2\\u003c\\u002fsup\\u003e=0.940931\\u003cbr\\u003e\\u003cbr\\u003eAmount of Fertilizer (kg) (x)=%{x}\\u003cbr\\u003eCrop Yield (tons) (Y)=%{y} \\u003cb\\u003e(trend)\\u003c\\u002fb\\u003e\\u003cextra\\u003e\\u003c\\u002fextra\\u003e\",\"legendgroup\":\"\",\"marker\":{\"color\":\"#636efa\",\"symbol\":\"circle\"},\"mode\":\"lines\",\"name\":\"\",\"showlegend\":false,\"x\":[1.0,1.2,1.4,1.6,1.8,2.0,2.2,2.4,2.6,2.8,3.0,3.2,3.4,3.6,3.8,4.0,4.2,4.4,4.6,4.8,5.0,5.2,5.4,5.6,5.8,6.0,6.2,6.4,6.6,6.8,7.0,7.2,7.4,7.6,7.8,8.0,8.2,8.4,8.6,8.8,9.0,9.2,9.4,9.6],\"xaxis\":\"x\",\"y\":[-55.109393939394074,-42.63633544749837,-30.16327695560267,-17.690218463706955,-5.217159971811242,7.2558985200844575,19.72895701198017,32.20201550387587,44.67507399577157,57.14813248766727,69.621190979563,82.0942494714587,94.5673079633544,107.04036645525012,119.5134249471458,131.98648343904154,144.45954193093723,156.93260042283293,169.40565891472858,181.87871740662433,194.35177589852003,206.82483439041573,219.2978928823115,231.77095137420713,244.24400986610283,256.7170683579986,269.1901268498943,281.66318534179,294.1362438336857,306.6093023255814,319.0823608174771,331.55541930937284,344.02847780126854,356.5015362931642,368.97459478505994,381.44765327695563,393.9207117688513,406.3937702607471,418.8668287526427,431.3398872445385,443.8129457364342,456.2860042283298,468.7590627202256,481.2321212121213],\"yaxis\":\"y\",\"type\":\"scatter\"},{\"alignmentgroup\":\"True\",\"bingroup\":\"x\",\"hovertemplate\":\"Residuals=%{x}\\u003cbr\\u003ecount=%{y}\\u003cextra\\u003e\\u003c\\u002fextra\\u003e\",\"legendgroup\":\"\",\"marker\":{\"color\":\"#636efa\",\"pattern\":{\"shape\":\"\"}},\"name\":\"\",\"nbinsx\":10,\"offsetgroup\":\"\",\"orientation\":\"v\",\"showlegend\":false,\"x\":[73.80939393939391,59.536335447498224,46.26327695560253,31.09021846370681,53.61715997181111,44.64410147991541,12.071042988019702,19.097984496124027,19.2249260042283,-6.548132487667367,-10.921190979563093,0.30575052854121054,-27.86730796335449,-25.84036645525019,-23.013424947145893,-19.78648343904159,-11.95954193093732,-37.13260042283302,-41.70565891472866,-45.57871740662435,-45.85177589852012,-37.42483439041581,-41.39789288231151,-45.07095137420717,-46.14400986610292,-41.01706835799865,-38.49012684989435,-31.263185341790034,-36.136243833685626,-38.80930232558143,1.3176391825228393,-29.555419309372837,-36.82847780126855,-25.001536293164236,6.325405214940076,21.952346723044343,-0.42071176885121986,28.506229739252944,13.033171247357359,19.76011275546159,47.38705426356586,90.51399577167024,77.64093727977445,77.66787878787886],\"xaxis\":\"x2\",\"yaxis\":\"y2\",\"type\":\"histogram\"}],                        {\"template\":{\"data\":{\"histogram2dcontour\":[{\"type\":\"histogram2dcontour\",\"colorbar\":{\"outlinewidth\":0,\"ticks\":\"\"},\"colorscale\":[[0.0,\"#0d0887\"],[0.1111111111111111,\"#46039f\"],[0.2222222222222222,\"#7201a8\"],[0.3333333333333333,\"#9c179e\"],[0.4444444444444444,\"#bd3786\"],[0.5555555555555556,\"#d8576b\"],[0.6666666666666666,\"#ed7953\"],[0.7777777777777778,\"#fb9f3a\"],[0.8888888888888888,\"#fdca26\"],[1.0,\"#f0f921\"]]}],\"choropleth\":[{\"type\":\"choropleth\",\"colorbar\":{\"outlinewidth\":0,\"ticks\":\"\"}}],\"histogram2d\":[{\"type\":\"histogram2d\",\"colorbar\":{\"outlinewidth\":0,\"ticks\":\"\"},\"colorscale\":[[0.0,\"#0d0887\"],[0.1111111111111111,\"#46039f\"],[0.2222222222222222,\"#7201a8\"],[0.3333333333333333,\"#9c179e\"],[0.4444444444444444,\"#bd3786\"],[0.5555555555555556,\"#d8576b\"],[0.6666666666666666,\"#ed7953\"],[0.7777777777777778,\"#fb9f3a\"],[0.8888888888888888,\"#fdca26\"],[1.0,\"#f0f921\"]]}],\"heatmap\":[{\"type\":\"heatmap\",\"colorbar\":{\"outlinewidth\":0,\"ticks\":\"\"},\"colorscale\":[[0.0,\"#0d0887\"],[0.1111111111111111,\"#46039f\"],[0.2222222222222222,\"#7201a8\"],[0.3333333333333333,\"#9c179e\"],[0.4444444444444444,\"#bd3786\"],[0.5555555555555556,\"#d8576b\"],[0.6666666666666666,\"#ed7953\"],[0.7777777777777778,\"#fb9f3a\"],[0.8888888888888888,\"#fdca26\"],[1.0,\"#f0f921\"]]}],\"heatmapgl\":[{\"type\":\"heatmapgl\",\"colorbar\":{\"outlinewidth\":0,\"ticks\":\"\"},\"colorscale\":[[0.0,\"#0d0887\"],[0.1111111111111111,\"#46039f\"],[0.2222222222222222,\"#7201a8\"],[0.3333333333333333,\"#9c179e\"],[0.4444444444444444,\"#bd3786\"],[0.5555555555555556,\"#d8576b\"],[0.6666666666666666,\"#ed7953\"],[0.7777777777777778,\"#fb9f3a\"],[0.8888888888888888,\"#fdca26\"],[1.0,\"#f0f921\"]]}],\"contourcarpet\":[{\"type\":\"contourcarpet\",\"colorbar\":{\"outlinewidth\":0,\"ticks\":\"\"}}],\"contour\":[{\"type\":\"contour\",\"colorbar\":{\"outlinewidth\":0,\"ticks\":\"\"},\"colorscale\":[[0.0,\"#0d0887\"],[0.1111111111111111,\"#46039f\"],[0.2222222222222222,\"#7201a8\"],[0.3333333333333333,\"#9c179e\"],[0.4444444444444444,\"#bd3786\"],[0.5555555555555556,\"#d8576b\"],[0.6666666666666666,\"#ed7953\"],[0.7777777777777778,\"#fb9f3a\"],[0.8888888888888888,\"#fdca26\"],[1.0,\"#f0f921\"]]}],\"surface\":[{\"type\":\"surface\",\"colorbar\":{\"outlinewidth\":0,\"ticks\":\"\"},\"colorscale\":[[0.0,\"#0d0887\"],[0.1111111111111111,\"#46039f\"],[0.2222222222222222,\"#7201a8\"],[0.3333333333333333,\"#9c179e\"],[0.4444444444444444,\"#bd3786\"],[0.5555555555555556,\"#d8576b\"],[0.6666666666666666,\"#ed7953\"],[0.7777777777777778,\"#fb9f3a\"],[0.8888888888888888,\"#fdca26\"],[1.0,\"#f0f921\"]]}],\"mesh3d\":[{\"type\":\"mesh3d\",\"colorbar\":{\"outlinewidth\":0,\"ticks\":\"\"}}],\"scatter\":[{\"fillpattern\":{\"fillmode\":\"overlay\",\"size\":10,\"solidity\":0.2},\"type\":\"scatter\"}],\"parcoords\":[{\"type\":\"parcoords\",\"line\":{\"colorbar\":{\"outlinewidth\":0,\"ticks\":\"\"}}}],\"scatterpolargl\":[{\"type\":\"scatterpolargl\",\"marker\":{\"colorbar\":{\"outlinewidth\":0,\"ticks\":\"\"}}}],\"bar\":[{\"error_x\":{\"color\":\"#2a3f5f\"},\"error_y\":{\"color\":\"#2a3f5f\"},\"marker\":{\"line\":{\"color\":\"#E5ECF6\",\"width\":0.5},\"pattern\":{\"fillmode\":\"overlay\",\"size\":10,\"solidity\":0.2}},\"type\":\"bar\"}],\"scattergeo\":[{\"type\":\"scattergeo\",\"marker\":{\"colorbar\":{\"outlinewidth\":0,\"ticks\":\"\"}}}],\"scatterpolar\":[{\"type\":\"scatterpolar\",\"marker\":{\"colorbar\":{\"outlinewidth\":0,\"ticks\":\"\"}}}],\"histogram\":[{\"marker\":{\"pattern\":{\"fillmode\":\"overlay\",\"size\":10,\"solidity\":0.2}},\"type\":\"histogram\"}],\"scattergl\":[{\"type\":\"scattergl\",\"marker\":{\"colorbar\":{\"outlinewidth\":0,\"ticks\":\"\"}}}],\"scatter3d\":[{\"type\":\"scatter3d\",\"line\":{\"colorbar\":{\"outlinewidth\":0,\"ticks\":\"\"}},\"marker\":{\"colorbar\":{\"outlinewidth\":0,\"ticks\":\"\"}}}],\"scattermapbox\":[{\"type\":\"scattermapbox\",\"marker\":{\"colorbar\":{\"outlinewidth\":0,\"ticks\":\"\"}}}],\"scatterternary\":[{\"type\":\"scatterternary\",\"marker\":{\"colorbar\":{\"outlinewidth\":0,\"ticks\":\"\"}}}],\"scattercarpet\":[{\"type\":\"scattercarpet\",\"marker\":{\"colorbar\":{\"outlinewidth\":0,\"ticks\":\"\"}}}],\"carpet\":[{\"aaxis\":{\"endlinecolor\":\"#2a3f5f\",\"gridcolor\":\"white\",\"linecolor\":\"white\",\"minorgridcolor\":\"white\",\"startlinecolor\":\"#2a3f5f\"},\"baxis\":{\"endlinecolor\":\"#2a3f5f\",\"gridcolor\":\"white\",\"linecolor\":\"white\",\"minorgridcolor\":\"white\",\"startlinecolor\":\"#2a3f5f\"},\"type\":\"carpet\"}],\"table\":[{\"cells\":{\"fill\":{\"color\":\"#EBF0F8\"},\"line\":{\"color\":\"white\"}},\"header\":{\"fill\":{\"color\":\"#C8D4E3\"},\"line\":{\"color\":\"white\"}},\"type\":\"table\"}],\"barpolar\":[{\"marker\":{\"line\":{\"color\":\"#E5ECF6\",\"width\":0.5},\"pattern\":{\"fillmode\":\"overlay\",\"size\":10,\"solidity\":0.2}},\"type\":\"barpolar\"}],\"pie\":[{\"automargin\":true,\"type\":\"pie\"}]},\"layout\":{\"autotypenumbers\":\"strict\",\"colorway\":[\"#636efa\",\"#EF553B\",\"#00cc96\",\"#ab63fa\",\"#FFA15A\",\"#19d3f3\",\"#FF6692\",\"#B6E880\",\"#FF97FF\",\"#FECB52\"],\"font\":{\"color\":\"#2a3f5f\"},\"hovermode\":\"closest\",\"hoverlabel\":{\"align\":\"left\"},\"paper_bgcolor\":\"white\",\"plot_bgcolor\":\"#E5ECF6\",\"polar\":{\"bgcolor\":\"#E5ECF6\",\"angularaxis\":{\"gridcolor\":\"white\",\"linecolor\":\"white\",\"ticks\":\"\"},\"radialaxis\":{\"gridcolor\":\"white\",\"linecolor\":\"white\",\"ticks\":\"\"}},\"ternary\":{\"bgcolor\":\"#E5ECF6\",\"aaxis\":{\"gridcolor\":\"white\",\"linecolor\":\"white\",\"ticks\":\"\"},\"baxis\":{\"gridcolor\":\"white\",\"linecolor\":\"white\",\"ticks\":\"\"},\"caxis\":{\"gridcolor\":\"white\",\"linecolor\":\"white\",\"ticks\":\"\"}},\"coloraxis\":{\"colorbar\":{\"outlinewidth\":0,\"ticks\":\"\"}},\"colorscale\":{\"sequential\":[[0.0,\"#0d0887\"],[0.1111111111111111,\"#46039f\"],[0.2222222222222222,\"#7201a8\"],[0.3333333333333333,\"#9c179e\"],[0.4444444444444444,\"#bd3786\"],[0.5555555555555556,\"#d8576b\"],[0.6666666666666666,\"#ed7953\"],[0.7777777777777778,\"#fb9f3a\"],[0.8888888888888888,\"#fdca26\"],[1.0,\"#f0f921\"]],\"sequentialminus\":[[0.0,\"#0d0887\"],[0.1111111111111111,\"#46039f\"],[0.2222222222222222,\"#7201a8\"],[0.3333333333333333,\"#9c179e\"],[0.4444444444444444,\"#bd3786\"],[0.5555555555555556,\"#d8576b\"],[0.6666666666666666,\"#ed7953\"],[0.7777777777777778,\"#fb9f3a\"],[0.8888888888888888,\"#fdca26\"],[1.0,\"#f0f921\"]],\"diverging\":[[0,\"#8e0152\"],[0.1,\"#c51b7d\"],[0.2,\"#de77ae\"],[0.3,\"#f1b6da\"],[0.4,\"#fde0ef\"],[0.5,\"#f7f7f7\"],[0.6,\"#e6f5d0\"],[0.7,\"#b8e186\"],[0.8,\"#7fbc41\"],[0.9,\"#4d9221\"],[1,\"#276419\"]]},\"xaxis\":{\"gridcolor\":\"white\",\"linecolor\":\"white\",\"ticks\":\"\",\"title\":{\"standoff\":15},\"zerolinecolor\":\"white\",\"automargin\":true,\"zerolinewidth\":2},\"yaxis\":{\"gridcolor\":\"white\",\"linecolor\":\"white\",\"ticks\":\"\",\"title\":{\"standoff\":15},\"zerolinecolor\":\"white\",\"automargin\":true,\"zerolinewidth\":2},\"scene\":{\"xaxis\":{\"backgroundcolor\":\"#E5ECF6\",\"gridcolor\":\"white\",\"linecolor\":\"white\",\"showbackground\":true,\"ticks\":\"\",\"zerolinecolor\":\"white\",\"gridwidth\":2},\"yaxis\":{\"backgroundcolor\":\"#E5ECF6\",\"gridcolor\":\"white\",\"linecolor\":\"white\",\"showbackground\":true,\"ticks\":\"\",\"zerolinecolor\":\"white\",\"gridwidth\":2},\"zaxis\":{\"backgroundcolor\":\"#E5ECF6\",\"gridcolor\":\"white\",\"linecolor\":\"white\",\"showbackground\":true,\"ticks\":\"\",\"zerolinecolor\":\"white\",\"gridwidth\":2}},\"shapedefaults\":{\"line\":{\"color\":\"#2a3f5f\"}},\"annotationdefaults\":{\"arrowcolor\":\"#2a3f5f\",\"arrowhead\":0,\"arrowwidth\":1},\"geo\":{\"bgcolor\":\"white\",\"landcolor\":\"#E5ECF6\",\"subunitcolor\":\"white\",\"showland\":true,\"showlakes\":true,\"lakecolor\":\"white\"},\"title\":{\"x\":0.05},\"mapbox\":{\"style\":\"light\"}}},\"xaxis\":{\"anchor\":\"y\",\"domain\":[0.0,0.45],\"title\":{\"text\":\"Amount of Fertilizer (kg)\"}},\"yaxis\":{\"anchor\":\"x\",\"domain\":[0.0,1.0],\"title\":{\"text\":\"Crop Yield (tons)\"}},\"xaxis2\":{\"anchor\":\"y2\",\"domain\":[0.55,1.0],\"title\":{\"text\":\"Residuals\"}},\"yaxis2\":{\"anchor\":\"x2\",\"domain\":[0.0,1.0],\"title\":{\"text\":\"Frequency\"}},\"annotations\":[{\"font\":{\"size\":16},\"showarrow\":false,\"text\":\"Crop Yield vs. Amount of Fertilizer\",\"x\":0.225,\"xanchor\":\"center\",\"xref\":\"paper\",\"y\":1.0,\"yanchor\":\"bottom\",\"yref\":\"paper\"},{\"font\":{\"size\":16},\"showarrow\":false,\"text\":\"Histogram of Residuals\",\"x\":0.775,\"xanchor\":\"center\",\"xref\":\"paper\",\"y\":1.0,\"yanchor\":\"bottom\",\"yref\":\"paper\"}],\"title\":{\"text\":\"Scatter Plot and Histogram of Residuals\"},\"showlegend\":false},                        {\"responsive\": true}                    ).then(function(){\n",
       "                            \n",
       "var gd = document.getElementById('8be402ce-47ab-463c-887a-0b443b82584f');\n",
       "var x = new MutationObserver(function (mutations, observer) {{\n",
       "        var display = window.getComputedStyle(gd).display;\n",
       "        if (!display || display === 'none') {{\n",
       "            console.log([gd, 'removed!']);\n",
       "            Plotly.purge(gd);\n",
       "            observer.disconnect();\n",
       "        }}\n",
       "}});\n",
       "\n",
       "// Listen for the removal of the full notebook cells\n",
       "var notebookContainer = gd.closest('#notebook-container');\n",
       "if (notebookContainer) {{\n",
       "    x.observe(notebookContainer, {childList: true});\n",
       "}}\n",
       "\n",
       "// Listen for the clearing of the current output cell\n",
       "var outputEl = gd.closest('.output');\n",
       "if (outputEl) {{\n",
       "    x.observe(outputEl, {childList: true});\n",
       "}}\n",
       "\n",
       "                        })                };                });            </script>        </div>"
      ]
     },
     "metadata": {},
     "output_type": "display_data"
    }
   ],
   "source": [
    "import pandas as pd\n",
    "from scipy import stats\n",
    "import plotly.express as px\n",
    "from plotly.subplots import make_subplots\n",
    "\n",
    "# This data shows the relationship between the amount of fertilizer used and crop yield\n",
    "data = {'Amount of Fertilizer (kg) (x)': [1, 1.2, 1.4, 1.6, 1.8, 2, 2.2, 2.4, 2.6, \n",
    "                                          2.8, 3, 3.2, 3.4, 3.6, 3.8, 4, 4.2, 4.4, \n",
    "                                          4.6, 4.8, 5, 5.2, 5.4, 5.6, 5.8, 6, 6.2, \n",
    "                                          6.4, 6.6, 6.8, 7, 7.2, 7.4, 7.6, 7.8, 8, \n",
    "                                          8.2, 8.4, 8.6, 8.8,9, 9.2, 9.4, 9.6],\n",
    "        'Crop Yield (tons) (Y)': [18.7, 16.9, 16.1, 13.4, 48.4, 51.9, 31.8, 51.3, \n",
    "                                  63.9, 50.6, 58.7, 82.4, 66.7, 81.2, 96.5, 112.2, \n",
    "                                  132.5, 119.8, 127.7, 136.3, 148.5, 169.4, 177.9, \n",
    "                                  186.7, 198.1, 215.7, 230.7, 250.4, 258. , 267.8, \n",
    "                                  320.4, 302. , 307.2, 331.5, 375.3, 403.4, 393.5,\n",
    "                                  434.9, 431.9, 451.1, 491.2, 546.8, 546.4, 558.9]}\n",
    "df = pd.DataFrame(data)\n",
    "fig1 = px.scatter(df, x='Amount of Fertilizer (kg) (x)', y='Crop Yield (tons) (Y)',\n",
    "                  trendline='ols', title='Crop Yield vs. Amount of Fertilizer')\n",
    "\n",
    "# Perform linear regression using scipy.stats\n",
    "slope, intercept, r_value, p_value, std_err = \\\n",
    "    stats.linregress(df['Amount of Fertilizer (kg) (x)'], df['Crop Yield (tons) (Y)'])\n",
    "# Predict the values and calculate residuals\n",
    "y_hat = intercept + slope * df['Amount of Fertilizer (kg) (x)']\n",
    "residuals = df['Crop Yield (tons) (Y)'] - y_hat\n",
    "df['Residuals'] = residuals\n",
    "fig2 = px.histogram(df, x='Residuals', nbins=10, title='Histogram of Residuals',\n",
    "                    labels={'Residuals': 'Residuals'})\n",
    "\n",
    "fig = make_subplots(rows=1, cols=2,\n",
    "                    subplot_titles=('Crop Yield vs. Amount of Fertilizer', \n",
    "                                    'Histogram of Residuals'))\n",
    "for trace in fig1.data:\n",
    "    fig.add_trace(trace, row=1, col=1)\n",
    "for trace in fig2.data:\n",
    "    fig.add_trace(trace, row=1, col=2)\n",
    "fig.update_layout(title='Scatter Plot and Histogram of Residuals',\n",
    "    xaxis_title='Amount of Fertilizer (kg)', yaxis_title='Crop Yield (tons)',\n",
    "    xaxis2_title='Residuals', yaxis2_title='Frequency', showlegend=False)\n",
    "\n",
    "fig.show() # USE `fig.show(renderer=\"png\")` FOR ALL GitHub and MarkUs SUBMISSIONS"
   ]
  },
  {
   "cell_type": "markdown",
   "id": "742a7c1f",
   "metadata": {},
   "source": [
    "The linearity assumption assumes a linear relationship between the outcome variable(crop yield) and predictor(amount of fertilizer). However, the crop yield does not increase when the amount of fertilizer is increase. Therefore, the scatter plot shows a curve, which violates the linearity assumption."
   ]
  },
  {
   "cell_type": "markdown",
   "id": "a977ba64",
   "metadata": {},
   "source": [
    "## \"Week of Nov04\" HW [due prior to the Nov08 TUT]\n",
    "\n",
    "_**In place of the \"Data Analysis Assignment\" format we introduced for the previous weeks' HW, the remaining questions will be a collection of exercises based around the following data**_\n",
    "\n",
    "> The details of the \"LOWESS Trendline\" shown below are not a part of the intended scope of the activities here, but it is included since it is suggestive of the questions we will consider and address here\n"
   ]
  },
  {
   "cell_type": "code",
   "execution_count": 15,
   "id": "a29449cd",
   "metadata": {},
   "outputs": [
    {
     "data": {
      "application/vnd.plotly.v1+json": {
       "config": {
        "plotlyServerURL": "https://plot.ly"
       },
       "data": [
        {
         "hovertemplate": "waiting=%{x}<br>duration=%{y}<extra></extra>",
         "legendgroup": "",
         "marker": {
          "color": "#636efa",
          "symbol": "circle"
         },
         "mode": "markers",
         "name": "",
         "orientation": "v",
         "showlegend": false,
         "type": "scatter",
         "x": [
          79,
          54,
          74,
          62,
          85,
          55,
          88,
          85,
          51,
          85,
          54,
          84,
          78,
          47,
          83,
          52,
          62,
          84,
          52,
          79,
          51,
          47,
          78,
          69,
          74,
          83,
          55,
          76,
          78,
          79,
          73,
          77,
          66,
          80,
          74,
          52,
          48,
          80,
          59,
          90,
          80,
          58,
          84,
          58,
          73,
          83,
          64,
          53,
          82,
          59,
          75,
          90,
          54,
          80,
          54,
          83,
          71,
          64,
          77,
          81,
          59,
          84,
          48,
          82,
          60,
          92,
          78,
          78,
          65,
          73,
          82,
          56,
          79,
          71,
          62,
          76,
          60,
          78,
          76,
          83,
          75,
          82,
          70,
          65,
          73,
          88,
          76,
          80,
          48,
          86,
          60,
          90,
          50,
          78,
          63,
          72,
          84,
          75,
          51,
          82,
          62,
          88,
          49,
          83,
          81,
          47,
          84,
          52,
          86,
          81,
          75,
          59,
          89,
          79,
          59,
          81,
          50,
          85,
          59,
          87,
          53,
          69,
          77,
          56,
          88,
          81,
          45,
          82,
          55,
          90,
          45,
          83,
          56,
          89,
          46,
          82,
          51,
          86,
          53,
          79,
          81,
          60,
          82,
          77,
          76,
          59,
          80,
          49,
          96,
          53,
          77,
          77,
          65,
          81,
          71,
          70,
          81,
          93,
          53,
          89,
          45,
          86,
          58,
          78,
          66,
          76,
          63,
          88,
          52,
          93,
          49,
          57,
          77,
          68,
          81,
          81,
          73,
          50,
          85,
          74,
          55,
          77,
          83,
          83,
          51,
          78,
          84,
          46,
          83,
          55,
          81,
          57,
          76,
          84,
          77,
          81,
          87,
          77,
          51,
          78,
          60,
          82,
          91,
          53,
          78,
          46,
          77,
          84,
          49,
          83,
          71,
          80,
          49,
          75,
          64,
          76,
          53,
          94,
          55,
          76,
          50,
          82,
          54,
          75,
          78,
          79,
          78,
          78,
          70,
          79,
          70,
          54,
          86,
          50,
          90,
          54,
          54,
          77,
          79,
          64,
          75,
          47,
          86,
          63,
          85,
          82,
          57,
          82,
          67,
          74,
          54,
          83,
          73,
          73,
          88,
          80,
          71,
          83,
          56,
          79,
          78,
          84,
          58,
          83,
          43,
          60,
          75,
          81,
          46,
          90,
          46,
          74
         ],
         "xaxis": "x",
         "y": [
          3.6,
          1.8,
          3.333,
          2.283,
          4.533,
          2.883,
          4.7,
          3.6,
          1.95,
          4.35,
          1.833,
          3.917,
          4.2,
          1.75,
          4.7,
          2.167,
          1.75,
          4.8,
          1.6,
          4.25,
          1.8,
          1.75,
          3.45,
          3.067,
          4.533,
          3.6,
          1.967,
          4.083,
          3.85,
          4.433,
          4.3,
          4.467,
          3.367,
          4.033,
          3.833,
          2.017,
          1.867,
          4.833,
          1.833,
          4.783,
          4.35,
          1.883,
          4.567,
          1.75,
          4.533,
          3.317,
          3.833,
          2.1,
          4.633,
          2,
          4.8,
          4.716,
          1.833,
          4.833,
          1.733,
          4.883,
          3.717,
          1.6669999999999998,
          4.567,
          4.317,
          2.233,
          4.5,
          1.75,
          4.8,
          1.817,
          4.4,
          4.167,
          4.7,
          2.067,
          4.7,
          4.033,
          1.967,
          4.5,
          4,
          1.983,
          5.067,
          2.017,
          4.567,
          3.883,
          3.6,
          4.133,
          4.333,
          4.1,
          2.633,
          4.067,
          4.933,
          3.95,
          4.517,
          2.167,
          4,
          2.2,
          4.333,
          1.867,
          4.817,
          1.833,
          4.3,
          4.667,
          3.75,
          1.867,
          4.9,
          2.483,
          4.367,
          2.1,
          4.5,
          4.05,
          1.867,
          4.7,
          1.783,
          4.85,
          3.683,
          4.7330000000000005,
          2.3,
          4.9,
          4.417,
          1.7,
          4.633,
          2.317,
          4.6,
          1.817,
          4.417,
          2.617,
          4.067,
          4.25,
          1.967,
          4.6,
          3.767,
          1.917,
          4.5,
          2.267,
          4.65,
          1.867,
          4.167,
          2.8,
          4.333,
          1.833,
          4.383,
          1.883,
          4.933,
          2.033,
          3.733,
          4.2330000000000005,
          2.233,
          4.533,
          4.817,
          4.333,
          1.983,
          4.633,
          2.017,
          5.1,
          1.8,
          5.033,
          4,
          2.4,
          4.6,
          3.567,
          4,
          4.5,
          4.083,
          1.8,
          3.967,
          2.2,
          4.15,
          2,
          3.833,
          3.5,
          4.583,
          2.367,
          5,
          1.933,
          4.617,
          1.917,
          2.083,
          4.583,
          3.333,
          4.167,
          4.333,
          4.5,
          2.417,
          4,
          4.167,
          1.883,
          4.583,
          4.25,
          3.767,
          2.033,
          4.433,
          4.083,
          1.833,
          4.417,
          2.1830000000000003,
          4.8,
          1.833,
          4.8,
          4.1,
          3.966,
          4.2330000000000005,
          3.5,
          4.3660000000000005,
          2.25,
          4.667,
          2.1,
          4.35,
          4.133,
          1.867,
          4.6,
          1.783,
          4.367,
          3.85,
          1.933,
          4.5,
          2.383,
          4.7,
          1.867,
          3.833,
          3.417,
          4.2330000000000005,
          2.4,
          4.8,
          2,
          4.15,
          1.867,
          4.267,
          1.75,
          4.4830000000000005,
          4,
          4.117,
          4.083,
          4.267,
          3.917,
          4.55,
          4.083,
          2.417,
          4.183,
          2.217,
          4.45,
          1.883,
          1.85,
          4.283,
          3.95,
          2.333,
          4.15,
          2.35,
          4.933,
          2.9,
          4.583,
          3.833,
          2.083,
          4.367,
          2.133,
          4.35,
          2.2,
          4.45,
          3.567,
          4.5,
          4.15,
          3.817,
          3.917,
          4.45,
          2,
          4.283,
          4.767,
          4.533,
          1.85,
          4.25,
          1.983,
          2.25,
          4.75,
          4.117,
          2.15,
          4.417,
          1.817,
          4.467
         ],
         "yaxis": "y"
        },
        {
         "hovertemplate": "<b>OLS trendline</b><br>duration = 0.0756279 * waiting + -1.87402<br>R<sup>2</sup>=0.811461<br><br>waiting=%{x}<br>duration=%{y} <b>(trend)</b><extra></extra>",
         "legendgroup": "",
         "marker": {
          "color": "#636efa",
          "symbol": "circle"
         },
         "mode": "lines",
         "name": "",
         "showlegend": false,
         "type": "scatter",
         "x": [
          43,
          45,
          45,
          45,
          46,
          46,
          46,
          46,
          46,
          47,
          47,
          47,
          47,
          48,
          48,
          48,
          49,
          49,
          49,
          49,
          49,
          50,
          50,
          50,
          50,
          50,
          51,
          51,
          51,
          51,
          51,
          51,
          52,
          52,
          52,
          52,
          52,
          53,
          53,
          53,
          53,
          53,
          53,
          53,
          54,
          54,
          54,
          54,
          54,
          54,
          54,
          54,
          54,
          55,
          55,
          55,
          55,
          55,
          55,
          56,
          56,
          56,
          56,
          57,
          57,
          57,
          58,
          58,
          58,
          58,
          59,
          59,
          59,
          59,
          59,
          59,
          59,
          60,
          60,
          60,
          60,
          60,
          60,
          62,
          62,
          62,
          62,
          63,
          63,
          63,
          64,
          64,
          64,
          64,
          65,
          65,
          65,
          66,
          66,
          67,
          68,
          69,
          69,
          70,
          70,
          70,
          70,
          71,
          71,
          71,
          71,
          71,
          72,
          73,
          73,
          73,
          73,
          73,
          73,
          73,
          74,
          74,
          74,
          74,
          74,
          74,
          75,
          75,
          75,
          75,
          75,
          75,
          75,
          75,
          76,
          76,
          76,
          76,
          76,
          76,
          76,
          76,
          76,
          77,
          77,
          77,
          77,
          77,
          77,
          77,
          77,
          77,
          77,
          77,
          77,
          78,
          78,
          78,
          78,
          78,
          78,
          78,
          78,
          78,
          78,
          78,
          78,
          78,
          78,
          78,
          79,
          79,
          79,
          79,
          79,
          79,
          79,
          79,
          79,
          79,
          80,
          80,
          80,
          80,
          80,
          80,
          80,
          80,
          81,
          81,
          81,
          81,
          81,
          81,
          81,
          81,
          81,
          81,
          81,
          81,
          81,
          82,
          82,
          82,
          82,
          82,
          82,
          82,
          82,
          82,
          82,
          82,
          82,
          83,
          83,
          83,
          83,
          83,
          83,
          83,
          83,
          83,
          83,
          83,
          83,
          83,
          83,
          84,
          84,
          84,
          84,
          84,
          84,
          84,
          84,
          84,
          84,
          85,
          85,
          85,
          85,
          85,
          85,
          86,
          86,
          86,
          86,
          86,
          86,
          87,
          87,
          88,
          88,
          88,
          88,
          88,
          88,
          89,
          89,
          89,
          90,
          90,
          90,
          90,
          90,
          90,
          91,
          92,
          93,
          93,
          94,
          96
         ],
         "xaxis": "x",
         "y": [
          1.3779857755193614,
          1.5292416714230868,
          1.5292416714230868,
          1.5292416714230868,
          1.6048696193749494,
          1.6048696193749494,
          1.6048696193749494,
          1.6048696193749494,
          1.6048696193749494,
          1.680497567326812,
          1.680497567326812,
          1.680497567326812,
          1.680497567326812,
          1.7561255152786748,
          1.7561255152786748,
          1.7561255152786748,
          1.8317534632305374,
          1.8317534632305374,
          1.8317534632305374,
          1.8317534632305374,
          1.8317534632305374,
          1.9073814111824001,
          1.9073814111824001,
          1.9073814111824001,
          1.9073814111824001,
          1.9073814111824001,
          1.9830093591342628,
          1.9830093591342628,
          1.9830093591342628,
          1.9830093591342628,
          1.9830093591342628,
          1.9830093591342628,
          2.0586373070861255,
          2.0586373070861255,
          2.0586373070861255,
          2.0586373070861255,
          2.0586373070861255,
          2.1342652550379886,
          2.1342652550379886,
          2.1342652550379886,
          2.1342652550379886,
          2.1342652550379886,
          2.1342652550379886,
          2.1342652550379886,
          2.2098932029898513,
          2.2098932029898513,
          2.2098932029898513,
          2.2098932029898513,
          2.2098932029898513,
          2.2098932029898513,
          2.2098932029898513,
          2.2098932029898513,
          2.2098932029898513,
          2.285521150941714,
          2.285521150941714,
          2.285521150941714,
          2.285521150941714,
          2.285521150941714,
          2.285521150941714,
          2.3611490988935766,
          2.3611490988935766,
          2.3611490988935766,
          2.3611490988935766,
          2.4367770468454393,
          2.4367770468454393,
          2.4367770468454393,
          2.512404994797302,
          2.512404994797302,
          2.512404994797302,
          2.512404994797302,
          2.5880329427491646,
          2.5880329427491646,
          2.5880329427491646,
          2.5880329427491646,
          2.5880329427491646,
          2.5880329427491646,
          2.5880329427491646,
          2.6636608907010273,
          2.6636608907010273,
          2.6636608907010273,
          2.6636608907010273,
          2.6636608907010273,
          2.6636608907010273,
          2.8149167866047526,
          2.8149167866047526,
          2.8149167866047526,
          2.8149167866047526,
          2.8905447345566153,
          2.8905447345566153,
          2.8905447345566153,
          2.966172682508478,
          2.966172682508478,
          2.966172682508478,
          2.966172682508478,
          3.0418006304603407,
          3.0418006304603407,
          3.0418006304603407,
          3.1174285784122033,
          3.1174285784122033,
          3.193056526364066,
          3.2686844743159287,
          3.3443124222677914,
          3.3443124222677914,
          3.419940370219654,
          3.419940370219654,
          3.419940370219654,
          3.419940370219654,
          3.4955683181715167,
          3.4955683181715167,
          3.4955683181715167,
          3.4955683181715167,
          3.4955683181715167,
          3.5711962661233794,
          3.646824214075242,
          3.646824214075242,
          3.646824214075242,
          3.646824214075242,
          3.646824214075242,
          3.646824214075242,
          3.646824214075242,
          3.7224521620271047,
          3.7224521620271047,
          3.7224521620271047,
          3.7224521620271047,
          3.7224521620271047,
          3.7224521620271047,
          3.7980801099789674,
          3.7980801099789674,
          3.7980801099789674,
          3.7980801099789674,
          3.7980801099789674,
          3.7980801099789674,
          3.7980801099789674,
          3.7980801099789674,
          3.87370805793083,
          3.87370805793083,
          3.87370805793083,
          3.87370805793083,
          3.87370805793083,
          3.87370805793083,
          3.87370805793083,
          3.87370805793083,
          3.87370805793083,
          3.9493360058826927,
          3.9493360058826927,
          3.9493360058826927,
          3.9493360058826927,
          3.9493360058826927,
          3.9493360058826927,
          3.9493360058826927,
          3.9493360058826927,
          3.9493360058826927,
          3.9493360058826927,
          3.9493360058826927,
          3.9493360058826927,
          4.024963953834556,
          4.024963953834556,
          4.024963953834556,
          4.024963953834556,
          4.024963953834556,
          4.024963953834556,
          4.024963953834556,
          4.024963953834556,
          4.024963953834556,
          4.024963953834556,
          4.024963953834556,
          4.024963953834556,
          4.024963953834556,
          4.024963953834556,
          4.024963953834556,
          4.100591901786418,
          4.100591901786418,
          4.100591901786418,
          4.100591901786418,
          4.100591901786418,
          4.100591901786418,
          4.100591901786418,
          4.100591901786418,
          4.100591901786418,
          4.100591901786418,
          4.176219849738281,
          4.176219849738281,
          4.176219849738281,
          4.176219849738281,
          4.176219849738281,
          4.176219849738281,
          4.176219849738281,
          4.176219849738281,
          4.251847797690145,
          4.251847797690145,
          4.251847797690145,
          4.251847797690145,
          4.251847797690145,
          4.251847797690145,
          4.251847797690145,
          4.251847797690145,
          4.251847797690145,
          4.251847797690145,
          4.251847797690145,
          4.251847797690145,
          4.251847797690145,
          4.3274757456420065,
          4.3274757456420065,
          4.3274757456420065,
          4.3274757456420065,
          4.3274757456420065,
          4.3274757456420065,
          4.3274757456420065,
          4.3274757456420065,
          4.3274757456420065,
          4.3274757456420065,
          4.3274757456420065,
          4.3274757456420065,
          4.40310369359387,
          4.40310369359387,
          4.40310369359387,
          4.40310369359387,
          4.40310369359387,
          4.40310369359387,
          4.40310369359387,
          4.40310369359387,
          4.40310369359387,
          4.40310369359387,
          4.40310369359387,
          4.40310369359387,
          4.40310369359387,
          4.40310369359387,
          4.478731641545732,
          4.478731641545732,
          4.478731641545732,
          4.478731641545732,
          4.478731641545732,
          4.478731641545732,
          4.478731641545732,
          4.478731641545732,
          4.478731641545732,
          4.478731641545732,
          4.5543595894975955,
          4.5543595894975955,
          4.5543595894975955,
          4.5543595894975955,
          4.5543595894975955,
          4.5543595894975955,
          4.629987537449457,
          4.629987537449457,
          4.629987537449457,
          4.629987537449457,
          4.629987537449457,
          4.629987537449457,
          4.705615485401321,
          4.705615485401321,
          4.781243433353183,
          4.781243433353183,
          4.781243433353183,
          4.781243433353183,
          4.781243433353183,
          4.781243433353183,
          4.856871381305046,
          4.856871381305046,
          4.856871381305046,
          4.932499329256908,
          4.932499329256908,
          4.932499329256908,
          4.932499329256908,
          4.932499329256908,
          4.932499329256908,
          5.0081272772087715,
          5.083755225160633,
          5.159383173112497,
          5.159383173112497,
          5.235011121064359,
          5.386267016968084
         ],
         "yaxis": "y"
        },
        {
         "mode": "lines",
         "name": "LOWESS Trendline",
         "type": "scatter",
         "x": [
          43,
          45,
          45,
          45,
          46,
          46,
          46,
          46,
          46,
          47,
          47,
          47,
          47,
          48,
          48,
          48,
          49,
          49,
          49,
          49,
          49,
          50,
          50,
          50,
          50,
          50,
          51,
          51,
          51,
          51,
          51,
          51,
          52,
          52,
          52,
          52,
          52,
          53,
          53,
          53,
          53,
          53,
          53,
          53,
          54,
          54,
          54,
          54,
          54,
          54,
          54,
          54,
          54,
          55,
          55,
          55,
          55,
          55,
          55,
          56,
          56,
          56,
          56,
          57,
          57,
          57,
          58,
          58,
          58,
          58,
          59,
          59,
          59,
          59,
          59,
          59,
          59,
          60,
          60,
          60,
          60,
          60,
          60,
          62,
          62,
          62,
          62,
          63,
          63,
          63,
          64,
          64,
          64,
          64,
          65,
          65,
          65,
          66,
          66,
          67,
          68,
          69,
          69,
          70,
          70,
          70,
          70,
          71,
          71,
          71,
          71,
          71,
          72,
          73,
          73,
          73,
          73,
          73,
          73,
          73,
          74,
          74,
          74,
          74,
          74,
          74,
          75,
          75,
          75,
          75,
          75,
          75,
          75,
          75,
          76,
          76,
          76,
          76,
          76,
          76,
          76,
          76,
          76,
          77,
          77,
          77,
          77,
          77,
          77,
          77,
          77,
          77,
          77,
          77,
          77,
          78,
          78,
          78,
          78,
          78,
          78,
          78,
          78,
          78,
          78,
          78,
          78,
          78,
          78,
          78,
          79,
          79,
          79,
          79,
          79,
          79,
          79,
          79,
          79,
          79,
          80,
          80,
          80,
          80,
          80,
          80,
          80,
          80,
          81,
          81,
          81,
          81,
          81,
          81,
          81,
          81,
          81,
          81,
          81,
          81,
          81,
          82,
          82,
          82,
          82,
          82,
          82,
          82,
          82,
          82,
          82,
          82,
          82,
          83,
          83,
          83,
          83,
          83,
          83,
          83,
          83,
          83,
          83,
          83,
          83,
          83,
          83,
          84,
          84,
          84,
          84,
          84,
          84,
          84,
          84,
          84,
          84,
          85,
          85,
          85,
          85,
          85,
          85,
          86,
          86,
          86,
          86,
          86,
          86,
          87,
          87,
          88,
          88,
          88,
          88,
          88,
          88,
          89,
          89,
          89,
          90,
          90,
          90,
          90,
          90,
          90,
          91,
          92,
          93,
          93,
          94,
          96
         ],
         "y": [
          1.9186521424072547,
          1.9344096504954134,
          1.9344096504954134,
          1.9344096504954134,
          1.9421058219420753,
          1.9421058219420753,
          1.9421058219420753,
          1.9421058219420753,
          1.9421058219420753,
          1.9492820922680067,
          1.9492820922680067,
          1.9492820922680067,
          1.9492820922680067,
          1.9558607302691684,
          1.9558607302691684,
          1.9558607302691684,
          1.962181369241891,
          1.962181369241891,
          1.962181369241891,
          1.962181369241891,
          1.962181369241891,
          1.969408997981721,
          1.969408997981721,
          1.969408997981721,
          1.969408997981721,
          1.969408997981721,
          1.979785009796234,
          1.979785009796234,
          1.979785009796234,
          1.979785009796234,
          1.979785009796234,
          1.979785009796234,
          1.989714320835026,
          1.989714320835026,
          1.989714320835026,
          1.989714320835026,
          1.989714320835026,
          1.9952876010759677,
          1.9952876010759677,
          1.9952876010759677,
          1.9952876010759677,
          1.9952876010759677,
          1.9952876010759677,
          1.9952876010759677,
          1.9936488499343459,
          1.9936488499343459,
          1.9936488499343459,
          1.9936488499343459,
          1.9936488499343459,
          1.9936488499343459,
          1.9936488499343459,
          1.9936488499343459,
          1.9936488499343459,
          1.99393402379364,
          1.99393402379364,
          1.99393402379364,
          1.99393402379364,
          1.99393402379364,
          1.99393402379364,
          1.9998045945748515,
          1.9998045945748515,
          1.9998045945748515,
          1.9998045945748515,
          2.0139370252003546,
          2.0139370252003546,
          2.0139370252003546,
          2.038699058321957,
          2.038699058321957,
          2.038699058321957,
          2.038699058321957,
          2.0955741372199967,
          2.0955741372199967,
          2.0955741372199967,
          2.0955741372199967,
          2.0955741372199967,
          2.0955741372199967,
          2.0955741372199967,
          2.157900404002252,
          2.157900404002252,
          2.157900404002252,
          2.157900404002252,
          2.157900404002252,
          2.157900404002252,
          2.383589177706359,
          2.383589177706359,
          2.383589177706359,
          2.383589177706359,
          2.544376577318829,
          2.544376577318829,
          2.544376577318829,
          2.739478107460566,
          2.739478107460566,
          2.739478107460566,
          2.739478107460566,
          2.9029176379088457,
          2.9029176379088457,
          2.9029176379088457,
          3.053658252690223,
          3.053658252690223,
          3.214763931658723,
          3.380303575331191,
          3.5786855265101667,
          3.5786855265101667,
          3.7849136115718265,
          3.7849136115718265,
          3.7849136115718265,
          3.7849136115718265,
          3.9459220045987813,
          3.9459220045987813,
          3.9459220045987813,
          3.9459220045987813,
          3.9459220045987813,
          4.074872475833141,
          4.179011278635363,
          4.179011278635363,
          4.179011278635363,
          4.179011278635363,
          4.179011278635363,
          4.179011278635363,
          4.179011278635363,
          4.253073995783976,
          4.253073995783976,
          4.253073995783976,
          4.253073995783976,
          4.253073995783976,
          4.253073995783976,
          4.318817611180992,
          4.318817611180992,
          4.318817611180992,
          4.318817611180992,
          4.318817611180992,
          4.318817611180992,
          4.318817611180992,
          4.318817611180992,
          4.331656770327086,
          4.331656770327086,
          4.331656770327086,
          4.331656770327086,
          4.331656770327086,
          4.331656770327086,
          4.331656770327086,
          4.331656770327086,
          4.331656770327086,
          4.346858683186571,
          4.346858683186571,
          4.346858683186571,
          4.346858683186571,
          4.346858683186571,
          4.346858683186571,
          4.346858683186571,
          4.346858683186571,
          4.346858683186571,
          4.346858683186571,
          4.346858683186571,
          4.346858683186571,
          4.341189350470698,
          4.341189350470698,
          4.341189350470698,
          4.341189350470698,
          4.341189350470698,
          4.341189350470698,
          4.341189350470698,
          4.341189350470698,
          4.341189350470698,
          4.341189350470698,
          4.341189350470698,
          4.341189350470698,
          4.341189350470698,
          4.341189350470698,
          4.341189350470698,
          4.336785127256803,
          4.336785127256803,
          4.336785127256803,
          4.336785127256803,
          4.336785127256803,
          4.336785127256803,
          4.336785127256803,
          4.336785127256803,
          4.336785127256803,
          4.336785127256803,
          4.332304008228884,
          4.332304008228884,
          4.332304008228884,
          4.332304008228884,
          4.332304008228884,
          4.332304008228884,
          4.332304008228884,
          4.332304008228884,
          4.351533317269229,
          4.351533317269229,
          4.351533317269229,
          4.351533317269229,
          4.351533317269229,
          4.351533317269229,
          4.351533317269229,
          4.351533317269229,
          4.351533317269229,
          4.351533317269229,
          4.351533317269229,
          4.351533317269229,
          4.351533317269229,
          4.353914954332693,
          4.353914954332693,
          4.353914954332693,
          4.353914954332693,
          4.353914954332693,
          4.353914954332693,
          4.353914954332693,
          4.353914954332693,
          4.353914954332693,
          4.353914954332693,
          4.353914954332693,
          4.353914954332693,
          4.363081724880589,
          4.363081724880589,
          4.363081724880589,
          4.363081724880589,
          4.363081724880589,
          4.363081724880589,
          4.363081724880589,
          4.363081724880589,
          4.363081724880589,
          4.363081724880589,
          4.363081724880589,
          4.363081724880589,
          4.363081724880589,
          4.363081724880589,
          4.3826565674434494,
          4.3826565674434494,
          4.3826565674434494,
          4.3826565674434494,
          4.3826565674434494,
          4.3826565674434494,
          4.3826565674434494,
          4.3826565674434494,
          4.3826565674434494,
          4.3826565674434494,
          4.409438439144667,
          4.409438439144667,
          4.409438439144667,
          4.409438439144667,
          4.409438439144667,
          4.409438439144667,
          4.445252114142226,
          4.445252114142226,
          4.445252114142226,
          4.445252114142226,
          4.445252114142226,
          4.445252114142226,
          4.463727351843725,
          4.463727351843725,
          4.479656149960105,
          4.479656149960105,
          4.479656149960105,
          4.479656149960105,
          4.479656149960105,
          4.479656149960105,
          4.485016934824078,
          4.485016934824078,
          4.485016934824078,
          4.50688251213341,
          4.50688251213341,
          4.50688251213341,
          4.50688251213341,
          4.50688251213341,
          4.50688251213341,
          4.542260097039768,
          4.577490663638139,
          4.610400813055501,
          4.610400813055501,
          4.642094388351268,
          4.709228776366015
         ]
        }
       ],
       "layout": {
        "legend": {
         "tracegroupgap": 0
        },
        "template": {
         "data": {
          "bar": [
           {
            "error_x": {
             "color": "#2a3f5f"
            },
            "error_y": {
             "color": "#2a3f5f"
            },
            "marker": {
             "line": {
              "color": "#E5ECF6",
              "width": 0.5
             },
             "pattern": {
              "fillmode": "overlay",
              "size": 10,
              "solidity": 0.2
             }
            },
            "type": "bar"
           }
          ],
          "barpolar": [
           {
            "marker": {
             "line": {
              "color": "#E5ECF6",
              "width": 0.5
             },
             "pattern": {
              "fillmode": "overlay",
              "size": 10,
              "solidity": 0.2
             }
            },
            "type": "barpolar"
           }
          ],
          "carpet": [
           {
            "aaxis": {
             "endlinecolor": "#2a3f5f",
             "gridcolor": "white",
             "linecolor": "white",
             "minorgridcolor": "white",
             "startlinecolor": "#2a3f5f"
            },
            "baxis": {
             "endlinecolor": "#2a3f5f",
             "gridcolor": "white",
             "linecolor": "white",
             "minorgridcolor": "white",
             "startlinecolor": "#2a3f5f"
            },
            "type": "carpet"
           }
          ],
          "choropleth": [
           {
            "colorbar": {
             "outlinewidth": 0,
             "ticks": ""
            },
            "type": "choropleth"
           }
          ],
          "contour": [
           {
            "colorbar": {
             "outlinewidth": 0,
             "ticks": ""
            },
            "colorscale": [
             [
              0,
              "#0d0887"
             ],
             [
              0.1111111111111111,
              "#46039f"
             ],
             [
              0.2222222222222222,
              "#7201a8"
             ],
             [
              0.3333333333333333,
              "#9c179e"
             ],
             [
              0.4444444444444444,
              "#bd3786"
             ],
             [
              0.5555555555555556,
              "#d8576b"
             ],
             [
              0.6666666666666666,
              "#ed7953"
             ],
             [
              0.7777777777777778,
              "#fb9f3a"
             ],
             [
              0.8888888888888888,
              "#fdca26"
             ],
             [
              1,
              "#f0f921"
             ]
            ],
            "type": "contour"
           }
          ],
          "contourcarpet": [
           {
            "colorbar": {
             "outlinewidth": 0,
             "ticks": ""
            },
            "type": "contourcarpet"
           }
          ],
          "heatmap": [
           {
            "colorbar": {
             "outlinewidth": 0,
             "ticks": ""
            },
            "colorscale": [
             [
              0,
              "#0d0887"
             ],
             [
              0.1111111111111111,
              "#46039f"
             ],
             [
              0.2222222222222222,
              "#7201a8"
             ],
             [
              0.3333333333333333,
              "#9c179e"
             ],
             [
              0.4444444444444444,
              "#bd3786"
             ],
             [
              0.5555555555555556,
              "#d8576b"
             ],
             [
              0.6666666666666666,
              "#ed7953"
             ],
             [
              0.7777777777777778,
              "#fb9f3a"
             ],
             [
              0.8888888888888888,
              "#fdca26"
             ],
             [
              1,
              "#f0f921"
             ]
            ],
            "type": "heatmap"
           }
          ],
          "heatmapgl": [
           {
            "colorbar": {
             "outlinewidth": 0,
             "ticks": ""
            },
            "colorscale": [
             [
              0,
              "#0d0887"
             ],
             [
              0.1111111111111111,
              "#46039f"
             ],
             [
              0.2222222222222222,
              "#7201a8"
             ],
             [
              0.3333333333333333,
              "#9c179e"
             ],
             [
              0.4444444444444444,
              "#bd3786"
             ],
             [
              0.5555555555555556,
              "#d8576b"
             ],
             [
              0.6666666666666666,
              "#ed7953"
             ],
             [
              0.7777777777777778,
              "#fb9f3a"
             ],
             [
              0.8888888888888888,
              "#fdca26"
             ],
             [
              1,
              "#f0f921"
             ]
            ],
            "type": "heatmapgl"
           }
          ],
          "histogram": [
           {
            "marker": {
             "pattern": {
              "fillmode": "overlay",
              "size": 10,
              "solidity": 0.2
             }
            },
            "type": "histogram"
           }
          ],
          "histogram2d": [
           {
            "colorbar": {
             "outlinewidth": 0,
             "ticks": ""
            },
            "colorscale": [
             [
              0,
              "#0d0887"
             ],
             [
              0.1111111111111111,
              "#46039f"
             ],
             [
              0.2222222222222222,
              "#7201a8"
             ],
             [
              0.3333333333333333,
              "#9c179e"
             ],
             [
              0.4444444444444444,
              "#bd3786"
             ],
             [
              0.5555555555555556,
              "#d8576b"
             ],
             [
              0.6666666666666666,
              "#ed7953"
             ],
             [
              0.7777777777777778,
              "#fb9f3a"
             ],
             [
              0.8888888888888888,
              "#fdca26"
             ],
             [
              1,
              "#f0f921"
             ]
            ],
            "type": "histogram2d"
           }
          ],
          "histogram2dcontour": [
           {
            "colorbar": {
             "outlinewidth": 0,
             "ticks": ""
            },
            "colorscale": [
             [
              0,
              "#0d0887"
             ],
             [
              0.1111111111111111,
              "#46039f"
             ],
             [
              0.2222222222222222,
              "#7201a8"
             ],
             [
              0.3333333333333333,
              "#9c179e"
             ],
             [
              0.4444444444444444,
              "#bd3786"
             ],
             [
              0.5555555555555556,
              "#d8576b"
             ],
             [
              0.6666666666666666,
              "#ed7953"
             ],
             [
              0.7777777777777778,
              "#fb9f3a"
             ],
             [
              0.8888888888888888,
              "#fdca26"
             ],
             [
              1,
              "#f0f921"
             ]
            ],
            "type": "histogram2dcontour"
           }
          ],
          "mesh3d": [
           {
            "colorbar": {
             "outlinewidth": 0,
             "ticks": ""
            },
            "type": "mesh3d"
           }
          ],
          "parcoords": [
           {
            "line": {
             "colorbar": {
              "outlinewidth": 0,
              "ticks": ""
             }
            },
            "type": "parcoords"
           }
          ],
          "pie": [
           {
            "automargin": true,
            "type": "pie"
           }
          ],
          "scatter": [
           {
            "fillpattern": {
             "fillmode": "overlay",
             "size": 10,
             "solidity": 0.2
            },
            "type": "scatter"
           }
          ],
          "scatter3d": [
           {
            "line": {
             "colorbar": {
              "outlinewidth": 0,
              "ticks": ""
             }
            },
            "marker": {
             "colorbar": {
              "outlinewidth": 0,
              "ticks": ""
             }
            },
            "type": "scatter3d"
           }
          ],
          "scattercarpet": [
           {
            "marker": {
             "colorbar": {
              "outlinewidth": 0,
              "ticks": ""
             }
            },
            "type": "scattercarpet"
           }
          ],
          "scattergeo": [
           {
            "marker": {
             "colorbar": {
              "outlinewidth": 0,
              "ticks": ""
             }
            },
            "type": "scattergeo"
           }
          ],
          "scattergl": [
           {
            "marker": {
             "colorbar": {
              "outlinewidth": 0,
              "ticks": ""
             }
            },
            "type": "scattergl"
           }
          ],
          "scattermapbox": [
           {
            "marker": {
             "colorbar": {
              "outlinewidth": 0,
              "ticks": ""
             }
            },
            "type": "scattermapbox"
           }
          ],
          "scatterpolar": [
           {
            "marker": {
             "colorbar": {
              "outlinewidth": 0,
              "ticks": ""
             }
            },
            "type": "scatterpolar"
           }
          ],
          "scatterpolargl": [
           {
            "marker": {
             "colorbar": {
              "outlinewidth": 0,
              "ticks": ""
             }
            },
            "type": "scatterpolargl"
           }
          ],
          "scatterternary": [
           {
            "marker": {
             "colorbar": {
              "outlinewidth": 0,
              "ticks": ""
             }
            },
            "type": "scatterternary"
           }
          ],
          "surface": [
           {
            "colorbar": {
             "outlinewidth": 0,
             "ticks": ""
            },
            "colorscale": [
             [
              0,
              "#0d0887"
             ],
             [
              0.1111111111111111,
              "#46039f"
             ],
             [
              0.2222222222222222,
              "#7201a8"
             ],
             [
              0.3333333333333333,
              "#9c179e"
             ],
             [
              0.4444444444444444,
              "#bd3786"
             ],
             [
              0.5555555555555556,
              "#d8576b"
             ],
             [
              0.6666666666666666,
              "#ed7953"
             ],
             [
              0.7777777777777778,
              "#fb9f3a"
             ],
             [
              0.8888888888888888,
              "#fdca26"
             ],
             [
              1,
              "#f0f921"
             ]
            ],
            "type": "surface"
           }
          ],
          "table": [
           {
            "cells": {
             "fill": {
              "color": "#EBF0F8"
             },
             "line": {
              "color": "white"
             }
            },
            "header": {
             "fill": {
              "color": "#C8D4E3"
             },
             "line": {
              "color": "white"
             }
            },
            "type": "table"
           }
          ]
         },
         "layout": {
          "annotationdefaults": {
           "arrowcolor": "#2a3f5f",
           "arrowhead": 0,
           "arrowwidth": 1
          },
          "autotypenumbers": "strict",
          "coloraxis": {
           "colorbar": {
            "outlinewidth": 0,
            "ticks": ""
           }
          },
          "colorscale": {
           "diverging": [
            [
             0,
             "#8e0152"
            ],
            [
             0.1,
             "#c51b7d"
            ],
            [
             0.2,
             "#de77ae"
            ],
            [
             0.3,
             "#f1b6da"
            ],
            [
             0.4,
             "#fde0ef"
            ],
            [
             0.5,
             "#f7f7f7"
            ],
            [
             0.6,
             "#e6f5d0"
            ],
            [
             0.7,
             "#b8e186"
            ],
            [
             0.8,
             "#7fbc41"
            ],
            [
             0.9,
             "#4d9221"
            ],
            [
             1,
             "#276419"
            ]
           ],
           "sequential": [
            [
             0,
             "#0d0887"
            ],
            [
             0.1111111111111111,
             "#46039f"
            ],
            [
             0.2222222222222222,
             "#7201a8"
            ],
            [
             0.3333333333333333,
             "#9c179e"
            ],
            [
             0.4444444444444444,
             "#bd3786"
            ],
            [
             0.5555555555555556,
             "#d8576b"
            ],
            [
             0.6666666666666666,
             "#ed7953"
            ],
            [
             0.7777777777777778,
             "#fb9f3a"
            ],
            [
             0.8888888888888888,
             "#fdca26"
            ],
            [
             1,
             "#f0f921"
            ]
           ],
           "sequentialminus": [
            [
             0,
             "#0d0887"
            ],
            [
             0.1111111111111111,
             "#46039f"
            ],
            [
             0.2222222222222222,
             "#7201a8"
            ],
            [
             0.3333333333333333,
             "#9c179e"
            ],
            [
             0.4444444444444444,
             "#bd3786"
            ],
            [
             0.5555555555555556,
             "#d8576b"
            ],
            [
             0.6666666666666666,
             "#ed7953"
            ],
            [
             0.7777777777777778,
             "#fb9f3a"
            ],
            [
             0.8888888888888888,
             "#fdca26"
            ],
            [
             1,
             "#f0f921"
            ]
           ]
          },
          "colorway": [
           "#636efa",
           "#EF553B",
           "#00cc96",
           "#ab63fa",
           "#FFA15A",
           "#19d3f3",
           "#FF6692",
           "#B6E880",
           "#FF97FF",
           "#FECB52"
          ],
          "font": {
           "color": "#2a3f5f"
          },
          "geo": {
           "bgcolor": "white",
           "lakecolor": "white",
           "landcolor": "#E5ECF6",
           "showlakes": true,
           "showland": true,
           "subunitcolor": "white"
          },
          "hoverlabel": {
           "align": "left"
          },
          "hovermode": "closest",
          "mapbox": {
           "style": "light"
          },
          "paper_bgcolor": "white",
          "plot_bgcolor": "#E5ECF6",
          "polar": {
           "angularaxis": {
            "gridcolor": "white",
            "linecolor": "white",
            "ticks": ""
           },
           "bgcolor": "#E5ECF6",
           "radialaxis": {
            "gridcolor": "white",
            "linecolor": "white",
            "ticks": ""
           }
          },
          "scene": {
           "xaxis": {
            "backgroundcolor": "#E5ECF6",
            "gridcolor": "white",
            "gridwidth": 2,
            "linecolor": "white",
            "showbackground": true,
            "ticks": "",
            "zerolinecolor": "white"
           },
           "yaxis": {
            "backgroundcolor": "#E5ECF6",
            "gridcolor": "white",
            "gridwidth": 2,
            "linecolor": "white",
            "showbackground": true,
            "ticks": "",
            "zerolinecolor": "white"
           },
           "zaxis": {
            "backgroundcolor": "#E5ECF6",
            "gridcolor": "white",
            "gridwidth": 2,
            "linecolor": "white",
            "showbackground": true,
            "ticks": "",
            "zerolinecolor": "white"
           }
          },
          "shapedefaults": {
           "line": {
            "color": "#2a3f5f"
           }
          },
          "ternary": {
           "aaxis": {
            "gridcolor": "white",
            "linecolor": "white",
            "ticks": ""
           },
           "baxis": {
            "gridcolor": "white",
            "linecolor": "white",
            "ticks": ""
           },
           "bgcolor": "#E5ECF6",
           "caxis": {
            "gridcolor": "white",
            "linecolor": "white",
            "ticks": ""
           }
          },
          "title": {
           "x": 0.05
          },
          "xaxis": {
           "automargin": true,
           "gridcolor": "white",
           "linecolor": "white",
           "ticks": "",
           "title": {
            "standoff": 15
           },
           "zerolinecolor": "white",
           "zerolinewidth": 2
          },
          "yaxis": {
           "automargin": true,
           "gridcolor": "white",
           "linecolor": "white",
           "ticks": "",
           "title": {
            "standoff": 15
           },
           "zerolinecolor": "white",
           "zerolinewidth": 2
          }
         }
        },
        "title": {
         "text": "Old Faithful Geyser Eruptions"
        },
        "xaxis": {
         "anchor": "y",
         "domain": [
          0,
          1
         ],
         "title": {
          "text": "waiting"
         }
        },
        "yaxis": {
         "anchor": "x",
         "domain": [
          0,
          1
         ],
         "title": {
          "text": "duration"
         }
        }
       }
      },
      "text/html": [
       "<div>                            <div id=\"622e6a5f-20f0-4b7e-a315-85efdedca202\" class=\"plotly-graph-div\" style=\"height:525px; width:100%;\"></div>            <script type=\"text/javascript\">                require([\"plotly\"], function(Plotly) {                    window.PLOTLYENV=window.PLOTLYENV || {};                                    if (document.getElementById(\"622e6a5f-20f0-4b7e-a315-85efdedca202\")) {                    Plotly.newPlot(                        \"622e6a5f-20f0-4b7e-a315-85efdedca202\",                        [{\"hovertemplate\":\"waiting=%{x}\\u003cbr\\u003eduration=%{y}\\u003cextra\\u003e\\u003c\\u002fextra\\u003e\",\"legendgroup\":\"\",\"marker\":{\"color\":\"#636efa\",\"symbol\":\"circle\"},\"mode\":\"markers\",\"name\":\"\",\"orientation\":\"v\",\"showlegend\":false,\"x\":[79,54,74,62,85,55,88,85,51,85,54,84,78,47,83,52,62,84,52,79,51,47,78,69,74,83,55,76,78,79,73,77,66,80,74,52,48,80,59,90,80,58,84,58,73,83,64,53,82,59,75,90,54,80,54,83,71,64,77,81,59,84,48,82,60,92,78,78,65,73,82,56,79,71,62,76,60,78,76,83,75,82,70,65,73,88,76,80,48,86,60,90,50,78,63,72,84,75,51,82,62,88,49,83,81,47,84,52,86,81,75,59,89,79,59,81,50,85,59,87,53,69,77,56,88,81,45,82,55,90,45,83,56,89,46,82,51,86,53,79,81,60,82,77,76,59,80,49,96,53,77,77,65,81,71,70,81,93,53,89,45,86,58,78,66,76,63,88,52,93,49,57,77,68,81,81,73,50,85,74,55,77,83,83,51,78,84,46,83,55,81,57,76,84,77,81,87,77,51,78,60,82,91,53,78,46,77,84,49,83,71,80,49,75,64,76,53,94,55,76,50,82,54,75,78,79,78,78,70,79,70,54,86,50,90,54,54,77,79,64,75,47,86,63,85,82,57,82,67,74,54,83,73,73,88,80,71,83,56,79,78,84,58,83,43,60,75,81,46,90,46,74],\"xaxis\":\"x\",\"y\":[3.6,1.8,3.333,2.283,4.533,2.883,4.7,3.6,1.95,4.35,1.833,3.917,4.2,1.75,4.7,2.167,1.75,4.8,1.6,4.25,1.8,1.75,3.45,3.067,4.533,3.6,1.967,4.083,3.85,4.433,4.3,4.467,3.367,4.033,3.833,2.017,1.867,4.833,1.833,4.783,4.35,1.883,4.567,1.75,4.533,3.317,3.833,2.1,4.633,2.0,4.8,4.716,1.833,4.833,1.733,4.883,3.717,1.6669999999999998,4.567,4.317,2.233,4.5,1.75,4.8,1.817,4.4,4.167,4.7,2.067,4.7,4.033,1.967,4.5,4.0,1.983,5.067,2.017,4.567,3.883,3.6,4.133,4.333,4.1,2.633,4.067,4.933,3.95,4.517,2.167,4.0,2.2,4.333,1.867,4.817,1.833,4.3,4.667,3.75,1.867,4.9,2.483,4.367,2.1,4.5,4.05,1.867,4.7,1.783,4.85,3.683,4.7330000000000005,2.3,4.9,4.417,1.7,4.633,2.317,4.6,1.817,4.417,2.617,4.067,4.25,1.967,4.6,3.767,1.917,4.5,2.267,4.65,1.867,4.167,2.8,4.333,1.833,4.383,1.883,4.933,2.033,3.733,4.2330000000000005,2.233,4.533,4.817,4.333,1.983,4.633,2.017,5.1,1.8,5.033,4.0,2.4,4.6,3.567,4.0,4.5,4.083,1.8,3.967,2.2,4.15,2.0,3.833,3.5,4.583,2.367,5.0,1.933,4.617,1.917,2.083,4.583,3.333,4.167,4.333,4.5,2.417,4.0,4.167,1.883,4.583,4.25,3.767,2.033,4.433,4.083,1.833,4.417,2.1830000000000003,4.8,1.833,4.8,4.1,3.966,4.2330000000000005,3.5,4.3660000000000005,2.25,4.667,2.1,4.35,4.133,1.867,4.6,1.783,4.367,3.85,1.933,4.5,2.383,4.7,1.867,3.833,3.417,4.2330000000000005,2.4,4.8,2.0,4.15,1.867,4.267,1.75,4.4830000000000005,4.0,4.117,4.083,4.267,3.917,4.55,4.083,2.417,4.183,2.217,4.45,1.883,1.85,4.283,3.95,2.333,4.15,2.35,4.933,2.9,4.583,3.833,2.083,4.367,2.133,4.35,2.2,4.45,3.567,4.5,4.15,3.817,3.917,4.45,2.0,4.283,4.767,4.533,1.85,4.25,1.983,2.25,4.75,4.117,2.15,4.417,1.817,4.467],\"yaxis\":\"y\",\"type\":\"scatter\"},{\"hovertemplate\":\"\\u003cb\\u003eOLS trendline\\u003c\\u002fb\\u003e\\u003cbr\\u003eduration = 0.0756279 * waiting + -1.87402\\u003cbr\\u003eR\\u003csup\\u003e2\\u003c\\u002fsup\\u003e=0.811461\\u003cbr\\u003e\\u003cbr\\u003ewaiting=%{x}\\u003cbr\\u003eduration=%{y} \\u003cb\\u003e(trend)\\u003c\\u002fb\\u003e\\u003cextra\\u003e\\u003c\\u002fextra\\u003e\",\"legendgroup\":\"\",\"marker\":{\"color\":\"#636efa\",\"symbol\":\"circle\"},\"mode\":\"lines\",\"name\":\"\",\"showlegend\":false,\"x\":[43,45,45,45,46,46,46,46,46,47,47,47,47,48,48,48,49,49,49,49,49,50,50,50,50,50,51,51,51,51,51,51,52,52,52,52,52,53,53,53,53,53,53,53,54,54,54,54,54,54,54,54,54,55,55,55,55,55,55,56,56,56,56,57,57,57,58,58,58,58,59,59,59,59,59,59,59,60,60,60,60,60,60,62,62,62,62,63,63,63,64,64,64,64,65,65,65,66,66,67,68,69,69,70,70,70,70,71,71,71,71,71,72,73,73,73,73,73,73,73,74,74,74,74,74,74,75,75,75,75,75,75,75,75,76,76,76,76,76,76,76,76,76,77,77,77,77,77,77,77,77,77,77,77,77,78,78,78,78,78,78,78,78,78,78,78,78,78,78,78,79,79,79,79,79,79,79,79,79,79,80,80,80,80,80,80,80,80,81,81,81,81,81,81,81,81,81,81,81,81,81,82,82,82,82,82,82,82,82,82,82,82,82,83,83,83,83,83,83,83,83,83,83,83,83,83,83,84,84,84,84,84,84,84,84,84,84,85,85,85,85,85,85,86,86,86,86,86,86,87,87,88,88,88,88,88,88,89,89,89,90,90,90,90,90,90,91,92,93,93,94,96],\"xaxis\":\"x\",\"y\":[1.3779857755193614,1.5292416714230868,1.5292416714230868,1.5292416714230868,1.6048696193749494,1.6048696193749494,1.6048696193749494,1.6048696193749494,1.6048696193749494,1.680497567326812,1.680497567326812,1.680497567326812,1.680497567326812,1.7561255152786748,1.7561255152786748,1.7561255152786748,1.8317534632305374,1.8317534632305374,1.8317534632305374,1.8317534632305374,1.8317534632305374,1.9073814111824001,1.9073814111824001,1.9073814111824001,1.9073814111824001,1.9073814111824001,1.9830093591342628,1.9830093591342628,1.9830093591342628,1.9830093591342628,1.9830093591342628,1.9830093591342628,2.0586373070861255,2.0586373070861255,2.0586373070861255,2.0586373070861255,2.0586373070861255,2.1342652550379886,2.1342652550379886,2.1342652550379886,2.1342652550379886,2.1342652550379886,2.1342652550379886,2.1342652550379886,2.2098932029898513,2.2098932029898513,2.2098932029898513,2.2098932029898513,2.2098932029898513,2.2098932029898513,2.2098932029898513,2.2098932029898513,2.2098932029898513,2.285521150941714,2.285521150941714,2.285521150941714,2.285521150941714,2.285521150941714,2.285521150941714,2.3611490988935766,2.3611490988935766,2.3611490988935766,2.3611490988935766,2.4367770468454393,2.4367770468454393,2.4367770468454393,2.512404994797302,2.512404994797302,2.512404994797302,2.512404994797302,2.5880329427491646,2.5880329427491646,2.5880329427491646,2.5880329427491646,2.5880329427491646,2.5880329427491646,2.5880329427491646,2.6636608907010273,2.6636608907010273,2.6636608907010273,2.6636608907010273,2.6636608907010273,2.6636608907010273,2.8149167866047526,2.8149167866047526,2.8149167866047526,2.8149167866047526,2.8905447345566153,2.8905447345566153,2.8905447345566153,2.966172682508478,2.966172682508478,2.966172682508478,2.966172682508478,3.0418006304603407,3.0418006304603407,3.0418006304603407,3.1174285784122033,3.1174285784122033,3.193056526364066,3.2686844743159287,3.3443124222677914,3.3443124222677914,3.419940370219654,3.419940370219654,3.419940370219654,3.419940370219654,3.4955683181715167,3.4955683181715167,3.4955683181715167,3.4955683181715167,3.4955683181715167,3.5711962661233794,3.646824214075242,3.646824214075242,3.646824214075242,3.646824214075242,3.646824214075242,3.646824214075242,3.646824214075242,3.7224521620271047,3.7224521620271047,3.7224521620271047,3.7224521620271047,3.7224521620271047,3.7224521620271047,3.7980801099789674,3.7980801099789674,3.7980801099789674,3.7980801099789674,3.7980801099789674,3.7980801099789674,3.7980801099789674,3.7980801099789674,3.87370805793083,3.87370805793083,3.87370805793083,3.87370805793083,3.87370805793083,3.87370805793083,3.87370805793083,3.87370805793083,3.87370805793083,3.9493360058826927,3.9493360058826927,3.9493360058826927,3.9493360058826927,3.9493360058826927,3.9493360058826927,3.9493360058826927,3.9493360058826927,3.9493360058826927,3.9493360058826927,3.9493360058826927,3.9493360058826927,4.024963953834556,4.024963953834556,4.024963953834556,4.024963953834556,4.024963953834556,4.024963953834556,4.024963953834556,4.024963953834556,4.024963953834556,4.024963953834556,4.024963953834556,4.024963953834556,4.024963953834556,4.024963953834556,4.024963953834556,4.100591901786418,4.100591901786418,4.100591901786418,4.100591901786418,4.100591901786418,4.100591901786418,4.100591901786418,4.100591901786418,4.100591901786418,4.100591901786418,4.176219849738281,4.176219849738281,4.176219849738281,4.176219849738281,4.176219849738281,4.176219849738281,4.176219849738281,4.176219849738281,4.251847797690145,4.251847797690145,4.251847797690145,4.251847797690145,4.251847797690145,4.251847797690145,4.251847797690145,4.251847797690145,4.251847797690145,4.251847797690145,4.251847797690145,4.251847797690145,4.251847797690145,4.3274757456420065,4.3274757456420065,4.3274757456420065,4.3274757456420065,4.3274757456420065,4.3274757456420065,4.3274757456420065,4.3274757456420065,4.3274757456420065,4.3274757456420065,4.3274757456420065,4.3274757456420065,4.40310369359387,4.40310369359387,4.40310369359387,4.40310369359387,4.40310369359387,4.40310369359387,4.40310369359387,4.40310369359387,4.40310369359387,4.40310369359387,4.40310369359387,4.40310369359387,4.40310369359387,4.40310369359387,4.478731641545732,4.478731641545732,4.478731641545732,4.478731641545732,4.478731641545732,4.478731641545732,4.478731641545732,4.478731641545732,4.478731641545732,4.478731641545732,4.5543595894975955,4.5543595894975955,4.5543595894975955,4.5543595894975955,4.5543595894975955,4.5543595894975955,4.629987537449457,4.629987537449457,4.629987537449457,4.629987537449457,4.629987537449457,4.629987537449457,4.705615485401321,4.705615485401321,4.781243433353183,4.781243433353183,4.781243433353183,4.781243433353183,4.781243433353183,4.781243433353183,4.856871381305046,4.856871381305046,4.856871381305046,4.932499329256908,4.932499329256908,4.932499329256908,4.932499329256908,4.932499329256908,4.932499329256908,5.0081272772087715,5.083755225160633,5.159383173112497,5.159383173112497,5.235011121064359,5.386267016968084],\"yaxis\":\"y\",\"type\":\"scatter\"},{\"mode\":\"lines\",\"name\":\"LOWESS Trendline\",\"x\":[43.0,45.0,45.0,45.0,46.0,46.0,46.0,46.0,46.0,47.0,47.0,47.0,47.0,48.0,48.0,48.0,49.0,49.0,49.0,49.0,49.0,50.0,50.0,50.0,50.0,50.0,51.0,51.0,51.0,51.0,51.0,51.0,52.0,52.0,52.0,52.0,52.0,53.0,53.0,53.0,53.0,53.0,53.0,53.0,54.0,54.0,54.0,54.0,54.0,54.0,54.0,54.0,54.0,55.0,55.0,55.0,55.0,55.0,55.0,56.0,56.0,56.0,56.0,57.0,57.0,57.0,58.0,58.0,58.0,58.0,59.0,59.0,59.0,59.0,59.0,59.0,59.0,60.0,60.0,60.0,60.0,60.0,60.0,62.0,62.0,62.0,62.0,63.0,63.0,63.0,64.0,64.0,64.0,64.0,65.0,65.0,65.0,66.0,66.0,67.0,68.0,69.0,69.0,70.0,70.0,70.0,70.0,71.0,71.0,71.0,71.0,71.0,72.0,73.0,73.0,73.0,73.0,73.0,73.0,73.0,74.0,74.0,74.0,74.0,74.0,74.0,75.0,75.0,75.0,75.0,75.0,75.0,75.0,75.0,76.0,76.0,76.0,76.0,76.0,76.0,76.0,76.0,76.0,77.0,77.0,77.0,77.0,77.0,77.0,77.0,77.0,77.0,77.0,77.0,77.0,78.0,78.0,78.0,78.0,78.0,78.0,78.0,78.0,78.0,78.0,78.0,78.0,78.0,78.0,78.0,79.0,79.0,79.0,79.0,79.0,79.0,79.0,79.0,79.0,79.0,80.0,80.0,80.0,80.0,80.0,80.0,80.0,80.0,81.0,81.0,81.0,81.0,81.0,81.0,81.0,81.0,81.0,81.0,81.0,81.0,81.0,82.0,82.0,82.0,82.0,82.0,82.0,82.0,82.0,82.0,82.0,82.0,82.0,83.0,83.0,83.0,83.0,83.0,83.0,83.0,83.0,83.0,83.0,83.0,83.0,83.0,83.0,84.0,84.0,84.0,84.0,84.0,84.0,84.0,84.0,84.0,84.0,85.0,85.0,85.0,85.0,85.0,85.0,86.0,86.0,86.0,86.0,86.0,86.0,87.0,87.0,88.0,88.0,88.0,88.0,88.0,88.0,89.0,89.0,89.0,90.0,90.0,90.0,90.0,90.0,90.0,91.0,92.0,93.0,93.0,94.0,96.0],\"y\":[1.9186521424072547,1.9344096504954134,1.9344096504954134,1.9344096504954134,1.9421058219420753,1.9421058219420753,1.9421058219420753,1.9421058219420753,1.9421058219420753,1.9492820922680067,1.9492820922680067,1.9492820922680067,1.9492820922680067,1.9558607302691684,1.9558607302691684,1.9558607302691684,1.962181369241891,1.962181369241891,1.962181369241891,1.962181369241891,1.962181369241891,1.969408997981721,1.969408997981721,1.969408997981721,1.969408997981721,1.969408997981721,1.979785009796234,1.979785009796234,1.979785009796234,1.979785009796234,1.979785009796234,1.979785009796234,1.989714320835026,1.989714320835026,1.989714320835026,1.989714320835026,1.989714320835026,1.9952876010759677,1.9952876010759677,1.9952876010759677,1.9952876010759677,1.9952876010759677,1.9952876010759677,1.9952876010759677,1.9936488499343459,1.9936488499343459,1.9936488499343459,1.9936488499343459,1.9936488499343459,1.9936488499343459,1.9936488499343459,1.9936488499343459,1.9936488499343459,1.99393402379364,1.99393402379364,1.99393402379364,1.99393402379364,1.99393402379364,1.99393402379364,1.9998045945748515,1.9998045945748515,1.9998045945748515,1.9998045945748515,2.0139370252003546,2.0139370252003546,2.0139370252003546,2.038699058321957,2.038699058321957,2.038699058321957,2.038699058321957,2.0955741372199967,2.0955741372199967,2.0955741372199967,2.0955741372199967,2.0955741372199967,2.0955741372199967,2.0955741372199967,2.157900404002252,2.157900404002252,2.157900404002252,2.157900404002252,2.157900404002252,2.157900404002252,2.383589177706359,2.383589177706359,2.383589177706359,2.383589177706359,2.544376577318829,2.544376577318829,2.544376577318829,2.739478107460566,2.739478107460566,2.739478107460566,2.739478107460566,2.9029176379088457,2.9029176379088457,2.9029176379088457,3.053658252690223,3.053658252690223,3.214763931658723,3.380303575331191,3.5786855265101667,3.5786855265101667,3.7849136115718265,3.7849136115718265,3.7849136115718265,3.7849136115718265,3.9459220045987813,3.9459220045987813,3.9459220045987813,3.9459220045987813,3.9459220045987813,4.074872475833141,4.179011278635363,4.179011278635363,4.179011278635363,4.179011278635363,4.179011278635363,4.179011278635363,4.179011278635363,4.253073995783976,4.253073995783976,4.253073995783976,4.253073995783976,4.253073995783976,4.253073995783976,4.318817611180992,4.318817611180992,4.318817611180992,4.318817611180992,4.318817611180992,4.318817611180992,4.318817611180992,4.318817611180992,4.331656770327086,4.331656770327086,4.331656770327086,4.331656770327086,4.331656770327086,4.331656770327086,4.331656770327086,4.331656770327086,4.331656770327086,4.346858683186571,4.346858683186571,4.346858683186571,4.346858683186571,4.346858683186571,4.346858683186571,4.346858683186571,4.346858683186571,4.346858683186571,4.346858683186571,4.346858683186571,4.346858683186571,4.341189350470698,4.341189350470698,4.341189350470698,4.341189350470698,4.341189350470698,4.341189350470698,4.341189350470698,4.341189350470698,4.341189350470698,4.341189350470698,4.341189350470698,4.341189350470698,4.341189350470698,4.341189350470698,4.341189350470698,4.336785127256803,4.336785127256803,4.336785127256803,4.336785127256803,4.336785127256803,4.336785127256803,4.336785127256803,4.336785127256803,4.336785127256803,4.336785127256803,4.332304008228884,4.332304008228884,4.332304008228884,4.332304008228884,4.332304008228884,4.332304008228884,4.332304008228884,4.332304008228884,4.351533317269229,4.351533317269229,4.351533317269229,4.351533317269229,4.351533317269229,4.351533317269229,4.351533317269229,4.351533317269229,4.351533317269229,4.351533317269229,4.351533317269229,4.351533317269229,4.351533317269229,4.353914954332693,4.353914954332693,4.353914954332693,4.353914954332693,4.353914954332693,4.353914954332693,4.353914954332693,4.353914954332693,4.353914954332693,4.353914954332693,4.353914954332693,4.353914954332693,4.363081724880589,4.363081724880589,4.363081724880589,4.363081724880589,4.363081724880589,4.363081724880589,4.363081724880589,4.363081724880589,4.363081724880589,4.363081724880589,4.363081724880589,4.363081724880589,4.363081724880589,4.363081724880589,4.3826565674434494,4.3826565674434494,4.3826565674434494,4.3826565674434494,4.3826565674434494,4.3826565674434494,4.3826565674434494,4.3826565674434494,4.3826565674434494,4.3826565674434494,4.409438439144667,4.409438439144667,4.409438439144667,4.409438439144667,4.409438439144667,4.409438439144667,4.445252114142226,4.445252114142226,4.445252114142226,4.445252114142226,4.445252114142226,4.445252114142226,4.463727351843725,4.463727351843725,4.479656149960105,4.479656149960105,4.479656149960105,4.479656149960105,4.479656149960105,4.479656149960105,4.485016934824078,4.485016934824078,4.485016934824078,4.50688251213341,4.50688251213341,4.50688251213341,4.50688251213341,4.50688251213341,4.50688251213341,4.542260097039768,4.577490663638139,4.610400813055501,4.610400813055501,4.642094388351268,4.709228776366015],\"type\":\"scatter\"}],                        {\"template\":{\"data\":{\"histogram2dcontour\":[{\"type\":\"histogram2dcontour\",\"colorbar\":{\"outlinewidth\":0,\"ticks\":\"\"},\"colorscale\":[[0.0,\"#0d0887\"],[0.1111111111111111,\"#46039f\"],[0.2222222222222222,\"#7201a8\"],[0.3333333333333333,\"#9c179e\"],[0.4444444444444444,\"#bd3786\"],[0.5555555555555556,\"#d8576b\"],[0.6666666666666666,\"#ed7953\"],[0.7777777777777778,\"#fb9f3a\"],[0.8888888888888888,\"#fdca26\"],[1.0,\"#f0f921\"]]}],\"choropleth\":[{\"type\":\"choropleth\",\"colorbar\":{\"outlinewidth\":0,\"ticks\":\"\"}}],\"histogram2d\":[{\"type\":\"histogram2d\",\"colorbar\":{\"outlinewidth\":0,\"ticks\":\"\"},\"colorscale\":[[0.0,\"#0d0887\"],[0.1111111111111111,\"#46039f\"],[0.2222222222222222,\"#7201a8\"],[0.3333333333333333,\"#9c179e\"],[0.4444444444444444,\"#bd3786\"],[0.5555555555555556,\"#d8576b\"],[0.6666666666666666,\"#ed7953\"],[0.7777777777777778,\"#fb9f3a\"],[0.8888888888888888,\"#fdca26\"],[1.0,\"#f0f921\"]]}],\"heatmap\":[{\"type\":\"heatmap\",\"colorbar\":{\"outlinewidth\":0,\"ticks\":\"\"},\"colorscale\":[[0.0,\"#0d0887\"],[0.1111111111111111,\"#46039f\"],[0.2222222222222222,\"#7201a8\"],[0.3333333333333333,\"#9c179e\"],[0.4444444444444444,\"#bd3786\"],[0.5555555555555556,\"#d8576b\"],[0.6666666666666666,\"#ed7953\"],[0.7777777777777778,\"#fb9f3a\"],[0.8888888888888888,\"#fdca26\"],[1.0,\"#f0f921\"]]}],\"heatmapgl\":[{\"type\":\"heatmapgl\",\"colorbar\":{\"outlinewidth\":0,\"ticks\":\"\"},\"colorscale\":[[0.0,\"#0d0887\"],[0.1111111111111111,\"#46039f\"],[0.2222222222222222,\"#7201a8\"],[0.3333333333333333,\"#9c179e\"],[0.4444444444444444,\"#bd3786\"],[0.5555555555555556,\"#d8576b\"],[0.6666666666666666,\"#ed7953\"],[0.7777777777777778,\"#fb9f3a\"],[0.8888888888888888,\"#fdca26\"],[1.0,\"#f0f921\"]]}],\"contourcarpet\":[{\"type\":\"contourcarpet\",\"colorbar\":{\"outlinewidth\":0,\"ticks\":\"\"}}],\"contour\":[{\"type\":\"contour\",\"colorbar\":{\"outlinewidth\":0,\"ticks\":\"\"},\"colorscale\":[[0.0,\"#0d0887\"],[0.1111111111111111,\"#46039f\"],[0.2222222222222222,\"#7201a8\"],[0.3333333333333333,\"#9c179e\"],[0.4444444444444444,\"#bd3786\"],[0.5555555555555556,\"#d8576b\"],[0.6666666666666666,\"#ed7953\"],[0.7777777777777778,\"#fb9f3a\"],[0.8888888888888888,\"#fdca26\"],[1.0,\"#f0f921\"]]}],\"surface\":[{\"type\":\"surface\",\"colorbar\":{\"outlinewidth\":0,\"ticks\":\"\"},\"colorscale\":[[0.0,\"#0d0887\"],[0.1111111111111111,\"#46039f\"],[0.2222222222222222,\"#7201a8\"],[0.3333333333333333,\"#9c179e\"],[0.4444444444444444,\"#bd3786\"],[0.5555555555555556,\"#d8576b\"],[0.6666666666666666,\"#ed7953\"],[0.7777777777777778,\"#fb9f3a\"],[0.8888888888888888,\"#fdca26\"],[1.0,\"#f0f921\"]]}],\"mesh3d\":[{\"type\":\"mesh3d\",\"colorbar\":{\"outlinewidth\":0,\"ticks\":\"\"}}],\"scatter\":[{\"fillpattern\":{\"fillmode\":\"overlay\",\"size\":10,\"solidity\":0.2},\"type\":\"scatter\"}],\"parcoords\":[{\"type\":\"parcoords\",\"line\":{\"colorbar\":{\"outlinewidth\":0,\"ticks\":\"\"}}}],\"scatterpolargl\":[{\"type\":\"scatterpolargl\",\"marker\":{\"colorbar\":{\"outlinewidth\":0,\"ticks\":\"\"}}}],\"bar\":[{\"error_x\":{\"color\":\"#2a3f5f\"},\"error_y\":{\"color\":\"#2a3f5f\"},\"marker\":{\"line\":{\"color\":\"#E5ECF6\",\"width\":0.5},\"pattern\":{\"fillmode\":\"overlay\",\"size\":10,\"solidity\":0.2}},\"type\":\"bar\"}],\"scattergeo\":[{\"type\":\"scattergeo\",\"marker\":{\"colorbar\":{\"outlinewidth\":0,\"ticks\":\"\"}}}],\"scatterpolar\":[{\"type\":\"scatterpolar\",\"marker\":{\"colorbar\":{\"outlinewidth\":0,\"ticks\":\"\"}}}],\"histogram\":[{\"marker\":{\"pattern\":{\"fillmode\":\"overlay\",\"size\":10,\"solidity\":0.2}},\"type\":\"histogram\"}],\"scattergl\":[{\"type\":\"scattergl\",\"marker\":{\"colorbar\":{\"outlinewidth\":0,\"ticks\":\"\"}}}],\"scatter3d\":[{\"type\":\"scatter3d\",\"line\":{\"colorbar\":{\"outlinewidth\":0,\"ticks\":\"\"}},\"marker\":{\"colorbar\":{\"outlinewidth\":0,\"ticks\":\"\"}}}],\"scattermapbox\":[{\"type\":\"scattermapbox\",\"marker\":{\"colorbar\":{\"outlinewidth\":0,\"ticks\":\"\"}}}],\"scatterternary\":[{\"type\":\"scatterternary\",\"marker\":{\"colorbar\":{\"outlinewidth\":0,\"ticks\":\"\"}}}],\"scattercarpet\":[{\"type\":\"scattercarpet\",\"marker\":{\"colorbar\":{\"outlinewidth\":0,\"ticks\":\"\"}}}],\"carpet\":[{\"aaxis\":{\"endlinecolor\":\"#2a3f5f\",\"gridcolor\":\"white\",\"linecolor\":\"white\",\"minorgridcolor\":\"white\",\"startlinecolor\":\"#2a3f5f\"},\"baxis\":{\"endlinecolor\":\"#2a3f5f\",\"gridcolor\":\"white\",\"linecolor\":\"white\",\"minorgridcolor\":\"white\",\"startlinecolor\":\"#2a3f5f\"},\"type\":\"carpet\"}],\"table\":[{\"cells\":{\"fill\":{\"color\":\"#EBF0F8\"},\"line\":{\"color\":\"white\"}},\"header\":{\"fill\":{\"color\":\"#C8D4E3\"},\"line\":{\"color\":\"white\"}},\"type\":\"table\"}],\"barpolar\":[{\"marker\":{\"line\":{\"color\":\"#E5ECF6\",\"width\":0.5},\"pattern\":{\"fillmode\":\"overlay\",\"size\":10,\"solidity\":0.2}},\"type\":\"barpolar\"}],\"pie\":[{\"automargin\":true,\"type\":\"pie\"}]},\"layout\":{\"autotypenumbers\":\"strict\",\"colorway\":[\"#636efa\",\"#EF553B\",\"#00cc96\",\"#ab63fa\",\"#FFA15A\",\"#19d3f3\",\"#FF6692\",\"#B6E880\",\"#FF97FF\",\"#FECB52\"],\"font\":{\"color\":\"#2a3f5f\"},\"hovermode\":\"closest\",\"hoverlabel\":{\"align\":\"left\"},\"paper_bgcolor\":\"white\",\"plot_bgcolor\":\"#E5ECF6\",\"polar\":{\"bgcolor\":\"#E5ECF6\",\"angularaxis\":{\"gridcolor\":\"white\",\"linecolor\":\"white\",\"ticks\":\"\"},\"radialaxis\":{\"gridcolor\":\"white\",\"linecolor\":\"white\",\"ticks\":\"\"}},\"ternary\":{\"bgcolor\":\"#E5ECF6\",\"aaxis\":{\"gridcolor\":\"white\",\"linecolor\":\"white\",\"ticks\":\"\"},\"baxis\":{\"gridcolor\":\"white\",\"linecolor\":\"white\",\"ticks\":\"\"},\"caxis\":{\"gridcolor\":\"white\",\"linecolor\":\"white\",\"ticks\":\"\"}},\"coloraxis\":{\"colorbar\":{\"outlinewidth\":0,\"ticks\":\"\"}},\"colorscale\":{\"sequential\":[[0.0,\"#0d0887\"],[0.1111111111111111,\"#46039f\"],[0.2222222222222222,\"#7201a8\"],[0.3333333333333333,\"#9c179e\"],[0.4444444444444444,\"#bd3786\"],[0.5555555555555556,\"#d8576b\"],[0.6666666666666666,\"#ed7953\"],[0.7777777777777778,\"#fb9f3a\"],[0.8888888888888888,\"#fdca26\"],[1.0,\"#f0f921\"]],\"sequentialminus\":[[0.0,\"#0d0887\"],[0.1111111111111111,\"#46039f\"],[0.2222222222222222,\"#7201a8\"],[0.3333333333333333,\"#9c179e\"],[0.4444444444444444,\"#bd3786\"],[0.5555555555555556,\"#d8576b\"],[0.6666666666666666,\"#ed7953\"],[0.7777777777777778,\"#fb9f3a\"],[0.8888888888888888,\"#fdca26\"],[1.0,\"#f0f921\"]],\"diverging\":[[0,\"#8e0152\"],[0.1,\"#c51b7d\"],[0.2,\"#de77ae\"],[0.3,\"#f1b6da\"],[0.4,\"#fde0ef\"],[0.5,\"#f7f7f7\"],[0.6,\"#e6f5d0\"],[0.7,\"#b8e186\"],[0.8,\"#7fbc41\"],[0.9,\"#4d9221\"],[1,\"#276419\"]]},\"xaxis\":{\"gridcolor\":\"white\",\"linecolor\":\"white\",\"ticks\":\"\",\"title\":{\"standoff\":15},\"zerolinecolor\":\"white\",\"automargin\":true,\"zerolinewidth\":2},\"yaxis\":{\"gridcolor\":\"white\",\"linecolor\":\"white\",\"ticks\":\"\",\"title\":{\"standoff\":15},\"zerolinecolor\":\"white\",\"automargin\":true,\"zerolinewidth\":2},\"scene\":{\"xaxis\":{\"backgroundcolor\":\"#E5ECF6\",\"gridcolor\":\"white\",\"linecolor\":\"white\",\"showbackground\":true,\"ticks\":\"\",\"zerolinecolor\":\"white\",\"gridwidth\":2},\"yaxis\":{\"backgroundcolor\":\"#E5ECF6\",\"gridcolor\":\"white\",\"linecolor\":\"white\",\"showbackground\":true,\"ticks\":\"\",\"zerolinecolor\":\"white\",\"gridwidth\":2},\"zaxis\":{\"backgroundcolor\":\"#E5ECF6\",\"gridcolor\":\"white\",\"linecolor\":\"white\",\"showbackground\":true,\"ticks\":\"\",\"zerolinecolor\":\"white\",\"gridwidth\":2}},\"shapedefaults\":{\"line\":{\"color\":\"#2a3f5f\"}},\"annotationdefaults\":{\"arrowcolor\":\"#2a3f5f\",\"arrowhead\":0,\"arrowwidth\":1},\"geo\":{\"bgcolor\":\"white\",\"landcolor\":\"#E5ECF6\",\"subunitcolor\":\"white\",\"showland\":true,\"showlakes\":true,\"lakecolor\":\"white\"},\"title\":{\"x\":0.05},\"mapbox\":{\"style\":\"light\"}}},\"xaxis\":{\"anchor\":\"y\",\"domain\":[0.0,1.0],\"title\":{\"text\":\"waiting\"}},\"yaxis\":{\"anchor\":\"x\",\"domain\":[0.0,1.0],\"title\":{\"text\":\"duration\"}},\"legend\":{\"tracegroupgap\":0},\"title\":{\"text\":\"Old Faithful Geyser Eruptions\"}},                        {\"responsive\": true}                    ).then(function(){\n",
       "                            \n",
       "var gd = document.getElementById('622e6a5f-20f0-4b7e-a315-85efdedca202');\n",
       "var x = new MutationObserver(function (mutations, observer) {{\n",
       "        var display = window.getComputedStyle(gd).display;\n",
       "        if (!display || display === 'none') {{\n",
       "            console.log([gd, 'removed!']);\n",
       "            Plotly.purge(gd);\n",
       "            observer.disconnect();\n",
       "        }}\n",
       "}});\n",
       "\n",
       "// Listen for the removal of the full notebook cells\n",
       "var notebookContainer = gd.closest('#notebook-container');\n",
       "if (notebookContainer) {{\n",
       "    x.observe(notebookContainer, {childList: true});\n",
       "}}\n",
       "\n",
       "// Listen for the clearing of the current output cell\n",
       "var outputEl = gd.closest('.output');\n",
       "if (outputEl) {{\n",
       "    x.observe(outputEl, {childList: true});\n",
       "}}\n",
       "\n",
       "                        })                };                });            </script>        </div>"
      ]
     },
     "metadata": {},
     "output_type": "display_data"
    }
   ],
   "source": [
    "import plotly.express as px\n",
    "import seaborn as sns\n",
    "import statsmodels.api as sm\n",
    "\n",
    "# The \"Classic\" Old Faithful Geyser dataset: ask a ChatBot for more details if desired\n",
    "old_faithful = sns.load_dataset('geyser')\n",
    "\n",
    "# Create a scatter plot with a Simple Linear Regression trendline\n",
    "fig = px.scatter(old_faithful, x='waiting', y='duration', \n",
    "                 title=\"Old Faithful Geyser Eruptions\", \n",
    "                 trendline='ols')#'lowess'\n",
    "\n",
    "# Add a smoothed LOWESS Trendline to the scatter plot\n",
    "lowess = sm.nonparametric.lowess  # Adjust 'frac' to change \"smoothness bandwidth\"\n",
    "smoothed = lowess(old_faithful['duration'], old_faithful['waiting'], frac=0.25)  \n",
    "smoothed_df = pd.DataFrame(smoothed, columns=['waiting', 'smoothed_duration'])\n",
    "fig.add_scatter(x=smoothed_df['waiting'], y=smoothed_df['smoothed_duration'], \n",
    "                mode='lines', name='LOWESS Trendline')\n",
    "\n",
    "fig.show() # USE `fig.show(renderer=\"png\")` FOR ALL GitHub and MarkUs SUBMISSIONS"
   ]
  },
  {
   "cell_type": "markdown",
   "id": "b0db85ec",
   "metadata": {},
   "source": [
    "### 8. Specify a *null hypothesis* of \"no linear association (on average)\" in terms of the relevant *parameter* of the *Simple Linear Regression* model, and use the code below to characterize the evidence in the data relative to the *null hypothesis* and interpret your subsequent beliefs regarding the Old Faithful Geyser dataset.<br>\n",
    "\n",
    "The null hypothesis of no linear association(on average) can be write as Ho: B1=0. B1 is the slope of regression line, so B1=0 means there is no linear relationship between duration and waiting time. In this data, the OLS result shows the p=value for the 'waiting' variable is close to 0, which show strong evidence reject H0. To reject the null hypothesis, also shows that there is a significant linear association between duration and waiting time."
   ]
  },
  {
   "cell_type": "code",
   "execution_count": 16,
   "id": "45592ee4",
   "metadata": {},
   "outputs": [
    {
     "data": {
      "text/html": [
       "<table class=\"simpletable\">\n",
       "<caption>OLS Regression Results</caption>\n",
       "<tr>\n",
       "  <th>Dep. Variable:</th>        <td>duration</td>     <th>  R-squared:         </th> <td>   0.811</td> \n",
       "</tr>\n",
       "<tr>\n",
       "  <th>Model:</th>                   <td>OLS</td>       <th>  Adj. R-squared:    </th> <td>   0.811</td> \n",
       "</tr>\n",
       "<tr>\n",
       "  <th>Method:</th>             <td>Least Squares</td>  <th>  F-statistic:       </th> <td>   1162.</td> \n",
       "</tr>\n",
       "<tr>\n",
       "  <th>Date:</th>             <td>Fri, 08 Nov 2024</td> <th>  Prob (F-statistic):</th> <td>8.13e-100</td>\n",
       "</tr>\n",
       "<tr>\n",
       "  <th>Time:</th>                 <td>02:09:52</td>     <th>  Log-Likelihood:    </th> <td> -194.51</td> \n",
       "</tr>\n",
       "<tr>\n",
       "  <th>No. Observations:</th>      <td>   272</td>      <th>  AIC:               </th> <td>   393.0</td> \n",
       "</tr>\n",
       "<tr>\n",
       "  <th>Df Residuals:</th>          <td>   270</td>      <th>  BIC:               </th> <td>   400.2</td> \n",
       "</tr>\n",
       "<tr>\n",
       "  <th>Df Model:</th>              <td>     1</td>      <th>                     </th>     <td> </td>    \n",
       "</tr>\n",
       "<tr>\n",
       "  <th>Covariance Type:</th>      <td>nonrobust</td>    <th>                     </th>     <td> </td>    \n",
       "</tr>\n",
       "</table>\n",
       "<table class=\"simpletable\">\n",
       "<tr>\n",
       "      <td></td>         <th>coef</th>     <th>std err</th>      <th>t</th>      <th>P>|t|</th>  <th>[0.025</th>    <th>0.975]</th>  \n",
       "</tr>\n",
       "<tr>\n",
       "  <th>Intercept</th> <td>   -1.8740</td> <td>    0.160</td> <td>  -11.702</td> <td> 0.000</td> <td>   -2.189</td> <td>   -1.559</td>\n",
       "</tr>\n",
       "<tr>\n",
       "  <th>waiting</th>   <td>    0.0756</td> <td>    0.002</td> <td>   34.089</td> <td> 0.000</td> <td>    0.071</td> <td>    0.080</td>\n",
       "</tr>\n",
       "</table>\n",
       "<table class=\"simpletable\">\n",
       "<tr>\n",
       "  <th>Omnibus:</th>       <td> 4.133</td> <th>  Durbin-Watson:     </th> <td>   2.561</td>\n",
       "</tr>\n",
       "<tr>\n",
       "  <th>Prob(Omnibus):</th> <td> 0.127</td> <th>  Jarque-Bera (JB):  </th> <td>   3.173</td>\n",
       "</tr>\n",
       "<tr>\n",
       "  <th>Skew:</th>          <td>-0.138</td> <th>  Prob(JB):          </th> <td>   0.205</td>\n",
       "</tr>\n",
       "<tr>\n",
       "  <th>Kurtosis:</th>      <td> 2.548</td> <th>  Cond. No.          </th> <td>    384.</td>\n",
       "</tr>\n",
       "</table><br/><br/>Notes:<br/>[1] Standard Errors assume that the covariance matrix of the errors is correctly specified."
      ],
      "text/latex": [
       "\\begin{center}\n",
       "\\begin{tabular}{lclc}\n",
       "\\toprule\n",
       "\\textbf{Dep. Variable:}    &     duration     & \\textbf{  R-squared:         } &     0.811   \\\\\n",
       "\\textbf{Model:}            &       OLS        & \\textbf{  Adj. R-squared:    } &     0.811   \\\\\n",
       "\\textbf{Method:}           &  Least Squares   & \\textbf{  F-statistic:       } &     1162.   \\\\\n",
       "\\textbf{Date:}             & Fri, 08 Nov 2024 & \\textbf{  Prob (F-statistic):} & 8.13e-100   \\\\\n",
       "\\textbf{Time:}             &     02:09:52     & \\textbf{  Log-Likelihood:    } &   -194.51   \\\\\n",
       "\\textbf{No. Observations:} &         272      & \\textbf{  AIC:               } &     393.0   \\\\\n",
       "\\textbf{Df Residuals:}     &         270      & \\textbf{  BIC:               } &     400.2   \\\\\n",
       "\\textbf{Df Model:}         &           1      & \\textbf{                     } &             \\\\\n",
       "\\textbf{Covariance Type:}  &    nonrobust     & \\textbf{                     } &             \\\\\n",
       "\\bottomrule\n",
       "\\end{tabular}\n",
       "\\begin{tabular}{lcccccc}\n",
       "                   & \\textbf{coef} & \\textbf{std err} & \\textbf{t} & \\textbf{P$> |$t$|$} & \\textbf{[0.025} & \\textbf{0.975]}  \\\\\n",
       "\\midrule\n",
       "\\textbf{Intercept} &      -1.8740  &        0.160     &   -11.702  &         0.000        &       -2.189    &       -1.559     \\\\\n",
       "\\textbf{waiting}   &       0.0756  &        0.002     &    34.089  &         0.000        &        0.071    &        0.080     \\\\\n",
       "\\bottomrule\n",
       "\\end{tabular}\n",
       "\\begin{tabular}{lclc}\n",
       "\\textbf{Omnibus:}       &  4.133 & \\textbf{  Durbin-Watson:     } &    2.561  \\\\\n",
       "\\textbf{Prob(Omnibus):} &  0.127 & \\textbf{  Jarque-Bera (JB):  } &    3.173  \\\\\n",
       "\\textbf{Skew:}          & -0.138 & \\textbf{  Prob(JB):          } &    0.205  \\\\\n",
       "\\textbf{Kurtosis:}      &  2.548 & \\textbf{  Cond. No.          } &     384.  \\\\\n",
       "\\bottomrule\n",
       "\\end{tabular}\n",
       "%\\caption{OLS Regression Results}\n",
       "\\end{center}\n",
       "\n",
       "Notes: \\newline\n",
       " [1] Standard Errors assume that the covariance matrix of the errors is correctly specified."
      ],
      "text/plain": [
       "<class 'statsmodels.iolib.summary.Summary'>\n",
       "\"\"\"\n",
       "                            OLS Regression Results                            \n",
       "==============================================================================\n",
       "Dep. Variable:               duration   R-squared:                       0.811\n",
       "Model:                            OLS   Adj. R-squared:                  0.811\n",
       "Method:                 Least Squares   F-statistic:                     1162.\n",
       "Date:                Fri, 08 Nov 2024   Prob (F-statistic):          8.13e-100\n",
       "Time:                        02:09:52   Log-Likelihood:                -194.51\n",
       "No. Observations:                 272   AIC:                             393.0\n",
       "Df Residuals:                     270   BIC:                             400.2\n",
       "Df Model:                           1                                         \n",
       "Covariance Type:            nonrobust                                         \n",
       "==============================================================================\n",
       "                 coef    std err          t      P>|t|      [0.025      0.975]\n",
       "------------------------------------------------------------------------------\n",
       "Intercept     -1.8740      0.160    -11.702      0.000      -2.189      -1.559\n",
       "waiting        0.0756      0.002     34.089      0.000       0.071       0.080\n",
       "==============================================================================\n",
       "Omnibus:                        4.133   Durbin-Watson:                   2.561\n",
       "Prob(Omnibus):                  0.127   Jarque-Bera (JB):                3.173\n",
       "Skew:                          -0.138   Prob(JB):                        0.205\n",
       "Kurtosis:                       2.548   Cond. No.                         384.\n",
       "==============================================================================\n",
       "\n",
       "Notes:\n",
       "[1] Standard Errors assume that the covariance matrix of the errors is correctly specified.\n",
       "\"\"\""
      ]
     },
     "execution_count": 16,
     "metadata": {},
     "output_type": "execute_result"
    }
   ],
   "source": [
    "import seaborn as sns\n",
    "import statsmodels.formula.api as smf\n",
    "\n",
    "# The \"Classic\" Old Faithful Geyser dataset\n",
    "old_faithful = sns.load_dataset('geyser')\n",
    "\n",
    "linear_for_specification = 'duration ~ waiting'\n",
    "model = smf.ols(linear_for_specification, data=old_faithful)\n",
    "fitted_model = model.fit()\n",
    "fitted_model.summary()"
   ]
  },
  {
   "cell_type": "markdown",
   "id": "bd719fef",
   "metadata": {},
   "source": [
    "### 9. As seen in the introductory figure above, if the delay of the geyser eruption since the previous geyser eruption exceeds approximately 63 minutes, there is a notable increase in the duration of the geyser eruption itself. In the figure below we therefore restrict the dataset to only short wait times. Within the context of only short wait times, is there evidence in the data for a relationship between duration and wait time in the same manner as in the full data set? Using the following code, characterize the evidence against the *null hypothesis* in the context of short wait times which are less than  *short_wait_limit* values of *62*, *64*, *66*.<br>\n"
   ]
  },
  {
   "cell_type": "markdown",
   "id": "33d71226",
   "metadata": {},
   "source": [
    "To find the relationship between duration and wait time, I need to run short_wait_limit(62, 64, and 66), and determine is there is evidence against the null hypothesis through p-value. The null hypothesis is: H0: B1 = 0. B1 is the slope of the regression line. If H0 is true, there would be no linear relationship between waiting time and  duration.\n",
    "\n",
    "\n",
    "short_wait_limit = 62\n",
    "If the p-value is > 0.1, it means no significant evidence that shows linear relationship within the 62 minutes wait time. Also, the relationship between duration and waiting time are different as in the full data set.\n",
    "\n",
    "short_wait_limit = 64\n",
    "If the p-value remains high, although the wait threshold increase, still no strong evidence of a linear relationship between waiting time and duration within 63 minutes.\n",
    "\n",
    "short_wait_limit = 66\n",
    "If the p-value decreases to < 0.05, which means that we have evidence against the null hypothesis. The linear relationship between waiting time and duration within this range of short waits might exists."
   ]
  },
  {
   "cell_type": "code",
   "execution_count": 17,
   "id": "f0cd0ffd",
   "metadata": {},
   "outputs": [
    {
     "name": "stdout",
     "output_type": "stream",
     "text": [
      "==============================================================================\n",
      "                 coef    std err          t      P>|t|      [0.025      0.975]\n",
      "------------------------------------------------------------------------------\n",
      "Intercept      1.6401      0.309      5.306      0.000       1.025       2.255\n",
      "waiting        0.0069      0.006      1.188      0.238      -0.005       0.019\n",
      "==============================================================================\n"
     ]
    },
    {
     "data": {
      "application/vnd.plotly.v1+json": {
       "config": {
        "plotlyServerURL": "https://plot.ly"
       },
       "data": [
        {
         "hovertemplate": "waiting=%{x}<br>duration=%{y}<extra></extra>",
         "legendgroup": "",
         "marker": {
          "color": "#636efa",
          "symbol": "circle"
         },
         "mode": "markers",
         "name": "",
         "orientation": "v",
         "showlegend": false,
         "type": "scatter",
         "x": [
          54,
          55,
          51,
          54,
          47,
          52,
          52,
          51,
          47,
          55,
          52,
          48,
          59,
          58,
          58,
          53,
          59,
          54,
          54,
          59,
          48,
          60,
          56,
          60,
          48,
          60,
          50,
          51,
          49,
          47,
          52,
          59,
          59,
          50,
          59,
          53,
          56,
          45,
          55,
          45,
          56,
          46,
          51,
          53,
          60,
          59,
          49,
          53,
          53,
          45,
          58,
          52,
          49,
          57,
          50,
          55,
          51,
          46,
          55,
          57,
          51,
          60,
          53,
          46,
          49,
          49,
          53,
          55,
          50,
          54,
          54,
          50,
          54,
          54,
          47,
          57,
          54,
          56,
          58,
          43,
          60,
          46,
          46
         ],
         "xaxis": "x",
         "y": [
          1.8,
          2.883,
          1.95,
          1.833,
          1.75,
          2.167,
          1.6,
          1.8,
          1.75,
          1.967,
          2.017,
          1.867,
          1.833,
          1.883,
          1.75,
          2.1,
          2,
          1.833,
          1.733,
          2.233,
          1.75,
          1.817,
          1.967,
          2.017,
          2.167,
          2.2,
          1.867,
          1.867,
          2.1,
          1.867,
          1.783,
          2.3,
          1.7,
          2.317,
          1.817,
          2.617,
          1.967,
          1.917,
          2.267,
          1.867,
          2.8,
          1.833,
          1.883,
          2.033,
          2.233,
          1.983,
          2.017,
          1.8,
          1.8,
          2.2,
          2,
          1.933,
          1.917,
          2.083,
          2.417,
          1.883,
          2.033,
          1.833,
          2.1830000000000003,
          1.833,
          2.25,
          2.1,
          1.867,
          1.783,
          1.933,
          1.867,
          2.4,
          2,
          1.867,
          1.75,
          2.417,
          2.217,
          1.883,
          1.85,
          2.35,
          2.083,
          2.2,
          2,
          1.85,
          1.983,
          2.25,
          2.15,
          1.817
         ],
         "yaxis": "y"
        },
        {
         "hovertemplate": "<b>OLS trendline</b><br>duration = 0.00691825 * waiting + 1.64008<br>R<sup>2</sup>=0.017113<br><br>waiting=%{x}<br>duration=%{y} <b>(trend)</b><extra></extra>",
         "legendgroup": "",
         "marker": {
          "color": "#636efa",
          "symbol": "circle"
         },
         "mode": "lines",
         "name": "",
         "showlegend": false,
         "type": "scatter",
         "x": [
          43,
          45,
          45,
          45,
          46,
          46,
          46,
          46,
          46,
          47,
          47,
          47,
          47,
          48,
          48,
          48,
          49,
          49,
          49,
          49,
          49,
          50,
          50,
          50,
          50,
          50,
          51,
          51,
          51,
          51,
          51,
          51,
          52,
          52,
          52,
          52,
          52,
          53,
          53,
          53,
          53,
          53,
          53,
          53,
          54,
          54,
          54,
          54,
          54,
          54,
          54,
          54,
          54,
          55,
          55,
          55,
          55,
          55,
          55,
          56,
          56,
          56,
          56,
          57,
          57,
          57,
          58,
          58,
          58,
          58,
          59,
          59,
          59,
          59,
          59,
          59,
          59,
          60,
          60,
          60,
          60,
          60,
          60
         ],
         "xaxis": "x",
         "y": [
          1.9375657137914635,
          1.9514022113624248,
          1.9514022113624248,
          1.9514022113624248,
          1.9583204601479052,
          1.9583204601479052,
          1.9583204601479052,
          1.9583204601479052,
          1.9583204601479052,
          1.9652387089333858,
          1.9652387089333858,
          1.9652387089333858,
          1.9652387089333858,
          1.9721569577188665,
          1.9721569577188665,
          1.9721569577188665,
          1.9790752065043469,
          1.9790752065043469,
          1.9790752065043469,
          1.9790752065043469,
          1.9790752065043469,
          1.9859934552898275,
          1.9859934552898275,
          1.9859934552898275,
          1.9859934552898275,
          1.9859934552898275,
          1.9929117040753082,
          1.9929117040753082,
          1.9929117040753082,
          1.9929117040753082,
          1.9929117040753082,
          1.9929117040753082,
          1.9998299528607888,
          1.9998299528607888,
          1.9998299528607888,
          1.9998299528607888,
          1.9998299528607888,
          2.0067482016462694,
          2.0067482016462694,
          2.0067482016462694,
          2.0067482016462694,
          2.0067482016462694,
          2.0067482016462694,
          2.0067482016462694,
          2.01366645043175,
          2.01366645043175,
          2.01366645043175,
          2.01366645043175,
          2.01366645043175,
          2.01366645043175,
          2.01366645043175,
          2.01366645043175,
          2.01366645043175,
          2.0205846992172303,
          2.0205846992172303,
          2.0205846992172303,
          2.0205846992172303,
          2.0205846992172303,
          2.0205846992172303,
          2.027502948002711,
          2.027502948002711,
          2.027502948002711,
          2.027502948002711,
          2.0344211967881916,
          2.0344211967881916,
          2.0344211967881916,
          2.0413394455736724,
          2.0413394455736724,
          2.0413394455736724,
          2.0413394455736724,
          2.048257694359153,
          2.048257694359153,
          2.048257694359153,
          2.048257694359153,
          2.048257694359153,
          2.048257694359153,
          2.048257694359153,
          2.0551759431446337,
          2.0551759431446337,
          2.0551759431446337,
          2.0551759431446337,
          2.0551759431446337,
          2.0551759431446337
         ],
         "yaxis": "y"
        }
       ],
       "layout": {
        "legend": {
         "tracegroupgap": 0
        },
        "template": {
         "data": {
          "bar": [
           {
            "error_x": {
             "color": "#2a3f5f"
            },
            "error_y": {
             "color": "#2a3f5f"
            },
            "marker": {
             "line": {
              "color": "#E5ECF6",
              "width": 0.5
             },
             "pattern": {
              "fillmode": "overlay",
              "size": 10,
              "solidity": 0.2
             }
            },
            "type": "bar"
           }
          ],
          "barpolar": [
           {
            "marker": {
             "line": {
              "color": "#E5ECF6",
              "width": 0.5
             },
             "pattern": {
              "fillmode": "overlay",
              "size": 10,
              "solidity": 0.2
             }
            },
            "type": "barpolar"
           }
          ],
          "carpet": [
           {
            "aaxis": {
             "endlinecolor": "#2a3f5f",
             "gridcolor": "white",
             "linecolor": "white",
             "minorgridcolor": "white",
             "startlinecolor": "#2a3f5f"
            },
            "baxis": {
             "endlinecolor": "#2a3f5f",
             "gridcolor": "white",
             "linecolor": "white",
             "minorgridcolor": "white",
             "startlinecolor": "#2a3f5f"
            },
            "type": "carpet"
           }
          ],
          "choropleth": [
           {
            "colorbar": {
             "outlinewidth": 0,
             "ticks": ""
            },
            "type": "choropleth"
           }
          ],
          "contour": [
           {
            "colorbar": {
             "outlinewidth": 0,
             "ticks": ""
            },
            "colorscale": [
             [
              0,
              "#0d0887"
             ],
             [
              0.1111111111111111,
              "#46039f"
             ],
             [
              0.2222222222222222,
              "#7201a8"
             ],
             [
              0.3333333333333333,
              "#9c179e"
             ],
             [
              0.4444444444444444,
              "#bd3786"
             ],
             [
              0.5555555555555556,
              "#d8576b"
             ],
             [
              0.6666666666666666,
              "#ed7953"
             ],
             [
              0.7777777777777778,
              "#fb9f3a"
             ],
             [
              0.8888888888888888,
              "#fdca26"
             ],
             [
              1,
              "#f0f921"
             ]
            ],
            "type": "contour"
           }
          ],
          "contourcarpet": [
           {
            "colorbar": {
             "outlinewidth": 0,
             "ticks": ""
            },
            "type": "contourcarpet"
           }
          ],
          "heatmap": [
           {
            "colorbar": {
             "outlinewidth": 0,
             "ticks": ""
            },
            "colorscale": [
             [
              0,
              "#0d0887"
             ],
             [
              0.1111111111111111,
              "#46039f"
             ],
             [
              0.2222222222222222,
              "#7201a8"
             ],
             [
              0.3333333333333333,
              "#9c179e"
             ],
             [
              0.4444444444444444,
              "#bd3786"
             ],
             [
              0.5555555555555556,
              "#d8576b"
             ],
             [
              0.6666666666666666,
              "#ed7953"
             ],
             [
              0.7777777777777778,
              "#fb9f3a"
             ],
             [
              0.8888888888888888,
              "#fdca26"
             ],
             [
              1,
              "#f0f921"
             ]
            ],
            "type": "heatmap"
           }
          ],
          "heatmapgl": [
           {
            "colorbar": {
             "outlinewidth": 0,
             "ticks": ""
            },
            "colorscale": [
             [
              0,
              "#0d0887"
             ],
             [
              0.1111111111111111,
              "#46039f"
             ],
             [
              0.2222222222222222,
              "#7201a8"
             ],
             [
              0.3333333333333333,
              "#9c179e"
             ],
             [
              0.4444444444444444,
              "#bd3786"
             ],
             [
              0.5555555555555556,
              "#d8576b"
             ],
             [
              0.6666666666666666,
              "#ed7953"
             ],
             [
              0.7777777777777778,
              "#fb9f3a"
             ],
             [
              0.8888888888888888,
              "#fdca26"
             ],
             [
              1,
              "#f0f921"
             ]
            ],
            "type": "heatmapgl"
           }
          ],
          "histogram": [
           {
            "marker": {
             "pattern": {
              "fillmode": "overlay",
              "size": 10,
              "solidity": 0.2
             }
            },
            "type": "histogram"
           }
          ],
          "histogram2d": [
           {
            "colorbar": {
             "outlinewidth": 0,
             "ticks": ""
            },
            "colorscale": [
             [
              0,
              "#0d0887"
             ],
             [
              0.1111111111111111,
              "#46039f"
             ],
             [
              0.2222222222222222,
              "#7201a8"
             ],
             [
              0.3333333333333333,
              "#9c179e"
             ],
             [
              0.4444444444444444,
              "#bd3786"
             ],
             [
              0.5555555555555556,
              "#d8576b"
             ],
             [
              0.6666666666666666,
              "#ed7953"
             ],
             [
              0.7777777777777778,
              "#fb9f3a"
             ],
             [
              0.8888888888888888,
              "#fdca26"
             ],
             [
              1,
              "#f0f921"
             ]
            ],
            "type": "histogram2d"
           }
          ],
          "histogram2dcontour": [
           {
            "colorbar": {
             "outlinewidth": 0,
             "ticks": ""
            },
            "colorscale": [
             [
              0,
              "#0d0887"
             ],
             [
              0.1111111111111111,
              "#46039f"
             ],
             [
              0.2222222222222222,
              "#7201a8"
             ],
             [
              0.3333333333333333,
              "#9c179e"
             ],
             [
              0.4444444444444444,
              "#bd3786"
             ],
             [
              0.5555555555555556,
              "#d8576b"
             ],
             [
              0.6666666666666666,
              "#ed7953"
             ],
             [
              0.7777777777777778,
              "#fb9f3a"
             ],
             [
              0.8888888888888888,
              "#fdca26"
             ],
             [
              1,
              "#f0f921"
             ]
            ],
            "type": "histogram2dcontour"
           }
          ],
          "mesh3d": [
           {
            "colorbar": {
             "outlinewidth": 0,
             "ticks": ""
            },
            "type": "mesh3d"
           }
          ],
          "parcoords": [
           {
            "line": {
             "colorbar": {
              "outlinewidth": 0,
              "ticks": ""
             }
            },
            "type": "parcoords"
           }
          ],
          "pie": [
           {
            "automargin": true,
            "type": "pie"
           }
          ],
          "scatter": [
           {
            "fillpattern": {
             "fillmode": "overlay",
             "size": 10,
             "solidity": 0.2
            },
            "type": "scatter"
           }
          ],
          "scatter3d": [
           {
            "line": {
             "colorbar": {
              "outlinewidth": 0,
              "ticks": ""
             }
            },
            "marker": {
             "colorbar": {
              "outlinewidth": 0,
              "ticks": ""
             }
            },
            "type": "scatter3d"
           }
          ],
          "scattercarpet": [
           {
            "marker": {
             "colorbar": {
              "outlinewidth": 0,
              "ticks": ""
             }
            },
            "type": "scattercarpet"
           }
          ],
          "scattergeo": [
           {
            "marker": {
             "colorbar": {
              "outlinewidth": 0,
              "ticks": ""
             }
            },
            "type": "scattergeo"
           }
          ],
          "scattergl": [
           {
            "marker": {
             "colorbar": {
              "outlinewidth": 0,
              "ticks": ""
             }
            },
            "type": "scattergl"
           }
          ],
          "scattermapbox": [
           {
            "marker": {
             "colorbar": {
              "outlinewidth": 0,
              "ticks": ""
             }
            },
            "type": "scattermapbox"
           }
          ],
          "scatterpolar": [
           {
            "marker": {
             "colorbar": {
              "outlinewidth": 0,
              "ticks": ""
             }
            },
            "type": "scatterpolar"
           }
          ],
          "scatterpolargl": [
           {
            "marker": {
             "colorbar": {
              "outlinewidth": 0,
              "ticks": ""
             }
            },
            "type": "scatterpolargl"
           }
          ],
          "scatterternary": [
           {
            "marker": {
             "colorbar": {
              "outlinewidth": 0,
              "ticks": ""
             }
            },
            "type": "scatterternary"
           }
          ],
          "surface": [
           {
            "colorbar": {
             "outlinewidth": 0,
             "ticks": ""
            },
            "colorscale": [
             [
              0,
              "#0d0887"
             ],
             [
              0.1111111111111111,
              "#46039f"
             ],
             [
              0.2222222222222222,
              "#7201a8"
             ],
             [
              0.3333333333333333,
              "#9c179e"
             ],
             [
              0.4444444444444444,
              "#bd3786"
             ],
             [
              0.5555555555555556,
              "#d8576b"
             ],
             [
              0.6666666666666666,
              "#ed7953"
             ],
             [
              0.7777777777777778,
              "#fb9f3a"
             ],
             [
              0.8888888888888888,
              "#fdca26"
             ],
             [
              1,
              "#f0f921"
             ]
            ],
            "type": "surface"
           }
          ],
          "table": [
           {
            "cells": {
             "fill": {
              "color": "#EBF0F8"
             },
             "line": {
              "color": "white"
             }
            },
            "header": {
             "fill": {
              "color": "#C8D4E3"
             },
             "line": {
              "color": "white"
             }
            },
            "type": "table"
           }
          ]
         },
         "layout": {
          "annotationdefaults": {
           "arrowcolor": "#2a3f5f",
           "arrowhead": 0,
           "arrowwidth": 1
          },
          "autotypenumbers": "strict",
          "coloraxis": {
           "colorbar": {
            "outlinewidth": 0,
            "ticks": ""
           }
          },
          "colorscale": {
           "diverging": [
            [
             0,
             "#8e0152"
            ],
            [
             0.1,
             "#c51b7d"
            ],
            [
             0.2,
             "#de77ae"
            ],
            [
             0.3,
             "#f1b6da"
            ],
            [
             0.4,
             "#fde0ef"
            ],
            [
             0.5,
             "#f7f7f7"
            ],
            [
             0.6,
             "#e6f5d0"
            ],
            [
             0.7,
             "#b8e186"
            ],
            [
             0.8,
             "#7fbc41"
            ],
            [
             0.9,
             "#4d9221"
            ],
            [
             1,
             "#276419"
            ]
           ],
           "sequential": [
            [
             0,
             "#0d0887"
            ],
            [
             0.1111111111111111,
             "#46039f"
            ],
            [
             0.2222222222222222,
             "#7201a8"
            ],
            [
             0.3333333333333333,
             "#9c179e"
            ],
            [
             0.4444444444444444,
             "#bd3786"
            ],
            [
             0.5555555555555556,
             "#d8576b"
            ],
            [
             0.6666666666666666,
             "#ed7953"
            ],
            [
             0.7777777777777778,
             "#fb9f3a"
            ],
            [
             0.8888888888888888,
             "#fdca26"
            ],
            [
             1,
             "#f0f921"
            ]
           ],
           "sequentialminus": [
            [
             0,
             "#0d0887"
            ],
            [
             0.1111111111111111,
             "#46039f"
            ],
            [
             0.2222222222222222,
             "#7201a8"
            ],
            [
             0.3333333333333333,
             "#9c179e"
            ],
            [
             0.4444444444444444,
             "#bd3786"
            ],
            [
             0.5555555555555556,
             "#d8576b"
            ],
            [
             0.6666666666666666,
             "#ed7953"
            ],
            [
             0.7777777777777778,
             "#fb9f3a"
            ],
            [
             0.8888888888888888,
             "#fdca26"
            ],
            [
             1,
             "#f0f921"
            ]
           ]
          },
          "colorway": [
           "#636efa",
           "#EF553B",
           "#00cc96",
           "#ab63fa",
           "#FFA15A",
           "#19d3f3",
           "#FF6692",
           "#B6E880",
           "#FF97FF",
           "#FECB52"
          ],
          "font": {
           "color": "#2a3f5f"
          },
          "geo": {
           "bgcolor": "white",
           "lakecolor": "white",
           "landcolor": "#E5ECF6",
           "showlakes": true,
           "showland": true,
           "subunitcolor": "white"
          },
          "hoverlabel": {
           "align": "left"
          },
          "hovermode": "closest",
          "mapbox": {
           "style": "light"
          },
          "paper_bgcolor": "white",
          "plot_bgcolor": "#E5ECF6",
          "polar": {
           "angularaxis": {
            "gridcolor": "white",
            "linecolor": "white",
            "ticks": ""
           },
           "bgcolor": "#E5ECF6",
           "radialaxis": {
            "gridcolor": "white",
            "linecolor": "white",
            "ticks": ""
           }
          },
          "scene": {
           "xaxis": {
            "backgroundcolor": "#E5ECF6",
            "gridcolor": "white",
            "gridwidth": 2,
            "linecolor": "white",
            "showbackground": true,
            "ticks": "",
            "zerolinecolor": "white"
           },
           "yaxis": {
            "backgroundcolor": "#E5ECF6",
            "gridcolor": "white",
            "gridwidth": 2,
            "linecolor": "white",
            "showbackground": true,
            "ticks": "",
            "zerolinecolor": "white"
           },
           "zaxis": {
            "backgroundcolor": "#E5ECF6",
            "gridcolor": "white",
            "gridwidth": 2,
            "linecolor": "white",
            "showbackground": true,
            "ticks": "",
            "zerolinecolor": "white"
           }
          },
          "shapedefaults": {
           "line": {
            "color": "#2a3f5f"
           }
          },
          "ternary": {
           "aaxis": {
            "gridcolor": "white",
            "linecolor": "white",
            "ticks": ""
           },
           "baxis": {
            "gridcolor": "white",
            "linecolor": "white",
            "ticks": ""
           },
           "bgcolor": "#E5ECF6",
           "caxis": {
            "gridcolor": "white",
            "linecolor": "white",
            "ticks": ""
           }
          },
          "title": {
           "x": 0.05
          },
          "xaxis": {
           "automargin": true,
           "gridcolor": "white",
           "linecolor": "white",
           "ticks": "",
           "title": {
            "standoff": 15
           },
           "zerolinecolor": "white",
           "zerolinewidth": 2
          },
          "yaxis": {
           "automargin": true,
           "gridcolor": "white",
           "linecolor": "white",
           "ticks": "",
           "title": {
            "standoff": 15
           },
           "zerolinecolor": "white",
           "zerolinewidth": 2
          }
         }
        },
        "title": {
         "text": "Old Faithful Geyser Eruptions for short wait times (<62)"
        },
        "xaxis": {
         "anchor": "y",
         "domain": [
          0,
          1
         ],
         "title": {
          "text": "waiting"
         }
        },
        "yaxis": {
         "anchor": "x",
         "domain": [
          0,
          1
         ],
         "title": {
          "text": "duration"
         }
        }
       }
      },
      "text/html": [
       "<div>                            <div id=\"25afcb9a-b0bf-4647-b287-339ae02dece1\" class=\"plotly-graph-div\" style=\"height:525px; width:100%;\"></div>            <script type=\"text/javascript\">                require([\"plotly\"], function(Plotly) {                    window.PLOTLYENV=window.PLOTLYENV || {};                                    if (document.getElementById(\"25afcb9a-b0bf-4647-b287-339ae02dece1\")) {                    Plotly.newPlot(                        \"25afcb9a-b0bf-4647-b287-339ae02dece1\",                        [{\"hovertemplate\":\"waiting=%{x}\\u003cbr\\u003eduration=%{y}\\u003cextra\\u003e\\u003c\\u002fextra\\u003e\",\"legendgroup\":\"\",\"marker\":{\"color\":\"#636efa\",\"symbol\":\"circle\"},\"mode\":\"markers\",\"name\":\"\",\"orientation\":\"v\",\"showlegend\":false,\"x\":[54,55,51,54,47,52,52,51,47,55,52,48,59,58,58,53,59,54,54,59,48,60,56,60,48,60,50,51,49,47,52,59,59,50,59,53,56,45,55,45,56,46,51,53,60,59,49,53,53,45,58,52,49,57,50,55,51,46,55,57,51,60,53,46,49,49,53,55,50,54,54,50,54,54,47,57,54,56,58,43,60,46,46],\"xaxis\":\"x\",\"y\":[1.8,2.883,1.95,1.833,1.75,2.167,1.6,1.8,1.75,1.967,2.017,1.867,1.833,1.883,1.75,2.1,2.0,1.833,1.733,2.233,1.75,1.817,1.967,2.017,2.167,2.2,1.867,1.867,2.1,1.867,1.783,2.3,1.7,2.317,1.817,2.617,1.967,1.917,2.267,1.867,2.8,1.833,1.883,2.033,2.233,1.983,2.017,1.8,1.8,2.2,2.0,1.933,1.917,2.083,2.417,1.883,2.033,1.833,2.1830000000000003,1.833,2.25,2.1,1.867,1.783,1.933,1.867,2.4,2.0,1.867,1.75,2.417,2.217,1.883,1.85,2.35,2.083,2.2,2.0,1.85,1.983,2.25,2.15,1.817],\"yaxis\":\"y\",\"type\":\"scatter\"},{\"hovertemplate\":\"\\u003cb\\u003eOLS trendline\\u003c\\u002fb\\u003e\\u003cbr\\u003eduration = 0.00691825 * waiting + 1.64008\\u003cbr\\u003eR\\u003csup\\u003e2\\u003c\\u002fsup\\u003e=0.017113\\u003cbr\\u003e\\u003cbr\\u003ewaiting=%{x}\\u003cbr\\u003eduration=%{y} \\u003cb\\u003e(trend)\\u003c\\u002fb\\u003e\\u003cextra\\u003e\\u003c\\u002fextra\\u003e\",\"legendgroup\":\"\",\"marker\":{\"color\":\"#636efa\",\"symbol\":\"circle\"},\"mode\":\"lines\",\"name\":\"\",\"showlegend\":false,\"x\":[43,45,45,45,46,46,46,46,46,47,47,47,47,48,48,48,49,49,49,49,49,50,50,50,50,50,51,51,51,51,51,51,52,52,52,52,52,53,53,53,53,53,53,53,54,54,54,54,54,54,54,54,54,55,55,55,55,55,55,56,56,56,56,57,57,57,58,58,58,58,59,59,59,59,59,59,59,60,60,60,60,60,60],\"xaxis\":\"x\",\"y\":[1.9375657137914635,1.9514022113624248,1.9514022113624248,1.9514022113624248,1.9583204601479052,1.9583204601479052,1.9583204601479052,1.9583204601479052,1.9583204601479052,1.9652387089333858,1.9652387089333858,1.9652387089333858,1.9652387089333858,1.9721569577188665,1.9721569577188665,1.9721569577188665,1.9790752065043469,1.9790752065043469,1.9790752065043469,1.9790752065043469,1.9790752065043469,1.9859934552898275,1.9859934552898275,1.9859934552898275,1.9859934552898275,1.9859934552898275,1.9929117040753082,1.9929117040753082,1.9929117040753082,1.9929117040753082,1.9929117040753082,1.9929117040753082,1.9998299528607888,1.9998299528607888,1.9998299528607888,1.9998299528607888,1.9998299528607888,2.0067482016462694,2.0067482016462694,2.0067482016462694,2.0067482016462694,2.0067482016462694,2.0067482016462694,2.0067482016462694,2.01366645043175,2.01366645043175,2.01366645043175,2.01366645043175,2.01366645043175,2.01366645043175,2.01366645043175,2.01366645043175,2.01366645043175,2.0205846992172303,2.0205846992172303,2.0205846992172303,2.0205846992172303,2.0205846992172303,2.0205846992172303,2.027502948002711,2.027502948002711,2.027502948002711,2.027502948002711,2.0344211967881916,2.0344211967881916,2.0344211967881916,2.0413394455736724,2.0413394455736724,2.0413394455736724,2.0413394455736724,2.048257694359153,2.048257694359153,2.048257694359153,2.048257694359153,2.048257694359153,2.048257694359153,2.048257694359153,2.0551759431446337,2.0551759431446337,2.0551759431446337,2.0551759431446337,2.0551759431446337,2.0551759431446337],\"yaxis\":\"y\",\"type\":\"scatter\"}],                        {\"template\":{\"data\":{\"histogram2dcontour\":[{\"type\":\"histogram2dcontour\",\"colorbar\":{\"outlinewidth\":0,\"ticks\":\"\"},\"colorscale\":[[0.0,\"#0d0887\"],[0.1111111111111111,\"#46039f\"],[0.2222222222222222,\"#7201a8\"],[0.3333333333333333,\"#9c179e\"],[0.4444444444444444,\"#bd3786\"],[0.5555555555555556,\"#d8576b\"],[0.6666666666666666,\"#ed7953\"],[0.7777777777777778,\"#fb9f3a\"],[0.8888888888888888,\"#fdca26\"],[1.0,\"#f0f921\"]]}],\"choropleth\":[{\"type\":\"choropleth\",\"colorbar\":{\"outlinewidth\":0,\"ticks\":\"\"}}],\"histogram2d\":[{\"type\":\"histogram2d\",\"colorbar\":{\"outlinewidth\":0,\"ticks\":\"\"},\"colorscale\":[[0.0,\"#0d0887\"],[0.1111111111111111,\"#46039f\"],[0.2222222222222222,\"#7201a8\"],[0.3333333333333333,\"#9c179e\"],[0.4444444444444444,\"#bd3786\"],[0.5555555555555556,\"#d8576b\"],[0.6666666666666666,\"#ed7953\"],[0.7777777777777778,\"#fb9f3a\"],[0.8888888888888888,\"#fdca26\"],[1.0,\"#f0f921\"]]}],\"heatmap\":[{\"type\":\"heatmap\",\"colorbar\":{\"outlinewidth\":0,\"ticks\":\"\"},\"colorscale\":[[0.0,\"#0d0887\"],[0.1111111111111111,\"#46039f\"],[0.2222222222222222,\"#7201a8\"],[0.3333333333333333,\"#9c179e\"],[0.4444444444444444,\"#bd3786\"],[0.5555555555555556,\"#d8576b\"],[0.6666666666666666,\"#ed7953\"],[0.7777777777777778,\"#fb9f3a\"],[0.8888888888888888,\"#fdca26\"],[1.0,\"#f0f921\"]]}],\"heatmapgl\":[{\"type\":\"heatmapgl\",\"colorbar\":{\"outlinewidth\":0,\"ticks\":\"\"},\"colorscale\":[[0.0,\"#0d0887\"],[0.1111111111111111,\"#46039f\"],[0.2222222222222222,\"#7201a8\"],[0.3333333333333333,\"#9c179e\"],[0.4444444444444444,\"#bd3786\"],[0.5555555555555556,\"#d8576b\"],[0.6666666666666666,\"#ed7953\"],[0.7777777777777778,\"#fb9f3a\"],[0.8888888888888888,\"#fdca26\"],[1.0,\"#f0f921\"]]}],\"contourcarpet\":[{\"type\":\"contourcarpet\",\"colorbar\":{\"outlinewidth\":0,\"ticks\":\"\"}}],\"contour\":[{\"type\":\"contour\",\"colorbar\":{\"outlinewidth\":0,\"ticks\":\"\"},\"colorscale\":[[0.0,\"#0d0887\"],[0.1111111111111111,\"#46039f\"],[0.2222222222222222,\"#7201a8\"],[0.3333333333333333,\"#9c179e\"],[0.4444444444444444,\"#bd3786\"],[0.5555555555555556,\"#d8576b\"],[0.6666666666666666,\"#ed7953\"],[0.7777777777777778,\"#fb9f3a\"],[0.8888888888888888,\"#fdca26\"],[1.0,\"#f0f921\"]]}],\"surface\":[{\"type\":\"surface\",\"colorbar\":{\"outlinewidth\":0,\"ticks\":\"\"},\"colorscale\":[[0.0,\"#0d0887\"],[0.1111111111111111,\"#46039f\"],[0.2222222222222222,\"#7201a8\"],[0.3333333333333333,\"#9c179e\"],[0.4444444444444444,\"#bd3786\"],[0.5555555555555556,\"#d8576b\"],[0.6666666666666666,\"#ed7953\"],[0.7777777777777778,\"#fb9f3a\"],[0.8888888888888888,\"#fdca26\"],[1.0,\"#f0f921\"]]}],\"mesh3d\":[{\"type\":\"mesh3d\",\"colorbar\":{\"outlinewidth\":0,\"ticks\":\"\"}}],\"scatter\":[{\"fillpattern\":{\"fillmode\":\"overlay\",\"size\":10,\"solidity\":0.2},\"type\":\"scatter\"}],\"parcoords\":[{\"type\":\"parcoords\",\"line\":{\"colorbar\":{\"outlinewidth\":0,\"ticks\":\"\"}}}],\"scatterpolargl\":[{\"type\":\"scatterpolargl\",\"marker\":{\"colorbar\":{\"outlinewidth\":0,\"ticks\":\"\"}}}],\"bar\":[{\"error_x\":{\"color\":\"#2a3f5f\"},\"error_y\":{\"color\":\"#2a3f5f\"},\"marker\":{\"line\":{\"color\":\"#E5ECF6\",\"width\":0.5},\"pattern\":{\"fillmode\":\"overlay\",\"size\":10,\"solidity\":0.2}},\"type\":\"bar\"}],\"scattergeo\":[{\"type\":\"scattergeo\",\"marker\":{\"colorbar\":{\"outlinewidth\":0,\"ticks\":\"\"}}}],\"scatterpolar\":[{\"type\":\"scatterpolar\",\"marker\":{\"colorbar\":{\"outlinewidth\":0,\"ticks\":\"\"}}}],\"histogram\":[{\"marker\":{\"pattern\":{\"fillmode\":\"overlay\",\"size\":10,\"solidity\":0.2}},\"type\":\"histogram\"}],\"scattergl\":[{\"type\":\"scattergl\",\"marker\":{\"colorbar\":{\"outlinewidth\":0,\"ticks\":\"\"}}}],\"scatter3d\":[{\"type\":\"scatter3d\",\"line\":{\"colorbar\":{\"outlinewidth\":0,\"ticks\":\"\"}},\"marker\":{\"colorbar\":{\"outlinewidth\":0,\"ticks\":\"\"}}}],\"scattermapbox\":[{\"type\":\"scattermapbox\",\"marker\":{\"colorbar\":{\"outlinewidth\":0,\"ticks\":\"\"}}}],\"scatterternary\":[{\"type\":\"scatterternary\",\"marker\":{\"colorbar\":{\"outlinewidth\":0,\"ticks\":\"\"}}}],\"scattercarpet\":[{\"type\":\"scattercarpet\",\"marker\":{\"colorbar\":{\"outlinewidth\":0,\"ticks\":\"\"}}}],\"carpet\":[{\"aaxis\":{\"endlinecolor\":\"#2a3f5f\",\"gridcolor\":\"white\",\"linecolor\":\"white\",\"minorgridcolor\":\"white\",\"startlinecolor\":\"#2a3f5f\"},\"baxis\":{\"endlinecolor\":\"#2a3f5f\",\"gridcolor\":\"white\",\"linecolor\":\"white\",\"minorgridcolor\":\"white\",\"startlinecolor\":\"#2a3f5f\"},\"type\":\"carpet\"}],\"table\":[{\"cells\":{\"fill\":{\"color\":\"#EBF0F8\"},\"line\":{\"color\":\"white\"}},\"header\":{\"fill\":{\"color\":\"#C8D4E3\"},\"line\":{\"color\":\"white\"}},\"type\":\"table\"}],\"barpolar\":[{\"marker\":{\"line\":{\"color\":\"#E5ECF6\",\"width\":0.5},\"pattern\":{\"fillmode\":\"overlay\",\"size\":10,\"solidity\":0.2}},\"type\":\"barpolar\"}],\"pie\":[{\"automargin\":true,\"type\":\"pie\"}]},\"layout\":{\"autotypenumbers\":\"strict\",\"colorway\":[\"#636efa\",\"#EF553B\",\"#00cc96\",\"#ab63fa\",\"#FFA15A\",\"#19d3f3\",\"#FF6692\",\"#B6E880\",\"#FF97FF\",\"#FECB52\"],\"font\":{\"color\":\"#2a3f5f\"},\"hovermode\":\"closest\",\"hoverlabel\":{\"align\":\"left\"},\"paper_bgcolor\":\"white\",\"plot_bgcolor\":\"#E5ECF6\",\"polar\":{\"bgcolor\":\"#E5ECF6\",\"angularaxis\":{\"gridcolor\":\"white\",\"linecolor\":\"white\",\"ticks\":\"\"},\"radialaxis\":{\"gridcolor\":\"white\",\"linecolor\":\"white\",\"ticks\":\"\"}},\"ternary\":{\"bgcolor\":\"#E5ECF6\",\"aaxis\":{\"gridcolor\":\"white\",\"linecolor\":\"white\",\"ticks\":\"\"},\"baxis\":{\"gridcolor\":\"white\",\"linecolor\":\"white\",\"ticks\":\"\"},\"caxis\":{\"gridcolor\":\"white\",\"linecolor\":\"white\",\"ticks\":\"\"}},\"coloraxis\":{\"colorbar\":{\"outlinewidth\":0,\"ticks\":\"\"}},\"colorscale\":{\"sequential\":[[0.0,\"#0d0887\"],[0.1111111111111111,\"#46039f\"],[0.2222222222222222,\"#7201a8\"],[0.3333333333333333,\"#9c179e\"],[0.4444444444444444,\"#bd3786\"],[0.5555555555555556,\"#d8576b\"],[0.6666666666666666,\"#ed7953\"],[0.7777777777777778,\"#fb9f3a\"],[0.8888888888888888,\"#fdca26\"],[1.0,\"#f0f921\"]],\"sequentialminus\":[[0.0,\"#0d0887\"],[0.1111111111111111,\"#46039f\"],[0.2222222222222222,\"#7201a8\"],[0.3333333333333333,\"#9c179e\"],[0.4444444444444444,\"#bd3786\"],[0.5555555555555556,\"#d8576b\"],[0.6666666666666666,\"#ed7953\"],[0.7777777777777778,\"#fb9f3a\"],[0.8888888888888888,\"#fdca26\"],[1.0,\"#f0f921\"]],\"diverging\":[[0,\"#8e0152\"],[0.1,\"#c51b7d\"],[0.2,\"#de77ae\"],[0.3,\"#f1b6da\"],[0.4,\"#fde0ef\"],[0.5,\"#f7f7f7\"],[0.6,\"#e6f5d0\"],[0.7,\"#b8e186\"],[0.8,\"#7fbc41\"],[0.9,\"#4d9221\"],[1,\"#276419\"]]},\"xaxis\":{\"gridcolor\":\"white\",\"linecolor\":\"white\",\"ticks\":\"\",\"title\":{\"standoff\":15},\"zerolinecolor\":\"white\",\"automargin\":true,\"zerolinewidth\":2},\"yaxis\":{\"gridcolor\":\"white\",\"linecolor\":\"white\",\"ticks\":\"\",\"title\":{\"standoff\":15},\"zerolinecolor\":\"white\",\"automargin\":true,\"zerolinewidth\":2},\"scene\":{\"xaxis\":{\"backgroundcolor\":\"#E5ECF6\",\"gridcolor\":\"white\",\"linecolor\":\"white\",\"showbackground\":true,\"ticks\":\"\",\"zerolinecolor\":\"white\",\"gridwidth\":2},\"yaxis\":{\"backgroundcolor\":\"#E5ECF6\",\"gridcolor\":\"white\",\"linecolor\":\"white\",\"showbackground\":true,\"ticks\":\"\",\"zerolinecolor\":\"white\",\"gridwidth\":2},\"zaxis\":{\"backgroundcolor\":\"#E5ECF6\",\"gridcolor\":\"white\",\"linecolor\":\"white\",\"showbackground\":true,\"ticks\":\"\",\"zerolinecolor\":\"white\",\"gridwidth\":2}},\"shapedefaults\":{\"line\":{\"color\":\"#2a3f5f\"}},\"annotationdefaults\":{\"arrowcolor\":\"#2a3f5f\",\"arrowhead\":0,\"arrowwidth\":1},\"geo\":{\"bgcolor\":\"white\",\"landcolor\":\"#E5ECF6\",\"subunitcolor\":\"white\",\"showland\":true,\"showlakes\":true,\"lakecolor\":\"white\"},\"title\":{\"x\":0.05},\"mapbox\":{\"style\":\"light\"}}},\"xaxis\":{\"anchor\":\"y\",\"domain\":[0.0,1.0],\"title\":{\"text\":\"waiting\"}},\"yaxis\":{\"anchor\":\"x\",\"domain\":[0.0,1.0],\"title\":{\"text\":\"duration\"}},\"legend\":{\"tracegroupgap\":0},\"title\":{\"text\":\"Old Faithful Geyser Eruptions for short wait times (\\u003c62)\"}},                        {\"responsive\": true}                    ).then(function(){\n",
       "                            \n",
       "var gd = document.getElementById('25afcb9a-b0bf-4647-b287-339ae02dece1');\n",
       "var x = new MutationObserver(function (mutations, observer) {{\n",
       "        var display = window.getComputedStyle(gd).display;\n",
       "        if (!display || display === 'none') {{\n",
       "            console.log([gd, 'removed!']);\n",
       "            Plotly.purge(gd);\n",
       "            observer.disconnect();\n",
       "        }}\n",
       "}});\n",
       "\n",
       "// Listen for the removal of the full notebook cells\n",
       "var notebookContainer = gd.closest('#notebook-container');\n",
       "if (notebookContainer) {{\n",
       "    x.observe(notebookContainer, {childList: true});\n",
       "}}\n",
       "\n",
       "// Listen for the clearing of the current output cell\n",
       "var outputEl = gd.closest('.output');\n",
       "if (outputEl) {{\n",
       "    x.observe(outputEl, {childList: true});\n",
       "}}\n",
       "\n",
       "                        })                };                });            </script>        </div>"
      ]
     },
     "metadata": {},
     "output_type": "display_data"
    }
   ],
   "source": [
    "import plotly.express as px\n",
    "import statsmodels.formula.api as smf\n",
    "\n",
    "\n",
    "short_wait_limit = 62 # 64 # 66 #\n",
    "short_wait = old_faithful.waiting < short_wait_limit\n",
    "\n",
    "print(smf.ols('duration ~ waiting', data=old_faithful[short_wait]).fit().summary().tables[1])\n",
    "\n",
    "# Create a scatter plot with a linear regression trendline\n",
    "fig = px.scatter(old_faithful[short_wait], x='waiting', y='duration', \n",
    "                 title=\"Old Faithful Geyser Eruptions for short wait times (<\"+str(short_wait_limit)+\")\", \n",
    "                 trendline='ols')\n",
    "\n",
    "fig.show() # USE `fig.show(renderer=\"png\")` FOR ALL GitHub and MarkUs SUBMISSIONS"
   ]
  },
  {
   "cell_type": "markdown",
   "id": "009bfa79",
   "metadata": {},
   "source": [
    "### 10. Let's now consider just the (*n=160*) long wait times (as specified in the code below), and write code to do the following:\n",
    "\n",
    "1. create fitted **Simple Linear Regression** models for **boostrap samples** and collect and visualize the **bootstrapped sampling distribution** of the **fitted slope coefficients** of the fitted models;  \n",
    "\n",
    "\n",
    "2. **simulate** samples (of size `n=160`) from a **Simple Linear Regression** model that uses $\\beta_0 = 1.65$, $\\beta_1 = 0$, $\\sigma = 0.37$ along with the values of `waiting` for $x$ to create **simuations** of $Y$ and use these collect and visualize the **sampling distribution** of the **fitted slope coefficient** under a **null hypothesis** assumption of \"no linear association (on average)\"; then,  \n",
    "\n",
    "\n",
    "3. report if $0$ is contained within a 95\\% **bootstrapped confidence interval**; and if the **simulated p-value** matches `smf.ols('duration ~ waiting', data=old_faithful[long_wait]).fit().summary().tables[1]`?<br><br>\n",
    "\n",
    "<details class=\"details-example\"><summary style=\"color:blue\"><u>Further Guidance</u></summary>\n",
    "\n",
    "> _You'll need to create `for` loops to repeatedly create fitted **Simple Linear Regression** models using different samples, collecting the **fitted slope coeffient** created in each `for` loop \"step\" in order to visualize the **simulated sampling distributions**_\n",
    "> \n",
    "> - _A **bootstrapped sample** of the \"long wait times\" dataset can be created with `old_faithful[long_wait].sample(n=long_wait.sum(), replace=True)`_\n",
    ">\n",
    ">\n",
    "> - _A **simulated** version of the \"long wait times under a null hypothesis assumption of **no linear association (on average)**\" dataset can be created by first creating `old_faithful_simulation = old_faithful[long_wait].copy()` and then assigning the **simulated** it values with `old_faithful_simulation['duration'] = 1.65 + 0*old_faithful_simulation.waiting + stats.norm(loc=0, scale=0.37).rvs(size=long_wait.sum())`_ \n",
    ">\n",
    ">  _The values $\\beta_0 = 1.65$ and $\\sigma = 0.37$ are chosen to match what is actually observed in the data, while $\\beta_1 = 0$ is chosen to reflect a **null hypothesis** assumption of \"no linear assocaition (on average)\"; and, make sure that you understand why it is that_\n",
    ">\n",
    ">\n",
    "> - _if `bootstrapped_slope_coefficients` is the `np.array` of your **bootstrapped slope coefficients** then `np.quantile(bootstrapped_slope_coefficients, [0.025, 0.975])` is a 95\\% **bootstrapped confidence interval**_\n",
    "> \n",
    ">\n",
    "> - _if `simulated_slope_coefficients` is the `np.array` of your **fitted slope coefficients** **simulated** under a **null hypothesis** \"no linear association (on average)\" then `(np.abs(simulated_slope_coefficients) >= smf.ols('duration ~ waiting', data=old_faithful[long_wait]).fit().params[1]).mean()` is the **p-value** for the **simulated** **simulated sampling distribution of the slope coeficients** under a **null hypothesis** \"no linear association (on average)\"_\n",
    "\n",
    "</details>\n",
    "<br>"
   ]
  },
  {
   "cell_type": "code",
   "execution_count": 18,
   "id": "7c246ca4",
   "metadata": {},
   "outputs": [
    {
     "name": "stdout",
     "output_type": "stream",
     "text": [
      "==============================================================================\n",
      "                 coef    std err          t      P>|t|      [0.025      0.975]\n",
      "------------------------------------------------------------------------------\n",
      "Intercept      3.3520      0.476      7.049      0.000       2.413       4.291\n",
      "waiting        0.0122      0.006      2.091      0.038       0.001       0.024\n",
      "==============================================================================\n"
     ]
    },
    {
     "data": {
      "application/vnd.plotly.v1+json": {
       "config": {
        "plotlyServerURL": "https://plot.ly"
       },
       "data": [
        {
         "hovertemplate": "waiting=%{x}<br>duration=%{y}<extra></extra>",
         "legendgroup": "",
         "marker": {
          "color": "#636efa",
          "symbol": "circle"
         },
         "mode": "markers",
         "name": "",
         "orientation": "v",
         "showlegend": false,
         "type": "scatter",
         "x": [
          79,
          74,
          85,
          88,
          85,
          85,
          84,
          78,
          83,
          84,
          79,
          78,
          74,
          83,
          76,
          78,
          79,
          73,
          77,
          80,
          74,
          80,
          90,
          80,
          84,
          73,
          83,
          82,
          75,
          90,
          80,
          83,
          77,
          81,
          84,
          82,
          92,
          78,
          78,
          73,
          82,
          79,
          76,
          78,
          76,
          83,
          75,
          82,
          73,
          88,
          76,
          80,
          86,
          90,
          78,
          72,
          84,
          75,
          82,
          88,
          83,
          81,
          84,
          86,
          81,
          75,
          89,
          79,
          81,
          85,
          87,
          77,
          88,
          81,
          82,
          90,
          83,
          89,
          82,
          86,
          79,
          81,
          82,
          77,
          76,
          80,
          96,
          77,
          77,
          81,
          81,
          93,
          89,
          86,
          78,
          76,
          88,
          93,
          77,
          81,
          81,
          73,
          85,
          74,
          77,
          83,
          83,
          78,
          84,
          83,
          81,
          76,
          84,
          77,
          81,
          87,
          77,
          78,
          82,
          91,
          78,
          77,
          84,
          83,
          80,
          75,
          76,
          94,
          76,
          82,
          75,
          78,
          79,
          78,
          78,
          79,
          86,
          90,
          77,
          79,
          75,
          86,
          85,
          82,
          82,
          74,
          83,
          73,
          73,
          88,
          80,
          83,
          79,
          78,
          84,
          83,
          75,
          81,
          90,
          74
         ],
         "xaxis": "x",
         "y": [
          3.6,
          3.333,
          4.533,
          4.7,
          3.6,
          4.35,
          3.917,
          4.2,
          4.7,
          4.8,
          4.25,
          3.45,
          4.533,
          3.6,
          4.083,
          3.85,
          4.433,
          4.3,
          4.467,
          4.033,
          3.833,
          4.833,
          4.783,
          4.35,
          4.567,
          4.533,
          3.317,
          4.633,
          4.8,
          4.716,
          4.833,
          4.883,
          4.567,
          4.317,
          4.5,
          4.8,
          4.4,
          4.167,
          4.7,
          4.7,
          4.033,
          4.5,
          5.067,
          4.567,
          3.883,
          3.6,
          4.133,
          4.333,
          4.067,
          4.933,
          3.95,
          4.517,
          4,
          4.333,
          4.817,
          4.3,
          4.667,
          3.75,
          4.9,
          4.367,
          4.5,
          4.05,
          4.7,
          4.85,
          3.683,
          4.7330000000000005,
          4.9,
          4.417,
          4.633,
          4.6,
          4.417,
          4.25,
          4.6,
          3.767,
          4.5,
          4.65,
          4.167,
          4.333,
          4.383,
          4.933,
          3.733,
          4.2330000000000005,
          4.533,
          4.817,
          4.333,
          4.633,
          5.1,
          5.033,
          4,
          4.6,
          4.5,
          4.083,
          3.967,
          4.15,
          3.833,
          4.583,
          5,
          4.617,
          4.583,
          4.167,
          4.333,
          4.5,
          4,
          4.167,
          4.583,
          4.25,
          3.767,
          4.433,
          4.083,
          4.417,
          4.8,
          4.8,
          4.1,
          3.966,
          4.2330000000000005,
          3.5,
          4.3660000000000005,
          4.667,
          4.35,
          4.133,
          4.6,
          4.367,
          3.85,
          4.5,
          4.7,
          3.833,
          4.2330000000000005,
          4.8,
          4.15,
          4.267,
          4.4830000000000005,
          4,
          4.117,
          4.083,
          4.267,
          4.55,
          4.183,
          4.45,
          4.283,
          3.95,
          4.15,
          4.933,
          4.583,
          3.833,
          4.367,
          4.35,
          4.45,
          3.567,
          4.5,
          4.15,
          3.817,
          4.45,
          4.283,
          4.767,
          4.533,
          4.25,
          4.75,
          4.117,
          4.417,
          4.467
         ],
         "yaxis": "y"
        },
        {
         "hovertemplate": "<b>OLS trendline</b><br>duration = 0.012244 * waiting + 3.35195<br>R<sup>2</sup>=0.026925<br><br>waiting=%{x}<br>duration=%{y} <b>(trend)</b><extra></extra>",
         "legendgroup": "",
         "marker": {
          "color": "#636efa",
          "symbol": "circle"
         },
         "mode": "lines",
         "name": "",
         "showlegend": false,
         "type": "scatter",
         "x": [
          72,
          73,
          73,
          73,
          73,
          73,
          73,
          73,
          74,
          74,
          74,
          74,
          74,
          74,
          75,
          75,
          75,
          75,
          75,
          75,
          75,
          75,
          76,
          76,
          76,
          76,
          76,
          76,
          76,
          76,
          76,
          77,
          77,
          77,
          77,
          77,
          77,
          77,
          77,
          77,
          77,
          77,
          77,
          78,
          78,
          78,
          78,
          78,
          78,
          78,
          78,
          78,
          78,
          78,
          78,
          78,
          78,
          78,
          79,
          79,
          79,
          79,
          79,
          79,
          79,
          79,
          79,
          79,
          80,
          80,
          80,
          80,
          80,
          80,
          80,
          80,
          81,
          81,
          81,
          81,
          81,
          81,
          81,
          81,
          81,
          81,
          81,
          81,
          81,
          82,
          82,
          82,
          82,
          82,
          82,
          82,
          82,
          82,
          82,
          82,
          82,
          83,
          83,
          83,
          83,
          83,
          83,
          83,
          83,
          83,
          83,
          83,
          83,
          83,
          83,
          84,
          84,
          84,
          84,
          84,
          84,
          84,
          84,
          84,
          84,
          85,
          85,
          85,
          85,
          85,
          85,
          86,
          86,
          86,
          86,
          86,
          86,
          87,
          87,
          88,
          88,
          88,
          88,
          88,
          88,
          89,
          89,
          89,
          90,
          90,
          90,
          90,
          90,
          90,
          91,
          92,
          93,
          93,
          94,
          96
         ],
         "xaxis": "x",
         "y": [
          4.233522783508958,
          4.245766812955481,
          4.245766812955481,
          4.245766812955481,
          4.245766812955481,
          4.245766812955481,
          4.245766812955481,
          4.245766812955481,
          4.258010842402005,
          4.258010842402005,
          4.258010842402005,
          4.258010842402005,
          4.258010842402005,
          4.258010842402005,
          4.270254871848528,
          4.270254871848528,
          4.270254871848528,
          4.270254871848528,
          4.270254871848528,
          4.270254871848528,
          4.270254871848528,
          4.270254871848528,
          4.282498901295052,
          4.282498901295052,
          4.282498901295052,
          4.282498901295052,
          4.282498901295052,
          4.282498901295052,
          4.282498901295052,
          4.282498901295052,
          4.282498901295052,
          4.294742930741576,
          4.294742930741576,
          4.294742930741576,
          4.294742930741576,
          4.294742930741576,
          4.294742930741576,
          4.294742930741576,
          4.294742930741576,
          4.294742930741576,
          4.294742930741576,
          4.294742930741576,
          4.294742930741576,
          4.306986960188099,
          4.306986960188099,
          4.306986960188099,
          4.306986960188099,
          4.306986960188099,
          4.306986960188099,
          4.306986960188099,
          4.306986960188099,
          4.306986960188099,
          4.306986960188099,
          4.306986960188099,
          4.306986960188099,
          4.306986960188099,
          4.306986960188099,
          4.306986960188099,
          4.319230989634622,
          4.319230989634622,
          4.319230989634622,
          4.319230989634622,
          4.319230989634622,
          4.319230989634622,
          4.319230989634622,
          4.319230989634622,
          4.319230989634622,
          4.319230989634622,
          4.331475019081147,
          4.331475019081147,
          4.331475019081147,
          4.331475019081147,
          4.331475019081147,
          4.331475019081147,
          4.331475019081147,
          4.331475019081147,
          4.34371904852767,
          4.34371904852767,
          4.34371904852767,
          4.34371904852767,
          4.34371904852767,
          4.34371904852767,
          4.34371904852767,
          4.34371904852767,
          4.34371904852767,
          4.34371904852767,
          4.34371904852767,
          4.34371904852767,
          4.34371904852767,
          4.355963077974193,
          4.355963077974193,
          4.355963077974193,
          4.355963077974193,
          4.355963077974193,
          4.355963077974193,
          4.355963077974193,
          4.355963077974193,
          4.355963077974193,
          4.355963077974193,
          4.355963077974193,
          4.355963077974193,
          4.368207107420717,
          4.368207107420717,
          4.368207107420717,
          4.368207107420717,
          4.368207107420717,
          4.368207107420717,
          4.368207107420717,
          4.368207107420717,
          4.368207107420717,
          4.368207107420717,
          4.368207107420717,
          4.368207107420717,
          4.368207107420717,
          4.368207107420717,
          4.38045113686724,
          4.38045113686724,
          4.38045113686724,
          4.38045113686724,
          4.38045113686724,
          4.38045113686724,
          4.38045113686724,
          4.38045113686724,
          4.38045113686724,
          4.38045113686724,
          4.392695166313764,
          4.392695166313764,
          4.392695166313764,
          4.392695166313764,
          4.392695166313764,
          4.392695166313764,
          4.404939195760288,
          4.404939195760288,
          4.404939195760288,
          4.404939195760288,
          4.404939195760288,
          4.404939195760288,
          4.417183225206811,
          4.417183225206811,
          4.429427254653334,
          4.429427254653334,
          4.429427254653334,
          4.429427254653334,
          4.429427254653334,
          4.429427254653334,
          4.441671284099858,
          4.441671284099858,
          4.441671284099858,
          4.453915313546382,
          4.453915313546382,
          4.453915313546382,
          4.453915313546382,
          4.453915313546382,
          4.453915313546382,
          4.466159342992905,
          4.478403372439429,
          4.490647401885952,
          4.490647401885952,
          4.5028914313324755,
          4.527379490225523
         ],
         "yaxis": "y"
        }
       ],
       "layout": {
        "legend": {
         "tracegroupgap": 0
        },
        "template": {
         "data": {
          "bar": [
           {
            "error_x": {
             "color": "#2a3f5f"
            },
            "error_y": {
             "color": "#2a3f5f"
            },
            "marker": {
             "line": {
              "color": "#E5ECF6",
              "width": 0.5
             },
             "pattern": {
              "fillmode": "overlay",
              "size": 10,
              "solidity": 0.2
             }
            },
            "type": "bar"
           }
          ],
          "barpolar": [
           {
            "marker": {
             "line": {
              "color": "#E5ECF6",
              "width": 0.5
             },
             "pattern": {
              "fillmode": "overlay",
              "size": 10,
              "solidity": 0.2
             }
            },
            "type": "barpolar"
           }
          ],
          "carpet": [
           {
            "aaxis": {
             "endlinecolor": "#2a3f5f",
             "gridcolor": "white",
             "linecolor": "white",
             "minorgridcolor": "white",
             "startlinecolor": "#2a3f5f"
            },
            "baxis": {
             "endlinecolor": "#2a3f5f",
             "gridcolor": "white",
             "linecolor": "white",
             "minorgridcolor": "white",
             "startlinecolor": "#2a3f5f"
            },
            "type": "carpet"
           }
          ],
          "choropleth": [
           {
            "colorbar": {
             "outlinewidth": 0,
             "ticks": ""
            },
            "type": "choropleth"
           }
          ],
          "contour": [
           {
            "colorbar": {
             "outlinewidth": 0,
             "ticks": ""
            },
            "colorscale": [
             [
              0,
              "#0d0887"
             ],
             [
              0.1111111111111111,
              "#46039f"
             ],
             [
              0.2222222222222222,
              "#7201a8"
             ],
             [
              0.3333333333333333,
              "#9c179e"
             ],
             [
              0.4444444444444444,
              "#bd3786"
             ],
             [
              0.5555555555555556,
              "#d8576b"
             ],
             [
              0.6666666666666666,
              "#ed7953"
             ],
             [
              0.7777777777777778,
              "#fb9f3a"
             ],
             [
              0.8888888888888888,
              "#fdca26"
             ],
             [
              1,
              "#f0f921"
             ]
            ],
            "type": "contour"
           }
          ],
          "contourcarpet": [
           {
            "colorbar": {
             "outlinewidth": 0,
             "ticks": ""
            },
            "type": "contourcarpet"
           }
          ],
          "heatmap": [
           {
            "colorbar": {
             "outlinewidth": 0,
             "ticks": ""
            },
            "colorscale": [
             [
              0,
              "#0d0887"
             ],
             [
              0.1111111111111111,
              "#46039f"
             ],
             [
              0.2222222222222222,
              "#7201a8"
             ],
             [
              0.3333333333333333,
              "#9c179e"
             ],
             [
              0.4444444444444444,
              "#bd3786"
             ],
             [
              0.5555555555555556,
              "#d8576b"
             ],
             [
              0.6666666666666666,
              "#ed7953"
             ],
             [
              0.7777777777777778,
              "#fb9f3a"
             ],
             [
              0.8888888888888888,
              "#fdca26"
             ],
             [
              1,
              "#f0f921"
             ]
            ],
            "type": "heatmap"
           }
          ],
          "heatmapgl": [
           {
            "colorbar": {
             "outlinewidth": 0,
             "ticks": ""
            },
            "colorscale": [
             [
              0,
              "#0d0887"
             ],
             [
              0.1111111111111111,
              "#46039f"
             ],
             [
              0.2222222222222222,
              "#7201a8"
             ],
             [
              0.3333333333333333,
              "#9c179e"
             ],
             [
              0.4444444444444444,
              "#bd3786"
             ],
             [
              0.5555555555555556,
              "#d8576b"
             ],
             [
              0.6666666666666666,
              "#ed7953"
             ],
             [
              0.7777777777777778,
              "#fb9f3a"
             ],
             [
              0.8888888888888888,
              "#fdca26"
             ],
             [
              1,
              "#f0f921"
             ]
            ],
            "type": "heatmapgl"
           }
          ],
          "histogram": [
           {
            "marker": {
             "pattern": {
              "fillmode": "overlay",
              "size": 10,
              "solidity": 0.2
             }
            },
            "type": "histogram"
           }
          ],
          "histogram2d": [
           {
            "colorbar": {
             "outlinewidth": 0,
             "ticks": ""
            },
            "colorscale": [
             [
              0,
              "#0d0887"
             ],
             [
              0.1111111111111111,
              "#46039f"
             ],
             [
              0.2222222222222222,
              "#7201a8"
             ],
             [
              0.3333333333333333,
              "#9c179e"
             ],
             [
              0.4444444444444444,
              "#bd3786"
             ],
             [
              0.5555555555555556,
              "#d8576b"
             ],
             [
              0.6666666666666666,
              "#ed7953"
             ],
             [
              0.7777777777777778,
              "#fb9f3a"
             ],
             [
              0.8888888888888888,
              "#fdca26"
             ],
             [
              1,
              "#f0f921"
             ]
            ],
            "type": "histogram2d"
           }
          ],
          "histogram2dcontour": [
           {
            "colorbar": {
             "outlinewidth": 0,
             "ticks": ""
            },
            "colorscale": [
             [
              0,
              "#0d0887"
             ],
             [
              0.1111111111111111,
              "#46039f"
             ],
             [
              0.2222222222222222,
              "#7201a8"
             ],
             [
              0.3333333333333333,
              "#9c179e"
             ],
             [
              0.4444444444444444,
              "#bd3786"
             ],
             [
              0.5555555555555556,
              "#d8576b"
             ],
             [
              0.6666666666666666,
              "#ed7953"
             ],
             [
              0.7777777777777778,
              "#fb9f3a"
             ],
             [
              0.8888888888888888,
              "#fdca26"
             ],
             [
              1,
              "#f0f921"
             ]
            ],
            "type": "histogram2dcontour"
           }
          ],
          "mesh3d": [
           {
            "colorbar": {
             "outlinewidth": 0,
             "ticks": ""
            },
            "type": "mesh3d"
           }
          ],
          "parcoords": [
           {
            "line": {
             "colorbar": {
              "outlinewidth": 0,
              "ticks": ""
             }
            },
            "type": "parcoords"
           }
          ],
          "pie": [
           {
            "automargin": true,
            "type": "pie"
           }
          ],
          "scatter": [
           {
            "fillpattern": {
             "fillmode": "overlay",
             "size": 10,
             "solidity": 0.2
            },
            "type": "scatter"
           }
          ],
          "scatter3d": [
           {
            "line": {
             "colorbar": {
              "outlinewidth": 0,
              "ticks": ""
             }
            },
            "marker": {
             "colorbar": {
              "outlinewidth": 0,
              "ticks": ""
             }
            },
            "type": "scatter3d"
           }
          ],
          "scattercarpet": [
           {
            "marker": {
             "colorbar": {
              "outlinewidth": 0,
              "ticks": ""
             }
            },
            "type": "scattercarpet"
           }
          ],
          "scattergeo": [
           {
            "marker": {
             "colorbar": {
              "outlinewidth": 0,
              "ticks": ""
             }
            },
            "type": "scattergeo"
           }
          ],
          "scattergl": [
           {
            "marker": {
             "colorbar": {
              "outlinewidth": 0,
              "ticks": ""
             }
            },
            "type": "scattergl"
           }
          ],
          "scattermapbox": [
           {
            "marker": {
             "colorbar": {
              "outlinewidth": 0,
              "ticks": ""
             }
            },
            "type": "scattermapbox"
           }
          ],
          "scatterpolar": [
           {
            "marker": {
             "colorbar": {
              "outlinewidth": 0,
              "ticks": ""
             }
            },
            "type": "scatterpolar"
           }
          ],
          "scatterpolargl": [
           {
            "marker": {
             "colorbar": {
              "outlinewidth": 0,
              "ticks": ""
             }
            },
            "type": "scatterpolargl"
           }
          ],
          "scatterternary": [
           {
            "marker": {
             "colorbar": {
              "outlinewidth": 0,
              "ticks": ""
             }
            },
            "type": "scatterternary"
           }
          ],
          "surface": [
           {
            "colorbar": {
             "outlinewidth": 0,
             "ticks": ""
            },
            "colorscale": [
             [
              0,
              "#0d0887"
             ],
             [
              0.1111111111111111,
              "#46039f"
             ],
             [
              0.2222222222222222,
              "#7201a8"
             ],
             [
              0.3333333333333333,
              "#9c179e"
             ],
             [
              0.4444444444444444,
              "#bd3786"
             ],
             [
              0.5555555555555556,
              "#d8576b"
             ],
             [
              0.6666666666666666,
              "#ed7953"
             ],
             [
              0.7777777777777778,
              "#fb9f3a"
             ],
             [
              0.8888888888888888,
              "#fdca26"
             ],
             [
              1,
              "#f0f921"
             ]
            ],
            "type": "surface"
           }
          ],
          "table": [
           {
            "cells": {
             "fill": {
              "color": "#EBF0F8"
             },
             "line": {
              "color": "white"
             }
            },
            "header": {
             "fill": {
              "color": "#C8D4E3"
             },
             "line": {
              "color": "white"
             }
            },
            "type": "table"
           }
          ]
         },
         "layout": {
          "annotationdefaults": {
           "arrowcolor": "#2a3f5f",
           "arrowhead": 0,
           "arrowwidth": 1
          },
          "autotypenumbers": "strict",
          "coloraxis": {
           "colorbar": {
            "outlinewidth": 0,
            "ticks": ""
           }
          },
          "colorscale": {
           "diverging": [
            [
             0,
             "#8e0152"
            ],
            [
             0.1,
             "#c51b7d"
            ],
            [
             0.2,
             "#de77ae"
            ],
            [
             0.3,
             "#f1b6da"
            ],
            [
             0.4,
             "#fde0ef"
            ],
            [
             0.5,
             "#f7f7f7"
            ],
            [
             0.6,
             "#e6f5d0"
            ],
            [
             0.7,
             "#b8e186"
            ],
            [
             0.8,
             "#7fbc41"
            ],
            [
             0.9,
             "#4d9221"
            ],
            [
             1,
             "#276419"
            ]
           ],
           "sequential": [
            [
             0,
             "#0d0887"
            ],
            [
             0.1111111111111111,
             "#46039f"
            ],
            [
             0.2222222222222222,
             "#7201a8"
            ],
            [
             0.3333333333333333,
             "#9c179e"
            ],
            [
             0.4444444444444444,
             "#bd3786"
            ],
            [
             0.5555555555555556,
             "#d8576b"
            ],
            [
             0.6666666666666666,
             "#ed7953"
            ],
            [
             0.7777777777777778,
             "#fb9f3a"
            ],
            [
             0.8888888888888888,
             "#fdca26"
            ],
            [
             1,
             "#f0f921"
            ]
           ],
           "sequentialminus": [
            [
             0,
             "#0d0887"
            ],
            [
             0.1111111111111111,
             "#46039f"
            ],
            [
             0.2222222222222222,
             "#7201a8"
            ],
            [
             0.3333333333333333,
             "#9c179e"
            ],
            [
             0.4444444444444444,
             "#bd3786"
            ],
            [
             0.5555555555555556,
             "#d8576b"
            ],
            [
             0.6666666666666666,
             "#ed7953"
            ],
            [
             0.7777777777777778,
             "#fb9f3a"
            ],
            [
             0.8888888888888888,
             "#fdca26"
            ],
            [
             1,
             "#f0f921"
            ]
           ]
          },
          "colorway": [
           "#636efa",
           "#EF553B",
           "#00cc96",
           "#ab63fa",
           "#FFA15A",
           "#19d3f3",
           "#FF6692",
           "#B6E880",
           "#FF97FF",
           "#FECB52"
          ],
          "font": {
           "color": "#2a3f5f"
          },
          "geo": {
           "bgcolor": "white",
           "lakecolor": "white",
           "landcolor": "#E5ECF6",
           "showlakes": true,
           "showland": true,
           "subunitcolor": "white"
          },
          "hoverlabel": {
           "align": "left"
          },
          "hovermode": "closest",
          "mapbox": {
           "style": "light"
          },
          "paper_bgcolor": "white",
          "plot_bgcolor": "#E5ECF6",
          "polar": {
           "angularaxis": {
            "gridcolor": "white",
            "linecolor": "white",
            "ticks": ""
           },
           "bgcolor": "#E5ECF6",
           "radialaxis": {
            "gridcolor": "white",
            "linecolor": "white",
            "ticks": ""
           }
          },
          "scene": {
           "xaxis": {
            "backgroundcolor": "#E5ECF6",
            "gridcolor": "white",
            "gridwidth": 2,
            "linecolor": "white",
            "showbackground": true,
            "ticks": "",
            "zerolinecolor": "white"
           },
           "yaxis": {
            "backgroundcolor": "#E5ECF6",
            "gridcolor": "white",
            "gridwidth": 2,
            "linecolor": "white",
            "showbackground": true,
            "ticks": "",
            "zerolinecolor": "white"
           },
           "zaxis": {
            "backgroundcolor": "#E5ECF6",
            "gridcolor": "white",
            "gridwidth": 2,
            "linecolor": "white",
            "showbackground": true,
            "ticks": "",
            "zerolinecolor": "white"
           }
          },
          "shapedefaults": {
           "line": {
            "color": "#2a3f5f"
           }
          },
          "ternary": {
           "aaxis": {
            "gridcolor": "white",
            "linecolor": "white",
            "ticks": ""
           },
           "baxis": {
            "gridcolor": "white",
            "linecolor": "white",
            "ticks": ""
           },
           "bgcolor": "#E5ECF6",
           "caxis": {
            "gridcolor": "white",
            "linecolor": "white",
            "ticks": ""
           }
          },
          "title": {
           "x": 0.05
          },
          "xaxis": {
           "automargin": true,
           "gridcolor": "white",
           "linecolor": "white",
           "ticks": "",
           "title": {
            "standoff": 15
           },
           "zerolinecolor": "white",
           "zerolinewidth": 2
          },
          "yaxis": {
           "automargin": true,
           "gridcolor": "white",
           "linecolor": "white",
           "ticks": "",
           "title": {
            "standoff": 15
           },
           "zerolinecolor": "white",
           "zerolinewidth": 2
          }
         }
        },
        "title": {
         "text": "Old Faithful Geyser Eruptions for short wait times (>71)"
        },
        "xaxis": {
         "anchor": "y",
         "domain": [
          0,
          1
         ],
         "title": {
          "text": "waiting"
         }
        },
        "yaxis": {
         "anchor": "x",
         "domain": [
          0,
          1
         ],
         "title": {
          "text": "duration"
         }
        }
       }
      },
      "text/html": [
       "<div>                            <div id=\"7ead112e-a3aa-4174-bc3b-32c0cd963ad1\" class=\"plotly-graph-div\" style=\"height:525px; width:100%;\"></div>            <script type=\"text/javascript\">                require([\"plotly\"], function(Plotly) {                    window.PLOTLYENV=window.PLOTLYENV || {};                                    if (document.getElementById(\"7ead112e-a3aa-4174-bc3b-32c0cd963ad1\")) {                    Plotly.newPlot(                        \"7ead112e-a3aa-4174-bc3b-32c0cd963ad1\",                        [{\"hovertemplate\":\"waiting=%{x}\\u003cbr\\u003eduration=%{y}\\u003cextra\\u003e\\u003c\\u002fextra\\u003e\",\"legendgroup\":\"\",\"marker\":{\"color\":\"#636efa\",\"symbol\":\"circle\"},\"mode\":\"markers\",\"name\":\"\",\"orientation\":\"v\",\"showlegend\":false,\"x\":[79,74,85,88,85,85,84,78,83,84,79,78,74,83,76,78,79,73,77,80,74,80,90,80,84,73,83,82,75,90,80,83,77,81,84,82,92,78,78,73,82,79,76,78,76,83,75,82,73,88,76,80,86,90,78,72,84,75,82,88,83,81,84,86,81,75,89,79,81,85,87,77,88,81,82,90,83,89,82,86,79,81,82,77,76,80,96,77,77,81,81,93,89,86,78,76,88,93,77,81,81,73,85,74,77,83,83,78,84,83,81,76,84,77,81,87,77,78,82,91,78,77,84,83,80,75,76,94,76,82,75,78,79,78,78,79,86,90,77,79,75,86,85,82,82,74,83,73,73,88,80,83,79,78,84,83,75,81,90,74],\"xaxis\":\"x\",\"y\":[3.6,3.333,4.533,4.7,3.6,4.35,3.917,4.2,4.7,4.8,4.25,3.45,4.533,3.6,4.083,3.85,4.433,4.3,4.467,4.033,3.833,4.833,4.783,4.35,4.567,4.533,3.317,4.633,4.8,4.716,4.833,4.883,4.567,4.317,4.5,4.8,4.4,4.167,4.7,4.7,4.033,4.5,5.067,4.567,3.883,3.6,4.133,4.333,4.067,4.933,3.95,4.517,4.0,4.333,4.817,4.3,4.667,3.75,4.9,4.367,4.5,4.05,4.7,4.85,3.683,4.7330000000000005,4.9,4.417,4.633,4.6,4.417,4.25,4.6,3.767,4.5,4.65,4.167,4.333,4.383,4.933,3.733,4.2330000000000005,4.533,4.817,4.333,4.633,5.1,5.033,4.0,4.6,4.5,4.083,3.967,4.15,3.833,4.583,5.0,4.617,4.583,4.167,4.333,4.5,4.0,4.167,4.583,4.25,3.767,4.433,4.083,4.417,4.8,4.8,4.1,3.966,4.2330000000000005,3.5,4.3660000000000005,4.667,4.35,4.133,4.6,4.367,3.85,4.5,4.7,3.833,4.2330000000000005,4.8,4.15,4.267,4.4830000000000005,4.0,4.117,4.083,4.267,4.55,4.183,4.45,4.283,3.95,4.15,4.933,4.583,3.833,4.367,4.35,4.45,3.567,4.5,4.15,3.817,4.45,4.283,4.767,4.533,4.25,4.75,4.117,4.417,4.467],\"yaxis\":\"y\",\"type\":\"scatter\"},{\"hovertemplate\":\"\\u003cb\\u003eOLS trendline\\u003c\\u002fb\\u003e\\u003cbr\\u003eduration = 0.012244 * waiting + 3.35195\\u003cbr\\u003eR\\u003csup\\u003e2\\u003c\\u002fsup\\u003e=0.026925\\u003cbr\\u003e\\u003cbr\\u003ewaiting=%{x}\\u003cbr\\u003eduration=%{y} \\u003cb\\u003e(trend)\\u003c\\u002fb\\u003e\\u003cextra\\u003e\\u003c\\u002fextra\\u003e\",\"legendgroup\":\"\",\"marker\":{\"color\":\"#636efa\",\"symbol\":\"circle\"},\"mode\":\"lines\",\"name\":\"\",\"showlegend\":false,\"x\":[72,73,73,73,73,73,73,73,74,74,74,74,74,74,75,75,75,75,75,75,75,75,76,76,76,76,76,76,76,76,76,77,77,77,77,77,77,77,77,77,77,77,77,78,78,78,78,78,78,78,78,78,78,78,78,78,78,78,79,79,79,79,79,79,79,79,79,79,80,80,80,80,80,80,80,80,81,81,81,81,81,81,81,81,81,81,81,81,81,82,82,82,82,82,82,82,82,82,82,82,82,83,83,83,83,83,83,83,83,83,83,83,83,83,83,84,84,84,84,84,84,84,84,84,84,85,85,85,85,85,85,86,86,86,86,86,86,87,87,88,88,88,88,88,88,89,89,89,90,90,90,90,90,90,91,92,93,93,94,96],\"xaxis\":\"x\",\"y\":[4.233522783508958,4.245766812955481,4.245766812955481,4.245766812955481,4.245766812955481,4.245766812955481,4.245766812955481,4.245766812955481,4.258010842402005,4.258010842402005,4.258010842402005,4.258010842402005,4.258010842402005,4.258010842402005,4.270254871848528,4.270254871848528,4.270254871848528,4.270254871848528,4.270254871848528,4.270254871848528,4.270254871848528,4.270254871848528,4.282498901295052,4.282498901295052,4.282498901295052,4.282498901295052,4.282498901295052,4.282498901295052,4.282498901295052,4.282498901295052,4.282498901295052,4.294742930741576,4.294742930741576,4.294742930741576,4.294742930741576,4.294742930741576,4.294742930741576,4.294742930741576,4.294742930741576,4.294742930741576,4.294742930741576,4.294742930741576,4.294742930741576,4.306986960188099,4.306986960188099,4.306986960188099,4.306986960188099,4.306986960188099,4.306986960188099,4.306986960188099,4.306986960188099,4.306986960188099,4.306986960188099,4.306986960188099,4.306986960188099,4.306986960188099,4.306986960188099,4.306986960188099,4.319230989634622,4.319230989634622,4.319230989634622,4.319230989634622,4.319230989634622,4.319230989634622,4.319230989634622,4.319230989634622,4.319230989634622,4.319230989634622,4.331475019081147,4.331475019081147,4.331475019081147,4.331475019081147,4.331475019081147,4.331475019081147,4.331475019081147,4.331475019081147,4.34371904852767,4.34371904852767,4.34371904852767,4.34371904852767,4.34371904852767,4.34371904852767,4.34371904852767,4.34371904852767,4.34371904852767,4.34371904852767,4.34371904852767,4.34371904852767,4.34371904852767,4.355963077974193,4.355963077974193,4.355963077974193,4.355963077974193,4.355963077974193,4.355963077974193,4.355963077974193,4.355963077974193,4.355963077974193,4.355963077974193,4.355963077974193,4.355963077974193,4.368207107420717,4.368207107420717,4.368207107420717,4.368207107420717,4.368207107420717,4.368207107420717,4.368207107420717,4.368207107420717,4.368207107420717,4.368207107420717,4.368207107420717,4.368207107420717,4.368207107420717,4.368207107420717,4.38045113686724,4.38045113686724,4.38045113686724,4.38045113686724,4.38045113686724,4.38045113686724,4.38045113686724,4.38045113686724,4.38045113686724,4.38045113686724,4.392695166313764,4.392695166313764,4.392695166313764,4.392695166313764,4.392695166313764,4.392695166313764,4.404939195760288,4.404939195760288,4.404939195760288,4.404939195760288,4.404939195760288,4.404939195760288,4.417183225206811,4.417183225206811,4.429427254653334,4.429427254653334,4.429427254653334,4.429427254653334,4.429427254653334,4.429427254653334,4.441671284099858,4.441671284099858,4.441671284099858,4.453915313546382,4.453915313546382,4.453915313546382,4.453915313546382,4.453915313546382,4.453915313546382,4.466159342992905,4.478403372439429,4.490647401885952,4.490647401885952,4.5028914313324755,4.527379490225523],\"yaxis\":\"y\",\"type\":\"scatter\"}],                        {\"template\":{\"data\":{\"histogram2dcontour\":[{\"type\":\"histogram2dcontour\",\"colorbar\":{\"outlinewidth\":0,\"ticks\":\"\"},\"colorscale\":[[0.0,\"#0d0887\"],[0.1111111111111111,\"#46039f\"],[0.2222222222222222,\"#7201a8\"],[0.3333333333333333,\"#9c179e\"],[0.4444444444444444,\"#bd3786\"],[0.5555555555555556,\"#d8576b\"],[0.6666666666666666,\"#ed7953\"],[0.7777777777777778,\"#fb9f3a\"],[0.8888888888888888,\"#fdca26\"],[1.0,\"#f0f921\"]]}],\"choropleth\":[{\"type\":\"choropleth\",\"colorbar\":{\"outlinewidth\":0,\"ticks\":\"\"}}],\"histogram2d\":[{\"type\":\"histogram2d\",\"colorbar\":{\"outlinewidth\":0,\"ticks\":\"\"},\"colorscale\":[[0.0,\"#0d0887\"],[0.1111111111111111,\"#46039f\"],[0.2222222222222222,\"#7201a8\"],[0.3333333333333333,\"#9c179e\"],[0.4444444444444444,\"#bd3786\"],[0.5555555555555556,\"#d8576b\"],[0.6666666666666666,\"#ed7953\"],[0.7777777777777778,\"#fb9f3a\"],[0.8888888888888888,\"#fdca26\"],[1.0,\"#f0f921\"]]}],\"heatmap\":[{\"type\":\"heatmap\",\"colorbar\":{\"outlinewidth\":0,\"ticks\":\"\"},\"colorscale\":[[0.0,\"#0d0887\"],[0.1111111111111111,\"#46039f\"],[0.2222222222222222,\"#7201a8\"],[0.3333333333333333,\"#9c179e\"],[0.4444444444444444,\"#bd3786\"],[0.5555555555555556,\"#d8576b\"],[0.6666666666666666,\"#ed7953\"],[0.7777777777777778,\"#fb9f3a\"],[0.8888888888888888,\"#fdca26\"],[1.0,\"#f0f921\"]]}],\"heatmapgl\":[{\"type\":\"heatmapgl\",\"colorbar\":{\"outlinewidth\":0,\"ticks\":\"\"},\"colorscale\":[[0.0,\"#0d0887\"],[0.1111111111111111,\"#46039f\"],[0.2222222222222222,\"#7201a8\"],[0.3333333333333333,\"#9c179e\"],[0.4444444444444444,\"#bd3786\"],[0.5555555555555556,\"#d8576b\"],[0.6666666666666666,\"#ed7953\"],[0.7777777777777778,\"#fb9f3a\"],[0.8888888888888888,\"#fdca26\"],[1.0,\"#f0f921\"]]}],\"contourcarpet\":[{\"type\":\"contourcarpet\",\"colorbar\":{\"outlinewidth\":0,\"ticks\":\"\"}}],\"contour\":[{\"type\":\"contour\",\"colorbar\":{\"outlinewidth\":0,\"ticks\":\"\"},\"colorscale\":[[0.0,\"#0d0887\"],[0.1111111111111111,\"#46039f\"],[0.2222222222222222,\"#7201a8\"],[0.3333333333333333,\"#9c179e\"],[0.4444444444444444,\"#bd3786\"],[0.5555555555555556,\"#d8576b\"],[0.6666666666666666,\"#ed7953\"],[0.7777777777777778,\"#fb9f3a\"],[0.8888888888888888,\"#fdca26\"],[1.0,\"#f0f921\"]]}],\"surface\":[{\"type\":\"surface\",\"colorbar\":{\"outlinewidth\":0,\"ticks\":\"\"},\"colorscale\":[[0.0,\"#0d0887\"],[0.1111111111111111,\"#46039f\"],[0.2222222222222222,\"#7201a8\"],[0.3333333333333333,\"#9c179e\"],[0.4444444444444444,\"#bd3786\"],[0.5555555555555556,\"#d8576b\"],[0.6666666666666666,\"#ed7953\"],[0.7777777777777778,\"#fb9f3a\"],[0.8888888888888888,\"#fdca26\"],[1.0,\"#f0f921\"]]}],\"mesh3d\":[{\"type\":\"mesh3d\",\"colorbar\":{\"outlinewidth\":0,\"ticks\":\"\"}}],\"scatter\":[{\"fillpattern\":{\"fillmode\":\"overlay\",\"size\":10,\"solidity\":0.2},\"type\":\"scatter\"}],\"parcoords\":[{\"type\":\"parcoords\",\"line\":{\"colorbar\":{\"outlinewidth\":0,\"ticks\":\"\"}}}],\"scatterpolargl\":[{\"type\":\"scatterpolargl\",\"marker\":{\"colorbar\":{\"outlinewidth\":0,\"ticks\":\"\"}}}],\"bar\":[{\"error_x\":{\"color\":\"#2a3f5f\"},\"error_y\":{\"color\":\"#2a3f5f\"},\"marker\":{\"line\":{\"color\":\"#E5ECF6\",\"width\":0.5},\"pattern\":{\"fillmode\":\"overlay\",\"size\":10,\"solidity\":0.2}},\"type\":\"bar\"}],\"scattergeo\":[{\"type\":\"scattergeo\",\"marker\":{\"colorbar\":{\"outlinewidth\":0,\"ticks\":\"\"}}}],\"scatterpolar\":[{\"type\":\"scatterpolar\",\"marker\":{\"colorbar\":{\"outlinewidth\":0,\"ticks\":\"\"}}}],\"histogram\":[{\"marker\":{\"pattern\":{\"fillmode\":\"overlay\",\"size\":10,\"solidity\":0.2}},\"type\":\"histogram\"}],\"scattergl\":[{\"type\":\"scattergl\",\"marker\":{\"colorbar\":{\"outlinewidth\":0,\"ticks\":\"\"}}}],\"scatter3d\":[{\"type\":\"scatter3d\",\"line\":{\"colorbar\":{\"outlinewidth\":0,\"ticks\":\"\"}},\"marker\":{\"colorbar\":{\"outlinewidth\":0,\"ticks\":\"\"}}}],\"scattermapbox\":[{\"type\":\"scattermapbox\",\"marker\":{\"colorbar\":{\"outlinewidth\":0,\"ticks\":\"\"}}}],\"scatterternary\":[{\"type\":\"scatterternary\",\"marker\":{\"colorbar\":{\"outlinewidth\":0,\"ticks\":\"\"}}}],\"scattercarpet\":[{\"type\":\"scattercarpet\",\"marker\":{\"colorbar\":{\"outlinewidth\":0,\"ticks\":\"\"}}}],\"carpet\":[{\"aaxis\":{\"endlinecolor\":\"#2a3f5f\",\"gridcolor\":\"white\",\"linecolor\":\"white\",\"minorgridcolor\":\"white\",\"startlinecolor\":\"#2a3f5f\"},\"baxis\":{\"endlinecolor\":\"#2a3f5f\",\"gridcolor\":\"white\",\"linecolor\":\"white\",\"minorgridcolor\":\"white\",\"startlinecolor\":\"#2a3f5f\"},\"type\":\"carpet\"}],\"table\":[{\"cells\":{\"fill\":{\"color\":\"#EBF0F8\"},\"line\":{\"color\":\"white\"}},\"header\":{\"fill\":{\"color\":\"#C8D4E3\"},\"line\":{\"color\":\"white\"}},\"type\":\"table\"}],\"barpolar\":[{\"marker\":{\"line\":{\"color\":\"#E5ECF6\",\"width\":0.5},\"pattern\":{\"fillmode\":\"overlay\",\"size\":10,\"solidity\":0.2}},\"type\":\"barpolar\"}],\"pie\":[{\"automargin\":true,\"type\":\"pie\"}]},\"layout\":{\"autotypenumbers\":\"strict\",\"colorway\":[\"#636efa\",\"#EF553B\",\"#00cc96\",\"#ab63fa\",\"#FFA15A\",\"#19d3f3\",\"#FF6692\",\"#B6E880\",\"#FF97FF\",\"#FECB52\"],\"font\":{\"color\":\"#2a3f5f\"},\"hovermode\":\"closest\",\"hoverlabel\":{\"align\":\"left\"},\"paper_bgcolor\":\"white\",\"plot_bgcolor\":\"#E5ECF6\",\"polar\":{\"bgcolor\":\"#E5ECF6\",\"angularaxis\":{\"gridcolor\":\"white\",\"linecolor\":\"white\",\"ticks\":\"\"},\"radialaxis\":{\"gridcolor\":\"white\",\"linecolor\":\"white\",\"ticks\":\"\"}},\"ternary\":{\"bgcolor\":\"#E5ECF6\",\"aaxis\":{\"gridcolor\":\"white\",\"linecolor\":\"white\",\"ticks\":\"\"},\"baxis\":{\"gridcolor\":\"white\",\"linecolor\":\"white\",\"ticks\":\"\"},\"caxis\":{\"gridcolor\":\"white\",\"linecolor\":\"white\",\"ticks\":\"\"}},\"coloraxis\":{\"colorbar\":{\"outlinewidth\":0,\"ticks\":\"\"}},\"colorscale\":{\"sequential\":[[0.0,\"#0d0887\"],[0.1111111111111111,\"#46039f\"],[0.2222222222222222,\"#7201a8\"],[0.3333333333333333,\"#9c179e\"],[0.4444444444444444,\"#bd3786\"],[0.5555555555555556,\"#d8576b\"],[0.6666666666666666,\"#ed7953\"],[0.7777777777777778,\"#fb9f3a\"],[0.8888888888888888,\"#fdca26\"],[1.0,\"#f0f921\"]],\"sequentialminus\":[[0.0,\"#0d0887\"],[0.1111111111111111,\"#46039f\"],[0.2222222222222222,\"#7201a8\"],[0.3333333333333333,\"#9c179e\"],[0.4444444444444444,\"#bd3786\"],[0.5555555555555556,\"#d8576b\"],[0.6666666666666666,\"#ed7953\"],[0.7777777777777778,\"#fb9f3a\"],[0.8888888888888888,\"#fdca26\"],[1.0,\"#f0f921\"]],\"diverging\":[[0,\"#8e0152\"],[0.1,\"#c51b7d\"],[0.2,\"#de77ae\"],[0.3,\"#f1b6da\"],[0.4,\"#fde0ef\"],[0.5,\"#f7f7f7\"],[0.6,\"#e6f5d0\"],[0.7,\"#b8e186\"],[0.8,\"#7fbc41\"],[0.9,\"#4d9221\"],[1,\"#276419\"]]},\"xaxis\":{\"gridcolor\":\"white\",\"linecolor\":\"white\",\"ticks\":\"\",\"title\":{\"standoff\":15},\"zerolinecolor\":\"white\",\"automargin\":true,\"zerolinewidth\":2},\"yaxis\":{\"gridcolor\":\"white\",\"linecolor\":\"white\",\"ticks\":\"\",\"title\":{\"standoff\":15},\"zerolinecolor\":\"white\",\"automargin\":true,\"zerolinewidth\":2},\"scene\":{\"xaxis\":{\"backgroundcolor\":\"#E5ECF6\",\"gridcolor\":\"white\",\"linecolor\":\"white\",\"showbackground\":true,\"ticks\":\"\",\"zerolinecolor\":\"white\",\"gridwidth\":2},\"yaxis\":{\"backgroundcolor\":\"#E5ECF6\",\"gridcolor\":\"white\",\"linecolor\":\"white\",\"showbackground\":true,\"ticks\":\"\",\"zerolinecolor\":\"white\",\"gridwidth\":2},\"zaxis\":{\"backgroundcolor\":\"#E5ECF6\",\"gridcolor\":\"white\",\"linecolor\":\"white\",\"showbackground\":true,\"ticks\":\"\",\"zerolinecolor\":\"white\",\"gridwidth\":2}},\"shapedefaults\":{\"line\":{\"color\":\"#2a3f5f\"}},\"annotationdefaults\":{\"arrowcolor\":\"#2a3f5f\",\"arrowhead\":0,\"arrowwidth\":1},\"geo\":{\"bgcolor\":\"white\",\"landcolor\":\"#E5ECF6\",\"subunitcolor\":\"white\",\"showland\":true,\"showlakes\":true,\"lakecolor\":\"white\"},\"title\":{\"x\":0.05},\"mapbox\":{\"style\":\"light\"}}},\"xaxis\":{\"anchor\":\"y\",\"domain\":[0.0,1.0],\"title\":{\"text\":\"waiting\"}},\"yaxis\":{\"anchor\":\"x\",\"domain\":[0.0,1.0],\"title\":{\"text\":\"duration\"}},\"legend\":{\"tracegroupgap\":0},\"title\":{\"text\":\"Old Faithful Geyser Eruptions for short wait times (\\u003e71)\"}},                        {\"responsive\": true}                    ).then(function(){\n",
       "                            \n",
       "var gd = document.getElementById('7ead112e-a3aa-4174-bc3b-32c0cd963ad1');\n",
       "var x = new MutationObserver(function (mutations, observer) {{\n",
       "        var display = window.getComputedStyle(gd).display;\n",
       "        if (!display || display === 'none') {{\n",
       "            console.log([gd, 'removed!']);\n",
       "            Plotly.purge(gd);\n",
       "            observer.disconnect();\n",
       "        }}\n",
       "}});\n",
       "\n",
       "// Listen for the removal of the full notebook cells\n",
       "var notebookContainer = gd.closest('#notebook-container');\n",
       "if (notebookContainer) {{\n",
       "    x.observe(notebookContainer, {childList: true});\n",
       "}}\n",
       "\n",
       "// Listen for the clearing of the current output cell\n",
       "var outputEl = gd.closest('.output');\n",
       "if (outputEl) {{\n",
       "    x.observe(outputEl, {childList: true});\n",
       "}}\n",
       "\n",
       "                        })                };                });            </script>        </div>"
      ]
     },
     "metadata": {},
     "output_type": "display_data"
    }
   ],
   "source": [
    "import plotly.express as px\n",
    "\n",
    "long_wait_limit = 71\n",
    "long_wait = old_faithful.waiting > long_wait_limit\n",
    "\n",
    "print(smf.ols('duration ~ waiting', data=old_faithful[long_wait]).fit().summary().tables[1])\n",
    "\n",
    "# Create a scatter plot with a linear regression trendline\n",
    "fig = px.scatter(old_faithful[long_wait], x='waiting', y='duration', \n",
    "                 title=\"Old Faithful Geyser Eruptions for short wait times (>\"+str(long_wait_limit)+\")\", \n",
    "                 trendline='ols')\n",
    "fig.show() # USE `fig.show(renderer=\"png\")` FOR ALL GitHub and MarkUs SUBMISSIONS"
   ]
  },
  {
   "cell_type": "code",
   "execution_count": 20,
   "id": "7dc468d0",
   "metadata": {},
   "outputs": [
    {
     "data": {
      "image/png": "[encoded data removed]",
      "text/plain": [
       "<Figure size 640x480 with 1 Axes>"
      ]
     },
     "metadata": {},
     "output_type": "display_data"
    },
    {
     "data": {
      "image/png": "[encoded data removed]",
      "text/plain": [
       "<Figure size 640x480 with 1 Axes>"
      ]
     },
     "metadata": {},
     "output_type": "display_data"
    },
    {
     "name": "stdout",
     "output_type": "stream",
     "text": [
      "95% Bootstrapped Confidence Interval for Slope: [0.03297222 0.06143467]\n",
      "Simulated p-value: 0.0\n"
     ]
    }
   ],
   "source": [
    "import numpy as np\n",
    "import pandas as pd\n",
    "import seaborn as sns\n",
    "import matplotlib.pyplot as plt\n",
    "import statsmodels.formula.api as smf\n",
    "from scipy import stats\n",
    "\n",
    "old_faithful = sns.load_dataset('geyser')\n",
    "long_wait = old_faithful['waiting'] > 63\n",
    "\n",
    "bootstrapped_slope_coefficients = []\n",
    "for _ in range(1000):\n",
    "    bootstrap_sample = old_faithful[long_wait].sample(n=long_wait.sum(), replace=True)\n",
    "    bootstrap_model = smf.ols('duration ~ waiting', data=bootstrap_sample).fit()\n",
    "    bootstrapped_slope_coefficients.append(bootstrap_model.params['waiting'])\n",
    "\n",
    "plt.hist(bootstrapped_slope_coefficients, bins=30, alpha=0.7)\n",
    "plt.title(\"Bootstrapped Sampling Distribution of Slope Coefficients\")\n",
    "plt.xlabel(\"Slope Coefficient\")\n",
    "plt.ylabel(\"Frequency\")\n",
    "plt.show()\n",
    "\n",
    "beta_0 = 1.65\n",
    "beta_1 = 0\n",
    "sigma = 0.37\n",
    "\n",
    "simulated_slope_coefficients = []\n",
    "for _ in range(1000):\n",
    "    old_faithful_simulation = old_faithful[long_wait].copy()\n",
    "    old_faithful_simulation['duration'] = beta_0 + beta_1 * old_faithful_simulation['waiting'] \\\n",
    "                                          + stats.norm(loc=0, scale=sigma).rvs(size=long_wait.sum())\n",
    "    simulated_model = smf.ols('duration ~ waiting', data=old_faithful_simulation).fit()\n",
    "    simulated_slope_coefficients.append(simulated_model.params['waiting'])\n",
    "\n",
    "plt.hist(simulated_slope_coefficients, bins=30, alpha=0.7, color='orange')\n",
    "plt.title(\"Simulated Sampling Distribution of Slope Coefficients (Under Null)\")\n",
    "plt.xlabel(\"Slope Coefficient\")\n",
    "plt.ylabel(\"Frequency\")\n",
    "plt.show()\n",
    "\n",
    "bootstrapped_confidence_interval = np.quantile(bootstrapped_slope_coefficients, [0.025, 0.975])\n",
    "print(\"95% Bootstrapped Confidence Interval for Slope:\", bootstrapped_confidence_interval)\n",
    "\n",
    "observed_slope = smf.ols('duration ~ waiting', data=old_faithful[long_wait]).fit().params['waiting']\n",
    "\n",
    "simulated_p_value = (np.abs(simulated_slope_coefficients) >= np.abs(observed_slope)).mean()\n",
    "print(\"Simulated p-value:\", simulated_p_value)\n"
   ]
  },
  {
   "cell_type": "markdown",
   "id": "a1163d93",
   "metadata": {},
   "source": [
    "### 11. Since we've considered wait times of around <64  \"short\" and wait times of >71 \"long\", let's instead just divide the data and insead call wait times of <68 \"short\" and otherwise just call them \"long\". Consider the *Simple Linear Regression* model specification using an *indicator variable* of the wait time length<br>\n",
    "\n",
    "$$\\large Y_i = \\beta_{\\text{intercept}} + 1_{[\\text{\"long\"}]}(\\text{k_i})\\beta_{\\text{contrast}} + \\epsilon_i \\quad \\text{ where } \\quad \\epsilon_i \\sim \\mathcal N\\left(0, \\sigma\\right)$$\n",
    "\n",
    "### where we use $k_i$ (rather than $x_i$) (to refer to the \"kind\" or \"katagory\" or \"kontrast\") column (that you may have noticed was already a part) of the original dataset; and, explain the \"big picture\" differences between this model specification and the previously considered model specifications<br>\n",
    "\n",
    "1. `smf.ols('duration ~ waiting', data=old_faithful)`\n",
    "2. `smf.ols('duration ~ waiting', data=old_faithful[short_wait])`\n",
    "3. `smf.ols('duration ~ waiting', data=old_faithful[long_wait])`\n",
    "\n",
    "### and report the evidence against a *null hypothesis* of \"no difference between groups \"on average\") for the new *indicator variable* based model<br>\n"
   ]
  },
  {
   "cell_type": "code",
   "execution_count": 21,
   "id": "1efc4f93",
   "metadata": {},
   "outputs": [
    {
     "data": {
      "text/html": [
       "<table class=\"simpletable\">\n",
       "<tr>\n",
       "                        <td></td>                           <th>coef</th>     <th>std err</th>      <th>t</th>      <th>P>|t|</th>  <th>[0.025</th>    <th>0.975]</th>  \n",
       "</tr>\n",
       "<tr>\n",
       "  <th>Intercept</th>                                     <td>    2.0943</td> <td>    0.041</td> <td>   50.752</td> <td> 0.000</td> <td>    2.013</td> <td>    2.176</td>\n",
       "</tr>\n",
       "<tr>\n",
       "  <th>C(kind, Treatment(reference=\"short\"))[T.long]</th> <td>    2.2036</td> <td>    0.052</td> <td>   42.464</td> <td> 0.000</td> <td>    2.101</td> <td>    2.306</td>\n",
       "</tr>\n",
       "</table>"
      ],
      "text/latex": [
       "\\begin{center}\n",
       "\\begin{tabular}{lcccccc}\n",
       "\\toprule\n",
       "                                                       & \\textbf{coef} & \\textbf{std err} & \\textbf{t} & \\textbf{P$> |$t$|$} & \\textbf{[0.025} & \\textbf{0.975]}  \\\\\n",
       "\\midrule\n",
       "\\textbf{Intercept}                                     &       2.0943  &        0.041     &    50.752  &         0.000        &        2.013    &        2.176     \\\\\n",
       "\\textbf{C(kind, Treatment(reference=\"short\"))[T.long]} &       2.2036  &        0.052     &    42.464  &         0.000        &        2.101    &        2.306     \\\\\n",
       "\\bottomrule\n",
       "\\end{tabular}\n",
       "\\end{center}"
      ],
      "text/plain": [
       "<class 'statsmodels.iolib.table.SimpleTable'>"
      ]
     },
     "metadata": {},
     "output_type": "display_data"
    },
    {
     "data": {
      "application/vnd.plotly.v1+json": {
       "config": {
        "plotlyServerURL": "https://plot.ly"
       },
       "data": [
        {
         "alignmentgroup": "True",
         "hovertemplate": "kind=%{x}<br>duration=%{y}<extra></extra>",
         "legendgroup": "",
         "marker": {
          "color": "#636efa"
         },
         "name": "",
         "notched": false,
         "offsetgroup": "",
         "orientation": "v",
         "showlegend": false,
         "type": "box",
         "x": [
          "long",
          "short",
          "long",
          "short",
          "long",
          "short",
          "long",
          "long",
          "short",
          "long",
          "short",
          "long",
          "long",
          "short",
          "long",
          "short",
          "short",
          "long",
          "short",
          "long",
          "short",
          "short",
          "long",
          "long",
          "long",
          "long",
          "short",
          "long",
          "long",
          "long",
          "long",
          "long",
          "short",
          "long",
          "long",
          "short",
          "short",
          "long",
          "short",
          "long",
          "long",
          "short",
          "long",
          "short",
          "long",
          "long",
          "short",
          "short",
          "long",
          "short",
          "long",
          "long",
          "short",
          "long",
          "short",
          "long",
          "long",
          "short",
          "long",
          "long",
          "short",
          "long",
          "short",
          "long",
          "short",
          "long",
          "long",
          "long",
          "short",
          "long",
          "long",
          "short",
          "long",
          "long",
          "short",
          "long",
          "short",
          "long",
          "long",
          "long",
          "long",
          "long",
          "long",
          "short",
          "long",
          "long",
          "long",
          "long",
          "short",
          "long",
          "short",
          "long",
          "short",
          "long",
          "short",
          "long",
          "long",
          "long",
          "short",
          "long",
          "short",
          "long",
          "short",
          "long",
          "long",
          "short",
          "long",
          "short",
          "long",
          "long",
          "long",
          "short",
          "long",
          "long",
          "short",
          "long",
          "short",
          "long",
          "short",
          "long",
          "short",
          "long",
          "long",
          "short",
          "long",
          "long",
          "short",
          "long",
          "short",
          "long",
          "short",
          "long",
          "short",
          "long",
          "short",
          "long",
          "short",
          "long",
          "short",
          "long",
          "long",
          "short",
          "long",
          "long",
          "long",
          "short",
          "long",
          "short",
          "long",
          "short",
          "long",
          "long",
          "short",
          "long",
          "long",
          "long",
          "long",
          "long",
          "short",
          "long",
          "short",
          "long",
          "short",
          "long",
          "short",
          "long",
          "short",
          "long",
          "short",
          "long",
          "short",
          "short",
          "long",
          "long",
          "long",
          "long",
          "long",
          "short",
          "long",
          "long",
          "short",
          "long",
          "long",
          "long",
          "short",
          "long",
          "long",
          "short",
          "long",
          "short",
          "long",
          "short",
          "long",
          "long",
          "long",
          "long",
          "long",
          "long",
          "short",
          "long",
          "short",
          "long",
          "long",
          "short",
          "long",
          "short",
          "long",
          "long",
          "short",
          "long",
          "long",
          "long",
          "short",
          "long",
          "short",
          "long",
          "short",
          "long",
          "short",
          "long",
          "short",
          "long",
          "short",
          "long",
          "long",
          "long",
          "long",
          "long",
          "long",
          "long",
          "long",
          "short",
          "long",
          "short",
          "long",
          "short",
          "short",
          "long",
          "long",
          "short",
          "long",
          "short",
          "long",
          "short",
          "long",
          "long",
          "short",
          "long",
          "short",
          "long",
          "short",
          "long",
          "long",
          "long",
          "long",
          "long",
          "long",
          "long",
          "short",
          "long",
          "long",
          "long",
          "short",
          "long",
          "short",
          "short",
          "long",
          "long",
          "short",
          "long",
          "short",
          "long"
         ],
         "x0": " ",
         "xaxis": "x",
         "y": [
          3.6,
          1.8,
          3.333,
          2.283,
          4.533,
          2.883,
          4.7,
          3.6,
          1.95,
          4.35,
          1.833,
          3.917,
          4.2,
          1.75,
          4.7,
          2.167,
          1.75,
          4.8,
          1.6,
          4.25,
          1.8,
          1.75,
          3.45,
          3.067,
          4.533,
          3.6,
          1.967,
          4.083,
          3.85,
          4.433,
          4.3,
          4.467,
          3.367,
          4.033,
          3.833,
          2.017,
          1.867,
          4.833,
          1.833,
          4.783,
          4.35,
          1.883,
          4.567,
          1.75,
          4.533,
          3.317,
          3.833,
          2.1,
          4.633,
          2,
          4.8,
          4.716,
          1.833,
          4.833,
          1.733,
          4.883,
          3.717,
          1.6669999999999998,
          4.567,
          4.317,
          2.233,
          4.5,
          1.75,
          4.8,
          1.817,
          4.4,
          4.167,
          4.7,
          2.067,
          4.7,
          4.033,
          1.967,
          4.5,
          4,
          1.983,
          5.067,
          2.017,
          4.567,
          3.883,
          3.6,
          4.133,
          4.333,
          4.1,
          2.633,
          4.067,
          4.933,
          3.95,
          4.517,
          2.167,
          4,
          2.2,
          4.333,
          1.867,
          4.817,
          1.833,
          4.3,
          4.667,
          3.75,
          1.867,
          4.9,
          2.483,
          4.367,
          2.1,
          4.5,
          4.05,
          1.867,
          4.7,
          1.783,
          4.85,
          3.683,
          4.7330000000000005,
          2.3,
          4.9,
          4.417,
          1.7,
          4.633,
          2.317,
          4.6,
          1.817,
          4.417,
          2.617,
          4.067,
          4.25,
          1.967,
          4.6,
          3.767,
          1.917,
          4.5,
          2.267,
          4.65,
          1.867,
          4.167,
          2.8,
          4.333,
          1.833,
          4.383,
          1.883,
          4.933,
          2.033,
          3.733,
          4.2330000000000005,
          2.233,
          4.533,
          4.817,
          4.333,
          1.983,
          4.633,
          2.017,
          5.1,
          1.8,
          5.033,
          4,
          2.4,
          4.6,
          3.567,
          4,
          4.5,
          4.083,
          1.8,
          3.967,
          2.2,
          4.15,
          2,
          3.833,
          3.5,
          4.583,
          2.367,
          5,
          1.933,
          4.617,
          1.917,
          2.083,
          4.583,
          3.333,
          4.167,
          4.333,
          4.5,
          2.417,
          4,
          4.167,
          1.883,
          4.583,
          4.25,
          3.767,
          2.033,
          4.433,
          4.083,
          1.833,
          4.417,
          2.1830000000000003,
          4.8,
          1.833,
          4.8,
          4.1,
          3.966,
          4.2330000000000005,
          3.5,
          4.3660000000000005,
          2.25,
          4.667,
          2.1,
          4.35,
          4.133,
          1.867,
          4.6,
          1.783,
          4.367,
          3.85,
          1.933,
          4.5,
          2.383,
          4.7,
          1.867,
          3.833,
          3.417,
          4.2330000000000005,
          2.4,
          4.8,
          2,
          4.15,
          1.867,
          4.267,
          1.75,
          4.4830000000000005,
          4,
          4.117,
          4.083,
          4.267,
          3.917,
          4.55,
          4.083,
          2.417,
          4.183,
          2.217,
          4.45,
          1.883,
          1.85,
          4.283,
          3.95,
          2.333,
          4.15,
          2.35,
          4.933,
          2.9,
          4.583,
          3.833,
          2.083,
          4.367,
          2.133,
          4.35,
          2.2,
          4.45,
          3.567,
          4.5,
          4.15,
          3.817,
          3.917,
          4.45,
          2,
          4.283,
          4.767,
          4.533,
          1.85,
          4.25,
          1.983,
          2.25,
          4.75,
          4.117,
          2.15,
          4.417,
          1.817,
          4.467
         ],
         "y0": " ",
         "yaxis": "y"
        }
       ],
       "layout": {
        "boxmode": "group",
        "legend": {
         "tracegroupgap": 0
        },
        "template": {
         "data": {
          "bar": [
           {
            "error_x": {
             "color": "#2a3f5f"
            },
            "error_y": {
             "color": "#2a3f5f"
            },
            "marker": {
             "line": {
              "color": "#E5ECF6",
              "width": 0.5
             },
             "pattern": {
              "fillmode": "overlay",
              "size": 10,
              "solidity": 0.2
             }
            },
            "type": "bar"
           }
          ],
          "barpolar": [
           {
            "marker": {
             "line": {
              "color": "#E5ECF6",
              "width": 0.5
             },
             "pattern": {
              "fillmode": "overlay",
              "size": 10,
              "solidity": 0.2
             }
            },
            "type": "barpolar"
           }
          ],
          "carpet": [
           {
            "aaxis": {
             "endlinecolor": "#2a3f5f",
             "gridcolor": "white",
             "linecolor": "white",
             "minorgridcolor": "white",
             "startlinecolor": "#2a3f5f"
            },
            "baxis": {
             "endlinecolor": "#2a3f5f",
             "gridcolor": "white",
             "linecolor": "white",
             "minorgridcolor": "white",
             "startlinecolor": "#2a3f5f"
            },
            "type": "carpet"
           }
          ],
          "choropleth": [
           {
            "colorbar": {
             "outlinewidth": 0,
             "ticks": ""
            },
            "type": "choropleth"
           }
          ],
          "contour": [
           {
            "colorbar": {
             "outlinewidth": 0,
             "ticks": ""
            },
            "colorscale": [
             [
              0,
              "#0d0887"
             ],
             [
              0.1111111111111111,
              "#46039f"
             ],
             [
              0.2222222222222222,
              "#7201a8"
             ],
             [
              0.3333333333333333,
              "#9c179e"
             ],
             [
              0.4444444444444444,
              "#bd3786"
             ],
             [
              0.5555555555555556,
              "#d8576b"
             ],
             [
              0.6666666666666666,
              "#ed7953"
             ],
             [
              0.7777777777777778,
              "#fb9f3a"
             ],
             [
              0.8888888888888888,
              "#fdca26"
             ],
             [
              1,
              "#f0f921"
             ]
            ],
            "type": "contour"
           }
          ],
          "contourcarpet": [
           {
            "colorbar": {
             "outlinewidth": 0,
             "ticks": ""
            },
            "type": "contourcarpet"
           }
          ],
          "heatmap": [
           {
            "colorbar": {
             "outlinewidth": 0,
             "ticks": ""
            },
            "colorscale": [
             [
              0,
              "#0d0887"
             ],
             [
              0.1111111111111111,
              "#46039f"
             ],
             [
              0.2222222222222222,
              "#7201a8"
             ],
             [
              0.3333333333333333,
              "#9c179e"
             ],
             [
              0.4444444444444444,
              "#bd3786"
             ],
             [
              0.5555555555555556,
              "#d8576b"
             ],
             [
              0.6666666666666666,
              "#ed7953"
             ],
             [
              0.7777777777777778,
              "#fb9f3a"
             ],
             [
              0.8888888888888888,
              "#fdca26"
             ],
             [
              1,
              "#f0f921"
             ]
            ],
            "type": "heatmap"
           }
          ],
          "heatmapgl": [
           {
            "colorbar": {
             "outlinewidth": 0,
             "ticks": ""
            },
            "colorscale": [
             [
              0,
              "#0d0887"
             ],
             [
              0.1111111111111111,
              "#46039f"
             ],
             [
              0.2222222222222222,
              "#7201a8"
             ],
             [
              0.3333333333333333,
              "#9c179e"
             ],
             [
              0.4444444444444444,
              "#bd3786"
             ],
             [
              0.5555555555555556,
              "#d8576b"
             ],
             [
              0.6666666666666666,
              "#ed7953"
             ],
             [
              0.7777777777777778,
              "#fb9f3a"
             ],
             [
              0.8888888888888888,
              "#fdca26"
             ],
             [
              1,
              "#f0f921"
             ]
            ],
            "type": "heatmapgl"
           }
          ],
          "histogram": [
           {
            "marker": {
             "pattern": {
              "fillmode": "overlay",
              "size": 10,
              "solidity": 0.2
             }
            },
            "type": "histogram"
           }
          ],
          "histogram2d": [
           {
            "colorbar": {
             "outlinewidth": 0,
             "ticks": ""
            },
            "colorscale": [
             [
              0,
              "#0d0887"
             ],
             [
              0.1111111111111111,
              "#46039f"
             ],
             [
              0.2222222222222222,
              "#7201a8"
             ],
             [
              0.3333333333333333,
              "#9c179e"
             ],
             [
              0.4444444444444444,
              "#bd3786"
             ],
             [
              0.5555555555555556,
              "#d8576b"
             ],
             [
              0.6666666666666666,
              "#ed7953"
             ],
             [
              0.7777777777777778,
              "#fb9f3a"
             ],
             [
              0.8888888888888888,
              "#fdca26"
             ],
             [
              1,
              "#f0f921"
             ]
            ],
            "type": "histogram2d"
           }
          ],
          "histogram2dcontour": [
           {
            "colorbar": {
             "outlinewidth": 0,
             "ticks": ""
            },
            "colorscale": [
             [
              0,
              "#0d0887"
             ],
             [
              0.1111111111111111,
              "#46039f"
             ],
             [
              0.2222222222222222,
              "#7201a8"
             ],
             [
              0.3333333333333333,
              "#9c179e"
             ],
             [
              0.4444444444444444,
              "#bd3786"
             ],
             [
              0.5555555555555556,
              "#d8576b"
             ],
             [
              0.6666666666666666,
              "#ed7953"
             ],
             [
              0.7777777777777778,
              "#fb9f3a"
             ],
             [
              0.8888888888888888,
              "#fdca26"
             ],
             [
              1,
              "#f0f921"
             ]
            ],
            "type": "histogram2dcontour"
           }
          ],
          "mesh3d": [
           {
            "colorbar": {
             "outlinewidth": 0,
             "ticks": ""
            },
            "type": "mesh3d"
           }
          ],
          "parcoords": [
           {
            "line": {
             "colorbar": {
              "outlinewidth": 0,
              "ticks": ""
             }
            },
            "type": "parcoords"
           }
          ],
          "pie": [
           {
            "automargin": true,
            "type": "pie"
           }
          ],
          "scatter": [
           {
            "fillpattern": {
             "fillmode": "overlay",
             "size": 10,
             "solidity": 0.2
            },
            "type": "scatter"
           }
          ],
          "scatter3d": [
           {
            "line": {
             "colorbar": {
              "outlinewidth": 0,
              "ticks": ""
             }
            },
            "marker": {
             "colorbar": {
              "outlinewidth": 0,
              "ticks": ""
             }
            },
            "type": "scatter3d"
           }
          ],
          "scattercarpet": [
           {
            "marker": {
             "colorbar": {
              "outlinewidth": 0,
              "ticks": ""
             }
            },
            "type": "scattercarpet"
           }
          ],
          "scattergeo": [
           {
            "marker": {
             "colorbar": {
              "outlinewidth": 0,
              "ticks": ""
             }
            },
            "type": "scattergeo"
           }
          ],
          "scattergl": [
           {
            "marker": {
             "colorbar": {
              "outlinewidth": 0,
              "ticks": ""
             }
            },
            "type": "scattergl"
           }
          ],
          "scattermapbox": [
           {
            "marker": {
             "colorbar": {
              "outlinewidth": 0,
              "ticks": ""
             }
            },
            "type": "scattermapbox"
           }
          ],
          "scatterpolar": [
           {
            "marker": {
             "colorbar": {
              "outlinewidth": 0,
              "ticks": ""
             }
            },
            "type": "scatterpolar"
           }
          ],
          "scatterpolargl": [
           {
            "marker": {
             "colorbar": {
              "outlinewidth": 0,
              "ticks": ""
             }
            },
            "type": "scatterpolargl"
           }
          ],
          "scatterternary": [
           {
            "marker": {
             "colorbar": {
              "outlinewidth": 0,
              "ticks": ""
             }
            },
            "type": "scatterternary"
           }
          ],
          "surface": [
           {
            "colorbar": {
             "outlinewidth": 0,
             "ticks": ""
            },
            "colorscale": [
             [
              0,
              "#0d0887"
             ],
             [
              0.1111111111111111,
              "#46039f"
             ],
             [
              0.2222222222222222,
              "#7201a8"
             ],
             [
              0.3333333333333333,
              "#9c179e"
             ],
             [
              0.4444444444444444,
              "#bd3786"
             ],
             [
              0.5555555555555556,
              "#d8576b"
             ],
             [
              0.6666666666666666,
              "#ed7953"
             ],
             [
              0.7777777777777778,
              "#fb9f3a"
             ],
             [
              0.8888888888888888,
              "#fdca26"
             ],
             [
              1,
              "#f0f921"
             ]
            ],
            "type": "surface"
           }
          ],
          "table": [
           {
            "cells": {
             "fill": {
              "color": "#EBF0F8"
             },
             "line": {
              "color": "white"
             }
            },
            "header": {
             "fill": {
              "color": "#C8D4E3"
             },
             "line": {
              "color": "white"
             }
            },
            "type": "table"
           }
          ]
         },
         "layout": {
          "annotationdefaults": {
           "arrowcolor": "#2a3f5f",
           "arrowhead": 0,
           "arrowwidth": 1
          },
          "autotypenumbers": "strict",
          "coloraxis": {
           "colorbar": {
            "outlinewidth": 0,
            "ticks": ""
           }
          },
          "colorscale": {
           "diverging": [
            [
             0,
             "#8e0152"
            ],
            [
             0.1,
             "#c51b7d"
            ],
            [
             0.2,
             "#de77ae"
            ],
            [
             0.3,
             "#f1b6da"
            ],
            [
             0.4,
             "#fde0ef"
            ],
            [
             0.5,
             "#f7f7f7"
            ],
            [
             0.6,
             "#e6f5d0"
            ],
            [
             0.7,
             "#b8e186"
            ],
            [
             0.8,
             "#7fbc41"
            ],
            [
             0.9,
             "#4d9221"
            ],
            [
             1,
             "#276419"
            ]
           ],
           "sequential": [
            [
             0,
             "#0d0887"
            ],
            [
             0.1111111111111111,
             "#46039f"
            ],
            [
             0.2222222222222222,
             "#7201a8"
            ],
            [
             0.3333333333333333,
             "#9c179e"
            ],
            [
             0.4444444444444444,
             "#bd3786"
            ],
            [
             0.5555555555555556,
             "#d8576b"
            ],
            [
             0.6666666666666666,
             "#ed7953"
            ],
            [
             0.7777777777777778,
             "#fb9f3a"
            ],
            [
             0.8888888888888888,
             "#fdca26"
            ],
            [
             1,
             "#f0f921"
            ]
           ],
           "sequentialminus": [
            [
             0,
             "#0d0887"
            ],
            [
             0.1111111111111111,
             "#46039f"
            ],
            [
             0.2222222222222222,
             "#7201a8"
            ],
            [
             0.3333333333333333,
             "#9c179e"
            ],
            [
             0.4444444444444444,
             "#bd3786"
            ],
            [
             0.5555555555555556,
             "#d8576b"
            ],
            [
             0.6666666666666666,
             "#ed7953"
            ],
            [
             0.7777777777777778,
             "#fb9f3a"
            ],
            [
             0.8888888888888888,
             "#fdca26"
            ],
            [
             1,
             "#f0f921"
            ]
           ]
          },
          "colorway": [
           "#636efa",
           "#EF553B",
           "#00cc96",
           "#ab63fa",
           "#FFA15A",
           "#19d3f3",
           "#FF6692",
           "#B6E880",
           "#FF97FF",
           "#FECB52"
          ],
          "font": {
           "color": "#2a3f5f"
          },
          "geo": {
           "bgcolor": "white",
           "lakecolor": "white",
           "landcolor": "#E5ECF6",
           "showlakes": true,
           "showland": true,
           "subunitcolor": "white"
          },
          "hoverlabel": {
           "align": "left"
          },
          "hovermode": "closest",
          "mapbox": {
           "style": "light"
          },
          "paper_bgcolor": "white",
          "plot_bgcolor": "#E5ECF6",
          "polar": {
           "angularaxis": {
            "gridcolor": "white",
            "linecolor": "white",
            "ticks": ""
           },
           "bgcolor": "#E5ECF6",
           "radialaxis": {
            "gridcolor": "white",
            "linecolor": "white",
            "ticks": ""
           }
          },
          "scene": {
           "xaxis": {
            "backgroundcolor": "#E5ECF6",
            "gridcolor": "white",
            "gridwidth": 2,
            "linecolor": "white",
            "showbackground": true,
            "ticks": "",
            "zerolinecolor": "white"
           },
           "yaxis": {
            "backgroundcolor": "#E5ECF6",
            "gridcolor": "white",
            "gridwidth": 2,
            "linecolor": "white",
            "showbackground": true,
            "ticks": "",
            "zerolinecolor": "white"
           },
           "zaxis": {
            "backgroundcolor": "#E5ECF6",
            "gridcolor": "white",
            "gridwidth": 2,
            "linecolor": "white",
            "showbackground": true,
            "ticks": "",
            "zerolinecolor": "white"
           }
          },
          "shapedefaults": {
           "line": {
            "color": "#2a3f5f"
           }
          },
          "ternary": {
           "aaxis": {
            "gridcolor": "white",
            "linecolor": "white",
            "ticks": ""
           },
           "baxis": {
            "gridcolor": "white",
            "linecolor": "white",
            "ticks": ""
           },
           "bgcolor": "#E5ECF6",
           "caxis": {
            "gridcolor": "white",
            "linecolor": "white",
            "ticks": ""
           }
          },
          "title": {
           "x": 0.05
          },
          "xaxis": {
           "automargin": true,
           "gridcolor": "white",
           "linecolor": "white",
           "ticks": "",
           "title": {
            "standoff": 15
           },
           "zerolinecolor": "white",
           "zerolinewidth": 2
          },
          "yaxis": {
           "automargin": true,
           "gridcolor": "white",
           "linecolor": "white",
           "ticks": "",
           "title": {
            "standoff": 15
           },
           "zerolinecolor": "white",
           "zerolinewidth": 2
          }
         }
        },
        "title": {
         "text": "duration ~ kind"
        },
        "xaxis": {
         "anchor": "y",
         "categoryarray": [
          "short",
          "long"
         ],
         "categoryorder": "array",
         "domain": [
          0,
          1
         ],
         "title": {
          "text": "kind"
         }
        },
        "yaxis": {
         "anchor": "x",
         "domain": [
          0,
          1
         ],
         "title": {
          "text": "duration"
         }
        }
       }
      },
      "text/html": [
       "<div>                            <div id=\"84dbccbb-6b0f-4183-808d-645d188d408d\" class=\"plotly-graph-div\" style=\"height:525px; width:100%;\"></div>            <script type=\"text/javascript\">                require([\"plotly\"], function(Plotly) {                    window.PLOTLYENV=window.PLOTLYENV || {};                                    if (document.getElementById(\"84dbccbb-6b0f-4183-808d-645d188d408d\")) {                    Plotly.newPlot(                        \"84dbccbb-6b0f-4183-808d-645d188d408d\",                        [{\"alignmentgroup\":\"True\",\"hovertemplate\":\"kind=%{x}\\u003cbr\\u003eduration=%{y}\\u003cextra\\u003e\\u003c\\u002fextra\\u003e\",\"legendgroup\":\"\",\"marker\":{\"color\":\"#636efa\"},\"name\":\"\",\"notched\":false,\"offsetgroup\":\"\",\"orientation\":\"v\",\"showlegend\":false,\"x\":[\"long\",\"short\",\"long\",\"short\",\"long\",\"short\",\"long\",\"long\",\"short\",\"long\",\"short\",\"long\",\"long\",\"short\",\"long\",\"short\",\"short\",\"long\",\"short\",\"long\",\"short\",\"short\",\"long\",\"long\",\"long\",\"long\",\"short\",\"long\",\"long\",\"long\",\"long\",\"long\",\"short\",\"long\",\"long\",\"short\",\"short\",\"long\",\"short\",\"long\",\"long\",\"short\",\"long\",\"short\",\"long\",\"long\",\"short\",\"short\",\"long\",\"short\",\"long\",\"long\",\"short\",\"long\",\"short\",\"long\",\"long\",\"short\",\"long\",\"long\",\"short\",\"long\",\"short\",\"long\",\"short\",\"long\",\"long\",\"long\",\"short\",\"long\",\"long\",\"short\",\"long\",\"long\",\"short\",\"long\",\"short\",\"long\",\"long\",\"long\",\"long\",\"long\",\"long\",\"short\",\"long\",\"long\",\"long\",\"long\",\"short\",\"long\",\"short\",\"long\",\"short\",\"long\",\"short\",\"long\",\"long\",\"long\",\"short\",\"long\",\"short\",\"long\",\"short\",\"long\",\"long\",\"short\",\"long\",\"short\",\"long\",\"long\",\"long\",\"short\",\"long\",\"long\",\"short\",\"long\",\"short\",\"long\",\"short\",\"long\",\"short\",\"long\",\"long\",\"short\",\"long\",\"long\",\"short\",\"long\",\"short\",\"long\",\"short\",\"long\",\"short\",\"long\",\"short\",\"long\",\"short\",\"long\",\"short\",\"long\",\"long\",\"short\",\"long\",\"long\",\"long\",\"short\",\"long\",\"short\",\"long\",\"short\",\"long\",\"long\",\"short\",\"long\",\"long\",\"long\",\"long\",\"long\",\"short\",\"long\",\"short\",\"long\",\"short\",\"long\",\"short\",\"long\",\"short\",\"long\",\"short\",\"long\",\"short\",\"short\",\"long\",\"long\",\"long\",\"long\",\"long\",\"short\",\"long\",\"long\",\"short\",\"long\",\"long\",\"long\",\"short\",\"long\",\"long\",\"short\",\"long\",\"short\",\"long\",\"short\",\"long\",\"long\",\"long\",\"long\",\"long\",\"long\",\"short\",\"long\",\"short\",\"long\",\"long\",\"short\",\"long\",\"short\",\"long\",\"long\",\"short\",\"long\",\"long\",\"long\",\"short\",\"long\",\"short\",\"long\",\"short\",\"long\",\"short\",\"long\",\"short\",\"long\",\"short\",\"long\",\"long\",\"long\",\"long\",\"long\",\"long\",\"long\",\"long\",\"short\",\"long\",\"short\",\"long\",\"short\",\"short\",\"long\",\"long\",\"short\",\"long\",\"short\",\"long\",\"short\",\"long\",\"long\",\"short\",\"long\",\"short\",\"long\",\"short\",\"long\",\"long\",\"long\",\"long\",\"long\",\"long\",\"long\",\"short\",\"long\",\"long\",\"long\",\"short\",\"long\",\"short\",\"short\",\"long\",\"long\",\"short\",\"long\",\"short\",\"long\"],\"x0\":\" \",\"xaxis\":\"x\",\"y\":[3.6,1.8,3.333,2.283,4.533,2.883,4.7,3.6,1.95,4.35,1.833,3.917,4.2,1.75,4.7,2.167,1.75,4.8,1.6,4.25,1.8,1.75,3.45,3.067,4.533,3.6,1.967,4.083,3.85,4.433,4.3,4.467,3.367,4.033,3.833,2.017,1.867,4.833,1.833,4.783,4.35,1.883,4.567,1.75,4.533,3.317,3.833,2.1,4.633,2.0,4.8,4.716,1.833,4.833,1.733,4.883,3.717,1.6669999999999998,4.567,4.317,2.233,4.5,1.75,4.8,1.817,4.4,4.167,4.7,2.067,4.7,4.033,1.967,4.5,4.0,1.983,5.067,2.017,4.567,3.883,3.6,4.133,4.333,4.1,2.633,4.067,4.933,3.95,4.517,2.167,4.0,2.2,4.333,1.867,4.817,1.833,4.3,4.667,3.75,1.867,4.9,2.483,4.367,2.1,4.5,4.05,1.867,4.7,1.783,4.85,3.683,4.7330000000000005,2.3,4.9,4.417,1.7,4.633,2.317,4.6,1.817,4.417,2.617,4.067,4.25,1.967,4.6,3.767,1.917,4.5,2.267,4.65,1.867,4.167,2.8,4.333,1.833,4.383,1.883,4.933,2.033,3.733,4.2330000000000005,2.233,4.533,4.817,4.333,1.983,4.633,2.017,5.1,1.8,5.033,4.0,2.4,4.6,3.567,4.0,4.5,4.083,1.8,3.967,2.2,4.15,2.0,3.833,3.5,4.583,2.367,5.0,1.933,4.617,1.917,2.083,4.583,3.333,4.167,4.333,4.5,2.417,4.0,4.167,1.883,4.583,4.25,3.767,2.033,4.433,4.083,1.833,4.417,2.1830000000000003,4.8,1.833,4.8,4.1,3.966,4.2330000000000005,3.5,4.3660000000000005,2.25,4.667,2.1,4.35,4.133,1.867,4.6,1.783,4.367,3.85,1.933,4.5,2.383,4.7,1.867,3.833,3.417,4.2330000000000005,2.4,4.8,2.0,4.15,1.867,4.267,1.75,4.4830000000000005,4.0,4.117,4.083,4.267,3.917,4.55,4.083,2.417,4.183,2.217,4.45,1.883,1.85,4.283,3.95,2.333,4.15,2.35,4.933,2.9,4.583,3.833,2.083,4.367,2.133,4.35,2.2,4.45,3.567,4.5,4.15,3.817,3.917,4.45,2.0,4.283,4.767,4.533,1.85,4.25,1.983,2.25,4.75,4.117,2.15,4.417,1.817,4.467],\"y0\":\" \",\"yaxis\":\"y\",\"type\":\"box\"}],                        {\"template\":{\"data\":{\"histogram2dcontour\":[{\"type\":\"histogram2dcontour\",\"colorbar\":{\"outlinewidth\":0,\"ticks\":\"\"},\"colorscale\":[[0.0,\"#0d0887\"],[0.1111111111111111,\"#46039f\"],[0.2222222222222222,\"#7201a8\"],[0.3333333333333333,\"#9c179e\"],[0.4444444444444444,\"#bd3786\"],[0.5555555555555556,\"#d8576b\"],[0.6666666666666666,\"#ed7953\"],[0.7777777777777778,\"#fb9f3a\"],[0.8888888888888888,\"#fdca26\"],[1.0,\"#f0f921\"]]}],\"choropleth\":[{\"type\":\"choropleth\",\"colorbar\":{\"outlinewidth\":0,\"ticks\":\"\"}}],\"histogram2d\":[{\"type\":\"histogram2d\",\"colorbar\":{\"outlinewidth\":0,\"ticks\":\"\"},\"colorscale\":[[0.0,\"#0d0887\"],[0.1111111111111111,\"#46039f\"],[0.2222222222222222,\"#7201a8\"],[0.3333333333333333,\"#9c179e\"],[0.4444444444444444,\"#bd3786\"],[0.5555555555555556,\"#d8576b\"],[0.6666666666666666,\"#ed7953\"],[0.7777777777777778,\"#fb9f3a\"],[0.8888888888888888,\"#fdca26\"],[1.0,\"#f0f921\"]]}],\"heatmap\":[{\"type\":\"heatmap\",\"colorbar\":{\"outlinewidth\":0,\"ticks\":\"\"},\"colorscale\":[[0.0,\"#0d0887\"],[0.1111111111111111,\"#46039f\"],[0.2222222222222222,\"#7201a8\"],[0.3333333333333333,\"#9c179e\"],[0.4444444444444444,\"#bd3786\"],[0.5555555555555556,\"#d8576b\"],[0.6666666666666666,\"#ed7953\"],[0.7777777777777778,\"#fb9f3a\"],[0.8888888888888888,\"#fdca26\"],[1.0,\"#f0f921\"]]}],\"heatmapgl\":[{\"type\":\"heatmapgl\",\"colorbar\":{\"outlinewidth\":0,\"ticks\":\"\"},\"colorscale\":[[0.0,\"#0d0887\"],[0.1111111111111111,\"#46039f\"],[0.2222222222222222,\"#7201a8\"],[0.3333333333333333,\"#9c179e\"],[0.4444444444444444,\"#bd3786\"],[0.5555555555555556,\"#d8576b\"],[0.6666666666666666,\"#ed7953\"],[0.7777777777777778,\"#fb9f3a\"],[0.8888888888888888,\"#fdca26\"],[1.0,\"#f0f921\"]]}],\"contourcarpet\":[{\"type\":\"contourcarpet\",\"colorbar\":{\"outlinewidth\":0,\"ticks\":\"\"}}],\"contour\":[{\"type\":\"contour\",\"colorbar\":{\"outlinewidth\":0,\"ticks\":\"\"},\"colorscale\":[[0.0,\"#0d0887\"],[0.1111111111111111,\"#46039f\"],[0.2222222222222222,\"#7201a8\"],[0.3333333333333333,\"#9c179e\"],[0.4444444444444444,\"#bd3786\"],[0.5555555555555556,\"#d8576b\"],[0.6666666666666666,\"#ed7953\"],[0.7777777777777778,\"#fb9f3a\"],[0.8888888888888888,\"#fdca26\"],[1.0,\"#f0f921\"]]}],\"surface\":[{\"type\":\"surface\",\"colorbar\":{\"outlinewidth\":0,\"ticks\":\"\"},\"colorscale\":[[0.0,\"#0d0887\"],[0.1111111111111111,\"#46039f\"],[0.2222222222222222,\"#7201a8\"],[0.3333333333333333,\"#9c179e\"],[0.4444444444444444,\"#bd3786\"],[0.5555555555555556,\"#d8576b\"],[0.6666666666666666,\"#ed7953\"],[0.7777777777777778,\"#fb9f3a\"],[0.8888888888888888,\"#fdca26\"],[1.0,\"#f0f921\"]]}],\"mesh3d\":[{\"type\":\"mesh3d\",\"colorbar\":{\"outlinewidth\":0,\"ticks\":\"\"}}],\"scatter\":[{\"fillpattern\":{\"fillmode\":\"overlay\",\"size\":10,\"solidity\":0.2},\"type\":\"scatter\"}],\"parcoords\":[{\"type\":\"parcoords\",\"line\":{\"colorbar\":{\"outlinewidth\":0,\"ticks\":\"\"}}}],\"scatterpolargl\":[{\"type\":\"scatterpolargl\",\"marker\":{\"colorbar\":{\"outlinewidth\":0,\"ticks\":\"\"}}}],\"bar\":[{\"error_x\":{\"color\":\"#2a3f5f\"},\"error_y\":{\"color\":\"#2a3f5f\"},\"marker\":{\"line\":{\"color\":\"#E5ECF6\",\"width\":0.5},\"pattern\":{\"fillmode\":\"overlay\",\"size\":10,\"solidity\":0.2}},\"type\":\"bar\"}],\"scattergeo\":[{\"type\":\"scattergeo\",\"marker\":{\"colorbar\":{\"outlinewidth\":0,\"ticks\":\"\"}}}],\"scatterpolar\":[{\"type\":\"scatterpolar\",\"marker\":{\"colorbar\":{\"outlinewidth\":0,\"ticks\":\"\"}}}],\"histogram\":[{\"marker\":{\"pattern\":{\"fillmode\":\"overlay\",\"size\":10,\"solidity\":0.2}},\"type\":\"histogram\"}],\"scattergl\":[{\"type\":\"scattergl\",\"marker\":{\"colorbar\":{\"outlinewidth\":0,\"ticks\":\"\"}}}],\"scatter3d\":[{\"type\":\"scatter3d\",\"line\":{\"colorbar\":{\"outlinewidth\":0,\"ticks\":\"\"}},\"marker\":{\"colorbar\":{\"outlinewidth\":0,\"ticks\":\"\"}}}],\"scattermapbox\":[{\"type\":\"scattermapbox\",\"marker\":{\"colorbar\":{\"outlinewidth\":0,\"ticks\":\"\"}}}],\"scatterternary\":[{\"type\":\"scatterternary\",\"marker\":{\"colorbar\":{\"outlinewidth\":0,\"ticks\":\"\"}}}],\"scattercarpet\":[{\"type\":\"scattercarpet\",\"marker\":{\"colorbar\":{\"outlinewidth\":0,\"ticks\":\"\"}}}],\"carpet\":[{\"aaxis\":{\"endlinecolor\":\"#2a3f5f\",\"gridcolor\":\"white\",\"linecolor\":\"white\",\"minorgridcolor\":\"white\",\"startlinecolor\":\"#2a3f5f\"},\"baxis\":{\"endlinecolor\":\"#2a3f5f\",\"gridcolor\":\"white\",\"linecolor\":\"white\",\"minorgridcolor\":\"white\",\"startlinecolor\":\"#2a3f5f\"},\"type\":\"carpet\"}],\"table\":[{\"cells\":{\"fill\":{\"color\":\"#EBF0F8\"},\"line\":{\"color\":\"white\"}},\"header\":{\"fill\":{\"color\":\"#C8D4E3\"},\"line\":{\"color\":\"white\"}},\"type\":\"table\"}],\"barpolar\":[{\"marker\":{\"line\":{\"color\":\"#E5ECF6\",\"width\":0.5},\"pattern\":{\"fillmode\":\"overlay\",\"size\":10,\"solidity\":0.2}},\"type\":\"barpolar\"}],\"pie\":[{\"automargin\":true,\"type\":\"pie\"}]},\"layout\":{\"autotypenumbers\":\"strict\",\"colorway\":[\"#636efa\",\"#EF553B\",\"#00cc96\",\"#ab63fa\",\"#FFA15A\",\"#19d3f3\",\"#FF6692\",\"#B6E880\",\"#FF97FF\",\"#FECB52\"],\"font\":{\"color\":\"#2a3f5f\"},\"hovermode\":\"closest\",\"hoverlabel\":{\"align\":\"left\"},\"paper_bgcolor\":\"white\",\"plot_bgcolor\":\"#E5ECF6\",\"polar\":{\"bgcolor\":\"#E5ECF6\",\"angularaxis\":{\"gridcolor\":\"white\",\"linecolor\":\"white\",\"ticks\":\"\"},\"radialaxis\":{\"gridcolor\":\"white\",\"linecolor\":\"white\",\"ticks\":\"\"}},\"ternary\":{\"bgcolor\":\"#E5ECF6\",\"aaxis\":{\"gridcolor\":\"white\",\"linecolor\":\"white\",\"ticks\":\"\"},\"baxis\":{\"gridcolor\":\"white\",\"linecolor\":\"white\",\"ticks\":\"\"},\"caxis\":{\"gridcolor\":\"white\",\"linecolor\":\"white\",\"ticks\":\"\"}},\"coloraxis\":{\"colorbar\":{\"outlinewidth\":0,\"ticks\":\"\"}},\"colorscale\":{\"sequential\":[[0.0,\"#0d0887\"],[0.1111111111111111,\"#46039f\"],[0.2222222222222222,\"#7201a8\"],[0.3333333333333333,\"#9c179e\"],[0.4444444444444444,\"#bd3786\"],[0.5555555555555556,\"#d8576b\"],[0.6666666666666666,\"#ed7953\"],[0.7777777777777778,\"#fb9f3a\"],[0.8888888888888888,\"#fdca26\"],[1.0,\"#f0f921\"]],\"sequentialminus\":[[0.0,\"#0d0887\"],[0.1111111111111111,\"#46039f\"],[0.2222222222222222,\"#7201a8\"],[0.3333333333333333,\"#9c179e\"],[0.4444444444444444,\"#bd3786\"],[0.5555555555555556,\"#d8576b\"],[0.6666666666666666,\"#ed7953\"],[0.7777777777777778,\"#fb9f3a\"],[0.8888888888888888,\"#fdca26\"],[1.0,\"#f0f921\"]],\"diverging\":[[0,\"#8e0152\"],[0.1,\"#c51b7d\"],[0.2,\"#de77ae\"],[0.3,\"#f1b6da\"],[0.4,\"#fde0ef\"],[0.5,\"#f7f7f7\"],[0.6,\"#e6f5d0\"],[0.7,\"#b8e186\"],[0.8,\"#7fbc41\"],[0.9,\"#4d9221\"],[1,\"#276419\"]]},\"xaxis\":{\"gridcolor\":\"white\",\"linecolor\":\"white\",\"ticks\":\"\",\"title\":{\"standoff\":15},\"zerolinecolor\":\"white\",\"automargin\":true,\"zerolinewidth\":2},\"yaxis\":{\"gridcolor\":\"white\",\"linecolor\":\"white\",\"ticks\":\"\",\"title\":{\"standoff\":15},\"zerolinecolor\":\"white\",\"automargin\":true,\"zerolinewidth\":2},\"scene\":{\"xaxis\":{\"backgroundcolor\":\"#E5ECF6\",\"gridcolor\":\"white\",\"linecolor\":\"white\",\"showbackground\":true,\"ticks\":\"\",\"zerolinecolor\":\"white\",\"gridwidth\":2},\"yaxis\":{\"backgroundcolor\":\"#E5ECF6\",\"gridcolor\":\"white\",\"linecolor\":\"white\",\"showbackground\":true,\"ticks\":\"\",\"zerolinecolor\":\"white\",\"gridwidth\":2},\"zaxis\":{\"backgroundcolor\":\"#E5ECF6\",\"gridcolor\":\"white\",\"linecolor\":\"white\",\"showbackground\":true,\"ticks\":\"\",\"zerolinecolor\":\"white\",\"gridwidth\":2}},\"shapedefaults\":{\"line\":{\"color\":\"#2a3f5f\"}},\"annotationdefaults\":{\"arrowcolor\":\"#2a3f5f\",\"arrowhead\":0,\"arrowwidth\":1},\"geo\":{\"bgcolor\":\"white\",\"landcolor\":\"#E5ECF6\",\"subunitcolor\":\"white\",\"showland\":true,\"showlakes\":true,\"lakecolor\":\"white\"},\"title\":{\"x\":0.05},\"mapbox\":{\"style\":\"light\"}}},\"xaxis\":{\"anchor\":\"y\",\"domain\":[0.0,1.0],\"title\":{\"text\":\"kind\"},\"categoryorder\":\"array\",\"categoryarray\":[\"short\",\"long\"]},\"yaxis\":{\"anchor\":\"x\",\"domain\":[0.0,1.0],\"title\":{\"text\":\"duration\"}},\"legend\":{\"tracegroupgap\":0},\"title\":{\"text\":\"duration ~ kind\"},\"boxmode\":\"group\"},                        {\"responsive\": true}                    ).then(function(){\n",
       "                            \n",
       "var gd = document.getElementById('84dbccbb-6b0f-4183-808d-645d188d408d');\n",
       "var x = new MutationObserver(function (mutations, observer) {{\n",
       "        var display = window.getComputedStyle(gd).display;\n",
       "        if (!display || display === 'none') {{\n",
       "            console.log([gd, 'removed!']);\n",
       "            Plotly.purge(gd);\n",
       "            observer.disconnect();\n",
       "        }}\n",
       "}});\n",
       "\n",
       "// Listen for the removal of the full notebook cells\n",
       "var notebookContainer = gd.closest('#notebook-container');\n",
       "if (notebookContainer) {{\n",
       "    x.observe(notebookContainer, {childList: true});\n",
       "}}\n",
       "\n",
       "// Listen for the clearing of the current output cell\n",
       "var outputEl = gd.closest('.output');\n",
       "if (outputEl) {{\n",
       "    x.observe(outputEl, {childList: true});\n",
       "}}\n",
       "\n",
       "                        })                };                });            </script>        </div>"
      ]
     },
     "metadata": {},
     "output_type": "display_data"
    }
   ],
   "source": [
    "from IPython.display import display\n",
    "\n",
    "display(smf.ols('duration ~ C(kind, Treatment(reference=\"short\"))', data=old_faithful).fit().summary().tables[1])\n",
    "\n",
    "fig = px.box(old_faithful, x='kind', y='duration', \n",
    "             title='duration ~ kind',\n",
    "             category_orders={'kind': ['short', 'long']})\n",
    "fig.show() # USE `fig.show(renderer=\"png\")` FOR ALL GitHub and MarkUs SUBMISSIONS"
   ]
  },
  {
   "cell_type": "markdown",
   "id": "39beccab",
   "metadata": {},
   "source": [
    "smf.ols('duration ~ waiting', data=old_faithful):\n",
    "Assumes a continuous linear relationship between waiting time and duration for the full dataset.\n",
    "\n",
    "smf.ols('duration ~ waiting',data=old_faithful[short_wait]):\n",
    "Assumes a continuous linear model but only for \"short\" wait times (<64 minutes).\n",
    "\n",
    "smf.ols('duration ~ waiting', data=old_faithful[long_wait]):\n",
    "Assumes a continuous linear model but applied only to \"long\" wait times (>71 minutes).\n",
    "\n",
    "Big Picture Differences\n",
    "Indicator variable model can compare the average durations by \"short\" and \"long\" wait times. This model is helpful when comparing two distinct groups. Other models assume a continuous, linear relationship for full data set (or specific subsets).\n",
    "\n",
    "The null hypothesis for the indicator model is:\n",
    "H0: Bcontrast = 0\n",
    "\n",
    "This hypothesis means the average duration between \"long\" and \"short\" wait times is the same.\n",
    "\n",
    "If the p-value is < 0.05, reject H0, means a significant difference in duration between the two categories. Long wait times are related with significant increase in duration.\n",
    "If the p-value is > 0.1, fail to reject H0, means no strong evidence that showa a difference in average duration between long and short wait times."
   ]
  },
  {
   "cell_type": "markdown",
   "id": "3fee975f",
   "metadata": {},
   "source": [
    "<details class=\"details-example\"><summary style=\"color:blue\"><u>Further Guidance</u></summary>\n",
    "\n",
    "> _Don't forget to ask for summaries of all your different ChatBot sessions and organize and paste these into your homework notebook (including link(s) to chat log histories if you're using ChatBot) But if you're using the STA130 custom NBLM ChatBot, you'll only be able to ask for summaries, of course!_  \n",
    "</details>"
   ]
  },
  {
   "cell_type": "markdown",
   "id": "0f288839",
   "metadata": {},
   "source": [
    "### 12. Identify which of the histograms suggests the plausibility of the assumption that the distribution of *error* terms is normal for each of the models, and explain why the other three do not support this assumption.\n",
    "\n",
    "> Hint: Question 5 of the *Communication Activity #2* of the Oct25 TUT (addressing an *omitted* section of the TUT) discusses how the assumption in *Simple Linear Regression* that the *error* terms $\\epsilon_i \\sim \\mathcal N\\left(0, \\sigma\\right)$ is diagnostically assessed by evaluating distributional shape of the *residuals* $\\text{e}_i = \\hat \\epsilon_i = Y_i - \\hat y_i$\n"
   ]
  },
  {
   "cell_type": "code",
   "execution_count": 26,
   "id": "337e3a5f",
   "metadata": {
    "scrolled": false
   },
   "outputs": [
    {
     "data": {
      "application/vnd.plotly.v1+json": {
       "config": {
        "plotlyServerURL": "https://plot.ly"
       },
       "data": [
        {
         "histnorm": "probability density",
         "name": "<br>Model 1:<br>All Data using slope",
         "type": "histogram",
         "x": [
          -0.5005919017864158,
          -0.40989320298984855,
          -0.38945216202710187,
          -0.5319167866047501,
          -0.021359589497591536,
          0.5974788490582887,
          -0.08124343335318063,
          -0.9543595894975918,
          -0.033009359134260174,
          -0.20435958949759225,
          -0.37689320298984863,
          -0.5617316415457303,
          0.17503604616544788,
          0.06950243267319056,
          0.2968963064061336,
          0.10836269291387701,
          -1.06491678660475,
          0.3212683584542697,
          -0.4586373070861227,
          0.14940809821358414,
          -0.18300935913426009,
          0.06950243267319056,
          -0.5749639538345521,
          -0.2773124222677885,
          0.8105478379728983,
          -0.8031036935938665,
          -0.3185211509417112,
          0.2092919420691728,
          -0.1749639538345522,
          0.33240809821358397,
          0.6531757859247604,
          0.5176639941173096,
          0.24957142158779932,
          -0.14321984973827728,
          0.11054783797289813,
          -0.0416373070861229,
          0.11087448472132788,
          0.6567801502617225,
          -0.755032942749162,
          -0.1494993292569058,
          0.173780150261722,
          -0.6294049947972993,
          0.08826835845427006,
          -0.7624049947972993,
          0.886175785924761,
          -1.0861036935938664,
          0.8668273174915249,
          -0.03426525503798583,
          0.30552425435799524,
          -0.588032942749162,
          1.001919890021035,
          -0.21649932925690596,
          -0.37689320298984863,
          0.6567801502617225,
          -0.4768932029898485,
          0.47989630640613345,
          0.22143168182848605,
          -1.2991726825084755,
          0.6176639941173101,
          0.06515220230985896,
          -0.35503294274916186,
          0.021268358454269887,
          -0.006125515278672111,
          0.47252425435799505,
          -0.8466608907010247,
          -0.6837552251606311,
          0.14203604616544752,
          0.6750360461654479,
          -0.9748006304603378,
          1.0531757859247608,
          -0.2944757456420044,
          -0.39414909889357386,
          0.39940809821358414,
          0.504431681828486,
          -0.8319167866047499,
          1.1932919420691728,
          -0.6466608907010247,
          0.5420360461654479,
          0.00929194206917261,
          -0.8031036935938665,
          0.3349198900210353,
          0.005524254357995417,
          0.6800596297803483,
          -0.408800630460338,
          0.4201757859247608,
          0.15175656664681902,
          0.07629194206917278,
          0.3407801502617227,
          0.4108744847213277,
          -0.6299875374494555,
          -0.46366089070102445,
          -0.599499329256906,
          -0.040381411182397464,
          0.7920360461654479,
          -1.0575447345566127,
          0.7288037338766231,
          0.1882683584542697,
          -0.048080109978964725,
          -0.11600935913426014,
          0.5725242543579956,
          -0.3319167866047499,
          -0.4142434333531808,
          0.2682465367694653,
          0.09689630640613345,
          -0.20184779769014138,
          0.18650243267319055,
          0.22126835845427006,
          -0.2756373070861229,
          0.22001246255054419,
          -0.5688477976901414,
          0.9349198900210358,
          -0.28803294274916214,
          0.043128618694957765,
          0.31640809821358395,
          -0.888032942749162,
          0.3811522023098588,
          0.4096185888176027,
          0.04564041050240775,
          -0.771032942749162,
          -0.28861548540131743,
          0.4827347449620141,
          0.7226875777322115,
          0.30066399411730993,
          -0.39414909889357386,
          -0.18124343335318116,
          -0.4848477976901413,
          0.38775832857691594,
          0.17252425435799523,
          -0.018521150941711362,
          -0.2824993292569058,
          0.3377583285769159,
          -0.23610369359386674,
          0.4388509011064259,
          -0.5238713813050424,
          0.2281303806250532,
          0.05552425435799524,
          -0.10000935913426012,
          0.30301246255054437,
          -0.101265255037986,
          -0.36759190178641576,
          -0.018847797690140666,
          -0.43066089070102453,
          0.2055242543579956,
          0.8676639941173101,
          0.4592919420691728,
          -0.6050329427491619,
          0.45678015026172236,
          0.18524653676946512,
          -0.28626701696808254,
          -0.3342652550379859,
          1.0836639941173103,
          0.05066399411730993,
          -0.6418006304603381,
          0.34815220230985844,
          0.07143168182848614,
          0.5800596297803486,
          0.2481522023098588,
          -1.076383173112493,
          -0.3342652550379859,
          -0.8898713813050425,
          0.6707583285769161,
          -0.4799875374494551,
          -0.5124049947972993,
          -0.19196395383455211,
          0.38257142158779933,
          0.7092919420691728,
          -0.5235447345566127,
          0.2187565666468192,
          -0.12563730708612275,
          -0.5423831731124933,
          0.08524653676946525,
          -0.3537770468454364,
          0.6336639941173101,
          0.06431552568407417,
          -0.08484779769014139,
          0.08115220230985898,
          0.8531757859247606,
          0.5096185888176024,
          -0.5543595894975919,
          0.44454783797289776,
          -0.40252115094171126,
          0.6336639941173101,
          -0.15310369359386655,
          -0.6361036935938666,
          0.04999064086573979,
          0.40803604616544753,
          -0.39573164154572993,
          0.2281303806250532,
          0.013896306406133263,
          -0.10252115094171099,
          0.5481522023098586,
          -0.6037770468454366,
          0.9262919420691724,
          -0.37873164154573047,
          0.01666399411731012,
          -0.018847797690140666,
          -1.2056154854013172,
          0.4166639941173105,
          0.26699064086573987,
          0.6420360461654475,
          -0.5636608907010245,
          0.022524254357994877,
          -0.8751272772087679,
          -0.2672652550379859,
          0.5750360461654473,
          0.17813038062505315,
          0.4176639941173099,
          -0.62873164154573,
          0.10124653676946527,
          0.09689630640613345,
          -1.112568318171514,
          0.5237801502617225,
          0.03524653676946521,
          0.03491989002103546,
          0.4508273174915245,
          0.35929194206917314,
          0.265734744962014,
          -0.435011121064357,
          -0.28552115094171127,
          0.27629194206917296,
          -0.040381411182397464,
          -0.06047574564200442,
          -0.4598932029898486,
          0.6849198900210358,
          -0.0249639538345523,
          0.016408098213584132,
          0.058036046165447885,
          0.24203604616544805,
          0.49705962978034846,
          0.44940809821358396,
          0.6630596297803488,
          0.20710679701015122,
          -0.44698753744945563,
          0.3096185888176026,
          -0.482499329256906,
          -0.3268932029898486,
          -0.3598932029898485,
          0.3336639941173103,
          -0.15059190178641568,
          -0.6331726825084751,
          0.35191989002103563,
          0.6695024326731907,
          0.30301246255054437,
          0.009455265443387262,
          0.028640410502408287,
          -0.4944757456420046,
          -0.3537770468454364,
          0.039524254357995225,
          -1.0600565263640633,
          0.6275478379728976,
          -0.009893202989848415,
          0.046896306406133625,
          -0.07982421407523921,
          0.8531757859247606,
          -0.6312434333531804,
          -0.3592198497382775,
          0.4214316818284858,
          0.046896306406133625,
          -0.36114909889357394,
          0.1824080982135845,
          0.742036046165448,
          0.05426835845427025,
          -0.6624049947972992,
          -0.15310369359386655,
          0.6050142244806413,
          -0.41366089070102463,
          0.9519198900210353,
          -0.1348477976901412,
          0.5451303806250531,
          -0.5154993292569063,
          0.21213038062505318,
          0.7445478379728976
         ],
         "xaxis": "x",
         "xbins": {
          "end": 1.95,
          "size": 0.3,
          "start": -1.95
         },
         "yaxis": "y"
        },
        {
         "line": {
          "color": "black",
          "dash": "dot",
          "width": 2
         },
         "mode": "lines",
         "name": "Normal Distribution<br>(99.7% of its area)",
         "opacity": 0.5,
         "type": "scatter",
         "x": [
          -1.4867880403088838,
          -1.4767880403088838,
          -1.4667880403088838,
          -1.4567880403088838,
          -1.4467880403088837,
          -1.4367880403088837,
          -1.4267880403088837,
          -1.4167880403088837,
          -1.4067880403088837,
          -1.3967880403088837,
          -1.3867880403088837,
          -1.3767880403088837,
          -1.3667880403088837,
          -1.3567880403088837,
          -1.3467880403088837,
          -1.3367880403088837,
          -1.3267880403088836,
          -1.3167880403088836,
          -1.3067880403088836,
          -1.2967880403088836,
          -1.2867880403088836,
          -1.2767880403088836,
          -1.2667880403088836,
          -1.2567880403088836,
          -1.2467880403088836,
          -1.2367880403088836,
          -1.2267880403088836,
          -1.2167880403088835,
          -1.2067880403088835,
          -1.1967880403088835,
          -1.1867880403088835,
          -1.1767880403088835,
          -1.1667880403088835,
          -1.1567880403088835,
          -1.1467880403088835,
          -1.1367880403088835,
          -1.1267880403088835,
          -1.1167880403088835,
          -1.1067880403088834,
          -1.0967880403088834,
          -1.0867880403088834,
          -1.0767880403088834,
          -1.0667880403088834,
          -1.0567880403088834,
          -1.0467880403088834,
          -1.0367880403088834,
          -1.0267880403088834,
          -1.0167880403088834,
          -1.0067880403088834,
          -0.9967880403088833,
          -0.9867880403088833,
          -0.9767880403088833,
          -0.9667880403088833,
          -0.9567880403088833,
          -0.9467880403088833,
          -0.9367880403088833,
          -0.9267880403088833,
          -0.9167880403088833,
          -0.9067880403088833,
          -0.8967880403088833,
          -0.8867880403088833,
          -0.8767880403088832,
          -0.8667880403088832,
          -0.8567880403088832,
          -0.8467880403088832,
          -0.8367880403088832,
          -0.8267880403088832,
          -0.8167880403088832,
          -0.8067880403088832,
          -0.7967880403088832,
          -0.7867880403088832,
          -0.7767880403088832,
          -0.7667880403088831,
          -0.7567880403088831,
          -0.7467880403088831,
          -0.7367880403088831,
          -0.7267880403088831,
          -0.7167880403088831,
          -0.7067880403088831,
          -0.6967880403088831,
          -0.6867880403088831,
          -0.6767880403088831,
          -0.6667880403088831,
          -0.656788040308883,
          -0.646788040308883,
          -0.636788040308883,
          -0.626788040308883,
          -0.616788040308883,
          -0.606788040308883,
          -0.596788040308883,
          -0.586788040308883,
          -0.576788040308883,
          -0.566788040308883,
          -0.556788040308883,
          -0.546788040308883,
          -0.5367880403088829,
          -0.5267880403088829,
          -0.5167880403088829,
          -0.5067880403088829,
          -0.4967880403088829,
          -0.4867880403088829,
          -0.4767880403088829,
          -0.4667880403088829,
          -0.45678804030888287,
          -0.44678804030888286,
          -0.43678804030888285,
          -0.42678804030888284,
          -0.41678804030888283,
          -0.4067880403088828,
          -0.3967880403088828,
          -0.3867880403088828,
          -0.3767880403088828,
          -0.3667880403088828,
          -0.3567880403088828,
          -0.3467880403088828,
          -0.33678804030888276,
          -0.32678804030888275,
          -0.31678804030888275,
          -0.30678804030888274,
          -0.29678804030888273,
          -0.2867880403088827,
          -0.2767880403088827,
          -0.2667880403088827,
          -0.2567880403088827,
          -0.24678804030888268,
          -0.23678804030888267,
          -0.22678804030888267,
          -0.21678804030888266,
          -0.20678804030888265,
          -0.19678804030888264,
          -0.18678804030888263,
          -0.17678804030888262,
          -0.1667880403088826,
          -0.1567880403088826,
          -0.1467880403088826,
          -0.13678804030888259,
          -0.12678804030888258,
          -0.11678804030888257,
          -0.10678804030888256,
          -0.09678804030888255,
          -0.08678804030888254,
          -0.07678804030888253,
          -0.06678804030888252,
          -0.056788040308882515,
          -0.046788040308882506,
          -0.0367880403088825,
          -0.026788040308882488,
          -0.01678804030888248,
          -0.00678804030888247,
          0.0032119596911175385,
          0.013211959691117547,
          0.023211959691117556,
          0.033211959691117565,
          0.043211959691117574,
          0.05321195969111758,
          0.06321195969111759,
          0.0732119596911176,
          0.08321195969111761,
          0.09321195969111762,
          0.10321195969111763,
          0.11321195969111764,
          0.12321195969111765,
          0.13321195969111765,
          0.14321195969111766,
          0.15321195969111767,
          0.16321195969111768,
          0.1732119596911177,
          0.1832119596911177,
          0.1932119596911177,
          0.20321195969111772,
          0.21321195969111773,
          0.22321195969111773,
          0.23321195969111774,
          0.24321195969111775,
          0.25321195969111776,
          0.26321195969111777,
          0.2732119596911178,
          0.2832119596911178,
          0.2932119596911178,
          0.3032119596911178,
          0.3132119596911178,
          0.3232119596911178,
          0.33321195969111783,
          0.34321195969111784,
          0.35321195969111785,
          0.36321195969111786,
          0.37321195969111787,
          0.3832119596911179,
          0.3932119596911179,
          0.4032119596911179,
          0.4132119596911179,
          0.4232119596911179,
          0.4332119596911179,
          0.44321195969111793,
          0.45321195969111794,
          0.46321195969111795,
          0.47321195969111796,
          0.48321195969111796,
          0.493211959691118,
          0.503211959691118,
          0.513211959691118,
          0.5232119596911178,
          0.533211959691118,
          0.5432119596911182,
          0.553211959691118,
          0.5632119596911178,
          0.573211959691118,
          0.5832119596911183,
          0.5932119596911181,
          0.6032119596911178,
          0.6132119596911181,
          0.6232119596911183,
          0.6332119596911181,
          0.6432119596911179,
          0.6532119596911181,
          0.6632119596911183,
          0.6732119596911181,
          0.6832119596911179,
          0.6932119596911182,
          0.7032119596911184,
          0.7132119596911182,
          0.723211959691118,
          0.7332119596911182,
          0.7432119596911184,
          0.7532119596911182,
          0.763211959691118,
          0.7732119596911182,
          0.7832119596911185,
          0.7932119596911182,
          0.803211959691118,
          0.8132119596911183,
          0.8232119596911185,
          0.8332119596911183,
          0.8432119596911181,
          0.8532119596911183,
          0.8632119596911185,
          0.8732119596911183,
          0.8832119596911181,
          0.8932119596911183,
          0.9032119596911186,
          0.9132119596911183,
          0.9232119596911181,
          0.9332119596911184,
          0.9432119596911186,
          0.9532119596911184,
          0.9632119596911182,
          0.9732119596911184,
          0.9832119596911186,
          0.9932119596911184,
          1.0032119596911182,
          1.0132119596911184,
          1.0232119596911187,
          1.0332119596911185,
          1.0432119596911182,
          1.0532119596911185,
          1.0632119596911187,
          1.0732119596911185,
          1.0832119596911183,
          1.0932119596911185,
          1.1032119596911187,
          1.1132119596911185,
          1.1232119596911183,
          1.1332119596911185,
          1.1432119596911188,
          1.1532119596911186,
          1.1632119596911183,
          1.1732119596911186,
          1.1832119596911188,
          1.1932119596911186,
          1.2032119596911184,
          1.2132119596911186,
          1.2232119596911188,
          1.2332119596911186,
          1.2432119596911184,
          1.2532119596911186,
          1.2632119596911189,
          1.2732119596911187,
          1.2832119596911185,
          1.2932119596911187,
          1.303211959691119,
          1.3132119596911187,
          1.3232119596911185,
          1.3332119596911187,
          1.343211959691119,
          1.3532119596911187,
          1.3632119596911185,
          1.3732119596911188,
          1.383211959691119,
          1.3932119596911188,
          1.4032119596911186,
          1.4132119596911188,
          1.423211959691119,
          1.4332119596911188,
          1.4432119596911186,
          1.4532119596911188,
          1.463211959691119,
          1.4732119596911188,
          1.4832119596911186
         ],
         "xaxis": "x",
         "y": [
          0.00894246178698871,
          0.0094985629926708,
          0.010085139330619577,
          0.010703580482900413,
          0.011355321544649933,
          0.012041843401162836,
          0.012764673032018283,
          0.013525383737039327,
          0.014325595278791984,
          0.015166973936257284,
          0.01605123246424839,
          0.01698012995310001,
          0.017955471583126083,
          0.018979108268329145,
          0.020052936183848256,
          0.021178896171655682,
          0.022358973019054824,
          0.02359519460459501,
          0.024889630906104212,
          0.02624439286564695,
          0.027661631106346358,
          0.02914353449616353,
          0.030692328553907314,
          0.032310273692952536,
          0.033999663298376656,
          0.03576282163348282,
          0.03760210157196232,
          0.039519882152262924,
          0.04151856595107022,
          0.04360057627317742,
          0.045768354155416566,
          0.048024355182748064,
          0.050371046115059465,
          0.0528109013237025,
          0.05534639903730704,
          0.05798001739694222,
          0.06071423032125672,
          0.06355150318281279,
          0.06649428829743895,
          0.06954502022905712,
          0.07270611091309255,
          0.0759799446022493,
          0.07936887263912527,
          0.0828752080608491,
          0.08650122004164593,
          0.09024912817997434,
          0.09412109663762565,
          0.09811922813893034,
          0.10224555783898075,
          0.10650204707054123,
          0.11089057698008585,
          0.11541294206416408,
          0.1200708436180565,
          0.1248658831094299,
          0.1297995554904417,
          0.13487324246246893,
          0.14008820570833982,
          0.14544558010763653,
          0.15094636695129393,
          0.1565914271723546,
          0.16238147461034041,
          0.1683170693272675,
          0.17439861099386067,
          0.18062633236500655,
          0.18700029286392883,
          0.19352037229496075,
          0.20018626470512843,
          0.2069974724150492,
          0.2139533002398725,
          0.22105284992116328,
          0.2282950147907267,
          0.2356784746874167,
          0.24320169114793702,
          0.2508629028925421,
          0.25866012162637675,
          0.26659112817694,
          0.27465346898784043,
          0.28284445298860844,
          0.29116114885985184,
          0.2996003827124888,
          0.308158736199154,
          0.3168325450751631,
          0.32561789822562553,
          0.33451063717443125,
          0.34350635608988456,
          0.35260040230074174,
          0.361787877335311,
          0.3710636384951072,
          0.3804223009733169,
          0.3898582405270262,
          0.39936559671079946,
          0.40893827667776805,
          0.41856995955290577,
          0.4282541013816369,
          0.43798394065533214,
          0.4477525044136324,
          0.45755261492186505,
          0.46737689692013384,
          0.4772177854389261,
          0.4870675341743463,
          0.4969182244143198,
          0.5067617745053405,
          0.5165899498475633,
          0.5263943734042744,
          0.5361665367100097,
          0.5458978113598535,
          0.5555794609607274,
          0.5652026535237905,
          0.5747584742754257,
          0.584237938862672,
          0.5936320069274151,
          0.6029315960221411,
          0.6121275958386306,
          0.6212108827196001,
          0.6301723344220118,
          0.6390028450995677,
          0.647693340470785,
          0.656234793138025,
          0.6646182380219255,
          0.6728347878748605,
          0.6808756488363418,
          0.6887321359926728,
          0.6963956889026783,
          0.7038578870509723,
          0.7111104651899725,
          0.7181453285317582,
          0.7249545677508691,
          0.7315304737592716,
          0.7378655522149912,
          0.7439525377262841,
          0.7497844077137528,
          0.7553543958934456,
          0.7606560053447591,
          0.765683021127852,
          0.7704295224163058,
          0.7748898941118979,
          0.7790588379096136,
          0.7829313827823864,
          0.7865028948565334,
          0.7897690866504297,
          0.7927260256506427,
          0.7953701422015149,
          0.7976982366860432,
          0.7997074859778309,
          0.8013954491459038,
          0.8027600723962538,
          0.8037996932361049,
          0.8045130438490847,
          0.8048992536717066,
          0.8049578511638367,
          0.8046887647681022,
          0.8040923230555123,
          0.8031692540568712,
          0.8019206837818952,
          0.8003481339302431,
          0.7984535188009783,
          0.7962391414092461,
          0.7937076888211965,
          0.7908622267203744,
          0.7877061932209665,
          0.7842433919453702,
          0.7804779843856054,
          0.7764144815700321,
          0.7720577350587347,
          0.7674129272927289,
          0.7624855613238599,
          0.7572814499538684,
          0.7518067043126246,
          0.7460677219069269,
          0.740071174172558,
          0.7338239935634795,
          0.7273333602130968,
          0.7206066882034767,
          0.7136516114792084,
          0.7064759694432949,
          0.6990877922730244,
          0.6914952859942033,
          0.6837068173524439,
          0.6757308985203749,
          0.6675761716796957,
          0.6592513935169163,
          0.6507654196714286,
          0.6421271891742282,
          0.6333457089151612,
          0.6244300381760142,
          0.6153892732660879,
          0.6062325322961108,
          0.5969689401254665,
          0.587607613516709,
          0.5781576465302658,
          0.5686280961910462,
          0.5590279684574172,
          0.5493662045216676,
          0.5396516674696746,
          0.5298931293260066,
          0.5200992585091595,
          0.5102786077200399,
          0.5004396022851614,
          0.49059052897435595,
          0.4807395253110854,
          0.47089456939170726,
          0.46106347022829325,
          0.4512538586278326,
          0.4414731786188825,
          0.4317286794349497,
          0.4220274080621272,
          0.41237620235676015,
          0.4027816847371808,
          0.3932502564518383,
          0.38378809242448664,
          0.37440113667544594,
          0.36509509831635484,
          0.35587544811427585,
          0.34674741561952216,
          0.3377159868501217,
          0.3287859025244463,
          0.3199616568322073,
          0.31124749673276064,
          0.3026474217684741,
          0.29416518437978106,
          0.28580429070750446,
          0.27756800186705494,
          0.26945933567821684,
          0.26148106883341116,
          0.25363573948658147,
          0.24592565024419177,
          0.2383528715392377,
          0.2309192453686679,
          0.2236263893741815,
          0.21647570124602122,
          0.20946836342910943,
          0.2026053481106673,
          0.19588742246833754,
          0.18931515415777153,
          0.18288891701866156,
          0.17660889697827364,
          0.17047509813168293,
          0.16448734897812275,
          0.1586453087931246,
          0.15294847411644463,
          0.14739618533614693,
          0.14198763334964218,
          0.13672186628294727,
          0.13159779624994464,
          0.12661420613397403,
          0.1217697563746788,
          0.11706299174365112,
          0.11249234809307007,
          0.10805615906220402,
          0.1037526627273489,
          0.09958000818149236,
          0.09553626203072738,
          0.09161941479518372,
          0.08782738720300526,
          0.08415803636666092,
          0.0806091618316419,
          0.07717851148836448,
          0.07386378733885987,
          0.07066265111059329,
          0.06757272971050157,
          0.06459162051308073,
          0.061716896477084705,
          0.0589461110861084,
          0.056276803109029334,
          0.05370650117695798,
          0.05123272817401128,
          0.0488530054398622,
          0.04656485678263391,
          0.044365812301301655,
          0.04225341201733331,
          0.04022520931584459,
          0.038278774197059384,
          0.036411696339356474,
          0.03462158797564673,
          0.032906086585260175,
          0.031262857403927764,
          0.02968959575482191,
          0.028184029203971502,
          0.026743919543689314,
          0.025367064607944856,
          0.024051299923883288,
          0.022794500203932797,
          0.021594580683157255,
          0.020449498306698975,
          0.019357252772320598,
          0.018315887433194337,
          0.01732349006620243,
          0.01637819351110497,
          0.015478176186002276,
          0.014621662484569118,
          0.01380692306056762,
          0.013032275005156508,
          0.012296081922506736,
          0.011596753909209586,
          0.010932747442923007,
          0.010302565185646198,
          0.009704755706943615,
          0.00913791313235708
         ],
         "yaxis": "y"
        },
        {
         "histnorm": "probability density",
         "name": "<br>Model 2:<br>Short Wait Data",
         "type": "histogram",
         "x": [
          -0.21366645043174892,
          0.8624153007827706,
          -0.04291170407530731,
          -0.180666450431749,
          -0.21523870893338515,
          0.1671700471392119,
          -0.3998299528607878,
          -0.19291170407530722,
          -0.21523870893338515,
          -0.053584699217229304,
          0.017170047139211997,
          -0.10515695771886557,
          -0.21525769435915199,
          -0.15833944557367108,
          -0.2913394455736711,
          0.09325179835373154,
          -0.04825769435915195,
          -0.180666450431749,
          -0.28066645043174887,
          0.18474230564084815,
          -0.22215695771886557,
          -0.23817594314463242,
          -0.060502948002710166,
          -0.03817594314463246,
          0.19484304228113425,
          0.1448240568553678,
          -0.11899345528982685,
          -0.12591170407530727,
          0.12092479349565388,
          -0.09823870893338515,
          -0.216829952860788,
          0.2517423056408479,
          -0.348257694359152,
          0.3310065447101733,
          -0.231257694359152,
          0.6102517983537314,
          -0.060502948002710166,
          -0.03440221136242383,
          0.24641530078277052,
          -0.08440221136242387,
          0.7724970519972896,
          -0.12532046014790454,
          -0.10991170407530726,
          0.02625179835373137,
          0.17782405685536773,
          -0.06525769435915185,
          0.0379247934956537,
          -0.2067482016462685,
          -0.2067482016462685,
          0.2485977886375763,
          -0.041339445573671085,
          -0.06682995286078786,
          -0.06207520650434617,
          0.04857880321180952,
          0.43100654471017297,
          -0.13758469921722938,
          0.04008829592469265,
          -0.12532046014790454,
          0.1624153007827709,
          -0.2014211967881907,
          0.25708829592469273,
          0.04482405685536772,
          -0.13974820164626856,
          -0.1753204601479046,
          -0.046075206504346156,
          -0.11207520650434621,
          0.39325179835373136,
          -0.020584699217229385,
          -0.11899345528982685,
          -0.26366645043174897,
          0.40333354956825085,
          0.23100654471017323,
          -0.13066645043174896,
          -0.16366645043174888,
          0.38476129106661494,
          0.04857880321180952,
          0.1863335495682512,
          -0.027502948002710248,
          -0.191339445573671,
          0.04543428620853729,
          0.19482405685536763,
          0.1916795398520954,
          -0.14132046014790456
         ],
         "xaxis": "x2",
         "xbins": {
          "end": 1.9,
          "size": 0.2,
          "start": -1.9
         },
         "yaxis": "y2"
        },
        {
         "line": {
          "color": "black",
          "dash": "dot",
          "width": 2
         },
         "mode": "lines",
         "name": "Normal Distribution<br>(99.7% of its area)",
         "opacity": 0.5,
         "type": "scatter",
         "x": [
          -0.7101615934653974,
          -0.7001615934653974,
          -0.6901615934653974,
          -0.6801615934653974,
          -0.6701615934653974,
          -0.6601615934653974,
          -0.6501615934653974,
          -0.6401615934653974,
          -0.6301615934653974,
          -0.6201615934653973,
          -0.6101615934653973,
          -0.6001615934653973,
          -0.5901615934653973,
          -0.5801615934653973,
          -0.5701615934653973,
          -0.5601615934653973,
          -0.5501615934653973,
          -0.5401615934653973,
          -0.5301615934653973,
          -0.5201615934653973,
          -0.5101615934653972,
          -0.5001615934653972,
          -0.4901615934653972,
          -0.4801615934653972,
          -0.4701615934653972,
          -0.4601615934653972,
          -0.4501615934653972,
          -0.4401615934653972,
          -0.4301615934653972,
          -0.42016159346539717,
          -0.41016159346539716,
          -0.40016159346539715,
          -0.39016159346539714,
          -0.38016159346539713,
          -0.3701615934653971,
          -0.3601615934653971,
          -0.3501615934653971,
          -0.3401615934653971,
          -0.3301615934653971,
          -0.3201615934653971,
          -0.31016159346539707,
          -0.30016159346539706,
          -0.29016159346539705,
          -0.28016159346539704,
          -0.27016159346539703,
          -0.260161593465397,
          -0.250161593465397,
          -0.240161593465397,
          -0.230161593465397,
          -0.220161593465397,
          -0.21016159346539698,
          -0.20016159346539697,
          -0.19016159346539696,
          -0.18016159346539695,
          -0.17016159346539694,
          -0.16016159346539693,
          -0.15016159346539693,
          -0.14016159346539692,
          -0.1301615934653969,
          -0.1201615934653969,
          -0.11016159346539689,
          -0.10016159346539688,
          -0.09016159346539687,
          -0.08016159346539686,
          -0.07016159346539685,
          -0.060161593465396845,
          -0.050161593465396836,
          -0.04016159346539683,
          -0.03016159346539682,
          -0.02016159346539681,
          -0.010161593465396801,
          -0.0001615934653967921,
          0.009838406534603217,
          0.019838406534603226,
          0.029838406534603235,
          0.03983840653460324,
          0.04983840653460325,
          0.05983840653460326,
          0.06983840653460327,
          0.07983840653460328,
          0.08983840653460329,
          0.0998384065346033,
          0.1098384065346033,
          0.11983840653460331,
          0.12983840653460332,
          0.13983840653460333,
          0.14983840653460334,
          0.15983840653460335,
          0.16983840653460336,
          0.17983840653460337,
          0.18983840653460338,
          0.19983840653460339,
          0.2098384065346034,
          0.2198384065346034,
          0.2298384065346034,
          0.23983840653460342,
          0.24983840653460343,
          0.25983840653460344,
          0.26983840653460345,
          0.27983840653460346,
          0.28983840653460347,
          0.2998384065346035,
          0.3098384065346035,
          0.3198384065346035,
          0.3298384065346035,
          0.3398384065346035,
          0.3498384065346035,
          0.3598384065346035,
          0.36983840653460354,
          0.37983840653460355,
          0.38983840653460355,
          0.39983840653460356,
          0.40983840653460357,
          0.4198384065346036,
          0.4298384065346036,
          0.4398384065346036,
          0.4498384065346036,
          0.4598384065346036,
          0.4698384065346036,
          0.47983840653460363,
          0.48983840653460364,
          0.49983840653460365,
          0.5098384065346037,
          0.5198384065346037,
          0.5298384065346037,
          0.5398384065346037,
          0.5498384065346037,
          0.5598384065346037,
          0.5698384065346037,
          0.5798384065346037,
          0.5898384065346037,
          0.5998384065346037,
          0.6098384065346037,
          0.6198384065346038,
          0.6298384065346038,
          0.6398384065346038,
          0.6498384065346038,
          0.6598384065346038,
          0.6698384065346038,
          0.6798384065346038,
          0.6898384065346038,
          0.6998384065346038,
          0.7098384065346038
         ],
         "xaxis": "x2",
         "y": [
          0.018721859022163313,
          0.021232461612921184,
          0.024036803067943636,
          0.027163019405407603,
          0.03064110078090899,
          0.03450290508318714,
          0.0387821555938843,
          0.04351442069933256,
          0.04873707362465408,
          0.054489230171214265,
          0.060811662481048315,
          0.0677466869294803,
          0.07533802436268024,
          0.08363063105291658,
          0.09267049894283955,
          0.10250442399281001,
          0.11317974173294672,
          0.1247440294543252,
          0.13724477485093353,
          0.1507290113439497,
          0.16524292078009375,
          0.18083140469259978,
          0.19753762584211407,
          0.2154025223098401,
          0.2344642969897423,
          0.2547578859128249,
          0.27631440942569135,
          0.29916061082815465,
          0.32331828764031273,
          0.348803721207264,
          0.37562711084816963,
          0.4037920192040974,
          0.4332948358243684,
          0.4641242663426112,
          0.49626085482048626,
          0.5296765469688643,
          0.5643343019839474,
          0.6001877606514293,
          0.6371809771688675,
          0.6752482218102278,
          0.7143138611043212,
          0.7542923216199159,
          0.7950881427463267,
          0.8365961230332819,
          0.8787015637143599,
          0.9212806119932114,
          0.9642007055325312,
          1.0073211183660857,
          1.0504936071698727,
          1.0935631554976648,
          1.1363688122282989,
          1.1787446191081712,
          1.2205206209245067,
          1.2615239505358333,
          1.301579979738598,
          1.3405135257857597,
          1.3781501023164955,
          1.414317202526744,
          1.4488456016274647,
          1.4815706650184615,
          1.512333648165192,
          1.5409829739161713,
          1.5673754729482283,
          1.5913775731815136,
          1.6128664243676802,
          1.6317309446213806,
          1.647872776431597,
          1.6612071406462965,
          1.6716635780587263,
          1.6791865695202974,
          1.683736026944331,
          1.6852876491250708,
          1.6838331379530855,
          1.6793802723354379,
          1.6719528388992781,
          1.66159042034259,
          1.648348044067022,
          1.632295695456816,
          1.613517701827263,
          1.5921119946297504,
          1.5681892589440594,
          1.5418719805901258,
          1.513293402331803,
          1.4825964016080944,
          1.4499323030000386,
          1.415459639214686,
          1.3793428747358365,
          1.3417511064524847,
          1.3028567555321746,
          1.262834264562931,
          1.2218588135530328,
          1.180105067764398,
          1.1377459695775458,
          1.09495158566114,
          1.0518880196662097,
          1.0087163995051336,
          0.965591947030371,
          0.9226631366204054,
          0.8800709478333737,
          0.8379482159251199,
          0.7964190826699996,
          0.7555985485907336,
          0.7155921264175963,
          0.6764955943752142,
          0.638394846753169,
          0.6013658381683012,
          0.5654746169835217,
          0.5307774425191263,
          0.4973209799846528,
          0.46514256647628205,
          0.434270540928461,
          0.4047246305781736,
          0.3765163862934326,
          0.3496496590294425,
          0.32412110970007746,
          0.29992074488091625,
          0.2770324709839181,
          0.2554346598527372,
          0.23510071911075106,
          0.21599966103976845,
          0.19809666426445446,
          0.18135362305418357,
          0.165729679618947,
          0.15118173535812232,
          0.13766493761004797,
          0.12513313903677978,
          0.11353932735341045,
          0.10283602366708482,
          0.09297564822054556,
          0.0839108528329574,
          0.07559481979217729,
          0.06798152737395619,
          0.06102598254213471,
          0.05468442171811072,
          0.04891448079697269,
          0.043675335831817076,
          0.038927816007749534,
          0.03463449068442819,
          0.030759732402804153,
          0.027269757830494686,
          0.024132648663889214,
          0.02131835451681741,
          0.01879867980876989
         ],
         "yaxis": "y2"
        },
        {
         "histnorm": "probability density",
         "name": "<br>Model 3:<br>Long Wait Data",
         "type": "histogram",
         "x": [
          -0.5912450048481221,
          -0.6244543185739646,
          0.06120617162289044,
          0.08793175985839685,
          -0.8717938283771098,
          -0.12179382837711028,
          -0.508035691122279,
          0.055513132406709964,
          0.3217224461325534,
          0.37496430887772103,
          0.058754995151877765,
          -0.69448686759329,
          -0.6566636322998076,
          0.5755456814260356,
          -0.7782775538674467,
          0.03202940691637224,
          -0.2944868675932901,
          0.2417549951518776,
          0.3893038186808666,
          0.36927126966154056,
          -0.2163892205353135,
          -0.20500314210295212,
          -0.1244543185739646,
          0.5949968578970477,
          0.07741548534873299,
          0.11199685789704716,
          0.14196430887772138,
          0.6223038186808671,
          -1.0612775538674466,
          0.3431270539743494,
          0.30148058338738437,
          0.7957875441712039,
          0.010415485348732823,
          0.5949968578970477,
          0.5047224461325532,
          -0.10017990680947042,
          -1.822872946025651,
          0.4692712696615411,
          0.03223872064221567,
          0.07496430887772121,
          0.4684805833873842,
          -0.3991007891609293,
          0.0225131324067096,
          0.55551313240671,
          -1.4696310832804822,
          0.789303818680867,
          -0.2985194166126153,
          0.30875499515187776,
          0.1828200931905295,
          1.0160294069163722,
          0.42251313240670996,
          -0.16797059308362794,
          -0.7782775538674467,
          0.12878754417120408,
          0.0014805833873845486,
          0.3295782304453607,
          -0.9036310832804824,
          0.15630381868086696,
          0.3209317598583965,
          -0.10097059308362777,
          0.27899685789704787,
          -0.5185519656319411,
          -0.3725845146512672,
          0.67251313240671,
          0.43606195593569774,
          0.24196430887772102,
          -0.2542124558287959,
          0.5684805833873847,
          -0.24506824014160333,
          0.12172244613255323,
          -0.23476127935778468,
          0.2749643088777214,
          0.3314480343680586,
          -0.6017612793577847,
          0.7287875441712046,
          0.241173622603565,
          0.22575499515187758,
          0.3482387206422155,
          0.12820617162288972,
          -0.14831010288677327,
          0.3433363677001924,
          0.15227126966154092,
          -0.012068240141603681,
          -0.5177612793577846,
          0.16848058338738436,
          -0.055584514651267014,
          -0.21127755386744695,
          -0.32582637739643516,
          0.05148058338738437,
          0.41444803436805877,
          -0.45824500484812214,
          -0.05176127935778396,
          0.20148058338738473,
          0.7192712696615411,
          0.28202940691637224,
          0.3949968578970475,
          0.1138666618197437,
          0.9352712696615413,
          -0.09772873033845908,
          -1.1366310832804825,
          0.31523872064221514,
          -0.25017990680947033,
          0.22957823044536108,
          0.2152387206422155,
          -0.7628589264157615,
          -0.6918263773964353,
          -0.3685519656319407,
          -0.31148686759329003,
          -0.0833892205353135,
          0.5320294069163722,
          0.3879317598583967,
          -0.22885892641576167,
          0.4852712696615411,
          -0.34390549504497603,
          -0.11776127935778469,
          0.04823872064221568,
          0.5893038186808668,
          -0.4717938283771099,
          0.20954568142603502,
          0.4852712696615411,
          -0.12827755386744677,
          -0.6112775538674469,
          0.2885131324067096,
          -0.3420356911222786,
          0.038722446132553046,
          0.5152387206422153,
          0.7490294069163719,
          -0.32503569112227915,
          -0.1317287303384589,
          -0.05176127935778396,
          -1.065310102886773,
          0.26827126966154147,
          0.5225131324067096,
          0.01848058338738401,
          -0.6193426519060976,
          0.45551313240670943,
          0.2692712696615409,
          -0.5750356911222787,
          0.12172244613255323,
          -1.4341799068094705,
          0.4619968578970477,
          -0.17121245582879574,
          -0.07287294602565098,
          0.1820294069163726,
          -0.09261706367059208,
          0.09902940691637241,
          -0.06451941661261529,
          0.4787875441712046,
          -0.1444868675932902,
          -0.07424500484812224,
          -0.06148686759329003,
          0.12251313240671013,
          0.1465782304453609,
          0.3587549951518776,
          0.31257823044536126,
          -0.33555196563194123,
          -0.2555845146512672,
          0.18527126966154128,
          -0.24124500484812206,
          -1.1568729460256506,
          0.14578754417120443,
          0.41444803436805877,
          0.11120617162289026,
          -0.49851941661261545,
          0.03548058338738436,
          -1.497147357790145,
          0.39254568142603485,
          0.07172244613255341,
          -0.34369618131913304,
          0.5893038186808668,
          -0.46206824014160297,
          -0.4210031421029523,
          0.09982009319052931,
          0.07172244613255341,
          0.09175499515187813,
          0.6225131324067101,
          0.10796430887772157,
          -0.12827755386744677,
          0.7457875441712041,
          -0.1677612793577845,
          -0.28858451465126755,
          0.5095456814260348
         ],
         "xaxis": "x3",
         "xbins": {
          "end": 1.95,
          "size": 0.3,
          "start": -1.95
         },
         "yaxis": "y3"
        },
        {
         "line": {
          "color": "black",
          "dash": "dot",
          "width": 2
         },
         "mode": "lines",
         "name": "Normal Distribution<br>(99.7% of its area)",
         "opacity": 0.5,
         "type": "scatter",
         "x": [
          -1.442309181937791,
          -1.4323091819377909,
          -1.4223091819377909,
          -1.4123091819377909,
          -1.4023091819377909,
          -1.3923091819377909,
          -1.3823091819377908,
          -1.3723091819377908,
          -1.3623091819377908,
          -1.3523091819377908,
          -1.3423091819377908,
          -1.3323091819377908,
          -1.3223091819377908,
          -1.3123091819377908,
          -1.3023091819377908,
          -1.2923091819377908,
          -1.2823091819377908,
          -1.2723091819377907,
          -1.2623091819377907,
          -1.2523091819377907,
          -1.2423091819377907,
          -1.2323091819377907,
          -1.2223091819377907,
          -1.2123091819377907,
          -1.2023091819377907,
          -1.1923091819377907,
          -1.1823091819377907,
          -1.1723091819377907,
          -1.1623091819377906,
          -1.1523091819377906,
          -1.1423091819377906,
          -1.1323091819377906,
          -1.1223091819377906,
          -1.1123091819377906,
          -1.1023091819377906,
          -1.0923091819377906,
          -1.0823091819377906,
          -1.0723091819377906,
          -1.0623091819377906,
          -1.0523091819377905,
          -1.0423091819377905,
          -1.0323091819377905,
          -1.0223091819377905,
          -1.0123091819377905,
          -1.0023091819377905,
          -0.9923091819377905,
          -0.9823091819377905,
          -0.9723091819377905,
          -0.9623091819377905,
          -0.9523091819377905,
          -0.9423091819377905,
          -0.9323091819377904,
          -0.9223091819377904,
          -0.9123091819377904,
          -0.9023091819377904,
          -0.8923091819377904,
          -0.8823091819377904,
          -0.8723091819377904,
          -0.8623091819377904,
          -0.8523091819377904,
          -0.8423091819377904,
          -0.8323091819377904,
          -0.8223091819377903,
          -0.8123091819377903,
          -0.8023091819377903,
          -0.7923091819377903,
          -0.7823091819377903,
          -0.7723091819377903,
          -0.7623091819377903,
          -0.7523091819377903,
          -0.7423091819377903,
          -0.7323091819377903,
          -0.7223091819377903,
          -0.7123091819377902,
          -0.7023091819377902,
          -0.6923091819377902,
          -0.6823091819377902,
          -0.6723091819377902,
          -0.6623091819377902,
          -0.6523091819377902,
          -0.6423091819377902,
          -0.6323091819377902,
          -0.6223091819377902,
          -0.6123091819377902,
          -0.6023091819377902,
          -0.5923091819377901,
          -0.5823091819377901,
          -0.5723091819377901,
          -0.5623091819377901,
          -0.5523091819377901,
          -0.5423091819377901,
          -0.5323091819377901,
          -0.5223091819377901,
          -0.5123091819377901,
          -0.5023091819377901,
          -0.49230918193779005,
          -0.48230918193779004,
          -0.47230918193779003,
          -0.46230918193779,
          -0.45230918193779,
          -0.44230918193779,
          -0.43230918193779,
          -0.42230918193779,
          -0.41230918193779,
          -0.40230918193779,
          -0.39230918193778996,
          -0.38230918193778995,
          -0.37230918193778995,
          -0.36230918193778994,
          -0.35230918193778993,
          -0.3423091819377899,
          -0.3323091819377899,
          -0.3223091819377899,
          -0.3123091819377899,
          -0.3023091819377899,
          -0.2923091819377899,
          -0.28230918193778987,
          -0.27230918193778986,
          -0.26230918193778985,
          -0.25230918193778984,
          -0.24230918193778983,
          -0.23230918193778982,
          -0.2223091819377898,
          -0.2123091819377898,
          -0.2023091819377898,
          -0.19230918193778979,
          -0.18230918193778978,
          -0.17230918193778977,
          -0.16230918193778976,
          -0.15230918193778975,
          -0.14230918193778974,
          -0.13230918193778973,
          -0.12230918193778972,
          -0.11230918193778971,
          -0.1023091819377897,
          -0.0923091819377897,
          -0.08230918193778969,
          -0.07230918193778968,
          -0.06230918193778967,
          -0.05230918193778966,
          -0.04230918193778965,
          -0.032309181937789644,
          -0.022309181937789635,
          -0.012309181937789626,
          -0.0023091819377896172,
          0.007690818062210392,
          0.0176908180622104,
          0.02769081806221041,
          0.03769081806221042,
          0.04769081806221043,
          0.057690818062210436,
          0.06769081806221044,
          0.07769081806221045,
          0.08769081806221046,
          0.09769081806221047,
          0.10769081806221048,
          0.11769081806221049,
          0.1276908180622105,
          0.1376908180622105,
          0.14769081806221052,
          0.15769081806221052,
          0.16769081806221053,
          0.17769081806221054,
          0.18769081806221055,
          0.19769081806221056,
          0.20769081806221057,
          0.21769081806221058,
          0.2276908180622106,
          0.2376908180622106,
          0.2476908180622106,
          0.2576908180622106,
          0.2676908180622106,
          0.27769081806221063,
          0.28769081806221064,
          0.29769081806221065,
          0.30769081806221066,
          0.31769081806221067,
          0.3276908180622107,
          0.3376908180622107,
          0.3476908180622107,
          0.3576908180622107,
          0.3676908180622107,
          0.3776908180622107,
          0.38769081806221073,
          0.39769081806221074,
          0.40769081806221075,
          0.41769081806221076,
          0.42769081806221076,
          0.4376908180622108,
          0.4476908180622108,
          0.4576908180622108,
          0.4676908180622108,
          0.4776908180622108,
          0.4876908180622108,
          0.4976908180622108,
          0.5076908180622108,
          0.5176908180622108,
          0.5276908180622109,
          0.5376908180622109,
          0.5476908180622109,
          0.5576908180622109,
          0.5676908180622107,
          0.5776908180622109,
          0.5876908180622111,
          0.5976908180622109,
          0.6076908180622107,
          0.6176908180622109,
          0.6276908180622112,
          0.637690818062211,
          0.6476908180622107,
          0.657690818062211,
          0.6676908180622112,
          0.677690818062211,
          0.6876908180622108,
          0.697690818062211,
          0.7076908180622112,
          0.717690818062211,
          0.7276908180622108,
          0.737690818062211,
          0.7476908180622113,
          0.7576908180622111,
          0.7676908180622108,
          0.7776908180622111,
          0.7876908180622113,
          0.7976908180622111,
          0.8076908180622109,
          0.8176908180622111,
          0.8276908180622113,
          0.8376908180622111,
          0.8476908180622109,
          0.8576908180622111,
          0.8676908180622114,
          0.8776908180622112,
          0.887690818062211,
          0.8976908180622112,
          0.9076908180622114,
          0.9176908180622112,
          0.927690818062211,
          0.9376908180622112,
          0.9476908180622114,
          0.9576908180622112,
          0.967690818062211,
          0.9776908180622113,
          0.9876908180622115,
          0.9976908180622113,
          1.007690818062211,
          1.0176908180622113,
          1.0276908180622115,
          1.0376908180622113,
          1.047690818062211,
          1.0576908180622113,
          1.0676908180622116,
          1.0776908180622113,
          1.0876908180622111,
          1.0976908180622114,
          1.1076908180622116,
          1.1176908180622114,
          1.1276908180622112,
          1.1376908180622114,
          1.1476908180622116,
          1.1576908180622114,
          1.1676908180622112,
          1.1776908180622114,
          1.1876908180622117,
          1.1976908180622114,
          1.2076908180622112,
          1.2176908180622115,
          1.2276908180622117,
          1.2376908180622115,
          1.2476908180622113,
          1.2576908180622115,
          1.2676908180622117,
          1.2776908180622115,
          1.2876908180622113,
          1.2976908180622115,
          1.3076908180622118,
          1.3176908180622116,
          1.3276908180622113,
          1.3376908180622116,
          1.3476908180622118,
          1.3576908180622116,
          1.3676908180622114,
          1.3776908180622116,
          1.3876908180622118,
          1.3976908180622116,
          1.4076908180622114,
          1.4176908180622116,
          1.4276908180622119,
          1.4376908180622117
         ],
         "xaxis": "x3",
         "y": [
          0.009218235176143726,
          0.009809656156729381,
          0.010434506008823674,
          0.011094356297603554,
          0.01179083147770806,
          0.012525609339094034,
          0.013300421362054142,
          0.014117052974746264,
          0.014977343706471535,
          0.01588318722984359,
          0.016836531284916224,
          0.017839377478280058,
          0.01889378095010496,
          0.020001849902093385,
          0.021165744979322696,
          0.022387678498992994,
          0.023669913519163716,
          0.025014762740655304,
          0.026424587235417418,
          0.02790179499481999,
          0.02944883929151035,
          0.03106821684870054,
          0.03276246581100341,
          0.03453416351122665,
          0.036385924027858445,
          0.03832039552834214,
          0.040340257393636725,
          0.04244821711999638,
          0.04464700699437796,
          0.046939380540399506,
          0.04932810873232138,
          0.05181597597511266,
          0.054405775849291516,
          0.05710030661988955,
          0.05990236650959076,
          0.0628147487368295,
          0.06584023632039955,
          0.0689815966529269,
          0.07224157584639007,
          0.07562289285373418,
          0.07912823337150894,
          0.0827602435293775,
          0.08652152337327577,
          0.090414620149956,
          0.09444202140162179,
          0.09860614788034693,
          0.10290934629296421,
          0.10735388188811601,
          0.11194193089816254,
          0.11667557284965184,
          0.12155678275705252,
          0.12658742321544836,
          0.13176923640886748,
          0.13710383605188567,
          0.14259269928307966,
          0.14823715852982106,
          0.15403839336478323,
          0.15999742237537928,
          0.16611509506815178,
          0.1723920838308966,
          0.1788288759760095,
          0.18542576588919596,
          0.19218284730828028,
          0.19910000575737327,
          0.206176911162121,
          0.21341301067213742,
          0.22080752171703397,
          0.22835942532268222,
          0.23606745971448398,
          0.24393011423447603,
          0.2519456235990506,
          0.2601119625239342,
          0.26842684074283474,
          0.27688769844582134,
          0.285491702163069,
          0.29423574111905015,
          0.3031164240816043,
          0.31213007672956605,
          0.321272739561761,
          0.33054016636921385,
          0.33992782329133575,
          0.3494308884756763,
          0.35904425235954374,
          0.3687625185904089,
          0.378580005600525,
          0.3884907488496189,
          0.3984885037478322,
          0.40856674926933584,
          0.41871869226519703,
          0.4289372724821548,
          0.43921516829196905,
          0.4495448031339467,
          0.45991835267112285,
          0.47032775265841076,
          0.48076470751880007,
          0.4912206996214375,
          0.5016869992531224,
          0.5121546752724474,
          0.5226146064334802,
          0.5330574933635625,
          0.5434738711774635,
          0.5538541227078255,
          0.564188492329541,
          0.5744671003534468,
          0.5846799579625057,
          0.5948169826614803,
          0.6048680142090047,
          0.6148228309989211,
          0.6246711668558009,
          0.6344027282076992,
          0.6440072115974322,
          0.6534743214919972,
          0.6627937883482107,
          0.6719553868912197,
          0.6809489545612373,
          0.6897644100827004,
          0.698391772109028,
          0.7068211778952961,
          0.7150429019504235,
          0.7230473746199212,
          0.7308252005498571,
          0.7383671769824728,
          0.7456643118338313,
          0.7527078415039961,
          0.7594892483705326,
          0.7660002779165905,
          0.7722329554454663,
          0.7781796023343572,
          0.7838328517810039,
          0.7891856639980765,
          0.7942313408114747,
          0.7989635396201977,
          0.8033762866770847,
          0.80746398965151,
          0.8112214494370711,
          0.8146438711693719,
          0.8177268744212287,
          0.8204665025449548,
          0.8228592311338377,
          0.8249019755774775,
          0.8265920976883177,
          0.8279274113794423,
          0.8289061873765313,
          0.8295271569497618,
          0.8297895146543774,
          0.829692920071644,
          0.8292374985449181,
          0.8284238409086068,
          0.8272530022108332,
          0.825726499433679,
          0.8238463082178946,
          0.8216148586019787,
          0.8190350297884896,
          0.8161101439533683,
          0.8128439591169023,
          0.809240661097749,
          0.8053048545741259,
          0.8010415532788907,
          0.7964561693577316,
          0.791554501922081,
          0.7863427248306394,
          0.7808273737355322,
          0.7750153324311341,
          0.7689138185454517,
          0.762530368615673,
          0.7558728225910413,
          0.7489493078076157,
          0.7417682224807061,
          0.7343382187618368,
          0.7266681854079873,
          0.7187672301115738,
          0.710644661540192,
          0.7023099711355022,
          0.6937728147208472,
          0.6850429939672129,
          0.6761304377669991,
          0.6670451835647555,
          0.6577973586935583,
          0.6483971617650613,
          0.6388548441604656,
          0.6291806916686935,
          0.6193850063169709,
          0.6094780884377754,
          0.5994702190147525,
          0.589371642348705,
          0.5791925490831495,
          0.5689430596272214,
          0.5586332080118765,
          0.5482729262134415,
          0.537872028976549,
          0.527440199166437,
          0.5169869736784473,
          0.5065217299303628,
          0.49605367296099634,
          0.48559182315615235,
          0.47514500462079173,
          0.46472183421390334,
          0.4543307112602589,
          0.44397980795089653,
          0.43367706044186327,
          0.4234301606584399,
          0.4132465488098027,
          0.40313340661683444,
          0.3930976512536017,
          0.38314593000086694,
          0.3732846156079134,
          0.3635198023569435,
          0.3538573028223455,
          0.34430264531524707,
          0.33486107200197635,
          0.32553753768334365,
          0.31633670922002216,
          0.3072629655877877,
          0.29832039854494014,
          0.2895128138929054,
          0.28084373330978,
          0.2723163967354577,
          0.26393376528596296,
          0.25569852467369925,
          0.24761308910951707,
          0.2396796056618013,
          0.23189995904719116,
          0.22427577682705546,
          0.21680843498345828,
          0.20949906384806674,
          0.20234855435727384,
          0.19535756460671794,
          0.18852652667838976,
          0.18185565371361304,
          0.1753449472053746,
          0.16899420448374933,
          0.16280302636850955,
          0.15677082496343742,
          0.1508968315673549,
          0.14518010467744838,
          0.13961953806109154,
          0.13421386887304765,
          0.1289616857956774,
          0.1238614371805565,
          0.11891143917073457,
          0.1141098837837338,
          0.10945484693628488,
          0.10494429639272712,
          0.10057609961994904,
          0.09634803153271919,
          0.09225778211424468,
          0.08830296389779087,
          0.08448111929620257,
          0.0807897277671689,
          0.07722621280308252,
          0.07378794873534453,
          0.07047226734395313,
          0.06727646426419426,
          0.06419780518321634,
          0.06123353182021544,
          0.058380867684879344,
          0.05563702360963775,
          0.05299920305214264,
          0.05046460716524493,
          0.04803043963254901,
          0.04569391126841091,
          0.043452244381995,
          0.041302676905719746,
          0.039242466289103245,
          0.03726889315966118,
          0.03537926475311673,
          0.033570918115752114,
          0.031841223082259104,
          0.030187585032940497,
          0.028607447434568504,
          0.02709829416962389,
          0.025657651659018375,
          0.024283090783744604,
          0.02297222861120695,
          0.021722729932255273,
          0.020532308615180222,
          0.01939872878313167,
          0.018319805821591525,
          0.017293407222670296,
          0.01631745327310494,
          0.01538991759291409,
          0.01450882753171777,
          0.013672264429754236,
          0.012878363750625154,
          0.012125315092776751,
          0.011411362086678435,
          0.010734802184594114,
          0.010093986349754345,
          0.00948731865163388
         ],
         "yaxis": "y3"
        },
        {
         "histnorm": "probability density",
         "name": "<br>Model 4:<br>All Data using indicator",
         "type": "histogram",
         "x": [
          -0.6979302325581407,
          -0.2943300000000002,
          -0.9649302325581406,
          0.18866999999999967,
          0.2350697674418596,
          0.7886699999999998,
          0.4020697674418594,
          -0.6979302325581407,
          -0.1443300000000003,
          0.05206976744185887,
          -0.2613300000000003,
          -0.38093023255814096,
          -0.0979302325581406,
          -0.34433000000000025,
          0.4020697674418594,
          0.07266999999999957,
          -0.34433000000000025,
          0.502069767441859,
          -0.49433000000000016,
          -0.04793023255814077,
          -0.2943300000000002,
          -0.34433000000000025,
          -0.8479302325581406,
          -1.2309302325581406,
          0.2350697674418596,
          -0.6979302325581407,
          -0.12733000000000017,
          -0.2149302325581406,
          -0.4479302325581407,
          0.13506976744185906,
          0.0020697674418590495,
          0.16906976744185886,
          1.2726699999999997,
          -0.2649302325581404,
          -0.4649302325581406,
          -0.07733000000000034,
          -0.22733000000000025,
          0.5350697674418594,
          -0.2613300000000003,
          0.4850697674418596,
          0.05206976744185887,
          -0.21133000000000024,
          0.2690697674418594,
          -0.34433000000000025,
          0.2350697674418596,
          -0.9809302325581406,
          1.73867,
          0.005669999999999842,
          0.33506976744185923,
          -0.09433000000000025,
          0.502069767441859,
          0.4180697674418594,
          -0.2613300000000003,
          0.5350697674418594,
          -0.36133000000000015,
          0.5850697674418592,
          -0.5809302325581407,
          -0.42733000000000043,
          0.2690697674418594,
          0.019069767441859398,
          0.13866999999999985,
          0.20206976744185923,
          -0.34433000000000025,
          0.502069767441859,
          -0.2773300000000003,
          0.10206976744185958,
          -0.13093023255814096,
          0.4020697674418594,
          -0.027330000000000076,
          0.4020697674418594,
          -0.2649302325581404,
          -0.12733000000000017,
          0.20206976744185923,
          -0.2979302325581408,
          -0.11133000000000015,
          0.7690697674418594,
          -0.07733000000000034,
          0.2690697674418594,
          -0.41493023255814077,
          -0.6979302325581407,
          -0.16493023255814077,
          0.03506976744185941,
          -0.19793023255814113,
          0.5386699999999998,
          -0.2309302325581406,
          0.6350697674418591,
          -0.3479302325581406,
          0.21906976744185958,
          0.07266999999999957,
          -0.2979302325581408,
          0.10566999999999993,
          0.03506976744185941,
          -0.22733000000000025,
          0.5190697674418594,
          -0.2613300000000003,
          0.0020697674418590495,
          0.36906976744185904,
          -0.5479302325581408,
          -0.22733000000000025,
          0.6020697674418596,
          0.38866999999999985,
          0.06906976744185922,
          0.005669999999999842,
          0.20206976744185923,
          -0.24793023255814095,
          -0.22733000000000025,
          0.4020697674418594,
          -0.31133000000000033,
          0.5520697674418589,
          -0.6149302325581409,
          0.43506976744185977,
          0.20566999999999958,
          0.6020697674418596,
          0.11906976744185904,
          -0.3943300000000003,
          0.33506976744185923,
          0.22266999999999992,
          0.30206976744185887,
          -0.2773300000000003,
          0.11906976744185904,
          0.5226699999999997,
          -0.2309302325581406,
          -0.04793023255814077,
          -0.12733000000000017,
          0.30206976744185887,
          -0.5309302325581409,
          -0.1773300000000002,
          0.20206976744185923,
          0.17266999999999966,
          0.3520697674418596,
          -0.22733000000000025,
          -0.13093023255814096,
          0.7056699999999996,
          0.03506976744185941,
          -0.2613300000000003,
          0.08506976744185923,
          -0.21133000000000024,
          0.6350697674418591,
          -0.06133000000000033,
          -0.5649302325581407,
          -0.06493023255814023,
          0.13866999999999985,
          0.2350697674418596,
          0.5190697674418594,
          0.03506976744185941,
          -0.11133000000000015,
          0.33506976744185923,
          -0.07733000000000034,
          0.8020697674418589,
          -0.2943300000000002,
          0.7350697674418596,
          -0.2979302325581408,
          0.30566999999999966,
          0.30206976744185887,
          -0.7309302325581406,
          -0.2979302325581408,
          0.20206976744185923,
          -0.2149302325581406,
          -0.2943300000000002,
          -0.3309302325581407,
          0.10566999999999993,
          -0.14793023255814042,
          -0.09433000000000025,
          -0.4649302325581406,
          1.4056699999999998,
          0.2850697674418594,
          0.27266999999999975,
          0.7020697674418592,
          -0.1613300000000002,
          0.3190697674418592,
          -0.1773300000000002,
          -0.011330000000000062,
          0.2850697674418594,
          -0.9649302325581406,
          -0.13093023255814096,
          0.03506976744185941,
          0.20206976744185923,
          0.32266999999999957,
          -0.2979302325581408,
          -0.13093023255814096,
          -0.21133000000000024,
          0.2850697674418594,
          -0.04793023255814077,
          -0.5309302325581409,
          -0.06133000000000033,
          0.13506976744185906,
          -0.2149302325581406,
          -0.2613300000000003,
          0.11906976744185904,
          0.08867000000000003,
          0.502069767441859,
          -0.2613300000000003,
          0.502069767441859,
          -0.19793023255814113,
          -0.3319302325581406,
          -0.06493023255814023,
          -0.7979302325581408,
          0.06806976744185977,
          0.15566999999999975,
          0.36906976744185904,
          0.005669999999999842,
          0.05206976744185887,
          -0.16493023255814077,
          -0.22733000000000025,
          0.30206976744185887,
          -0.31133000000000033,
          0.06906976744185922,
          -0.4479302325581407,
          -0.1613300000000002,
          0.20206976744185923,
          -1.9149302325581408,
          0.4020697674418594,
          -0.22733000000000025,
          -0.4649302325581406,
          1.3226699999999996,
          -0.06493023255814023,
          0.30566999999999966,
          0.502069767441859,
          -0.09433000000000025,
          -0.14793023255814042,
          -0.22733000000000025,
          -0.030930232558140425,
          -0.34433000000000025,
          0.18506976744185977,
          -0.2979302325581408,
          -0.18093023255814078,
          -0.2149302325581406,
          -0.030930232558140425,
          -0.38093023255814096,
          0.25206976744185905,
          -0.2149302325581406,
          0.32266999999999957,
          -0.11493023255814094,
          0.12266999999999983,
          0.1520697674418594,
          -0.21133000000000024,
          -0.24433000000000016,
          -0.01493023255814041,
          -0.3479302325581406,
          0.23866999999999994,
          -0.14793023255814042,
          0.25566999999999984,
          0.6350697674418591,
          0.8056699999999997,
          0.2850697674418594,
          -0.4649302325581406,
          -0.011330000000000062,
          0.06906976744185922,
          0.03866999999999976,
          0.05206976744185887,
          0.10566999999999993,
          0.1520697674418594,
          -0.7309302325581406,
          0.20206976744185923,
          -0.14793023255814042,
          -0.4809302325581406,
          -0.38093023255814096,
          0.1520697674418594,
          -0.09433000000000025,
          -0.01493023255814041,
          0.4690697674418596,
          0.2350697674418596,
          -0.24433000000000016,
          -0.04793023255814077,
          -0.11133000000000015,
          0.15566999999999975,
          0.4520697674418592,
          -0.18093023255814078,
          0.055669999999999664,
          0.11906976744185904,
          -0.2773300000000003,
          0.16906976744185886
         ],
         "xaxis": "x4",
         "xbins": {
          "end": 1.95,
          "size": 0.3,
          "start": -1.95
         },
         "yaxis": "y4"
        },
        {
         "line": {
          "color": "black",
          "dash": "dot",
          "width": 2
         },
         "mode": "lines",
         "name": "Normal Distribution<br>(99.7% of its area)",
         "opacity": 0.5,
         "type": "scatter",
         "x": [
          -1.2356963309582187,
          -1.2256963309582187,
          -1.2156963309582187,
          -1.2056963309582187,
          -1.1956963309582187,
          -1.1856963309582187,
          -1.1756963309582187,
          -1.1656963309582187,
          -1.1556963309582187,
          -1.1456963309582187,
          -1.1356963309582186,
          -1.1256963309582186,
          -1.1156963309582186,
          -1.1056963309582186,
          -1.0956963309582186,
          -1.0856963309582186,
          -1.0756963309582186,
          -1.0656963309582186,
          -1.0556963309582186,
          -1.0456963309582186,
          -1.0356963309582186,
          -1.0256963309582185,
          -1.0156963309582185,
          -1.0056963309582185,
          -0.9956963309582185,
          -0.9856963309582185,
          -0.9756963309582185,
          -0.9656963309582185,
          -0.9556963309582185,
          -0.9456963309582185,
          -0.9356963309582185,
          -0.9256963309582185,
          -0.9156963309582185,
          -0.9056963309582184,
          -0.8956963309582184,
          -0.8856963309582184,
          -0.8756963309582184,
          -0.8656963309582184,
          -0.8556963309582184,
          -0.8456963309582184,
          -0.8356963309582184,
          -0.8256963309582184,
          -0.8156963309582184,
          -0.8056963309582184,
          -0.7956963309582183,
          -0.7856963309582183,
          -0.7756963309582183,
          -0.7656963309582183,
          -0.7556963309582183,
          -0.7456963309582183,
          -0.7356963309582183,
          -0.7256963309582183,
          -0.7156963309582183,
          -0.7056963309582183,
          -0.6956963309582183,
          -0.6856963309582182,
          -0.6756963309582182,
          -0.6656963309582182,
          -0.6556963309582182,
          -0.6456963309582182,
          -0.6356963309582182,
          -0.6256963309582182,
          -0.6156963309582182,
          -0.6056963309582182,
          -0.5956963309582182,
          -0.5856963309582182,
          -0.5756963309582181,
          -0.5656963309582181,
          -0.5556963309582181,
          -0.5456963309582181,
          -0.5356963309582181,
          -0.5256963309582181,
          -0.5156963309582181,
          -0.5056963309582181,
          -0.4956963309582181,
          -0.48569633095821807,
          -0.47569633095821806,
          -0.46569633095821805,
          -0.45569633095821804,
          -0.44569633095821803,
          -0.435696330958218,
          -0.425696330958218,
          -0.415696330958218,
          -0.405696330958218,
          -0.395696330958218,
          -0.385696330958218,
          -0.37569633095821797,
          -0.36569633095821796,
          -0.35569633095821795,
          -0.34569633095821795,
          -0.33569633095821794,
          -0.32569633095821793,
          -0.3156963309582179,
          -0.3056963309582179,
          -0.2956963309582179,
          -0.2856963309582179,
          -0.2756963309582179,
          -0.2656963309582179,
          -0.25569633095821787,
          -0.24569633095821786,
          -0.23569633095821785,
          -0.22569633095821784,
          -0.21569633095821783,
          -0.20569633095821782,
          -0.1956963309582178,
          -0.1856963309582178,
          -0.1756963309582178,
          -0.16569633095821779,
          -0.15569633095821778,
          -0.14569633095821777,
          -0.13569633095821776,
          -0.12569633095821775,
          -0.11569633095821774,
          -0.10569633095821773,
          -0.09569633095821772,
          -0.08569633095821771,
          -0.0756963309582177,
          -0.0656963309582177,
          -0.05569633095821769,
          -0.04569633095821768,
          -0.03569633095821767,
          -0.02569633095821766,
          -0.015696330958217652,
          -0.005696330958217644,
          0.004303669041782365,
          0.014303669041782374,
          0.024303669041782383,
          0.03430366904178239,
          0.0443036690417824,
          0.05430366904178241,
          0.06430366904178242,
          0.07430366904178243,
          0.08430366904178244,
          0.09430366904178245,
          0.10430366904178245,
          0.11430366904178246,
          0.12430366904178247,
          0.13430366904178248,
          0.1443036690417825,
          0.1543036690417825,
          0.1643036690417825,
          0.17430366904178252,
          0.18430366904178253,
          0.19430366904178253,
          0.20430366904178254,
          0.21430366904178255,
          0.22430366904178256,
          0.23430366904178257,
          0.24430366904178258,
          0.2543036690417826,
          0.2643036690417826,
          0.2743036690417826,
          0.2843036690417826,
          0.2943036690417826,
          0.30430366904178263,
          0.31430366904178264,
          0.32430366904178265,
          0.33430366904178266,
          0.34430366904178267,
          0.3543036690417827,
          0.3643036690417827,
          0.3743036690417827,
          0.3843036690417827,
          0.3943036690417827,
          0.4043036690417827,
          0.41430366904178273,
          0.42430366904178274,
          0.43430366904178275,
          0.44430366904178276,
          0.45430366904178276,
          0.4643036690417828,
          0.4743036690417828,
          0.4843036690417828,
          0.4943036690417828,
          0.5043036690417828,
          0.5143036690417828,
          0.5243036690417828,
          0.5343036690417828,
          0.5443036690417828,
          0.5543036690417829,
          0.5643036690417829,
          0.5743036690417829,
          0.5843036690417829,
          0.5943036690417829,
          0.6043036690417829,
          0.6143036690417829,
          0.6243036690417829,
          0.6343036690417829,
          0.6443036690417829,
          0.6543036690417829,
          0.664303669041783,
          0.674303669041783,
          0.684303669041783,
          0.694303669041783,
          0.704303669041783,
          0.714303669041783,
          0.724303669041783,
          0.734303669041783,
          0.744303669041783,
          0.754303669041783,
          0.764303669041783,
          0.7743036690417828,
          0.7843036690417831,
          0.7943036690417833,
          0.8043036690417831,
          0.8143036690417829,
          0.8243036690417831,
          0.8343036690417833,
          0.8443036690417831,
          0.8543036690417829,
          0.8643036690417831,
          0.8743036690417834,
          0.8843036690417831,
          0.8943036690417829,
          0.9043036690417832,
          0.9143036690417834,
          0.9243036690417832,
          0.934303669041783,
          0.9443036690417832,
          0.9543036690417834,
          0.9643036690417832,
          0.974303669041783,
          0.9843036690417832,
          0.9943036690417835,
          1.0043036690417833,
          1.014303669041783,
          1.0243036690417833,
          1.0343036690417835,
          1.0443036690417833,
          1.054303669041783,
          1.0643036690417833,
          1.0743036690417835,
          1.0843036690417833,
          1.0943036690417831,
          1.1043036690417833,
          1.1143036690417836,
          1.1243036690417834,
          1.1343036690417831,
          1.1443036690417834,
          1.1543036690417836,
          1.1643036690417834,
          1.1743036690417832,
          1.1843036690417834,
          1.1943036690417836,
          1.2043036690417834,
          1.2143036690417832,
          1.2243036690417834,
          1.2343036690417837
         ],
         "xaxis": "x4",
         "y": [
          0.010759557103729535,
          0.011569046364750825,
          0.012432107304071925,
          0.013351681380178108,
          0.014330824962518165,
          0.015372710363650696,
          0.016480626593458756,
          0.017657979812295183,
          0.01890829345951763,
          0.020235208033555503,
          0.02164248049942659,
          0.0231339832994997,
          0.024713702943286703,
          0.026385738152150614,
          0.02815429753504737,
          0.030023696771778154,
          0.031998355280731125,
          0.034082792348736346,
          0.03628162270145778,
          0.038599551493701756,
          0.041041368700140836,
          0.04361194288824105,
          0.04631621435663785,
          0.04915918762384055,
          0.05214592325395582,
          0.05528152900810914,
          0.0585711503124085,
          0.06201996003564133,
          0.06563314757241298,
          0.06941590723012697,
          0.07337342592106816,
          0.0775108701638714,
          0.08183337240183293,
          0.08634601664885047,
          0.09105382347723423,
          0.09596173436522082,
          0.10107459542572303,
          0.10639714054164846,
          0.11193397393700391,
          0.11768955221695863,
          0.12366816591404108,
          0.1298739205816763,
          0.13631071748032095,
          0.1429822339054826,
          0.14989190321091322,
          0.15704289458421145,
          0.16443809263593126,
          0.17208007686705235,
          0.17997110108329434,
          0.18811307282822706,
          0.19650753291041143,
          0.2051556351028861,
          0.214058126096149,
          0.2232153257883624,
          0.2326271079987991,
          0.24229288169251945,
          0.2522115728059084,
          0.2623816067639773,
          0.2728008917812265,
          0.2834668030383526,
          0.29437616782715287,
          0.3055252517555944,
          0.3169097461041908,
          0.3285247564235189,
          0.34036479246092555,
          0.35242375950219823,
          0.3646949512112016,
          0.37717104404720786,
          0.38984409333588305,
          0.4027055310656123,
          0.4157461654760949,
          0.42895618250088813,
          0.44232514911986337,
          0.4558420186713653,
          0.4694951381672537,
          0.48327225764697584,
          0.4971605415994006,
          0.5111465824733599,
          0.5252164162897235,
          0.5393555403594189,
          0.5535489331031279,
          0.5677810759594847,
          0.5820359773595174,
          0.5962971987358525,
          0.6105478825258805,
          0.6247707821187244,
          0.6389482936864933,
          0.6530624898310058,
          0.6670951549679607,
          0.681027822361513,
          0.694841812713361,
          0.7085182742019049,
          0.7220382238587693,
          0.7353825901620982,
          0.748532256718556,
          0.7614681068989527,
          0.7741710692859075,
          0.7866221637860138,
          0.7988025482536131,
          0.8106935654685588,
          0.8222767903063029,
          0.8335340769352859,
          0.8444476058739914,
          0.8549999307381677,
          0.865174024507632,
          0.874953325141785,
          0.8843217803734793,
          0.8932638915122164,
          0.9017647560897945,
          0.9098101091844943,
          0.917386363263655,
          0.9244806463890687,
          0.9310808386349577,
          0.9371756065744173,
          0.9427544356970337,
          0.9478076606279322,
          0.9523264930267242,
          0.9563030470536446,
          0.9597303622996032,
          0.9626024240868317,
          0.9649141810572505,
          0.9666615599765646,
          0.9678414776933646,
          0.9684518502040801,
          0.968491598786483,
          0.9679606531764715,
          0.9668599517750414,
          0.965191438884589,
          0.9629580589859411,
          0.9601637480796886,
          0.9568134221274658,
          0.9529129626406847,
          0.9484691994758614,
          0.9434898909069751,
          0.9379837010562434,
          0.9319601747752055,
          0.9254297100780391,
          0.9184035282385327,
          0.9108936416710578,
          0.9029128197241805,
          0.8944745525231903,
          0.8855930130047602,
          0.8762830172931637,
          0.8665599835729236,
          0.8564398896174535,
          0.8459392291371245,
          0.8350749671132724,
          0.823864494286924,
          0.8123255809724558,
          0.8004763303670398,
          0.7883351315265461,
          0.7759206121775988,
          0.763251591533729,
          0.7503470332810537,
          0.7372259988956561,
          0.7239076014508933,
          0.7104109600682188,
          0.6967551551598398,
          0.6829591846056594,
          0.6690419210005208,
          0.6550220701008272,
          0.6409181305921952,
          0.6267483552919688,
          0.6125307138922106,
          0.5982828573402617,
          0.5840220839451681,
          0.569765307289259,
          0.55552902601498,
          0.5413292955478031,
          0.5271817018066718,
          0.5131013369440882,
          0.49910277714861434,
          0.4852000625333226,
          0.47140667912462825,
          0.45773554295699603,
          0.44419898627030663,
          0.4308087457982109,
          0.4175759531276355,
          0.404511127101776,
          0.3916241682314356,
          0.3789243550724867,
          0.36642034252055933,
          0.35412016196782664,
          0.34203122326097146,
          0.3301603183941149,
          0.31851362686564666,
          0.3070967226235669,
          0.2959145825201064,
          0.28497159619304535,
          0.2742715772883166,
          0.2638177759361287,
          0.25361289239099605,
          0.24365909174468817,
          0.23395801962021648,
          0.2245108187545331,
          0.21531814637762267,
          0.20638019229609958,
          0.1976966975902553,
          0.1892669738347304,
          0.18108992275457036,
          0.17316405623035283,
          0.1654875165683242,
          0.1580580969540163,
          0.15087326201062448,
          0.1439301683864638,
          0.13722568529908635,
          0.13075641496708434,
          0.12451871286420978,
          0.11850870773418037,
          0.11272232130839564,
          0.1071552876727229,
          0.10180317223350069,
          0.09666139023694392,
          0.09172522480017968,
          0.0869898444161769,
          0.08245031989884546,
          0.07810164073853676,
          0.07393873084207828,
          0.06995646363528615,
          0.06614967650961567,
          0.06251318459821084,
          0.05904179387009756,
          0.05573031353460787,
          0.052573567751317656,
          0.049566406643826944,
          0.04670371661859362,
          0.043980429992747955,
          0.04139153393735664,
          0.03893207874497573,
          0.03659718543252229,
          0.03438205269250882,
          0.03228196320751935,
          0.030292289344463062,
          0.028408498246626116,
          0.02662615634285414,
          0.02494093329433815,
          0.023348605400457797,
          0.021845058485955214,
          0.020426290292380904,
          0.01908841239727195,
          0.017827651684903714,
          0.016640351392703888,
          0.01552297175753797,
          0.014472090286079048,
          0.013484401673366337,
          0.012556717393447926,
          0.011685964985698124,
          0.010869187060008157
         ],
         "yaxis": "y4"
        }
       ],
       "layout": {
        "annotations": [
         {
          "font": {
           "size": 16
          },
          "showarrow": false,
          "text": "<br>Model 1:<br>All Data using slope",
          "x": 0.225,
          "xanchor": "center",
          "xref": "paper",
          "y": 1,
          "yanchor": "bottom",
          "yref": "paper"
         },
         {
          "font": {
           "size": 16
          },
          "showarrow": false,
          "text": "<br>Model 2:<br>Short Wait Data",
          "x": 0.775,
          "xanchor": "center",
          "xref": "paper",
          "y": 1,
          "yanchor": "bottom",
          "yref": "paper"
         },
         {
          "font": {
           "size": 16
          },
          "showarrow": false,
          "text": "<br>Model 3:<br>Long Wait Data",
          "x": 0.225,
          "xanchor": "center",
          "xref": "paper",
          "y": 0.375,
          "yanchor": "bottom",
          "yref": "paper"
         },
         {
          "font": {
           "size": 16
          },
          "showarrow": false,
          "text": "<br>Model 4:<br>All Data using indicator",
          "x": 0.775,
          "xanchor": "center",
          "xref": "paper",
          "y": 0.375,
          "yanchor": "bottom",
          "yref": "paper"
         }
        ],
        "template": {
         "data": {
          "bar": [
           {
            "error_x": {
             "color": "#2a3f5f"
            },
            "error_y": {
             "color": "#2a3f5f"
            },
            "marker": {
             "line": {
              "color": "#E5ECF6",
              "width": 0.5
             },
             "pattern": {
              "fillmode": "overlay",
              "size": 10,
              "solidity": 0.2
             }
            },
            "type": "bar"
           }
          ],
          "barpolar": [
           {
            "marker": {
             "line": {
              "color": "#E5ECF6",
              "width": 0.5
             },
             "pattern": {
              "fillmode": "overlay",
              "size": 10,
              "solidity": 0.2
             }
            },
            "type": "barpolar"
           }
          ],
          "carpet": [
           {
            "aaxis": {
             "endlinecolor": "#2a3f5f",
             "gridcolor": "white",
             "linecolor": "white",
             "minorgridcolor": "white",
             "startlinecolor": "#2a3f5f"
            },
            "baxis": {
             "endlinecolor": "#2a3f5f",
             "gridcolor": "white",
             "linecolor": "white",
             "minorgridcolor": "white",
             "startlinecolor": "#2a3f5f"
            },
            "type": "carpet"
           }
          ],
          "choropleth": [
           {
            "colorbar": {
             "outlinewidth": 0,
             "ticks": ""
            },
            "type": "choropleth"
           }
          ],
          "contour": [
           {
            "colorbar": {
             "outlinewidth": 0,
             "ticks": ""
            },
            "colorscale": [
             [
              0,
              "#0d0887"
             ],
             [
              0.1111111111111111,
              "#46039f"
             ],
             [
              0.2222222222222222,
              "#7201a8"
             ],
             [
              0.3333333333333333,
              "#9c179e"
             ],
             [
              0.4444444444444444,
              "#bd3786"
             ],
             [
              0.5555555555555556,
              "#d8576b"
             ],
             [
              0.6666666666666666,
              "#ed7953"
             ],
             [
              0.7777777777777778,
              "#fb9f3a"
             ],
             [
              0.8888888888888888,
              "#fdca26"
             ],
             [
              1,
              "#f0f921"
             ]
            ],
            "type": "contour"
           }
          ],
          "contourcarpet": [
           {
            "colorbar": {
             "outlinewidth": 0,
             "ticks": ""
            },
            "type": "contourcarpet"
           }
          ],
          "heatmap": [
           {
            "colorbar": {
             "outlinewidth": 0,
             "ticks": ""
            },
            "colorscale": [
             [
              0,
              "#0d0887"
             ],
             [
              0.1111111111111111,
              "#46039f"
             ],
             [
              0.2222222222222222,
              "#7201a8"
             ],
             [
              0.3333333333333333,
              "#9c179e"
             ],
             [
              0.4444444444444444,
              "#bd3786"
             ],
             [
              0.5555555555555556,
              "#d8576b"
             ],
             [
              0.6666666666666666,
              "#ed7953"
             ],
             [
              0.7777777777777778,
              "#fb9f3a"
             ],
             [
              0.8888888888888888,
              "#fdca26"
             ],
             [
              1,
              "#f0f921"
             ]
            ],
            "type": "heatmap"
           }
          ],
          "heatmapgl": [
           {
            "colorbar": {
             "outlinewidth": 0,
             "ticks": ""
            },
            "colorscale": [
             [
              0,
              "#0d0887"
             ],
             [
              0.1111111111111111,
              "#46039f"
             ],
             [
              0.2222222222222222,
              "#7201a8"
             ],
             [
              0.3333333333333333,
              "#9c179e"
             ],
             [
              0.4444444444444444,
              "#bd3786"
             ],
             [
              0.5555555555555556,
              "#d8576b"
             ],
             [
              0.6666666666666666,
              "#ed7953"
             ],
             [
              0.7777777777777778,
              "#fb9f3a"
             ],
             [
              0.8888888888888888,
              "#fdca26"
             ],
             [
              1,
              "#f0f921"
             ]
            ],
            "type": "heatmapgl"
           }
          ],
          "histogram": [
           {
            "marker": {
             "pattern": {
              "fillmode": "overlay",
              "size": 10,
              "solidity": 0.2
             }
            },
            "type": "histogram"
           }
          ],
          "histogram2d": [
           {
            "colorbar": {
             "outlinewidth": 0,
             "ticks": ""
            },
            "colorscale": [
             [
              0,
              "#0d0887"
             ],
             [
              0.1111111111111111,
              "#46039f"
             ],
             [
              0.2222222222222222,
              "#7201a8"
             ],
             [
              0.3333333333333333,
              "#9c179e"
             ],
             [
              0.4444444444444444,
              "#bd3786"
             ],
             [
              0.5555555555555556,
              "#d8576b"
             ],
             [
              0.6666666666666666,
              "#ed7953"
             ],
             [
              0.7777777777777778,
              "#fb9f3a"
             ],
             [
              0.8888888888888888,
              "#fdca26"
             ],
             [
              1,
              "#f0f921"
             ]
            ],
            "type": "histogram2d"
           }
          ],
          "histogram2dcontour": [
           {
            "colorbar": {
             "outlinewidth": 0,
             "ticks": ""
            },
            "colorscale": [
             [
              0,
              "#0d0887"
             ],
             [
              0.1111111111111111,
              "#46039f"
             ],
             [
              0.2222222222222222,
              "#7201a8"
             ],
             [
              0.3333333333333333,
              "#9c179e"
             ],
             [
              0.4444444444444444,
              "#bd3786"
             ],
             [
              0.5555555555555556,
              "#d8576b"
             ],
             [
              0.6666666666666666,
              "#ed7953"
             ],
             [
              0.7777777777777778,
              "#fb9f3a"
             ],
             [
              0.8888888888888888,
              "#fdca26"
             ],
             [
              1,
              "#f0f921"
             ]
            ],
            "type": "histogram2dcontour"
           }
          ],
          "mesh3d": [
           {
            "colorbar": {
             "outlinewidth": 0,
             "ticks": ""
            },
            "type": "mesh3d"
           }
          ],
          "parcoords": [
           {
            "line": {
             "colorbar": {
              "outlinewidth": 0,
              "ticks": ""
             }
            },
            "type": "parcoords"
           }
          ],
          "pie": [
           {
            "automargin": true,
            "type": "pie"
           }
          ],
          "scatter": [
           {
            "fillpattern": {
             "fillmode": "overlay",
             "size": 10,
             "solidity": 0.2
            },
            "type": "scatter"
           }
          ],
          "scatter3d": [
           {
            "line": {
             "colorbar": {
              "outlinewidth": 0,
              "ticks": ""
             }
            },
            "marker": {
             "colorbar": {
              "outlinewidth": 0,
              "ticks": ""
             }
            },
            "type": "scatter3d"
           }
          ],
          "scattercarpet": [
           {
            "marker": {
             "colorbar": {
              "outlinewidth": 0,
              "ticks": ""
             }
            },
            "type": "scattercarpet"
           }
          ],
          "scattergeo": [
           {
            "marker": {
             "colorbar": {
              "outlinewidth": 0,
              "ticks": ""
             }
            },
            "type": "scattergeo"
           }
          ],
          "scattergl": [
           {
            "marker": {
             "colorbar": {
              "outlinewidth": 0,
              "ticks": ""
             }
            },
            "type": "scattergl"
           }
          ],
          "scattermapbox": [
           {
            "marker": {
             "colorbar": {
              "outlinewidth": 0,
              "ticks": ""
             }
            },
            "type": "scattermapbox"
           }
          ],
          "scatterpolar": [
           {
            "marker": {
             "colorbar": {
              "outlinewidth": 0,
              "ticks": ""
             }
            },
            "type": "scatterpolar"
           }
          ],
          "scatterpolargl": [
           {
            "marker": {
             "colorbar": {
              "outlinewidth": 0,
              "ticks": ""
             }
            },
            "type": "scatterpolargl"
           }
          ],
          "scatterternary": [
           {
            "marker": {
             "colorbar": {
              "outlinewidth": 0,
              "ticks": ""
             }
            },
            "type": "scatterternary"
           }
          ],
          "surface": [
           {
            "colorbar": {
             "outlinewidth": 0,
             "ticks": ""
            },
            "colorscale": [
             [
              0,
              "#0d0887"
             ],
             [
              0.1111111111111111,
              "#46039f"
             ],
             [
              0.2222222222222222,
              "#7201a8"
             ],
             [
              0.3333333333333333,
              "#9c179e"
             ],
             [
              0.4444444444444444,
              "#bd3786"
             ],
             [
              0.5555555555555556,
              "#d8576b"
             ],
             [
              0.6666666666666666,
              "#ed7953"
             ],
             [
              0.7777777777777778,
              "#fb9f3a"
             ],
             [
              0.8888888888888888,
              "#fdca26"
             ],
             [
              1,
              "#f0f921"
             ]
            ],
            "type": "surface"
           }
          ],
          "table": [
           {
            "cells": {
             "fill": {
              "color": "#EBF0F8"
             },
             "line": {
              "color": "white"
             }
            },
            "header": {
             "fill": {
              "color": "#C8D4E3"
             },
             "line": {
              "color": "white"
             }
            },
            "type": "table"
           }
          ]
         },
         "layout": {
          "annotationdefaults": {
           "arrowcolor": "#2a3f5f",
           "arrowhead": 0,
           "arrowwidth": 1
          },
          "autotypenumbers": "strict",
          "coloraxis": {
           "colorbar": {
            "outlinewidth": 0,
            "ticks": ""
           }
          },
          "colorscale": {
           "diverging": [
            [
             0,
             "#8e0152"
            ],
            [
             0.1,
             "#c51b7d"
            ],
            [
             0.2,
             "#de77ae"
            ],
            [
             0.3,
             "#f1b6da"
            ],
            [
             0.4,
             "#fde0ef"
            ],
            [
             0.5,
             "#f7f7f7"
            ],
            [
             0.6,
             "#e6f5d0"
            ],
            [
             0.7,
             "#b8e186"
            ],
            [
             0.8,
             "#7fbc41"
            ],
            [
             0.9,
             "#4d9221"
            ],
            [
             1,
             "#276419"
            ]
           ],
           "sequential": [
            [
             0,
             "#0d0887"
            ],
            [
             0.1111111111111111,
             "#46039f"
            ],
            [
             0.2222222222222222,
             "#7201a8"
            ],
            [
             0.3333333333333333,
             "#9c179e"
            ],
            [
             0.4444444444444444,
             "#bd3786"
            ],
            [
             0.5555555555555556,
             "#d8576b"
            ],
            [
             0.6666666666666666,
             "#ed7953"
            ],
            [
             0.7777777777777778,
             "#fb9f3a"
            ],
            [
             0.8888888888888888,
             "#fdca26"
            ],
            [
             1,
             "#f0f921"
            ]
           ],
           "sequentialminus": [
            [
             0,
             "#0d0887"
            ],
            [
             0.1111111111111111,
             "#46039f"
            ],
            [
             0.2222222222222222,
             "#7201a8"
            ],
            [
             0.3333333333333333,
             "#9c179e"
            ],
            [
             0.4444444444444444,
             "#bd3786"
            ],
            [
             0.5555555555555556,
             "#d8576b"
            ],
            [
             0.6666666666666666,
             "#ed7953"
            ],
            [
             0.7777777777777778,
             "#fb9f3a"
            ],
            [
             0.8888888888888888,
             "#fdca26"
            ],
            [
             1,
             "#f0f921"
            ]
           ]
          },
          "colorway": [
           "#636efa",
           "#EF553B",
           "#00cc96",
           "#ab63fa",
           "#FFA15A",
           "#19d3f3",
           "#FF6692",
           "#B6E880",
           "#FF97FF",
           "#FECB52"
          ],
          "font": {
           "color": "#2a3f5f"
          },
          "geo": {
           "bgcolor": "white",
           "lakecolor": "white",
           "landcolor": "#E5ECF6",
           "showlakes": true,
           "showland": true,
           "subunitcolor": "white"
          },
          "hoverlabel": {
           "align": "left"
          },
          "hovermode": "closest",
          "mapbox": {
           "style": "light"
          },
          "paper_bgcolor": "white",
          "plot_bgcolor": "#E5ECF6",
          "polar": {
           "angularaxis": {
            "gridcolor": "white",
            "linecolor": "white",
            "ticks": ""
           },
           "bgcolor": "#E5ECF6",
           "radialaxis": {
            "gridcolor": "white",
            "linecolor": "white",
            "ticks": ""
           }
          },
          "scene": {
           "xaxis": {
            "backgroundcolor": "#E5ECF6",
            "gridcolor": "white",
            "gridwidth": 2,
            "linecolor": "white",
            "showbackground": true,
            "ticks": "",
            "zerolinecolor": "white"
           },
           "yaxis": {
            "backgroundcolor": "#E5ECF6",
            "gridcolor": "white",
            "gridwidth": 2,
            "linecolor": "white",
            "showbackground": true,
            "ticks": "",
            "zerolinecolor": "white"
           },
           "zaxis": {
            "backgroundcolor": "#E5ECF6",
            "gridcolor": "white",
            "gridwidth": 2,
            "linecolor": "white",
            "showbackground": true,
            "ticks": "",
            "zerolinecolor": "white"
           }
          },
          "shapedefaults": {
           "line": {
            "color": "#2a3f5f"
           }
          },
          "ternary": {
           "aaxis": {
            "gridcolor": "white",
            "linecolor": "white",
            "ticks": ""
           },
           "baxis": {
            "gridcolor": "white",
            "linecolor": "white",
            "ticks": ""
           },
           "bgcolor": "#E5ECF6",
           "caxis": {
            "gridcolor": "white",
            "linecolor": "white",
            "ticks": ""
           }
          },
          "title": {
           "x": 0.05
          },
          "xaxis": {
           "automargin": true,
           "gridcolor": "white",
           "linecolor": "white",
           "ticks": "",
           "title": {
            "standoff": 15
           },
           "zerolinecolor": "white",
           "zerolinewidth": 2
          },
          "yaxis": {
           "automargin": true,
           "gridcolor": "white",
           "linecolor": "white",
           "ticks": "",
           "title": {
            "standoff": 15
           },
           "zerolinecolor": "white",
           "zerolinewidth": 2
          }
         }
        },
        "title": {
         "text": "Histograms of Residuals from Different Models"
        },
        "xaxis": {
         "anchor": "y",
         "domain": [
          0,
          0.45
         ],
         "range": [
          -2,
          2
         ],
         "title": {
          "text": "n=272"
         }
        },
        "xaxis2": {
         "anchor": "y2",
         "domain": [
          0.55,
          1
         ],
         "range": [
          -2,
          2
         ],
         "title": {
          "text": "n=83"
         }
        },
        "xaxis3": {
         "anchor": "y3",
         "domain": [
          0,
          0.45
         ],
         "range": [
          -2,
          2
         ],
         "title": {
          "text": "n=182"
         }
        },
        "xaxis4": {
         "anchor": "y4",
         "domain": [
          0.55,
          1
         ],
         "range": [
          -2,
          2
         ],
         "title": {
          "text": "n=272"
         }
        },
        "yaxis": {
         "anchor": "x",
         "domain": [
          0.625,
          1
         ]
        },
        "yaxis2": {
         "anchor": "x2",
         "domain": [
          0.625,
          1
         ]
        },
        "yaxis3": {
         "anchor": "x3",
         "domain": [
          0,
          0.375
         ]
        },
        "yaxis4": {
         "anchor": "x4",
         "domain": [
          0,
          0.375
         ]
        }
       }
      },
      "text/html": [
       "<div>                            <div id=\"8cd54d38-8376-41ed-bd04-034bba59d1d1\" class=\"plotly-graph-div\" style=\"height:525px; width:100%;\"></div>            <script type=\"text/javascript\">                require([\"plotly\"], function(Plotly) {                    window.PLOTLYENV=window.PLOTLYENV || {};                                    if (document.getElementById(\"8cd54d38-8376-41ed-bd04-034bba59d1d1\")) {                    Plotly.newPlot(                        \"8cd54d38-8376-41ed-bd04-034bba59d1d1\",                        [{\"histnorm\":\"probability density\",\"name\":\"\\u003cbr\\u003eModel 1:\\u003cbr\\u003eAll Data using slope\",\"x\":[-0.5005919017864158,-0.40989320298984855,-0.38945216202710187,-0.5319167866047501,-0.021359589497591536,0.5974788490582887,-0.08124343335318063,-0.9543595894975918,-0.033009359134260174,-0.20435958949759225,-0.37689320298984863,-0.5617316415457303,0.17503604616544788,0.06950243267319056,0.2968963064061336,0.10836269291387701,-1.06491678660475,0.3212683584542697,-0.4586373070861227,0.14940809821358414,-0.18300935913426009,0.06950243267319056,-0.5749639538345521,-0.2773124222677885,0.8105478379728983,-0.8031036935938665,-0.3185211509417112,0.2092919420691728,-0.1749639538345522,0.33240809821358397,0.6531757859247604,0.5176639941173096,0.24957142158779932,-0.14321984973827728,0.11054783797289813,-0.0416373070861229,0.11087448472132788,0.6567801502617225,-0.755032942749162,-0.1494993292569058,0.173780150261722,-0.6294049947972993,0.08826835845427006,-0.7624049947972993,0.886175785924761,-1.0861036935938664,0.8668273174915249,-0.03426525503798583,0.30552425435799524,-0.588032942749162,1.001919890021035,-0.21649932925690596,-0.37689320298984863,0.6567801502617225,-0.4768932029898485,0.47989630640613345,0.22143168182848605,-1.2991726825084755,0.6176639941173101,0.06515220230985896,-0.35503294274916186,0.021268358454269887,-0.006125515278672111,0.47252425435799505,-0.8466608907010247,-0.6837552251606311,0.14203604616544752,0.6750360461654479,-0.9748006304603378,1.0531757859247608,-0.2944757456420044,-0.39414909889357386,0.39940809821358414,0.504431681828486,-0.8319167866047499,1.1932919420691728,-0.6466608907010247,0.5420360461654479,0.00929194206917261,-0.8031036935938665,0.3349198900210353,0.005524254357995417,0.6800596297803483,-0.408800630460338,0.4201757859247608,0.15175656664681902,0.07629194206917278,0.3407801502617227,0.4108744847213277,-0.6299875374494555,-0.46366089070102445,-0.599499329256906,-0.040381411182397464,0.7920360461654479,-1.0575447345566127,0.7288037338766231,0.1882683584542697,-0.048080109978964725,-0.11600935913426014,0.5725242543579956,-0.3319167866047499,-0.4142434333531808,0.2682465367694653,0.09689630640613345,-0.20184779769014138,0.18650243267319055,0.22126835845427006,-0.2756373070861229,0.22001246255054419,-0.5688477976901414,0.9349198900210358,-0.28803294274916214,0.043128618694957765,0.31640809821358395,-0.888032942749162,0.3811522023098588,0.4096185888176027,0.04564041050240775,-0.771032942749162,-0.28861548540131743,0.4827347449620141,0.7226875777322115,0.30066399411730993,-0.39414909889357386,-0.18124343335318116,-0.4848477976901413,0.38775832857691594,0.17252425435799523,-0.018521150941711362,-0.2824993292569058,0.3377583285769159,-0.23610369359386674,0.4388509011064259,-0.5238713813050424,0.2281303806250532,0.05552425435799524,-0.10000935913426012,0.30301246255054437,-0.101265255037986,-0.36759190178641576,-0.018847797690140666,-0.43066089070102453,0.2055242543579956,0.8676639941173101,0.4592919420691728,-0.6050329427491619,0.45678015026172236,0.18524653676946512,-0.28626701696808254,-0.3342652550379859,1.0836639941173103,0.05066399411730993,-0.6418006304603381,0.34815220230985844,0.07143168182848614,0.5800596297803486,0.2481522023098588,-1.076383173112493,-0.3342652550379859,-0.8898713813050425,0.6707583285769161,-0.4799875374494551,-0.5124049947972993,-0.19196395383455211,0.38257142158779933,0.7092919420691728,-0.5235447345566127,0.2187565666468192,-0.12563730708612275,-0.5423831731124933,0.08524653676946525,-0.3537770468454364,0.6336639941173101,0.06431552568407417,-0.08484779769014139,0.08115220230985898,0.8531757859247606,0.5096185888176024,-0.5543595894975919,0.44454783797289776,-0.40252115094171126,0.6336639941173101,-0.15310369359386655,-0.6361036935938666,0.04999064086573979,0.40803604616544753,-0.39573164154572993,0.2281303806250532,0.013896306406133263,-0.10252115094171099,0.5481522023098586,-0.6037770468454366,0.9262919420691724,-0.37873164154573047,0.01666399411731012,-0.018847797690140666,-1.2056154854013172,0.4166639941173105,0.26699064086573987,0.6420360461654475,-0.5636608907010245,0.022524254357994877,-0.8751272772087679,-0.2672652550379859,0.5750360461654473,0.17813038062505315,0.4176639941173099,-0.62873164154573,0.10124653676946527,0.09689630640613345,-1.112568318171514,0.5237801502617225,0.03524653676946521,0.03491989002103546,0.4508273174915245,0.35929194206917314,0.265734744962014,-0.435011121064357,-0.28552115094171127,0.27629194206917296,-0.040381411182397464,-0.06047574564200442,-0.4598932029898486,0.6849198900210358,-0.0249639538345523,0.016408098213584132,0.058036046165447885,0.24203604616544805,0.49705962978034846,0.44940809821358396,0.6630596297803488,0.20710679701015122,-0.44698753744945563,0.3096185888176026,-0.482499329256906,-0.3268932029898486,-0.3598932029898485,0.3336639941173103,-0.15059190178641568,-0.6331726825084751,0.35191989002103563,0.6695024326731907,0.30301246255054437,0.009455265443387262,0.028640410502408287,-0.4944757456420046,-0.3537770468454364,0.039524254357995225,-1.0600565263640633,0.6275478379728976,-0.009893202989848415,0.046896306406133625,-0.07982421407523921,0.8531757859247606,-0.6312434333531804,-0.3592198497382775,0.4214316818284858,0.046896306406133625,-0.36114909889357394,0.1824080982135845,0.742036046165448,0.05426835845427025,-0.6624049947972992,-0.15310369359386655,0.6050142244806413,-0.41366089070102463,0.9519198900210353,-0.1348477976901412,0.5451303806250531,-0.5154993292569063,0.21213038062505318,0.7445478379728976],\"xbins\":{\"end\":1.95,\"size\":0.3,\"start\":-1.95},\"type\":\"histogram\",\"xaxis\":\"x\",\"yaxis\":\"y\"},{\"line\":{\"color\":\"black\",\"dash\":\"dot\",\"width\":2},\"mode\":\"lines\",\"name\":\"Normal Distribution\\u003cbr\\u003e(99.7% of its area)\",\"opacity\":0.5,\"x\":[-1.4867880403088838,-1.4767880403088838,-1.4667880403088838,-1.4567880403088838,-1.4467880403088837,-1.4367880403088837,-1.4267880403088837,-1.4167880403088837,-1.4067880403088837,-1.3967880403088837,-1.3867880403088837,-1.3767880403088837,-1.3667880403088837,-1.3567880403088837,-1.3467880403088837,-1.3367880403088837,-1.3267880403088836,-1.3167880403088836,-1.3067880403088836,-1.2967880403088836,-1.2867880403088836,-1.2767880403088836,-1.2667880403088836,-1.2567880403088836,-1.2467880403088836,-1.2367880403088836,-1.2267880403088836,-1.2167880403088835,-1.2067880403088835,-1.1967880403088835,-1.1867880403088835,-1.1767880403088835,-1.1667880403088835,-1.1567880403088835,-1.1467880403088835,-1.1367880403088835,-1.1267880403088835,-1.1167880403088835,-1.1067880403088834,-1.0967880403088834,-1.0867880403088834,-1.0767880403088834,-1.0667880403088834,-1.0567880403088834,-1.0467880403088834,-1.0367880403088834,-1.0267880403088834,-1.0167880403088834,-1.0067880403088834,-0.9967880403088833,-0.9867880403088833,-0.9767880403088833,-0.9667880403088833,-0.9567880403088833,-0.9467880403088833,-0.9367880403088833,-0.9267880403088833,-0.9167880403088833,-0.9067880403088833,-0.8967880403088833,-0.8867880403088833,-0.8767880403088832,-0.8667880403088832,-0.8567880403088832,-0.8467880403088832,-0.8367880403088832,-0.8267880403088832,-0.8167880403088832,-0.8067880403088832,-0.7967880403088832,-0.7867880403088832,-0.7767880403088832,-0.7667880403088831,-0.7567880403088831,-0.7467880403088831,-0.7367880403088831,-0.7267880403088831,-0.7167880403088831,-0.7067880403088831,-0.6967880403088831,-0.6867880403088831,-0.6767880403088831,-0.6667880403088831,-0.656788040308883,-0.646788040308883,-0.636788040308883,-0.626788040308883,-0.616788040308883,-0.606788040308883,-0.596788040308883,-0.586788040308883,-0.576788040308883,-0.566788040308883,-0.556788040308883,-0.546788040308883,-0.5367880403088829,-0.5267880403088829,-0.5167880403088829,-0.5067880403088829,-0.4967880403088829,-0.4867880403088829,-0.4767880403088829,-0.4667880403088829,-0.45678804030888287,-0.44678804030888286,-0.43678804030888285,-0.42678804030888284,-0.41678804030888283,-0.4067880403088828,-0.3967880403088828,-0.3867880403088828,-0.3767880403088828,-0.3667880403088828,-0.3567880403088828,-0.3467880403088828,-0.33678804030888276,-0.32678804030888275,-0.31678804030888275,-0.30678804030888274,-0.29678804030888273,-0.2867880403088827,-0.2767880403088827,-0.2667880403088827,-0.2567880403088827,-0.24678804030888268,-0.23678804030888267,-0.22678804030888267,-0.21678804030888266,-0.20678804030888265,-0.19678804030888264,-0.18678804030888263,-0.17678804030888262,-0.1667880403088826,-0.1567880403088826,-0.1467880403088826,-0.13678804030888259,-0.12678804030888258,-0.11678804030888257,-0.10678804030888256,-0.09678804030888255,-0.08678804030888254,-0.07678804030888253,-0.06678804030888252,-0.056788040308882515,-0.046788040308882506,-0.0367880403088825,-0.026788040308882488,-0.01678804030888248,-0.00678804030888247,0.0032119596911175385,0.013211959691117547,0.023211959691117556,0.033211959691117565,0.043211959691117574,0.05321195969111758,0.06321195969111759,0.0732119596911176,0.08321195969111761,0.09321195969111762,0.10321195969111763,0.11321195969111764,0.12321195969111765,0.13321195969111765,0.14321195969111766,0.15321195969111767,0.16321195969111768,0.1732119596911177,0.1832119596911177,0.1932119596911177,0.20321195969111772,0.21321195969111773,0.22321195969111773,0.23321195969111774,0.24321195969111775,0.25321195969111776,0.26321195969111777,0.2732119596911178,0.2832119596911178,0.2932119596911178,0.3032119596911178,0.3132119596911178,0.3232119596911178,0.33321195969111783,0.34321195969111784,0.35321195969111785,0.36321195969111786,0.37321195969111787,0.3832119596911179,0.3932119596911179,0.4032119596911179,0.4132119596911179,0.4232119596911179,0.4332119596911179,0.44321195969111793,0.45321195969111794,0.46321195969111795,0.47321195969111796,0.48321195969111796,0.493211959691118,0.503211959691118,0.513211959691118,0.5232119596911178,0.533211959691118,0.5432119596911182,0.553211959691118,0.5632119596911178,0.573211959691118,0.5832119596911183,0.5932119596911181,0.6032119596911178,0.6132119596911181,0.6232119596911183,0.6332119596911181,0.6432119596911179,0.6532119596911181,0.6632119596911183,0.6732119596911181,0.6832119596911179,0.6932119596911182,0.7032119596911184,0.7132119596911182,0.723211959691118,0.7332119596911182,0.7432119596911184,0.7532119596911182,0.763211959691118,0.7732119596911182,0.7832119596911185,0.7932119596911182,0.803211959691118,0.8132119596911183,0.8232119596911185,0.8332119596911183,0.8432119596911181,0.8532119596911183,0.8632119596911185,0.8732119596911183,0.8832119596911181,0.8932119596911183,0.9032119596911186,0.9132119596911183,0.9232119596911181,0.9332119596911184,0.9432119596911186,0.9532119596911184,0.9632119596911182,0.9732119596911184,0.9832119596911186,0.9932119596911184,1.0032119596911182,1.0132119596911184,1.0232119596911187,1.0332119596911185,1.0432119596911182,1.0532119596911185,1.0632119596911187,1.0732119596911185,1.0832119596911183,1.0932119596911185,1.1032119596911187,1.1132119596911185,1.1232119596911183,1.1332119596911185,1.1432119596911188,1.1532119596911186,1.1632119596911183,1.1732119596911186,1.1832119596911188,1.1932119596911186,1.2032119596911184,1.2132119596911186,1.2232119596911188,1.2332119596911186,1.2432119596911184,1.2532119596911186,1.2632119596911189,1.2732119596911187,1.2832119596911185,1.2932119596911187,1.303211959691119,1.3132119596911187,1.3232119596911185,1.3332119596911187,1.343211959691119,1.3532119596911187,1.3632119596911185,1.3732119596911188,1.383211959691119,1.3932119596911188,1.4032119596911186,1.4132119596911188,1.423211959691119,1.4332119596911188,1.4432119596911186,1.4532119596911188,1.463211959691119,1.4732119596911188,1.4832119596911186],\"y\":[0.00894246178698871,0.0094985629926708,0.010085139330619577,0.010703580482900413,0.011355321544649933,0.012041843401162836,0.012764673032018283,0.013525383737039327,0.014325595278791984,0.015166973936257284,0.01605123246424839,0.01698012995310001,0.017955471583126083,0.018979108268329145,0.020052936183848256,0.021178896171655682,0.022358973019054824,0.02359519460459501,0.024889630906104212,0.02624439286564695,0.027661631106346358,0.02914353449616353,0.030692328553907314,0.032310273692952536,0.033999663298376656,0.03576282163348282,0.03760210157196232,0.039519882152262924,0.04151856595107022,0.04360057627317742,0.045768354155416566,0.048024355182748064,0.050371046115059465,0.0528109013237025,0.05534639903730704,0.05798001739694222,0.06071423032125672,0.06355150318281279,0.06649428829743895,0.06954502022905712,0.07270611091309255,0.0759799446022493,0.07936887263912527,0.0828752080608491,0.08650122004164593,0.09024912817997434,0.09412109663762565,0.09811922813893034,0.10224555783898075,0.10650204707054123,0.11089057698008585,0.11541294206416408,0.1200708436180565,0.1248658831094299,0.1297995554904417,0.13487324246246893,0.14008820570833982,0.14544558010763653,0.15094636695129393,0.1565914271723546,0.16238147461034041,0.1683170693272675,0.17439861099386067,0.18062633236500655,0.18700029286392883,0.19352037229496075,0.20018626470512843,0.2069974724150492,0.2139533002398725,0.22105284992116328,0.2282950147907267,0.2356784746874167,0.24320169114793702,0.2508629028925421,0.25866012162637675,0.26659112817694,0.27465346898784043,0.28284445298860844,0.29116114885985184,0.2996003827124888,0.308158736199154,0.3168325450751631,0.32561789822562553,0.33451063717443125,0.34350635608988456,0.35260040230074174,0.361787877335311,0.3710636384951072,0.3804223009733169,0.3898582405270262,0.39936559671079946,0.40893827667776805,0.41856995955290577,0.4282541013816369,0.43798394065533214,0.4477525044136324,0.45755261492186505,0.46737689692013384,0.4772177854389261,0.4870675341743463,0.4969182244143198,0.5067617745053405,0.5165899498475633,0.5263943734042744,0.5361665367100097,0.5458978113598535,0.5555794609607274,0.5652026535237905,0.5747584742754257,0.584237938862672,0.5936320069274151,0.6029315960221411,0.6121275958386306,0.6212108827196001,0.6301723344220118,0.6390028450995677,0.647693340470785,0.656234793138025,0.6646182380219255,0.6728347878748605,0.6808756488363418,0.6887321359926728,0.6963956889026783,0.7038578870509723,0.7111104651899725,0.7181453285317582,0.7249545677508691,0.7315304737592716,0.7378655522149912,0.7439525377262841,0.7497844077137528,0.7553543958934456,0.7606560053447591,0.765683021127852,0.7704295224163058,0.7748898941118979,0.7790588379096136,0.7829313827823864,0.7865028948565334,0.7897690866504297,0.7927260256506427,0.7953701422015149,0.7976982366860432,0.7997074859778309,0.8013954491459038,0.8027600723962538,0.8037996932361049,0.8045130438490847,0.8048992536717066,0.8049578511638367,0.8046887647681022,0.8040923230555123,0.8031692540568712,0.8019206837818952,0.8003481339302431,0.7984535188009783,0.7962391414092461,0.7937076888211965,0.7908622267203744,0.7877061932209665,0.7842433919453702,0.7804779843856054,0.7764144815700321,0.7720577350587347,0.7674129272927289,0.7624855613238599,0.7572814499538684,0.7518067043126246,0.7460677219069269,0.740071174172558,0.7338239935634795,0.7273333602130968,0.7206066882034767,0.7136516114792084,0.7064759694432949,0.6990877922730244,0.6914952859942033,0.6837068173524439,0.6757308985203749,0.6675761716796957,0.6592513935169163,0.6507654196714286,0.6421271891742282,0.6333457089151612,0.6244300381760142,0.6153892732660879,0.6062325322961108,0.5969689401254665,0.587607613516709,0.5781576465302658,0.5686280961910462,0.5590279684574172,0.5493662045216676,0.5396516674696746,0.5298931293260066,0.5200992585091595,0.5102786077200399,0.5004396022851614,0.49059052897435595,0.4807395253110854,0.47089456939170726,0.46106347022829325,0.4512538586278326,0.4414731786188825,0.4317286794349497,0.4220274080621272,0.41237620235676015,0.4027816847371808,0.3932502564518383,0.38378809242448664,0.37440113667544594,0.36509509831635484,0.35587544811427585,0.34674741561952216,0.3377159868501217,0.3287859025244463,0.3199616568322073,0.31124749673276064,0.3026474217684741,0.29416518437978106,0.28580429070750446,0.27756800186705494,0.26945933567821684,0.26148106883341116,0.25363573948658147,0.24592565024419177,0.2383528715392377,0.2309192453686679,0.2236263893741815,0.21647570124602122,0.20946836342910943,0.2026053481106673,0.19588742246833754,0.18931515415777153,0.18288891701866156,0.17660889697827364,0.17047509813168293,0.16448734897812275,0.1586453087931246,0.15294847411644463,0.14739618533614693,0.14198763334964218,0.13672186628294727,0.13159779624994464,0.12661420613397403,0.1217697563746788,0.11706299174365112,0.11249234809307007,0.10805615906220402,0.1037526627273489,0.09958000818149236,0.09553626203072738,0.09161941479518372,0.08782738720300526,0.08415803636666092,0.0806091618316419,0.07717851148836448,0.07386378733885987,0.07066265111059329,0.06757272971050157,0.06459162051308073,0.061716896477084705,0.0589461110861084,0.056276803109029334,0.05370650117695798,0.05123272817401128,0.0488530054398622,0.04656485678263391,0.044365812301301655,0.04225341201733331,0.04022520931584459,0.038278774197059384,0.036411696339356474,0.03462158797564673,0.032906086585260175,0.031262857403927764,0.02968959575482191,0.028184029203971502,0.026743919543689314,0.025367064607944856,0.024051299923883288,0.022794500203932797,0.021594580683157255,0.020449498306698975,0.019357252772320598,0.018315887433194337,0.01732349006620243,0.01637819351110497,0.015478176186002276,0.014621662484569118,0.01380692306056762,0.013032275005156508,0.012296081922506736,0.011596753909209586,0.010932747442923007,0.010302565185646198,0.009704755706943615,0.00913791313235708],\"type\":\"scatter\",\"xaxis\":\"x\",\"yaxis\":\"y\"},{\"histnorm\":\"probability density\",\"name\":\"\\u003cbr\\u003eModel 2:\\u003cbr\\u003eShort Wait Data\",\"x\":[-0.21366645043174892,0.8624153007827706,-0.04291170407530731,-0.180666450431749,-0.21523870893338515,0.1671700471392119,-0.3998299528607878,-0.19291170407530722,-0.21523870893338515,-0.053584699217229304,0.017170047139211997,-0.10515695771886557,-0.21525769435915199,-0.15833944557367108,-0.2913394455736711,0.09325179835373154,-0.04825769435915195,-0.180666450431749,-0.28066645043174887,0.18474230564084815,-0.22215695771886557,-0.23817594314463242,-0.060502948002710166,-0.03817594314463246,0.19484304228113425,0.1448240568553678,-0.11899345528982685,-0.12591170407530727,0.12092479349565388,-0.09823870893338515,-0.216829952860788,0.2517423056408479,-0.348257694359152,0.3310065447101733,-0.231257694359152,0.6102517983537314,-0.060502948002710166,-0.03440221136242383,0.24641530078277052,-0.08440221136242387,0.7724970519972896,-0.12532046014790454,-0.10991170407530726,0.02625179835373137,0.17782405685536773,-0.06525769435915185,0.0379247934956537,-0.2067482016462685,-0.2067482016462685,0.2485977886375763,-0.041339445573671085,-0.06682995286078786,-0.06207520650434617,0.04857880321180952,0.43100654471017297,-0.13758469921722938,0.04008829592469265,-0.12532046014790454,0.1624153007827709,-0.2014211967881907,0.25708829592469273,0.04482405685536772,-0.13974820164626856,-0.1753204601479046,-0.046075206504346156,-0.11207520650434621,0.39325179835373136,-0.020584699217229385,-0.11899345528982685,-0.26366645043174897,0.40333354956825085,0.23100654471017323,-0.13066645043174896,-0.16366645043174888,0.38476129106661494,0.04857880321180952,0.1863335495682512,-0.027502948002710248,-0.191339445573671,0.04543428620853729,0.19482405685536763,0.1916795398520954,-0.14132046014790456],\"xbins\":{\"end\":1.9,\"size\":0.2,\"start\":-1.9},\"type\":\"histogram\",\"xaxis\":\"x2\",\"yaxis\":\"y2\"},{\"line\":{\"color\":\"black\",\"dash\":\"dot\",\"width\":2},\"mode\":\"lines\",\"name\":\"Normal Distribution\\u003cbr\\u003e(99.7% of its area)\",\"opacity\":0.5,\"x\":[-0.7101615934653974,-0.7001615934653974,-0.6901615934653974,-0.6801615934653974,-0.6701615934653974,-0.6601615934653974,-0.6501615934653974,-0.6401615934653974,-0.6301615934653974,-0.6201615934653973,-0.6101615934653973,-0.6001615934653973,-0.5901615934653973,-0.5801615934653973,-0.5701615934653973,-0.5601615934653973,-0.5501615934653973,-0.5401615934653973,-0.5301615934653973,-0.5201615934653973,-0.5101615934653972,-0.5001615934653972,-0.4901615934653972,-0.4801615934653972,-0.4701615934653972,-0.4601615934653972,-0.4501615934653972,-0.4401615934653972,-0.4301615934653972,-0.42016159346539717,-0.41016159346539716,-0.40016159346539715,-0.39016159346539714,-0.38016159346539713,-0.3701615934653971,-0.3601615934653971,-0.3501615934653971,-0.3401615934653971,-0.3301615934653971,-0.3201615934653971,-0.31016159346539707,-0.30016159346539706,-0.29016159346539705,-0.28016159346539704,-0.27016159346539703,-0.260161593465397,-0.250161593465397,-0.240161593465397,-0.230161593465397,-0.220161593465397,-0.21016159346539698,-0.20016159346539697,-0.19016159346539696,-0.18016159346539695,-0.17016159346539694,-0.16016159346539693,-0.15016159346539693,-0.14016159346539692,-0.1301615934653969,-0.1201615934653969,-0.11016159346539689,-0.10016159346539688,-0.09016159346539687,-0.08016159346539686,-0.07016159346539685,-0.060161593465396845,-0.050161593465396836,-0.04016159346539683,-0.03016159346539682,-0.02016159346539681,-0.010161593465396801,-0.0001615934653967921,0.009838406534603217,0.019838406534603226,0.029838406534603235,0.03983840653460324,0.04983840653460325,0.05983840653460326,0.06983840653460327,0.07983840653460328,0.08983840653460329,0.0998384065346033,0.1098384065346033,0.11983840653460331,0.12983840653460332,0.13983840653460333,0.14983840653460334,0.15983840653460335,0.16983840653460336,0.17983840653460337,0.18983840653460338,0.19983840653460339,0.2098384065346034,0.2198384065346034,0.2298384065346034,0.23983840653460342,0.24983840653460343,0.25983840653460344,0.26983840653460345,0.27983840653460346,0.28983840653460347,0.2998384065346035,0.3098384065346035,0.3198384065346035,0.3298384065346035,0.3398384065346035,0.3498384065346035,0.3598384065346035,0.36983840653460354,0.37983840653460355,0.38983840653460355,0.39983840653460356,0.40983840653460357,0.4198384065346036,0.4298384065346036,0.4398384065346036,0.4498384065346036,0.4598384065346036,0.4698384065346036,0.47983840653460363,0.48983840653460364,0.49983840653460365,0.5098384065346037,0.5198384065346037,0.5298384065346037,0.5398384065346037,0.5498384065346037,0.5598384065346037,0.5698384065346037,0.5798384065346037,0.5898384065346037,0.5998384065346037,0.6098384065346037,0.6198384065346038,0.6298384065346038,0.6398384065346038,0.6498384065346038,0.6598384065346038,0.6698384065346038,0.6798384065346038,0.6898384065346038,0.6998384065346038,0.7098384065346038],\"y\":[0.018721859022163313,0.021232461612921184,0.024036803067943636,0.027163019405407603,0.03064110078090899,0.03450290508318714,0.0387821555938843,0.04351442069933256,0.04873707362465408,0.054489230171214265,0.060811662481048315,0.0677466869294803,0.07533802436268024,0.08363063105291658,0.09267049894283955,0.10250442399281001,0.11317974173294672,0.1247440294543252,0.13724477485093353,0.1507290113439497,0.16524292078009375,0.18083140469259978,0.19753762584211407,0.2154025223098401,0.2344642969897423,0.2547578859128249,0.27631440942569135,0.29916061082815465,0.32331828764031273,0.348803721207264,0.37562711084816963,0.4037920192040974,0.4332948358243684,0.4641242663426112,0.49626085482048626,0.5296765469688643,0.5643343019839474,0.6001877606514293,0.6371809771688675,0.6752482218102278,0.7143138611043212,0.7542923216199159,0.7950881427463267,0.8365961230332819,0.8787015637143599,0.9212806119932114,0.9642007055325312,1.0073211183660857,1.0504936071698727,1.0935631554976648,1.1363688122282989,1.1787446191081712,1.2205206209245067,1.2615239505358333,1.301579979738598,1.3405135257857597,1.3781501023164955,1.414317202526744,1.4488456016274647,1.4815706650184615,1.512333648165192,1.5409829739161713,1.5673754729482283,1.5913775731815136,1.6128664243676802,1.6317309446213806,1.647872776431597,1.6612071406462965,1.6716635780587263,1.6791865695202974,1.683736026944331,1.6852876491250708,1.6838331379530855,1.6793802723354379,1.6719528388992781,1.66159042034259,1.648348044067022,1.632295695456816,1.613517701827263,1.5921119946297504,1.5681892589440594,1.5418719805901258,1.513293402331803,1.4825964016080944,1.4499323030000386,1.415459639214686,1.3793428747358365,1.3417511064524847,1.3028567555321746,1.262834264562931,1.2218588135530328,1.180105067764398,1.1377459695775458,1.09495158566114,1.0518880196662097,1.0087163995051336,0.965591947030371,0.9226631366204054,0.8800709478333737,0.8379482159251199,0.7964190826699996,0.7555985485907336,0.7155921264175963,0.6764955943752142,0.638394846753169,0.6013658381683012,0.5654746169835217,0.5307774425191263,0.4973209799846528,0.46514256647628205,0.434270540928461,0.4047246305781736,0.3765163862934326,0.3496496590294425,0.32412110970007746,0.29992074488091625,0.2770324709839181,0.2554346598527372,0.23510071911075106,0.21599966103976845,0.19809666426445446,0.18135362305418357,0.165729679618947,0.15118173535812232,0.13766493761004797,0.12513313903677978,0.11353932735341045,0.10283602366708482,0.09297564822054556,0.0839108528329574,0.07559481979217729,0.06798152737395619,0.06102598254213471,0.05468442171811072,0.04891448079697269,0.043675335831817076,0.038927816007749534,0.03463449068442819,0.030759732402804153,0.027269757830494686,0.024132648663889214,0.02131835451681741,0.01879867980876989],\"type\":\"scatter\",\"xaxis\":\"x2\",\"yaxis\":\"y2\"},{\"histnorm\":\"probability density\",\"name\":\"\\u003cbr\\u003eModel 3:\\u003cbr\\u003eLong Wait Data\",\"x\":[-0.5912450048481221,-0.6244543185739646,0.06120617162289044,0.08793175985839685,-0.8717938283771098,-0.12179382837711028,-0.508035691122279,0.055513132406709964,0.3217224461325534,0.37496430887772103,0.058754995151877765,-0.69448686759329,-0.6566636322998076,0.5755456814260356,-0.7782775538674467,0.03202940691637224,-0.2944868675932901,0.2417549951518776,0.3893038186808666,0.36927126966154056,-0.2163892205353135,-0.20500314210295212,-0.1244543185739646,0.5949968578970477,0.07741548534873299,0.11199685789704716,0.14196430887772138,0.6223038186808671,-1.0612775538674466,0.3431270539743494,0.30148058338738437,0.7957875441712039,0.010415485348732823,0.5949968578970477,0.5047224461325532,-0.10017990680947042,-1.822872946025651,0.4692712696615411,0.03223872064221567,0.07496430887772121,0.4684805833873842,-0.3991007891609293,0.0225131324067096,0.55551313240671,-1.4696310832804822,0.789303818680867,-0.2985194166126153,0.30875499515187776,0.1828200931905295,1.0160294069163722,0.42251313240670996,-0.16797059308362794,-0.7782775538674467,0.12878754417120408,0.0014805833873845486,0.3295782304453607,-0.9036310832804824,0.15630381868086696,0.3209317598583965,-0.10097059308362777,0.27899685789704787,-0.5185519656319411,-0.3725845146512672,0.67251313240671,0.43606195593569774,0.24196430887772102,-0.2542124558287959,0.5684805833873847,-0.24506824014160333,0.12172244613255323,-0.23476127935778468,0.2749643088777214,0.3314480343680586,-0.6017612793577847,0.7287875441712046,0.241173622603565,0.22575499515187758,0.3482387206422155,0.12820617162288972,-0.14831010288677327,0.3433363677001924,0.15227126966154092,-0.012068240141603681,-0.5177612793577846,0.16848058338738436,-0.055584514651267014,-0.21127755386744695,-0.32582637739643516,0.05148058338738437,0.41444803436805877,-0.45824500484812214,-0.05176127935778396,0.20148058338738473,0.7192712696615411,0.28202940691637224,0.3949968578970475,0.1138666618197437,0.9352712696615413,-0.09772873033845908,-1.1366310832804825,0.31523872064221514,-0.25017990680947033,0.22957823044536108,0.2152387206422155,-0.7628589264157615,-0.6918263773964353,-0.3685519656319407,-0.31148686759329003,-0.0833892205353135,0.5320294069163722,0.3879317598583967,-0.22885892641576167,0.4852712696615411,-0.34390549504497603,-0.11776127935778469,0.04823872064221568,0.5893038186808668,-0.4717938283771099,0.20954568142603502,0.4852712696615411,-0.12827755386744677,-0.6112775538674469,0.2885131324067096,-0.3420356911222786,0.038722446132553046,0.5152387206422153,0.7490294069163719,-0.32503569112227915,-0.1317287303384589,-0.05176127935778396,-1.065310102886773,0.26827126966154147,0.5225131324067096,0.01848058338738401,-0.6193426519060976,0.45551313240670943,0.2692712696615409,-0.5750356911222787,0.12172244613255323,-1.4341799068094705,0.4619968578970477,-0.17121245582879574,-0.07287294602565098,0.1820294069163726,-0.09261706367059208,0.09902940691637241,-0.06451941661261529,0.4787875441712046,-0.1444868675932902,-0.07424500484812224,-0.06148686759329003,0.12251313240671013,0.1465782304453609,0.3587549951518776,0.31257823044536126,-0.33555196563194123,-0.2555845146512672,0.18527126966154128,-0.24124500484812206,-1.1568729460256506,0.14578754417120443,0.41444803436805877,0.11120617162289026,-0.49851941661261545,0.03548058338738436,-1.497147357790145,0.39254568142603485,0.07172244613255341,-0.34369618131913304,0.5893038186808668,-0.46206824014160297,-0.4210031421029523,0.09982009319052931,0.07172244613255341,0.09175499515187813,0.6225131324067101,0.10796430887772157,-0.12827755386744677,0.7457875441712041,-0.1677612793577845,-0.28858451465126755,0.5095456814260348],\"xbins\":{\"end\":1.95,\"size\":0.3,\"start\":-1.95},\"type\":\"histogram\",\"xaxis\":\"x3\",\"yaxis\":\"y3\"},{\"line\":{\"color\":\"black\",\"dash\":\"dot\",\"width\":2},\"mode\":\"lines\",\"name\":\"Normal Distribution\\u003cbr\\u003e(99.7% of its area)\",\"opacity\":0.5,\"x\":[-1.442309181937791,-1.4323091819377909,-1.4223091819377909,-1.4123091819377909,-1.4023091819377909,-1.3923091819377909,-1.3823091819377908,-1.3723091819377908,-1.3623091819377908,-1.3523091819377908,-1.3423091819377908,-1.3323091819377908,-1.3223091819377908,-1.3123091819377908,-1.3023091819377908,-1.2923091819377908,-1.2823091819377908,-1.2723091819377907,-1.2623091819377907,-1.2523091819377907,-1.2423091819377907,-1.2323091819377907,-1.2223091819377907,-1.2123091819377907,-1.2023091819377907,-1.1923091819377907,-1.1823091819377907,-1.1723091819377907,-1.1623091819377906,-1.1523091819377906,-1.1423091819377906,-1.1323091819377906,-1.1223091819377906,-1.1123091819377906,-1.1023091819377906,-1.0923091819377906,-1.0823091819377906,-1.0723091819377906,-1.0623091819377906,-1.0523091819377905,-1.0423091819377905,-1.0323091819377905,-1.0223091819377905,-1.0123091819377905,-1.0023091819377905,-0.9923091819377905,-0.9823091819377905,-0.9723091819377905,-0.9623091819377905,-0.9523091819377905,-0.9423091819377905,-0.9323091819377904,-0.9223091819377904,-0.9123091819377904,-0.9023091819377904,-0.8923091819377904,-0.8823091819377904,-0.8723091819377904,-0.8623091819377904,-0.8523091819377904,-0.8423091819377904,-0.8323091819377904,-0.8223091819377903,-0.8123091819377903,-0.8023091819377903,-0.7923091819377903,-0.7823091819377903,-0.7723091819377903,-0.7623091819377903,-0.7523091819377903,-0.7423091819377903,-0.7323091819377903,-0.7223091819377903,-0.7123091819377902,-0.7023091819377902,-0.6923091819377902,-0.6823091819377902,-0.6723091819377902,-0.6623091819377902,-0.6523091819377902,-0.6423091819377902,-0.6323091819377902,-0.6223091819377902,-0.6123091819377902,-0.6023091819377902,-0.5923091819377901,-0.5823091819377901,-0.5723091819377901,-0.5623091819377901,-0.5523091819377901,-0.5423091819377901,-0.5323091819377901,-0.5223091819377901,-0.5123091819377901,-0.5023091819377901,-0.49230918193779005,-0.48230918193779004,-0.47230918193779003,-0.46230918193779,-0.45230918193779,-0.44230918193779,-0.43230918193779,-0.42230918193779,-0.41230918193779,-0.40230918193779,-0.39230918193778996,-0.38230918193778995,-0.37230918193778995,-0.36230918193778994,-0.35230918193778993,-0.3423091819377899,-0.3323091819377899,-0.3223091819377899,-0.3123091819377899,-0.3023091819377899,-0.2923091819377899,-0.28230918193778987,-0.27230918193778986,-0.26230918193778985,-0.25230918193778984,-0.24230918193778983,-0.23230918193778982,-0.2223091819377898,-0.2123091819377898,-0.2023091819377898,-0.19230918193778979,-0.18230918193778978,-0.17230918193778977,-0.16230918193778976,-0.15230918193778975,-0.14230918193778974,-0.13230918193778973,-0.12230918193778972,-0.11230918193778971,-0.1023091819377897,-0.0923091819377897,-0.08230918193778969,-0.07230918193778968,-0.06230918193778967,-0.05230918193778966,-0.04230918193778965,-0.032309181937789644,-0.022309181937789635,-0.012309181937789626,-0.0023091819377896172,0.007690818062210392,0.0176908180622104,0.02769081806221041,0.03769081806221042,0.04769081806221043,0.057690818062210436,0.06769081806221044,0.07769081806221045,0.08769081806221046,0.09769081806221047,0.10769081806221048,0.11769081806221049,0.1276908180622105,0.1376908180622105,0.14769081806221052,0.15769081806221052,0.16769081806221053,0.17769081806221054,0.18769081806221055,0.19769081806221056,0.20769081806221057,0.21769081806221058,0.2276908180622106,0.2376908180622106,0.2476908180622106,0.2576908180622106,0.2676908180622106,0.27769081806221063,0.28769081806221064,0.29769081806221065,0.30769081806221066,0.31769081806221067,0.3276908180622107,0.3376908180622107,0.3476908180622107,0.3576908180622107,0.3676908180622107,0.3776908180622107,0.38769081806221073,0.39769081806221074,0.40769081806221075,0.41769081806221076,0.42769081806221076,0.4376908180622108,0.4476908180622108,0.4576908180622108,0.4676908180622108,0.4776908180622108,0.4876908180622108,0.4976908180622108,0.5076908180622108,0.5176908180622108,0.5276908180622109,0.5376908180622109,0.5476908180622109,0.5576908180622109,0.5676908180622107,0.5776908180622109,0.5876908180622111,0.5976908180622109,0.6076908180622107,0.6176908180622109,0.6276908180622112,0.637690818062211,0.6476908180622107,0.657690818062211,0.6676908180622112,0.677690818062211,0.6876908180622108,0.697690818062211,0.7076908180622112,0.717690818062211,0.7276908180622108,0.737690818062211,0.7476908180622113,0.7576908180622111,0.7676908180622108,0.7776908180622111,0.7876908180622113,0.7976908180622111,0.8076908180622109,0.8176908180622111,0.8276908180622113,0.8376908180622111,0.8476908180622109,0.8576908180622111,0.8676908180622114,0.8776908180622112,0.887690818062211,0.8976908180622112,0.9076908180622114,0.9176908180622112,0.927690818062211,0.9376908180622112,0.9476908180622114,0.9576908180622112,0.967690818062211,0.9776908180622113,0.9876908180622115,0.9976908180622113,1.007690818062211,1.0176908180622113,1.0276908180622115,1.0376908180622113,1.047690818062211,1.0576908180622113,1.0676908180622116,1.0776908180622113,1.0876908180622111,1.0976908180622114,1.1076908180622116,1.1176908180622114,1.1276908180622112,1.1376908180622114,1.1476908180622116,1.1576908180622114,1.1676908180622112,1.1776908180622114,1.1876908180622117,1.1976908180622114,1.2076908180622112,1.2176908180622115,1.2276908180622117,1.2376908180622115,1.2476908180622113,1.2576908180622115,1.2676908180622117,1.2776908180622115,1.2876908180622113,1.2976908180622115,1.3076908180622118,1.3176908180622116,1.3276908180622113,1.3376908180622116,1.3476908180622118,1.3576908180622116,1.3676908180622114,1.3776908180622116,1.3876908180622118,1.3976908180622116,1.4076908180622114,1.4176908180622116,1.4276908180622119,1.4376908180622117],\"y\":[0.009218235176143726,0.009809656156729381,0.010434506008823674,0.011094356297603554,0.01179083147770806,0.012525609339094034,0.013300421362054142,0.014117052974746264,0.014977343706471535,0.01588318722984359,0.016836531284916224,0.017839377478280058,0.01889378095010496,0.020001849902093385,0.021165744979322696,0.022387678498992994,0.023669913519163716,0.025014762740655304,0.026424587235417418,0.02790179499481999,0.02944883929151035,0.03106821684870054,0.03276246581100341,0.03453416351122665,0.036385924027858445,0.03832039552834214,0.040340257393636725,0.04244821711999638,0.04464700699437796,0.046939380540399506,0.04932810873232138,0.05181597597511266,0.054405775849291516,0.05710030661988955,0.05990236650959076,0.0628147487368295,0.06584023632039955,0.0689815966529269,0.07224157584639007,0.07562289285373418,0.07912823337150894,0.0827602435293775,0.08652152337327577,0.090414620149956,0.09444202140162179,0.09860614788034693,0.10290934629296421,0.10735388188811601,0.11194193089816254,0.11667557284965184,0.12155678275705252,0.12658742321544836,0.13176923640886748,0.13710383605188567,0.14259269928307966,0.14823715852982106,0.15403839336478323,0.15999742237537928,0.16611509506815178,0.1723920838308966,0.1788288759760095,0.18542576588919596,0.19218284730828028,0.19910000575737327,0.206176911162121,0.21341301067213742,0.22080752171703397,0.22835942532268222,0.23606745971448398,0.24393011423447603,0.2519456235990506,0.2601119625239342,0.26842684074283474,0.27688769844582134,0.285491702163069,0.29423574111905015,0.3031164240816043,0.31213007672956605,0.321272739561761,0.33054016636921385,0.33992782329133575,0.3494308884756763,0.35904425235954374,0.3687625185904089,0.378580005600525,0.3884907488496189,0.3984885037478322,0.40856674926933584,0.41871869226519703,0.4289372724821548,0.43921516829196905,0.4495448031339467,0.45991835267112285,0.47032775265841076,0.48076470751880007,0.4912206996214375,0.5016869992531224,0.5121546752724474,0.5226146064334802,0.5330574933635625,0.5434738711774635,0.5538541227078255,0.564188492329541,0.5744671003534468,0.5846799579625057,0.5948169826614803,0.6048680142090047,0.6148228309989211,0.6246711668558009,0.6344027282076992,0.6440072115974322,0.6534743214919972,0.6627937883482107,0.6719553868912197,0.6809489545612373,0.6897644100827004,0.698391772109028,0.7068211778952961,0.7150429019504235,0.7230473746199212,0.7308252005498571,0.7383671769824728,0.7456643118338313,0.7527078415039961,0.7594892483705326,0.7660002779165905,0.7722329554454663,0.7781796023343572,0.7838328517810039,0.7891856639980765,0.7942313408114747,0.7989635396201977,0.8033762866770847,0.80746398965151,0.8112214494370711,0.8146438711693719,0.8177268744212287,0.8204665025449548,0.8228592311338377,0.8249019755774775,0.8265920976883177,0.8279274113794423,0.8289061873765313,0.8295271569497618,0.8297895146543774,0.829692920071644,0.8292374985449181,0.8284238409086068,0.8272530022108332,0.825726499433679,0.8238463082178946,0.8216148586019787,0.8190350297884896,0.8161101439533683,0.8128439591169023,0.809240661097749,0.8053048545741259,0.8010415532788907,0.7964561693577316,0.791554501922081,0.7863427248306394,0.7808273737355322,0.7750153324311341,0.7689138185454517,0.762530368615673,0.7558728225910413,0.7489493078076157,0.7417682224807061,0.7343382187618368,0.7266681854079873,0.7187672301115738,0.710644661540192,0.7023099711355022,0.6937728147208472,0.6850429939672129,0.6761304377669991,0.6670451835647555,0.6577973586935583,0.6483971617650613,0.6388548441604656,0.6291806916686935,0.6193850063169709,0.6094780884377754,0.5994702190147525,0.589371642348705,0.5791925490831495,0.5689430596272214,0.5586332080118765,0.5482729262134415,0.537872028976549,0.527440199166437,0.5169869736784473,0.5065217299303628,0.49605367296099634,0.48559182315615235,0.47514500462079173,0.46472183421390334,0.4543307112602589,0.44397980795089653,0.43367706044186327,0.4234301606584399,0.4132465488098027,0.40313340661683444,0.3930976512536017,0.38314593000086694,0.3732846156079134,0.3635198023569435,0.3538573028223455,0.34430264531524707,0.33486107200197635,0.32553753768334365,0.31633670922002216,0.3072629655877877,0.29832039854494014,0.2895128138929054,0.28084373330978,0.2723163967354577,0.26393376528596296,0.25569852467369925,0.24761308910951707,0.2396796056618013,0.23189995904719116,0.22427577682705546,0.21680843498345828,0.20949906384806674,0.20234855435727384,0.19535756460671794,0.18852652667838976,0.18185565371361304,0.1753449472053746,0.16899420448374933,0.16280302636850955,0.15677082496343742,0.1508968315673549,0.14518010467744838,0.13961953806109154,0.13421386887304765,0.1289616857956774,0.1238614371805565,0.11891143917073457,0.1141098837837338,0.10945484693628488,0.10494429639272712,0.10057609961994904,0.09634803153271919,0.09225778211424468,0.08830296389779087,0.08448111929620257,0.0807897277671689,0.07722621280308252,0.07378794873534453,0.07047226734395313,0.06727646426419426,0.06419780518321634,0.06123353182021544,0.058380867684879344,0.05563702360963775,0.05299920305214264,0.05046460716524493,0.04803043963254901,0.04569391126841091,0.043452244381995,0.041302676905719746,0.039242466289103245,0.03726889315966118,0.03537926475311673,0.033570918115752114,0.031841223082259104,0.030187585032940497,0.028607447434568504,0.02709829416962389,0.025657651659018375,0.024283090783744604,0.02297222861120695,0.021722729932255273,0.020532308615180222,0.01939872878313167,0.018319805821591525,0.017293407222670296,0.01631745327310494,0.01538991759291409,0.01450882753171777,0.013672264429754236,0.012878363750625154,0.012125315092776751,0.011411362086678435,0.010734802184594114,0.010093986349754345,0.00948731865163388],\"type\":\"scatter\",\"xaxis\":\"x3\",\"yaxis\":\"y3\"},{\"histnorm\":\"probability density\",\"name\":\"\\u003cbr\\u003eModel 4:\\u003cbr\\u003eAll Data using indicator\",\"x\":[-0.6979302325581407,-0.2943300000000002,-0.9649302325581406,0.18866999999999967,0.2350697674418596,0.7886699999999998,0.4020697674418594,-0.6979302325581407,-0.1443300000000003,0.05206976744185887,-0.2613300000000003,-0.38093023255814096,-0.0979302325581406,-0.34433000000000025,0.4020697674418594,0.07266999999999957,-0.34433000000000025,0.502069767441859,-0.49433000000000016,-0.04793023255814077,-0.2943300000000002,-0.34433000000000025,-0.8479302325581406,-1.2309302325581406,0.2350697674418596,-0.6979302325581407,-0.12733000000000017,-0.2149302325581406,-0.4479302325581407,0.13506976744185906,0.0020697674418590495,0.16906976744185886,1.2726699999999997,-0.2649302325581404,-0.4649302325581406,-0.07733000000000034,-0.22733000000000025,0.5350697674418594,-0.2613300000000003,0.4850697674418596,0.05206976744185887,-0.21133000000000024,0.2690697674418594,-0.34433000000000025,0.2350697674418596,-0.9809302325581406,1.73867,0.005669999999999842,0.33506976744185923,-0.09433000000000025,0.502069767441859,0.4180697674418594,-0.2613300000000003,0.5350697674418594,-0.36133000000000015,0.5850697674418592,-0.5809302325581407,-0.42733000000000043,0.2690697674418594,0.019069767441859398,0.13866999999999985,0.20206976744185923,-0.34433000000000025,0.502069767441859,-0.2773300000000003,0.10206976744185958,-0.13093023255814096,0.4020697674418594,-0.027330000000000076,0.4020697674418594,-0.2649302325581404,-0.12733000000000017,0.20206976744185923,-0.2979302325581408,-0.11133000000000015,0.7690697674418594,-0.07733000000000034,0.2690697674418594,-0.41493023255814077,-0.6979302325581407,-0.16493023255814077,0.03506976744185941,-0.19793023255814113,0.5386699999999998,-0.2309302325581406,0.6350697674418591,-0.3479302325581406,0.21906976744185958,0.07266999999999957,-0.2979302325581408,0.10566999999999993,0.03506976744185941,-0.22733000000000025,0.5190697674418594,-0.2613300000000003,0.0020697674418590495,0.36906976744185904,-0.5479302325581408,-0.22733000000000025,0.6020697674418596,0.38866999999999985,0.06906976744185922,0.005669999999999842,0.20206976744185923,-0.24793023255814095,-0.22733000000000025,0.4020697674418594,-0.31133000000000033,0.5520697674418589,-0.6149302325581409,0.43506976744185977,0.20566999999999958,0.6020697674418596,0.11906976744185904,-0.3943300000000003,0.33506976744185923,0.22266999999999992,0.30206976744185887,-0.2773300000000003,0.11906976744185904,0.5226699999999997,-0.2309302325581406,-0.04793023255814077,-0.12733000000000017,0.30206976744185887,-0.5309302325581409,-0.1773300000000002,0.20206976744185923,0.17266999999999966,0.3520697674418596,-0.22733000000000025,-0.13093023255814096,0.7056699999999996,0.03506976744185941,-0.2613300000000003,0.08506976744185923,-0.21133000000000024,0.6350697674418591,-0.06133000000000033,-0.5649302325581407,-0.06493023255814023,0.13866999999999985,0.2350697674418596,0.5190697674418594,0.03506976744185941,-0.11133000000000015,0.33506976744185923,-0.07733000000000034,0.8020697674418589,-0.2943300000000002,0.7350697674418596,-0.2979302325581408,0.30566999999999966,0.30206976744185887,-0.7309302325581406,-0.2979302325581408,0.20206976744185923,-0.2149302325581406,-0.2943300000000002,-0.3309302325581407,0.10566999999999993,-0.14793023255814042,-0.09433000000000025,-0.4649302325581406,1.4056699999999998,0.2850697674418594,0.27266999999999975,0.7020697674418592,-0.1613300000000002,0.3190697674418592,-0.1773300000000002,-0.011330000000000062,0.2850697674418594,-0.9649302325581406,-0.13093023255814096,0.03506976744185941,0.20206976744185923,0.32266999999999957,-0.2979302325581408,-0.13093023255814096,-0.21133000000000024,0.2850697674418594,-0.04793023255814077,-0.5309302325581409,-0.06133000000000033,0.13506976744185906,-0.2149302325581406,-0.2613300000000003,0.11906976744185904,0.08867000000000003,0.502069767441859,-0.2613300000000003,0.502069767441859,-0.19793023255814113,-0.3319302325581406,-0.06493023255814023,-0.7979302325581408,0.06806976744185977,0.15566999999999975,0.36906976744185904,0.005669999999999842,0.05206976744185887,-0.16493023255814077,-0.22733000000000025,0.30206976744185887,-0.31133000000000033,0.06906976744185922,-0.4479302325581407,-0.1613300000000002,0.20206976744185923,-1.9149302325581408,0.4020697674418594,-0.22733000000000025,-0.4649302325581406,1.3226699999999996,-0.06493023255814023,0.30566999999999966,0.502069767441859,-0.09433000000000025,-0.14793023255814042,-0.22733000000000025,-0.030930232558140425,-0.34433000000000025,0.18506976744185977,-0.2979302325581408,-0.18093023255814078,-0.2149302325581406,-0.030930232558140425,-0.38093023255814096,0.25206976744185905,-0.2149302325581406,0.32266999999999957,-0.11493023255814094,0.12266999999999983,0.1520697674418594,-0.21133000000000024,-0.24433000000000016,-0.01493023255814041,-0.3479302325581406,0.23866999999999994,-0.14793023255814042,0.25566999999999984,0.6350697674418591,0.8056699999999997,0.2850697674418594,-0.4649302325581406,-0.011330000000000062,0.06906976744185922,0.03866999999999976,0.05206976744185887,0.10566999999999993,0.1520697674418594,-0.7309302325581406,0.20206976744185923,-0.14793023255814042,-0.4809302325581406,-0.38093023255814096,0.1520697674418594,-0.09433000000000025,-0.01493023255814041,0.4690697674418596,0.2350697674418596,-0.24433000000000016,-0.04793023255814077,-0.11133000000000015,0.15566999999999975,0.4520697674418592,-0.18093023255814078,0.055669999999999664,0.11906976744185904,-0.2773300000000003,0.16906976744185886],\"xbins\":{\"end\":1.95,\"size\":0.3,\"start\":-1.95},\"type\":\"histogram\",\"xaxis\":\"x4\",\"yaxis\":\"y4\"},{\"line\":{\"color\":\"black\",\"dash\":\"dot\",\"width\":2},\"mode\":\"lines\",\"name\":\"Normal Distribution\\u003cbr\\u003e(99.7% of its area)\",\"opacity\":0.5,\"x\":[-1.2356963309582187,-1.2256963309582187,-1.2156963309582187,-1.2056963309582187,-1.1956963309582187,-1.1856963309582187,-1.1756963309582187,-1.1656963309582187,-1.1556963309582187,-1.1456963309582187,-1.1356963309582186,-1.1256963309582186,-1.1156963309582186,-1.1056963309582186,-1.0956963309582186,-1.0856963309582186,-1.0756963309582186,-1.0656963309582186,-1.0556963309582186,-1.0456963309582186,-1.0356963309582186,-1.0256963309582185,-1.0156963309582185,-1.0056963309582185,-0.9956963309582185,-0.9856963309582185,-0.9756963309582185,-0.9656963309582185,-0.9556963309582185,-0.9456963309582185,-0.9356963309582185,-0.9256963309582185,-0.9156963309582185,-0.9056963309582184,-0.8956963309582184,-0.8856963309582184,-0.8756963309582184,-0.8656963309582184,-0.8556963309582184,-0.8456963309582184,-0.8356963309582184,-0.8256963309582184,-0.8156963309582184,-0.8056963309582184,-0.7956963309582183,-0.7856963309582183,-0.7756963309582183,-0.7656963309582183,-0.7556963309582183,-0.7456963309582183,-0.7356963309582183,-0.7256963309582183,-0.7156963309582183,-0.7056963309582183,-0.6956963309582183,-0.6856963309582182,-0.6756963309582182,-0.6656963309582182,-0.6556963309582182,-0.6456963309582182,-0.6356963309582182,-0.6256963309582182,-0.6156963309582182,-0.6056963309582182,-0.5956963309582182,-0.5856963309582182,-0.5756963309582181,-0.5656963309582181,-0.5556963309582181,-0.5456963309582181,-0.5356963309582181,-0.5256963309582181,-0.5156963309582181,-0.5056963309582181,-0.4956963309582181,-0.48569633095821807,-0.47569633095821806,-0.46569633095821805,-0.45569633095821804,-0.44569633095821803,-0.435696330958218,-0.425696330958218,-0.415696330958218,-0.405696330958218,-0.395696330958218,-0.385696330958218,-0.37569633095821797,-0.36569633095821796,-0.35569633095821795,-0.34569633095821795,-0.33569633095821794,-0.32569633095821793,-0.3156963309582179,-0.3056963309582179,-0.2956963309582179,-0.2856963309582179,-0.2756963309582179,-0.2656963309582179,-0.25569633095821787,-0.24569633095821786,-0.23569633095821785,-0.22569633095821784,-0.21569633095821783,-0.20569633095821782,-0.1956963309582178,-0.1856963309582178,-0.1756963309582178,-0.16569633095821779,-0.15569633095821778,-0.14569633095821777,-0.13569633095821776,-0.12569633095821775,-0.11569633095821774,-0.10569633095821773,-0.09569633095821772,-0.08569633095821771,-0.0756963309582177,-0.0656963309582177,-0.05569633095821769,-0.04569633095821768,-0.03569633095821767,-0.02569633095821766,-0.015696330958217652,-0.005696330958217644,0.004303669041782365,0.014303669041782374,0.024303669041782383,0.03430366904178239,0.0443036690417824,0.05430366904178241,0.06430366904178242,0.07430366904178243,0.08430366904178244,0.09430366904178245,0.10430366904178245,0.11430366904178246,0.12430366904178247,0.13430366904178248,0.1443036690417825,0.1543036690417825,0.1643036690417825,0.17430366904178252,0.18430366904178253,0.19430366904178253,0.20430366904178254,0.21430366904178255,0.22430366904178256,0.23430366904178257,0.24430366904178258,0.2543036690417826,0.2643036690417826,0.2743036690417826,0.2843036690417826,0.2943036690417826,0.30430366904178263,0.31430366904178264,0.32430366904178265,0.33430366904178266,0.34430366904178267,0.3543036690417827,0.3643036690417827,0.3743036690417827,0.3843036690417827,0.3943036690417827,0.4043036690417827,0.41430366904178273,0.42430366904178274,0.43430366904178275,0.44430366904178276,0.45430366904178276,0.4643036690417828,0.4743036690417828,0.4843036690417828,0.4943036690417828,0.5043036690417828,0.5143036690417828,0.5243036690417828,0.5343036690417828,0.5443036690417828,0.5543036690417829,0.5643036690417829,0.5743036690417829,0.5843036690417829,0.5943036690417829,0.6043036690417829,0.6143036690417829,0.6243036690417829,0.6343036690417829,0.6443036690417829,0.6543036690417829,0.664303669041783,0.674303669041783,0.684303669041783,0.694303669041783,0.704303669041783,0.714303669041783,0.724303669041783,0.734303669041783,0.744303669041783,0.754303669041783,0.764303669041783,0.7743036690417828,0.7843036690417831,0.7943036690417833,0.8043036690417831,0.8143036690417829,0.8243036690417831,0.8343036690417833,0.8443036690417831,0.8543036690417829,0.8643036690417831,0.8743036690417834,0.8843036690417831,0.8943036690417829,0.9043036690417832,0.9143036690417834,0.9243036690417832,0.934303669041783,0.9443036690417832,0.9543036690417834,0.9643036690417832,0.974303669041783,0.9843036690417832,0.9943036690417835,1.0043036690417833,1.014303669041783,1.0243036690417833,1.0343036690417835,1.0443036690417833,1.054303669041783,1.0643036690417833,1.0743036690417835,1.0843036690417833,1.0943036690417831,1.1043036690417833,1.1143036690417836,1.1243036690417834,1.1343036690417831,1.1443036690417834,1.1543036690417836,1.1643036690417834,1.1743036690417832,1.1843036690417834,1.1943036690417836,1.2043036690417834,1.2143036690417832,1.2243036690417834,1.2343036690417837],\"y\":[0.010759557103729535,0.011569046364750825,0.012432107304071925,0.013351681380178108,0.014330824962518165,0.015372710363650696,0.016480626593458756,0.017657979812295183,0.01890829345951763,0.020235208033555503,0.02164248049942659,0.0231339832994997,0.024713702943286703,0.026385738152150614,0.02815429753504737,0.030023696771778154,0.031998355280731125,0.034082792348736346,0.03628162270145778,0.038599551493701756,0.041041368700140836,0.04361194288824105,0.04631621435663785,0.04915918762384055,0.05214592325395582,0.05528152900810914,0.0585711503124085,0.06201996003564133,0.06563314757241298,0.06941590723012697,0.07337342592106816,0.0775108701638714,0.08183337240183293,0.08634601664885047,0.09105382347723423,0.09596173436522082,0.10107459542572303,0.10639714054164846,0.11193397393700391,0.11768955221695863,0.12366816591404108,0.1298739205816763,0.13631071748032095,0.1429822339054826,0.14989190321091322,0.15704289458421145,0.16443809263593126,0.17208007686705235,0.17997110108329434,0.18811307282822706,0.19650753291041143,0.2051556351028861,0.214058126096149,0.2232153257883624,0.2326271079987991,0.24229288169251945,0.2522115728059084,0.2623816067639773,0.2728008917812265,0.2834668030383526,0.29437616782715287,0.3055252517555944,0.3169097461041908,0.3285247564235189,0.34036479246092555,0.35242375950219823,0.3646949512112016,0.37717104404720786,0.38984409333588305,0.4027055310656123,0.4157461654760949,0.42895618250088813,0.44232514911986337,0.4558420186713653,0.4694951381672537,0.48327225764697584,0.4971605415994006,0.5111465824733599,0.5252164162897235,0.5393555403594189,0.5535489331031279,0.5677810759594847,0.5820359773595174,0.5962971987358525,0.6105478825258805,0.6247707821187244,0.6389482936864933,0.6530624898310058,0.6670951549679607,0.681027822361513,0.694841812713361,0.7085182742019049,0.7220382238587693,0.7353825901620982,0.748532256718556,0.7614681068989527,0.7741710692859075,0.7866221637860138,0.7988025482536131,0.8106935654685588,0.8222767903063029,0.8335340769352859,0.8444476058739914,0.8549999307381677,0.865174024507632,0.874953325141785,0.8843217803734793,0.8932638915122164,0.9017647560897945,0.9098101091844943,0.917386363263655,0.9244806463890687,0.9310808386349577,0.9371756065744173,0.9427544356970337,0.9478076606279322,0.9523264930267242,0.9563030470536446,0.9597303622996032,0.9626024240868317,0.9649141810572505,0.9666615599765646,0.9678414776933646,0.9684518502040801,0.968491598786483,0.9679606531764715,0.9668599517750414,0.965191438884589,0.9629580589859411,0.9601637480796886,0.9568134221274658,0.9529129626406847,0.9484691994758614,0.9434898909069751,0.9379837010562434,0.9319601747752055,0.9254297100780391,0.9184035282385327,0.9108936416710578,0.9029128197241805,0.8944745525231903,0.8855930130047602,0.8762830172931637,0.8665599835729236,0.8564398896174535,0.8459392291371245,0.8350749671132724,0.823864494286924,0.8123255809724558,0.8004763303670398,0.7883351315265461,0.7759206121775988,0.763251591533729,0.7503470332810537,0.7372259988956561,0.7239076014508933,0.7104109600682188,0.6967551551598398,0.6829591846056594,0.6690419210005208,0.6550220701008272,0.6409181305921952,0.6267483552919688,0.6125307138922106,0.5982828573402617,0.5840220839451681,0.569765307289259,0.55552902601498,0.5413292955478031,0.5271817018066718,0.5131013369440882,0.49910277714861434,0.4852000625333226,0.47140667912462825,0.45773554295699603,0.44419898627030663,0.4308087457982109,0.4175759531276355,0.404511127101776,0.3916241682314356,0.3789243550724867,0.36642034252055933,0.35412016196782664,0.34203122326097146,0.3301603183941149,0.31851362686564666,0.3070967226235669,0.2959145825201064,0.28497159619304535,0.2742715772883166,0.2638177759361287,0.25361289239099605,0.24365909174468817,0.23395801962021648,0.2245108187545331,0.21531814637762267,0.20638019229609958,0.1976966975902553,0.1892669738347304,0.18108992275457036,0.17316405623035283,0.1654875165683242,0.1580580969540163,0.15087326201062448,0.1439301683864638,0.13722568529908635,0.13075641496708434,0.12451871286420978,0.11850870773418037,0.11272232130839564,0.1071552876727229,0.10180317223350069,0.09666139023694392,0.09172522480017968,0.0869898444161769,0.08245031989884546,0.07810164073853676,0.07393873084207828,0.06995646363528615,0.06614967650961567,0.06251318459821084,0.05904179387009756,0.05573031353460787,0.052573567751317656,0.049566406643826944,0.04670371661859362,0.043980429992747955,0.04139153393735664,0.03893207874497573,0.03659718543252229,0.03438205269250882,0.03228196320751935,0.030292289344463062,0.028408498246626116,0.02662615634285414,0.02494093329433815,0.023348605400457797,0.021845058485955214,0.020426290292380904,0.01908841239727195,0.017827651684903714,0.016640351392703888,0.01552297175753797,0.014472090286079048,0.013484401673366337,0.012556717393447926,0.011685964985698124,0.010869187060008157],\"type\":\"scatter\",\"xaxis\":\"x4\",\"yaxis\":\"y4\"}],                        {\"template\":{\"data\":{\"histogram2dcontour\":[{\"type\":\"histogram2dcontour\",\"colorbar\":{\"outlinewidth\":0,\"ticks\":\"\"},\"colorscale\":[[0.0,\"#0d0887\"],[0.1111111111111111,\"#46039f\"],[0.2222222222222222,\"#7201a8\"],[0.3333333333333333,\"#9c179e\"],[0.4444444444444444,\"#bd3786\"],[0.5555555555555556,\"#d8576b\"],[0.6666666666666666,\"#ed7953\"],[0.7777777777777778,\"#fb9f3a\"],[0.8888888888888888,\"#fdca26\"],[1.0,\"#f0f921\"]]}],\"choropleth\":[{\"type\":\"choropleth\",\"colorbar\":{\"outlinewidth\":0,\"ticks\":\"\"}}],\"histogram2d\":[{\"type\":\"histogram2d\",\"colorbar\":{\"outlinewidth\":0,\"ticks\":\"\"},\"colorscale\":[[0.0,\"#0d0887\"],[0.1111111111111111,\"#46039f\"],[0.2222222222222222,\"#7201a8\"],[0.3333333333333333,\"#9c179e\"],[0.4444444444444444,\"#bd3786\"],[0.5555555555555556,\"#d8576b\"],[0.6666666666666666,\"#ed7953\"],[0.7777777777777778,\"#fb9f3a\"],[0.8888888888888888,\"#fdca26\"],[1.0,\"#f0f921\"]]}],\"heatmap\":[{\"type\":\"heatmap\",\"colorbar\":{\"outlinewidth\":0,\"ticks\":\"\"},\"colorscale\":[[0.0,\"#0d0887\"],[0.1111111111111111,\"#46039f\"],[0.2222222222222222,\"#7201a8\"],[0.3333333333333333,\"#9c179e\"],[0.4444444444444444,\"#bd3786\"],[0.5555555555555556,\"#d8576b\"],[0.6666666666666666,\"#ed7953\"],[0.7777777777777778,\"#fb9f3a\"],[0.8888888888888888,\"#fdca26\"],[1.0,\"#f0f921\"]]}],\"heatmapgl\":[{\"type\":\"heatmapgl\",\"colorbar\":{\"outlinewidth\":0,\"ticks\":\"\"},\"colorscale\":[[0.0,\"#0d0887\"],[0.1111111111111111,\"#46039f\"],[0.2222222222222222,\"#7201a8\"],[0.3333333333333333,\"#9c179e\"],[0.4444444444444444,\"#bd3786\"],[0.5555555555555556,\"#d8576b\"],[0.6666666666666666,\"#ed7953\"],[0.7777777777777778,\"#fb9f3a\"],[0.8888888888888888,\"#fdca26\"],[1.0,\"#f0f921\"]]}],\"contourcarpet\":[{\"type\":\"contourcarpet\",\"colorbar\":{\"outlinewidth\":0,\"ticks\":\"\"}}],\"contour\":[{\"type\":\"contour\",\"colorbar\":{\"outlinewidth\":0,\"ticks\":\"\"},\"colorscale\":[[0.0,\"#0d0887\"],[0.1111111111111111,\"#46039f\"],[0.2222222222222222,\"#7201a8\"],[0.3333333333333333,\"#9c179e\"],[0.4444444444444444,\"#bd3786\"],[0.5555555555555556,\"#d8576b\"],[0.6666666666666666,\"#ed7953\"],[0.7777777777777778,\"#fb9f3a\"],[0.8888888888888888,\"#fdca26\"],[1.0,\"#f0f921\"]]}],\"surface\":[{\"type\":\"surface\",\"colorbar\":{\"outlinewidth\":0,\"ticks\":\"\"},\"colorscale\":[[0.0,\"#0d0887\"],[0.1111111111111111,\"#46039f\"],[0.2222222222222222,\"#7201a8\"],[0.3333333333333333,\"#9c179e\"],[0.4444444444444444,\"#bd3786\"],[0.5555555555555556,\"#d8576b\"],[0.6666666666666666,\"#ed7953\"],[0.7777777777777778,\"#fb9f3a\"],[0.8888888888888888,\"#fdca26\"],[1.0,\"#f0f921\"]]}],\"mesh3d\":[{\"type\":\"mesh3d\",\"colorbar\":{\"outlinewidth\":0,\"ticks\":\"\"}}],\"scatter\":[{\"fillpattern\":{\"fillmode\":\"overlay\",\"size\":10,\"solidity\":0.2},\"type\":\"scatter\"}],\"parcoords\":[{\"type\":\"parcoords\",\"line\":{\"colorbar\":{\"outlinewidth\":0,\"ticks\":\"\"}}}],\"scatterpolargl\":[{\"type\":\"scatterpolargl\",\"marker\":{\"colorbar\":{\"outlinewidth\":0,\"ticks\":\"\"}}}],\"bar\":[{\"error_x\":{\"color\":\"#2a3f5f\"},\"error_y\":{\"color\":\"#2a3f5f\"},\"marker\":{\"line\":{\"color\":\"#E5ECF6\",\"width\":0.5},\"pattern\":{\"fillmode\":\"overlay\",\"size\":10,\"solidity\":0.2}},\"type\":\"bar\"}],\"scattergeo\":[{\"type\":\"scattergeo\",\"marker\":{\"colorbar\":{\"outlinewidth\":0,\"ticks\":\"\"}}}],\"scatterpolar\":[{\"type\":\"scatterpolar\",\"marker\":{\"colorbar\":{\"outlinewidth\":0,\"ticks\":\"\"}}}],\"histogram\":[{\"marker\":{\"pattern\":{\"fillmode\":\"overlay\",\"size\":10,\"solidity\":0.2}},\"type\":\"histogram\"}],\"scattergl\":[{\"type\":\"scattergl\",\"marker\":{\"colorbar\":{\"outlinewidth\":0,\"ticks\":\"\"}}}],\"scatter3d\":[{\"type\":\"scatter3d\",\"line\":{\"colorbar\":{\"outlinewidth\":0,\"ticks\":\"\"}},\"marker\":{\"colorbar\":{\"outlinewidth\":0,\"ticks\":\"\"}}}],\"scattermapbox\":[{\"type\":\"scattermapbox\",\"marker\":{\"colorbar\":{\"outlinewidth\":0,\"ticks\":\"\"}}}],\"scatterternary\":[{\"type\":\"scatterternary\",\"marker\":{\"colorbar\":{\"outlinewidth\":0,\"ticks\":\"\"}}}],\"scattercarpet\":[{\"type\":\"scattercarpet\",\"marker\":{\"colorbar\":{\"outlinewidth\":0,\"ticks\":\"\"}}}],\"carpet\":[{\"aaxis\":{\"endlinecolor\":\"#2a3f5f\",\"gridcolor\":\"white\",\"linecolor\":\"white\",\"minorgridcolor\":\"white\",\"startlinecolor\":\"#2a3f5f\"},\"baxis\":{\"endlinecolor\":\"#2a3f5f\",\"gridcolor\":\"white\",\"linecolor\":\"white\",\"minorgridcolor\":\"white\",\"startlinecolor\":\"#2a3f5f\"},\"type\":\"carpet\"}],\"table\":[{\"cells\":{\"fill\":{\"color\":\"#EBF0F8\"},\"line\":{\"color\":\"white\"}},\"header\":{\"fill\":{\"color\":\"#C8D4E3\"},\"line\":{\"color\":\"white\"}},\"type\":\"table\"}],\"barpolar\":[{\"marker\":{\"line\":{\"color\":\"#E5ECF6\",\"width\":0.5},\"pattern\":{\"fillmode\":\"overlay\",\"size\":10,\"solidity\":0.2}},\"type\":\"barpolar\"}],\"pie\":[{\"automargin\":true,\"type\":\"pie\"}]},\"layout\":{\"autotypenumbers\":\"strict\",\"colorway\":[\"#636efa\",\"#EF553B\",\"#00cc96\",\"#ab63fa\",\"#FFA15A\",\"#19d3f3\",\"#FF6692\",\"#B6E880\",\"#FF97FF\",\"#FECB52\"],\"font\":{\"color\":\"#2a3f5f\"},\"hovermode\":\"closest\",\"hoverlabel\":{\"align\":\"left\"},\"paper_bgcolor\":\"white\",\"plot_bgcolor\":\"#E5ECF6\",\"polar\":{\"bgcolor\":\"#E5ECF6\",\"angularaxis\":{\"gridcolor\":\"white\",\"linecolor\":\"white\",\"ticks\":\"\"},\"radialaxis\":{\"gridcolor\":\"white\",\"linecolor\":\"white\",\"ticks\":\"\"}},\"ternary\":{\"bgcolor\":\"#E5ECF6\",\"aaxis\":{\"gridcolor\":\"white\",\"linecolor\":\"white\",\"ticks\":\"\"},\"baxis\":{\"gridcolor\":\"white\",\"linecolor\":\"white\",\"ticks\":\"\"},\"caxis\":{\"gridcolor\":\"white\",\"linecolor\":\"white\",\"ticks\":\"\"}},\"coloraxis\":{\"colorbar\":{\"outlinewidth\":0,\"ticks\":\"\"}},\"colorscale\":{\"sequential\":[[0.0,\"#0d0887\"],[0.1111111111111111,\"#46039f\"],[0.2222222222222222,\"#7201a8\"],[0.3333333333333333,\"#9c179e\"],[0.4444444444444444,\"#bd3786\"],[0.5555555555555556,\"#d8576b\"],[0.6666666666666666,\"#ed7953\"],[0.7777777777777778,\"#fb9f3a\"],[0.8888888888888888,\"#fdca26\"],[1.0,\"#f0f921\"]],\"sequentialminus\":[[0.0,\"#0d0887\"],[0.1111111111111111,\"#46039f\"],[0.2222222222222222,\"#7201a8\"],[0.3333333333333333,\"#9c179e\"],[0.4444444444444444,\"#bd3786\"],[0.5555555555555556,\"#d8576b\"],[0.6666666666666666,\"#ed7953\"],[0.7777777777777778,\"#fb9f3a\"],[0.8888888888888888,\"#fdca26\"],[1.0,\"#f0f921\"]],\"diverging\":[[0,\"#8e0152\"],[0.1,\"#c51b7d\"],[0.2,\"#de77ae\"],[0.3,\"#f1b6da\"],[0.4,\"#fde0ef\"],[0.5,\"#f7f7f7\"],[0.6,\"#e6f5d0\"],[0.7,\"#b8e186\"],[0.8,\"#7fbc41\"],[0.9,\"#4d9221\"],[1,\"#276419\"]]},\"xaxis\":{\"gridcolor\":\"white\",\"linecolor\":\"white\",\"ticks\":\"\",\"title\":{\"standoff\":15},\"zerolinecolor\":\"white\",\"automargin\":true,\"zerolinewidth\":2},\"yaxis\":{\"gridcolor\":\"white\",\"linecolor\":\"white\",\"ticks\":\"\",\"title\":{\"standoff\":15},\"zerolinecolor\":\"white\",\"automargin\":true,\"zerolinewidth\":2},\"scene\":{\"xaxis\":{\"backgroundcolor\":\"#E5ECF6\",\"gridcolor\":\"white\",\"linecolor\":\"white\",\"showbackground\":true,\"ticks\":\"\",\"zerolinecolor\":\"white\",\"gridwidth\":2},\"yaxis\":{\"backgroundcolor\":\"#E5ECF6\",\"gridcolor\":\"white\",\"linecolor\":\"white\",\"showbackground\":true,\"ticks\":\"\",\"zerolinecolor\":\"white\",\"gridwidth\":2},\"zaxis\":{\"backgroundcolor\":\"#E5ECF6\",\"gridcolor\":\"white\",\"linecolor\":\"white\",\"showbackground\":true,\"ticks\":\"\",\"zerolinecolor\":\"white\",\"gridwidth\":2}},\"shapedefaults\":{\"line\":{\"color\":\"#2a3f5f\"}},\"annotationdefaults\":{\"arrowcolor\":\"#2a3f5f\",\"arrowhead\":0,\"arrowwidth\":1},\"geo\":{\"bgcolor\":\"white\",\"landcolor\":\"#E5ECF6\",\"subunitcolor\":\"white\",\"showland\":true,\"showlakes\":true,\"lakecolor\":\"white\"},\"title\":{\"x\":0.05},\"mapbox\":{\"style\":\"light\"}}},\"xaxis\":{\"anchor\":\"y\",\"domain\":[0.0,0.45],\"title\":{\"text\":\"n=272\"},\"range\":[-2,2]},\"yaxis\":{\"anchor\":\"x\",\"domain\":[0.625,1.0]},\"xaxis2\":{\"anchor\":\"y2\",\"domain\":[0.55,1.0],\"title\":{\"text\":\"n=83\"},\"range\":[-2,2]},\"yaxis2\":{\"anchor\":\"x2\",\"domain\":[0.625,1.0]},\"xaxis3\":{\"anchor\":\"y3\",\"domain\":[0.0,0.45],\"title\":{\"text\":\"n=182\"},\"range\":[-2,2]},\"yaxis3\":{\"anchor\":\"x3\",\"domain\":[0.0,0.375]},\"xaxis4\":{\"anchor\":\"y4\",\"domain\":[0.55,1.0],\"title\":{\"text\":\"n=272\"},\"range\":[-2,2]},\"yaxis4\":{\"anchor\":\"x4\",\"domain\":[0.0,0.375]},\"annotations\":[{\"font\":{\"size\":16},\"showarrow\":false,\"text\":\"\\u003cbr\\u003eModel 1:\\u003cbr\\u003eAll Data using slope\",\"x\":0.225,\"xanchor\":\"center\",\"xref\":\"paper\",\"y\":1.0,\"yanchor\":\"bottom\",\"yref\":\"paper\"},{\"font\":{\"size\":16},\"showarrow\":false,\"text\":\"\\u003cbr\\u003eModel 2:\\u003cbr\\u003eShort Wait Data\",\"x\":0.775,\"xanchor\":\"center\",\"xref\":\"paper\",\"y\":1.0,\"yanchor\":\"bottom\",\"yref\":\"paper\"},{\"font\":{\"size\":16},\"showarrow\":false,\"text\":\"\\u003cbr\\u003eModel 3:\\u003cbr\\u003eLong Wait Data\",\"x\":0.225,\"xanchor\":\"center\",\"xref\":\"paper\",\"y\":0.375,\"yanchor\":\"bottom\",\"yref\":\"paper\"},{\"font\":{\"size\":16},\"showarrow\":false,\"text\":\"\\u003cbr\\u003eModel 4:\\u003cbr\\u003eAll Data using indicator\",\"x\":0.775,\"xanchor\":\"center\",\"xref\":\"paper\",\"y\":0.375,\"yanchor\":\"bottom\",\"yref\":\"paper\"}],\"title\":{\"text\":\"Histograms of Residuals from Different Models\"}},                        {\"responsive\": true}                    ).then(function(){\n",
       "                            \n",
       "var gd = document.getElementById('8cd54d38-8376-41ed-bd04-034bba59d1d1');\n",
       "var x = new MutationObserver(function (mutations, observer) {{\n",
       "        var display = window.getComputedStyle(gd).display;\n",
       "        if (!display || display === 'none') {{\n",
       "            console.log([gd, 'removed!']);\n",
       "            Plotly.purge(gd);\n",
       "            observer.disconnect();\n",
       "        }}\n",
       "}});\n",
       "\n",
       "// Listen for the removal of the full notebook cells\n",
       "var notebookContainer = gd.closest('#notebook-container');\n",
       "if (notebookContainer) {{\n",
       "    x.observe(notebookContainer, {childList: true});\n",
       "}}\n",
       "\n",
       "// Listen for the clearing of the current output cell\n",
       "var outputEl = gd.closest('.output');\n",
       "if (outputEl) {{\n",
       "    x.observe(outputEl, {childList: true});\n",
       "}}\n",
       "\n",
       "                        })                };                });            </script>        </div>"
      ]
     },
     "metadata": {},
     "output_type": "display_data"
    }
   ],
   "source": [
    "from plotly.subplots import make_subplots\n",
    "import plotly.graph_objects as go\n",
    "from scipy import stats\n",
    "import numpy as np\n",
    "\n",
    "model_residuals = {\n",
    "    '<br>Model 1:<br>All Data using slope': smf.ols('duration ~ waiting', data=old_faithful).fit().resid,\n",
    "    '<br>Model 2:<br>Short Wait Data': smf.ols('duration ~ waiting', data=old_faithful[short_wait]).fit().resid,\n",
    "    '<br>Model 3:<br>Long Wait Data': smf.ols('duration ~ waiting', data=old_faithful[long_wait]).fit().resid,\n",
    "    '<br>Model 4:<br>All Data using indicator': smf.ols('duration ~ C(kind, Treatment(reference=\"short\"))', data=old_faithful).fit().resid\n",
    "}\n",
    "\n",
    "fig = make_subplots(rows=2, cols=2, subplot_titles=list(model_residuals.keys()))\n",
    "for i, (title, resid) in enumerate(model_residuals.items()):\n",
    "\n",
    "    if i == 1:  # Apply different bins only to the second histogram (index 1)\n",
    "        bin_size = dict(start=-1.9, end=1.9, size=0.2)\n",
    "    else:\n",
    "        bin_size = dict(start=-1.95, end=1.95, size=0.3)\n",
    "\n",
    "    fig.add_trace(go.Histogram(x=resid, name=title, xbins=bin_size, histnorm='probability density'), \n",
    "                  row=int(i/2)+1, col=(i%2)+1)\n",
    "    fig.update_xaxes(title_text=\"n=\"+str(len(resid)), row=int(i/2)+1, col=(i%2)+1)    \n",
    "    \n",
    "    normal_range = np.arange(-3*resid.std(),3*resid.std(),0.01)\n",
    "    fig.add_trace(go.Scatter(x=normal_range, mode='lines', opacity=0.5,\n",
    "                             y=stats.norm(loc=0, scale=resid.std()).pdf(normal_range),\n",
    "                             line=dict(color='black', dash='dot', width=2),\n",
    "                             name='Normal Distribution<br>(99.7% of its area)'), \n",
    "                  row=int(i/2)+1, col=(i%2)+1)\n",
    "    \n",
    "fig.update_layout(title_text='Histograms of Residuals from Different Models')\n",
    "fig.update_xaxes(range=[-2,2])\n",
    "fig.show() # USE `fig.show(renderer=\"png\")` FOR ALL GitHub and MarkUs SUBMISSIONS"
   ]
  },
  {
   "cell_type": "markdown",
   "id": "3a50e68a",
   "metadata": {},
   "source": [
    "Model 4 histogram shows that it is reasonable to assume that the *error* term of each model is normally distributed.\n",
    "\n",
    "Model 1: All Data using Slope\n",
    "This model applies a single linear relationship for full dataset. If the histogram matches the normal distribution curve, it sopport the plausibility of the normality assumption. However, the data might display some deviations from normality across the full range.\n",
    "\n",
    "Model 2: Short Wait Data\n",
    "This model is only applies to short wait times. Short wait data might show non-normality, since it does not  capture the variability in the long wait times, which might lead to a skewed.\n",
    "\n",
    "Model 3: Long Wait Data  \n",
    "This model is only applies to long wait times. Since the restricting to long waits, lack of extreme values might causes normal residual.\n",
    "\n",
    "Model 4: All Data using Indicator Variable\n",
    "This model using an indicator variable rather than assuming a continuous relationship. Since this model separate short and long waits, it is more effective to address non-linear patterns. Comparing to a single linear model for all data, this model is more likely leading to a normal residual distribution.\n"
   ]
  },
  {
   "cell_type": "markdown",
   "id": "f7413283",
   "metadata": {},
   "source": [
    "### 13. The \"short\" and \"long\" wait times are not \"before and after\" measurements so there are not natural pairs on which to base differences on which to do a \"one sample\" (paired differences) *hypothesis test*; but, we can do \"two sample\" hypothesis testing using a *permuation test*, or create a 95% *bootstrap confidence interval* for the difference in means of the two populations. \n",
    "\n",
    "### (A) Do a permuation test $\\;H_0: \\mu_{\\text{short}}=\\mu_{\\text{long}} \\; \\text{ no difference in duration between short and long groups}$ by \"shuffling\" the labels\n",
    "### (B) Create a 95% bootstrap confidence interval  by repeatedly bootstrapping within each group and applying *np.quantile(bootstrapped_mean_differences, [0.025, 0.975])* to the collection of differences between the sample means.    \n",
    "### (a) Explain how the sampling approaches work for the two simulations.\n",
    "### (b) Compare and contrast these two methods with the *indicator variable* based model approach used in Question 11, explaining how they're similar and different.<br>\n",
    "    \n",
    "<details class=\"details-example\"><summary style=\"color:blue\"><u>Further Guidance</u></summary>\n",
    "\n",
    "> _You'll need to create `for` loops for repeated (shuffling simulation) **permutation** and (subgroup) **bootstrapping**, where_\n",
    ">\n",
    "> - _\"shuffling\" for **permutation testing** is done like this `old_faithful.assign(kind_shuffled=old_faithful['kind'].sample(n=len(old_faithful), replace=False).values)#.groupby('kind').size()`; then, the **mean difference statistic** is then calculated using `.groupby('kind_shuffled')['duration'].mean().iloc[::-1].diff().values[1]` (so the **observed statistic** is `old_faithful.groupby('kind')['duration'].mean().iloc[::-1].diff().values[1]`_\n",
    "> \n",
    ">\n",
    "> - _\"two sample\" **bootstrapping** is done like this `old_faithful.groupby('kind').apply(lambda x: x.sample(n=len(x), replace=True)).reset_index(drop=True)#.groupby('kind').size()`; then, the **bootstrapped mean difference statistic** is then calculated using `.groupby('kind')['duration'].mean().iloc[::-1].diff().values[1]` (like the **observed statistic** except this is applied to the **bootstrapped** resampling of `old_faithful`)_\n",
    "> ---\n",
    "> \n",
    "> _Don't forget to ask for summaries of all your different ChatBot sessions and organize and paste these into your homework notebook (including link(s) to chat log histories if you're using ChatBot) But if you're using the STA130 custom NBLM ChatBot, you'll only be able to ask for summaries, of course!_\n",
    "</details>"
   ]
  },
  {
   "cell_type": "code",
   "execution_count": 27,
   "id": "a9772f1d",
   "metadata": {},
   "outputs": [
    {
     "name": "stdout",
     "output_type": "stream",
     "text": [
      "Permutation Test p-value: 0.0\n",
      "95% Bootstrap Confidence Interval for Mean Difference: [2.09833502 2.29619059]\n"
     ]
    }
   ],
   "source": [
    "import numpy as np\n",
    "import pandas as pd\n",
    "import seaborn as sns\n",
    "\n",
    "old_faithful = sns.load_dataset('geyser')\n",
    "old_faithful['kind'] = np.where(old_faithful['waiting'] >= 68, 'long', 'short')\n",
    "\n",
    "observed_diff = old_faithful.groupby('kind')['duration'].mean().iloc[::-1].diff().values[1]\n",
    "\n",
    "# Part (A): Permutation Test\n",
    "permuted_diffs = []\n",
    "n_permutations = 1000\n",
    "\n",
    "for _ in range(n_permutations):\n",
    "    shuffled = old_faithful.assign(kind_shuffled=old_faithful['kind'].sample(frac=1).values)\n",
    "    permuted_diff = shuffled.groupby('kind_shuffled')['duration'].mean().iloc[::-1].diff().values[1]\n",
    "    permuted_diffs.append(permuted_diff)\n",
    "\n",
    "p_value = (np.abs(permuted_diffs) >= np.abs(observed_diff)).mean()\n",
    "print(f\"Permutation Test p-value: {p_value}\")\n",
    "\n",
    "# Part (B): Bootstrap Confidence Interval\n",
    "bootstrapped_mean_diffs = []\n",
    "n_bootstraps = 1000\n",
    "\n",
    "for _ in range(n_bootstraps):\n",
    "    # Bootstrap sample within each group\n",
    "    bootstrapped_sample = old_faithful.groupby('kind').apply(lambda x: x.sample(n=len(x), replace=True)).reset_index(drop=True)\n",
    "    # Calculate mean difference in bootstrap sample\n",
    "    bootstrapped_diff = bootstrapped_sample.groupby('kind')['duration'].mean().iloc[::-1].diff().values[1]\n",
    "    bootstrapped_mean_diffs.append(bootstrapped_diff)\n",
    "\n",
    "# Calculate 95% bootstrap confidence interval\n",
    "bootstrap_ci = np.quantile(bootstrapped_mean_diffs, [0.025, 0.975])\n",
    "print(f\"95% Bootstrap Confidence Interval for Mean Difference: {bootstrap_ci}\")\n"
   ]
  },
  {
   "cell_type": "markdown",
   "id": "c676b93a",
   "metadata": {},
   "source": [
    "(a)\n",
    "Permutation Test\n",
    "Testing the difference in mean durations between long and short groups. Randomly pick short and long labels and calculate the mean difference in eruption duration between groups. If no difference between long and short groups exists, random picking should get similar mean differences. \n",
    "\n",
    "Bootstrap Confidence Interval\n",
    "Creating a 95% confidence interval for the mean difference in durations between short and long groups.\n",
    "Sample with replacement from each group and repeat multiple times, and calculating the mean difference for each sample.\n",
    "\n",
    "(b)\n",
    "Similarities\n",
    "Both try to estimate the mean difference in duration between short and long groups.\n",
    "Differences\n",
    "The indicator model calculates a p-value from regression coefficients, while the permutation test uses random label to determine p-values.\n",
    "The bootstrap uses empirical resampling for the interval, while the indicator model uses standard errors from the regression to derive confidence intervals."
   ]
  },
  {
   "cell_type": "markdown",
   "id": "06fe02c1",
   "metadata": {},
   "source": [
    "### 14. Have you reviewed the course wiki-textbook and interacted with a ChatBot (or, if that wasn't sufficient, real people in the course piazza discussion board or TA office hours) to help you understand all the material in the tutorial and lecture that you didn't quite follow when you first saw it?<br>\n",
    "\n",
    "Somewhat"
   ]
  },
  {
   "cell_type": "markdown",
   "id": "a005c546",
   "metadata": {},
   "source": [
    "chat summary:\n",
    "---\n",
    "\n",
    "### 1. **Simple Linear Regression Explanation**\n",
    "   - **Question**: Explained the theoretical components of Simple Linear Regression, including predictor and outcome variables, slope, intercept, and error term. Provided Python code using `numpy` and `scipy.stats` to simulate data that follows this model.\n",
    "   - **Response**: Described each component, demonstrated how each contributes to a sample drawn from a normal distribution, and offered code to visualize a simulated Simple Linear Regression model.\n",
    "\n",
    "### 2. **Fitting a Simple Linear Regression Model with `statsmodels`**\n",
    "   - **Question**: Explained how to fit a Simple Linear Regression model using a simulated dataset with `pandas` and `statsmodels`. \n",
    "   - **Response**: Provided code to create a DataFrame, fit the model, and visualize the fitted regression line. Discussed how the model parameters are derived and interpreted.\n",
    "\n",
    "### 3. **Theoretical vs. Fitted Model Comparison**\n",
    "   - **Question**: Added a deterministic (theoretical) line to the plot for comparison with the fitted line, discussing random sampling variation.\n",
    "   - **Response**: Provided code to overlay the deterministic line with the fitted line and explained how random sampling variation affects observed data, resulting in differences between theoretical and fitted models.\n",
    "\n",
    "### 4. **Deriving Fitted Values Using Estimated Parameters**\n",
    "   - **Question**: Explained how `fitted_model.fittedvalues` are derived based on `fitted_model.params` in Simple Linear Regression.\n",
    "   - **Response**: Illustrated how fitted values (\\( \\hat{y}_i = \\hat{\\beta}_0 + \\hat{\\beta}_1 x_i \\)) are computed from the estimated intercept and slope parameters.\n",
    "\n",
    "### 5. **Ordinary Least Squares (OLS) Method**\n",
    "   - **Question**: Explained how the OLS method chooses the line that minimizes the sum of squared residuals.\n",
    "   - **Response**: Discussed why OLS uses squared residuals to account for both positive and negative differences and to emphasize larger deviations.\n",
    "\n",
    "### 6. **R-squared Interpretation**\n",
    "   - **Question**: Explained why `R^2` is interpreted as the proportion of variation in \\( Y \\) explained by the model and how different calculations of `R^2` are equivalent in Simple Linear Regression.\n",
    "   - **Response**: Explained each expression for calculating `R^2`, emphasizing the similarity between squared correlation and the ratio of variances.\n",
    "\n",
    "### 7. **Assumptions Compatibility with Example Data**\n",
    "   - **Question**: Identified Simple Linear Regression assumptions that may not be compatible with given example data.\n",
    "   - **Response**: Noted that linearity and homoscedasticity assumptions might not hold if data shows a nonlinear pattern or variable residual spread.\n",
    "\n",
    "### 8. **Null Hypothesis of No Linear Association**\n",
    "   - **Question**: Formulated a null hypothesis for testing the slope and interpreted the p-value for testing a linear association in the Old Faithful dataset.\n",
    "   - **Response**: Explained that a low p-value suggests evidence against the null hypothesis of no linear association, indicating a significant relationship between waiting time and duration.\n",
    "\n",
    "### 9. **Evidence for Relationship in Short Wait Times**\n",
    "   - **Question**: Assessed whether there’s a relationship between waiting time and eruption duration within short wait times (under various thresholds).\n",
    "   - **Response**: Explained how p-values from model summaries would indicate evidence of a relationship or lack thereof for different wait time thresholds.\n",
    "\n",
    "### 10. **Bootstrap and Simulated Sampling Distributions**\n",
    "   - **Question**: Demonstrated code for bootstrapping and simulating slope coefficients for long wait times to obtain a confidence interval and a simulated p-value under the null hypothesis.\n",
    "   - **Response**: Provided code and explained each sampling method, including how bootstrapped confidence intervals and simulated p-values are calculated.\n",
    "\n",
    "### 11. **Indicator Variable Model with Wait Time Categories**\n",
    "   - **Question**: Fit a model with an indicator variable for short vs. long wait times and compared it to other models.\n",
    "   - **Response**: Explained the model structure and compared it to continuous models, noting that the indicator variable model estimates mean differences rather than assuming a continuous linear trend.\n",
    "\n",
    "### 12. **Evaluating Normality Assumption of Residuals**\n",
    "   - **Question**: Identified which residual histograms suggest normality for different models and explained why others do not.\n",
    "   - **Response**: Described the bell-shaped, symmetric distribution indicative of normality and reasons for skewed or multi-modal distributions that do not support the normality assumption.\n",
    "\n",
    "### 13. **Permutation Test and Bootstrap Confidence Interval for Mean Difference**\n",
    "   - **Question**: Performed a permutation test for mean difference between short and long wait times and calculated a 95% bootstrap confidence interval for this difference.\n",
    "   - **Response**: Provided code for both methods, explained how each method works, and compared them to the indicator variable model, noting differences in assumptions and interpretation.\n",
    "   \n",
    "link:https://chatgpt.com/c/672d376f-485c-800b-a019-30b45ab64344"
   ]
  }
 ],
 "metadata": {
  "kernelspec": {
   "display_name": "Python 3 (ipykernel)",
   "language": "python",
   "name": "python3"
  },
  "language_info": {
   "codemirror_mode": {
    "name": "ipython",
    "version": 3
   },
   "file_extension": ".py",
   "mimetype": "text/x-python",
   "name": "python",
   "nbconvert_exporter": "python",
   "pygments_lexer": "ipython3",
   "version": "3.11.6"
  }
 },
 "nbformat": 4,
 "nbformat_minor": 5
}
