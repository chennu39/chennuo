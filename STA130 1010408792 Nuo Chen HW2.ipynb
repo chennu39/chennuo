{
 "cells": [
  {
   "cell_type": "markdown",
   "id": "20776a43",
   "metadata": {},
   "source": [
    "1. Begin (or restart) part \"3(a)\" of the TUT Demo and interact with a ChatBot to make sure you understand how each part the Monte Hall problem code above works\n",
    "2. Extend your ChatBot sessions to now address part \"3(b)\" of the TUT Demo and interact with your ChatBot to see if it can suggest a simpler, more streamlined way to code up this for loop simulation so the process is more clear and easier to understand; then, describe any preferences you have in terms of readibility or explainability between the original code and the code improvements suggested by the ChatBot\n",
    "3. Submit your preferred version of the Monty Hall problem that is verified to be running and working with a final printed output of the code; then, add code comments explaining the purpose of each line of the code"
   ]
  },
  {
   "cell_type": "code",
   "execution_count": 8,
   "id": "38709046",
   "metadata": {
    "scrolled": true
   },
   "outputs": [
    {
     "data": {
      "text/plain": [
       "'Probability of winning by switching: 0.67'"
      ]
     },
     "execution_count": 8,
     "metadata": {},
     "output_type": "execute_result"
    }
   ],
   "source": [
    "import numpy as np\n",
    "\n",
    "def monty_hall_simulation(reps):\n",
    "    wins = 0  # Number of wins when switching doors\n",
    "    \n",
    "    for _ in range(reps):#run the simulation 100,000 times\n",
    "        # Randomly assign the winning door\n",
    "        secret_winning_door = np.random.randint(1, 4)\n",
    "        \n",
    "        # Choice of the player\n",
    "        my_door_choice = 1  # assume the player always chooses Door 1\n",
    "        \n",
    "        # Determine the door that Monty will reveal (a door that is not the winning door and not chosen by the player)\n",
    "        doors = [1, 2, 3]\n",
    "        doors.remove(secret_winning_door)  # Remove the winning door\n",
    "        if my_door_choice in doors:\n",
    "            doors.remove(my_door_choice)  # Remove the player's choice\n",
    "        \n",
    "        goat_door_reveal = np.random.choice(doors)  # Monty reveals one goat door\n",
    "        \n",
    "        # The remaining door is the option the player would swap to\n",
    "        remaining_doors = [door for door in [1, 2, 3] if door != my_door_choice and door != goat_door_reveal]\n",
    "        \n",
    "        # If the remaining door is the winning door, the win count increase\n",
    "        if remaining_doors[0] == secret_winning_door:\n",
    "            wins += 1\n",
    "            \n",
    "    return wins / reps  # Return the probability of winning by switching\n",
    "\n",
    "# Run the simulation with 100,000 repetitions\n",
    "probability_of_winning = monty_hall_simulation(100000)\n",
    "f\"Probability of winning by switching: {probability_of_winning:.2f}\"\n"
   ]
  },
  {
   "cell_type": "markdown",
   "id": "87aed4df",
   "metadata": {},
   "source": [
    "summary of ChatBot session \n",
    "\n",
    "---\n",
    "\n",
    "**User Inquiry:**\n",
    "The user provided a Python code snippet that simulates the Monty Hall problem and asked for an explanation of what the code does.\n",
    "\n",
    "**Assistant Explanation:**\n",
    "I explained the code step-by-step, detailing how it simulates the Monty Hall scenario. The explanation included the initialization of variables, the simulation loop where the winning door is randomly selected, the process for revealing a goat door, the player's strategy of switching doors, and the calculation of the overall winning probability.\n",
    "\n",
    "---\n",
    "\n",
    "**User Request:**\n",
    "The user then requested a simpler version of the initial Monty Hall simulation code. \n",
    "\n",
    "**Assistant Response:**\n",
    "I provided a simplified version of the Monty Hall simulation code that maintains the core principles of the simulation but reduces complexity. The new code is cleaner, uses functions for reusability, and clearly outlines the logic behind the game, including randomly selecting a winning door, revealing a goat door, switching doors, and calculating the probability of winning by switching.\n",
    "\n"
   ]
  },
  {
   "cell_type": "markdown",
   "id": "4a4c7530",
   "metadata": {},
   "source": [
    "4. Watch the embedded video tutorial on Markov chains in the next Jupyter cell below to understand their application and relevance for ChatBots; then, after watching the video, start a new ChatBot session by prompting that you have code that creates a \"Markovian ChatBot\"; show it the first version of the \"Markovian ChatBot code\" below; and interact with the ChatBot session to make sure you understand how the original first version of the \"Markovian ChatBot code\" works\n"
   ]
  },
  {
   "cell_type": "code",
   "execution_count": null,
   "id": "2b96538c",
   "metadata": {},
   "outputs": [],
   "source": [
    "# Markovian Chatbot\n",
    "\n",
    "# from collections import defaultdict\n",
    "word_used = dict() # defaultdict(int)\n",
    "#a dictionary counts how many times each word has been encountered in the input data.\n",
    "next_word = dict() # defaultdict(lambda: defaultdict(int))\n",
    "#A nested dictionary that keeps track of how many times a specific word is followed by another word. \n",
    "\n",
    "for i,word in enumerate(words[:-1]):#The loop stops at words[:-1] to avoid IndexErrors when accessing words[i+1].\n",
    "\n",
    "    if word in word_used:\n",
    "        word_used[word] += 1\n",
    "    else:\n",
    "        word_used[word] = 1\n",
    "        next_word[word] = {}\n",
    "        #check each words, if already in'word_use' the count increase, if not, initializes the count to 1\n",
    "\n",
    "    if words[i+1] in next_word[word]:\n",
    "        next_word[word][words[i+1]] += 1\n",
    "    else:\n",
    "        next_word[word][words[i+1]] = 1\n",
    "        #check each words, if already in'next_word' the count increase, if not, initializes the count to 1\n",
    "\n",
    "    \n",
    " \n"
   ]
  },
  {
   "cell_type": "markdown",
   "id": "fdcb3d7f",
   "metadata": {},
   "source": [
    "summary of ChatBot session \n",
    "\n",
    "1. **User Inquiry about Markovian Chatbot Code**:\n",
    "   - The user presented a code snippet for a \"Markovian Chatbot\" and requested an explanation of how the original first version of this code works.\n",
    "  \n",
    "2. **Code Overview and Explanation**:\n",
    "   - I explained the various components and functionality of the code:\n",
    "     - **Data Structures**: Introduction to `word_used` and `next_word` dictionaries.\n",
    "     - **Word Processing**: Description of the loop that counts word occurrences and transitions between words.\n",
    "     - **Markov Chain Concept**: Summary of how the code generates responses based on word frequency and transitions, forming the basis of a Markovian model.\n",
    "     - **Chatbot Potential**: Discussed how the model can be implemented in a chatbot for generating conversational responses.\n",
    "\n",
    "3. **Conclusion**:\n",
    "   - Concluded with important points regarding limitations and potential enhancements for the Markovian chatbot, emphasizing the basics of modeling interactions in natural language.\n",
    "\n"
   ]
  },
  {
   "cell_type": "markdown",
   "id": "be75a2b2",
   "metadata": {},
   "source": [
    "5. Recreate (or resume) the previous ChatBot session from question \"4\" above, and now prompt the ChatBot session that you have a couple extensions of the code to show it, and then show it each of the extentions of the \"Markovian ChatBot code\" below in turn\n",
    "1.Without just supplying your ChatBot session with the answers, see if the ChatBot can figure out what the extensions in the code do; namely, making character specific Markov chains, and using bigrams (rather than just the previous word alone) dependency... prompt your ChatBot session with some hints if it's not seeming to \"get it\"\n",
    "\n",
    "\n",
    "2.Interact with your ChatBot session to have it explain details of the code wherever you need help understanding what the code is doing and how it works"
   ]
  },
  {
   "cell_type": "code",
   "execution_count": null,
   "id": "a4e97d13",
   "metadata": {},
   "outputs": [],
   "source": [
    "#I showed the two extensions to Chat without asking for explanation, but Chat directly generate the explanation for me.\n",
    "# Markovian Chatbot Extension #1\n",
    "\n",
    "word_used2 = defaultdict(int) #counts how many times each pair of words (bigram) appears.\n",
    "next_word2 = defaultdict(lambda: defaultdict(int))#tracks how often each word follows a specific bigram.\n",
    "for i,word in enumerate(words[:-2]):\n",
    "    #The loop iterates through the list of words, stopping at words[:-2] to avoid IndexErrors.\n",
    "    word_used2[word+' '+words[i+1]] += 1\n",
    "    #constructs bigrams by concatenating the current word with the next one (word + ' ' + words[i + 1]).\n",
    "    next_word2[word+' '+words[i+1]][words[i+2]] += 1 \n",
    "    #For word_used2, it counts occurrences of each bigram.\n",
    "    #For next_word2, it tracks transitions that occur after each bigram, counting occurrences of the third word (words[i + 2]).\n",
    "\n",
    "\n",
    "    \n",
    "# Markovian Chatbot Extension #2\n",
    "\n",
    "from collections import Counter, defaultdict\n",
    "# `avatar` is a dataset, and `character` is one of it's columns\n",
    "characters = Counter(\"\\n\"+ avatar.character.str.upper().str.replace(' ','.')+\":\")\n",
    "# this code changes the type of the `character` column to `str`; then,\n",
    "# makes the text uppercase, and replaces spaces with '.'\n",
    "\n",
    "nested_dict = lambda: defaultdict(nested_dict)\n",
    "word_used2C = nested_dict()\n",
    "next_word2C = nested_dict()\n",
    "#'word_used2C'and 'next_word2C': Nested defaultdicts that now track word pairs and their transitions conditioned on character context.\n",
    "\n",
    "for i,word in enumerate(words[:-2]):\n",
    "    if word in characters:\n",
    "        character = word\n",
    "        \n",
    "    if character not in word_used2C:\n",
    "        word_used2C[character] = dict()\n",
    "    if word+' '+words[i+1] not in word_used2C[character]:\n",
    "        word_used2C[character][word+' '+words[i+1]] = 0\n",
    "    word_used2C[character][word+' '+words[i+1]] += 1\n",
    "    \n",
    "    if character not in next_word2C:\n",
    "        next_word2C[character] = dict()\n",
    "    if word+' '+words[i+1] not in next_word2C[character]:\n",
    "        next_word2C[character][word+' '+words[i+1]] = dict()\n",
    "    if words[i+2] not in next_word2C[character][word+' '+words[i+1]]:\n",
    "        next_word2C[character][word+' '+words[i+1]][words[i+2]] = 0\n",
    "    next_word2C[character][word+' '+words[i+1]][words[i+2]] += 1"
   ]
  },
  {
   "cell_type": "markdown",
   "id": "03974576",
   "metadata": {},
   "source": [
    "summary of ChatBot session \n",
    "1. **User Introduction to Extensions**:\n",
    "   - The user shared two code extensions for a \"Markovian Chatbot\" and requested an explanation of how these extensions work.\n",
    "\n",
    "2. **Explanation of Markovian Chatbot Extension #1**:\n",
    "   - I explained that this extension modifies the original chatbot to use bigrams (pairs of words).\n",
    "   - The extension involves:\n",
    "     - Using `word_used2` to count bigram occurrences.\n",
    "     - Using `next_word2` to track how often each word follows specific bigrams.\n",
    "\n",
    "3. **Explanation of Markovian Chatbot Extension #2**:\n",
    "   - I described how this extension introduces character contexts by using a dataset (`avatar`) that identifies unique characters.\n",
    "   - Key points included:\n",
    "     - The use of `characters` to create a counted dictionary of characters.\n",
    "     - The creation of `word_used2C` and `next_word2C` to track bigrams and word transitions specific to each character.\n",
    "\n",
    "4. **Summary of Extensions**:\n",
    "   - I summarized how Extension #1 enhances the chatbot with a bigram model for better contextual output.\n",
    "   - The Extension #2 enriches this further by allowing character-specific conversational styles, resulting in a more nuanced chatbot that can simulate dialogue specific to different characters.\n",
    "\n"
   ]
  },
  {
   "cell_type": "markdown",
   "id": "077d20cb",
   "metadata": {},
   "source": [
    "3.Start yet another new ChatBot session and first show the ChatBot the original \"Markovian ChatBot code\" below, and then tell ChatBot that you have an extension but this time just directly provide it the more complicated final extension without ever providing the intermediate extension code to the ChatBot session and see if it's still able to understand everything extension does; namely, making character specific Markov chains, and using bigrams (rather than just the previous word alone) dependency... prompt the ChatBot with some hints if it's not seeming to understand what you're getting at...\n"
   ]
  },
  {
   "cell_type": "markdown",
   "id": "5893947d",
   "metadata": {},
   "source": [
    "I show the original 'Markovian Chatbox code' and the #2 extension to chat, and chat explain the concept for me and also provide some seggestions like \n",
    "\"1.Handle Missing Variables: The character variable is assigned but not initialized at the start of the loop. You need to ensure it's properly initialized.\n",
    "2.Character Selection: Make sure you have logic in place to choose characters based on their occurrences in the avatar DataFrame.\n",
    "3.Text Generation: Similar to the first part of the code, you'll want to implement functionality to generate text based on a given character and a starting word or phrase.\"\n",
    "But Chat do not refer to any explanation about digrams, and I tell Chat I lose an extension code about diagrams then Chat generate a new code. Although is not the same code from the code for extension 1, it includes the content of it."
   ]
  },
  {
   "cell_type": "markdown",
   "id": "0fb2c877",
   "metadata": {},
   "source": [
    "summary of ChatBot Session\n",
    "\n",
    "**1. Introduction to Markovian Chatbot:**\n",
    "   - The initial code provided was for a Markovian Chatbot that utilized words and their occurrences to generate text. It maintained a simple dictionary to track how often each word was used and what words followed them.\n",
    "\n",
    "**2. Extension for Character Interaction:**\n",
    "   - An extension was discussed that allowed the chatbot to handle different characters in dialogue. By utilizing a dataset (avatar) with character names, the code tracked word pairs and the following words for each character. This enhanced contextual interaction based on character identity.\n",
    "\n",
    "**3. Bigram Implementation:**\n",
    "   - A further request was made to create an extension that utilized bigrams, which are pairs of consecutive words. This code enables the chatbot to generate responses based on the relationships between pairs of words, thus allowing for richer and more context-aware text generation.\n",
    "   - The bigram implementation included:\n",
    "     - Counting occurrences of bigrams.\n",
    "     - Maintaining a mapping of possible next words from each bigram.\n",
    "     - A function to generate text based on a starting bigram.\n",
    "\n",
    "**4. Practical Applications:**\n",
    "   - The summarized codes serve as the foundation for developing a chatbot capable of producing coherent and contextually relevant responses based on patterns learned from input text.\n",
    "   - Through using Markov chains and bigrams, the chatbot can simulate more natural conversations by referencing previously learned text.\n",
    "\n",
    "**5. Key Concepts Covered:**\n",
    "   - **Markov Chains**: Understanding how the sequence of events (words) can influence future events.\n",
    "   - **Bigrams**: Introduction to bigrams as a method of analyzing pairs of adjacent words to capture context.\n",
    "   - **Text Generation**: Methods to produce coherent text from learned sequences based on frequency and probability.\n",
    "\n"
   ]
  },
  {
   "cell_type": "markdown",
   "id": "d12eb52d",
   "metadata": {},
   "source": [
    "6. Report on your experience interacting with ChatBots to understand the Monte Hall problem and \"Markovian ChatBot\" code\n",
    "1.Discuss how quickly the ChatBot was able to be helpful for each of the above questions, and if so, how?\n",
    "\n",
    "\n",
    "2.Discuss whether or not interacting with ChatBot to try to figure things out was frustrating or unhelpful, and if so, how?\n",
    "\n",
    "\n",
    "3.Based on your experiences to date (e.g., including using ChatBots to troubleshoot coding errors in the previous homework), provide an overall assessment evaluating the usefulness of ChatBots as tools to help you understand codein the previous homework), provide an overall assessment evaluating the usefulness of ChatBots as tools to help you understand code"
   ]
  },
  {
   "cell_type": "markdown",
   "id": "69f1dddd",
   "metadata": {},
   "source": [
    "ChatBot can generate the answer within 10 seconds by providing  detailed explanation and suggestion. Interacting with ChatBot is helpful most of the time, as it can provide answer and explanation. ChatBot is a good tool to help me understanding many code and fixing my mistake in homework，but trying to code by myself is also important."
   ]
  },
  {
   "cell_type": "markdown",
   "id": "58792669",
   "metadata": {},
   "source": [
    "7. Reflect on your experience interacting with ChatBot and describe how your perception of AI-driven assistance tools in the context of learning coding, statistics, and data science has been evolving (or not) since joining the course"
   ]
  },
  {
   "cell_type": "markdown",
   "id": "f8289d49",
   "metadata": {},
   "source": [
    "I had no prior experience with programming before I joined this course, so I felt very confused after the first lecture. However, Chat provided me very detailed explanations in HW1, also, when I wrote the code with bug in HW1, chat can provide solutions very quickly and accurately. This help me to save a lot of time. Before I knew Chat, I can only search for solutions on Google, which often took a long time and I might not find a solution."
   ]
  },
  {
   "cell_type": "markdown",
   "id": "87f48774",
   "metadata": {},
   "source": [
    "8. ChatBots consume text data available on the web or platforms, and thus represents a new way to \"search consensensus\" that condenses and summarizes mainstream human thought"
   ]
  },
  {
   "cell_type": "markdown",
   "id": "1971d0fc",
   "metadata": {},
   "source": [
    "summary of ChatBot session\n",
    "\n",
    "1. **Inquiry about Skills in Data Science**: You asked about the relevance of learning and adaptability, communication, coding, and statistics and data analysis as skills in the modern world, particularly in the data science industry and their impact on career opportunities.\n",
    "\n",
    "2. **Response**: I explained that:\n",
    "   - **Learning and Adaptability**: Essential for staying current in a rapidly evolving field, enhancing employability.\n",
    "   - **Communication**: Important for conveying data insights to stakeholders, leading to roles like data analyst or strategist.\n",
    "   - **Coding**: Fundamental for data manipulation and building models, essential for various data-related roles.\n",
    "   - **Statistics and Data Analysis**: Critical for drawing insights and validating hypotheses; necessary for positions like data scientist or statistician.\n",
    "\n",
    "3. **Question about Pursuing a Career without Coding or Data Analysis**: You asked if it is possible to become a statistician or data scientist without coding or data analysis skills.\n",
    "\n",
    "4. **Response**: I clarified that while it might be theoretically possible, it is unlikely and would severely limit career prospects. I emphasized the importance of coding and data analysis for handling data, implementing models, and advancing in these fields. I also suggested that developing these skills is vital for success in data science and statistics.\n",
    "\n"
   ]
  },
  {
   "cell_type": "markdown",
   "id": "be9651b8",
   "metadata": {},
   "source": [
    "I am not sure what job I want to do in the future, but from my conversation with Chat, I know that a lack of professional skills is not recommended in any field. For example, a data scientist cannot lack the ability to analyze data and programming. Since most companies will prefer to hire employees with a background in programming, and a lack of practical skills will also make career development difficult. Therefore, I will try my best to learn every course, and learn more skills. In addition to prefessional skills, communication and learning skill also very important. Because communication with colleagues can also affect work efficiency, especially in group working, and having a good ability to communicate can also help with career development. Also, in many industries, continuous learning is necessary, so learning skill is still needed in workplace.In this case, I will participate in more campus activities to improve my communication skills."
   ]
  },
  {
   "cell_type": "markdown",
   "id": "593e38e1",
   "metadata": {},
   "source": [
    "9. Have you reviewed the course wiki-textbook and interacted with a ChatBot (or, if that wasn't sufficient, real people in the course piazza discussion board or TA office hours) to help you understand all the material in the tutorial and lecture that you didn't quite follow when you first saw it?"
   ]
  },
  {
   "cell_type": "code",
   "execution_count": null,
   "id": "09e0945d",
   "metadata": {},
   "outputs": [],
   "source": [
    "somewhat"
   ]
  }
 ],
 "metadata": {
  "kernelspec": {
   "display_name": "Python 3 (ipykernel)",
   "language": "python",
   "name": "python3"
  },
  "language_info": {
   "codemirror_mode": {
    "name": "ipython",
    "version": 3
   },
   "file_extension": ".py",
   "mimetype": "text/x-python",
   "name": "python",
   "nbconvert_exporter": "python",
   "pygments_lexer": "ipython3",
   "version": "3.11.6"
  }
 },
 "nbformat": 4,
 "nbformat_minor": 5
}
