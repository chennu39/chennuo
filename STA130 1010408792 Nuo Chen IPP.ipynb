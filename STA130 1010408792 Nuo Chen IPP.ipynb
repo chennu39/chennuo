{
 "cells": [
  {
   "cell_type": "markdown",
   "id": "ea4c8bc4",
   "metadata": {},
   "source": [
    "Research question：Are people who have more close friend groups more satisfied with their lives?\n",
    "The variables I plan to explore are CONNECTION_social_num_close_friends_grouped and WELLNESS_life_satisfaction. Use histogram to show the distribution of people who have different numbers of close friend groups, which helps to understand the individual’s common number of close friend groups. Use histogram to display the distribution of life satisfaction scores. This can help identify the central tendency.\n",
    "Hypothesis Testing\n",
    "Null Hypothesis (H0): People who have >= 5 close friend groups will have higher life satisfaction.\n",
    "Alternative Hypothesis (Ha): People who have < 5 close friend groups will have higher life satisfaction.\n",
    "Possible Results\n",
    "If the p-value is less than the chosen alpha level, reject the null hypothesis. This would suggest that having more close friends does not increase life satisfaction.\n",
    "If the p-value is greater than or equal to the alpha level, fail to reject the null hypothesis. This would support the hypothesis that having more close friend groups is associated with higher life satisfaction.\n",
    "Relevance to Course Objectives: \n",
    "Connecting to the lec05 and tut05.\n",
    "\n",
    "Research question：Are people who have taken vaccines more satisfied with their lives?\n",
    "The variables I plan to explore are COVID_vaccinated and WELLNESS_life_satisfaction.  Use a bar chart to show the proportion of people vaccinated and not vaccinated. This visualization can compare the vaccination status across the dataset, highlighting the distribution and coverage of vaccination. Use a box plot to illustrate the distribution of life satisfaction scores, separated by vaccinated group and unvaccinated groups, which can compare central tendency, variability between vaccinated and unvaccinated groups.\n",
    "Confidence interval:\n",
    "Possible Results:\n",
    "Null Hypothesis (H0): Taking vaccines does not increase life satisfaction.\n",
    "Alternative Hypothesis (Ha): Taking vaccines increases life satisfaction.\n",
    "Interpreting Confidence Intervals:\n",
    "Calculate the confidence interval for the difference in mean life satisfaction between vaccinated and unvaccinated groups.\n",
    "If the confidence interval does not include 0, reject H0, which suggests that vaccinated individuals have higher life satisfaction.\n",
    "If the confidence interval includes 0, fail to reject H0, which indicates no significant difference in life satisfaction due to vaccination.\n",
    "Relevance to Course Objectives: \n",
    "Connecting to the lec04 and tut04.\n",
    "\n",
    "\n",
    "Research question：Are taking vaccines and having more close friend groups significant for people's life satisfaction?\n",
    "The variables I plan to explore are COVID_vaccinated and WELLNESS_life_satisfaction and CONNECTION_social_num_close_friends_grouped. Use a bar Chart to show the count or percentage of individuals who are vaccinated and unvaccinated, which can show vaccination status of the sample population clearly, and help to understand the data distribution. Use two box plots to display the life satisfaction scores by vaccination status and the number of close friend groups, which allows comparison of life satisfaction levels across both variables, by medians, interquartile ranges, and outliers. Use a histogram to show the distribution of the number of close friend groups, which helps to identify common social connection levels in the dataset.\n",
    "Confidence interval:\n",
    "Multiple linear regression\n",
    "Dependent Variable: Y = WELLNESS_life_satisfaction\n",
    "Independent Variable: X1 = COVID_vaccinated, X2=CONNECTION_social_num_close_friends_grouped\n",
    "Possible Results:\n",
    "Model is significant, which means both taking vaccines and having more close friend groups significantly contribute to increased life satisfaction.\n",
    "Model is not significant,  which means there is no evidence to suggest that vaccines and social connections enhance life satisfaction.\n",
    "Relevance to Course Objectives: \n",
    "Connecting to the lec07.\n"
   ]
  }
 ],
 "metadata": {
  "kernelspec": {
   "display_name": "Python 3 (ipykernel)",
   "language": "python",
   "name": "python3"
  },
  "language_info": {
   "codemirror_mode": {
    "name": "ipython",
    "version": 3
   },
   "file_extension": ".py",
   "mimetype": "text/x-python",
   "name": "python",
   "nbconvert_exporter": "python",
   "pygments_lexer": "ipython3",
   "version": "3.11.6"
  }
 },
 "nbformat": 4,
 "nbformat_minor": 5
}
